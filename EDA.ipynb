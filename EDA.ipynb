{
 "cells": [
  {
   "cell_type": "code",
   "execution_count": 36,
   "id": "e635280e-735a-4723-bda9-179452e4967c",
   "metadata": {},
   "outputs": [],
   "source": [
    "import nltk, gensim, re\n",
    "import pandas as pd\n",
    "import numpy as np\n",
    "import matplotlib.pyplot as plt\n",
    "from sklearn.feature_extraction.text import TfidfVectorizer, CountVectorizer\n",
    "from sklearn.cluster import KMeans"
   ]
  },
  {
   "cell_type": "code",
   "execution_count": 3,
   "id": "4e54cefe-0734-440c-8a54-8af3ef39f419",
   "metadata": {},
   "outputs": [],
   "source": [
    "#Instantiate DataFrame of craigslist data\n",
    "raw_data = pd.read_csv('data\\\\CRAIGSLIST.Listings-1.csv')"
   ]
  },
  {
   "cell_type": "code",
   "execution_count": 4,
   "id": "6e1ae2ea-dece-4127-b72b-a6921b500424",
   "metadata": {
    "tags": []
   },
   "outputs": [
    {
     "data": {
      "text/html": [
       "<div>\n",
       "<style scoped>\n",
       "    .dataframe tbody tr th:only-of-type {\n",
       "        vertical-align: middle;\n",
       "    }\n",
       "\n",
       "    .dataframe tbody tr th {\n",
       "        vertical-align: top;\n",
       "    }\n",
       "\n",
       "    .dataframe thead th {\n",
       "        text-align: right;\n",
       "    }\n",
       "</style>\n",
       "<table border=\"1\" class=\"dataframe\">\n",
       "  <thead>\n",
       "    <tr style=\"text-align: right;\">\n",
       "      <th></th>\n",
       "      <th>LISTING_ID</th>\n",
       "      <th>LISTING_MONTH</th>\n",
       "      <th>LISTING_DAY</th>\n",
       "      <th>LISTING_TIME</th>\n",
       "      <th>RETRIEVED_ON</th>\n",
       "      <th>BODY</th>\n",
       "      <th>PRICE</th>\n",
       "      <th>AREA_SQFT</th>\n",
       "      <th>ALLOWS_CATS</th>\n",
       "      <th>ALLOWS_DOGS</th>\n",
       "      <th>ADDRESS</th>\n",
       "      <th>LOCATION</th>\n",
       "      <th>CT_ID_10</th>\n",
       "    </tr>\n",
       "  </thead>\n",
       "  <tbody>\n",
       "    <tr>\n",
       "      <th>0</th>\n",
       "      <td>7075241085</td>\n",
       "      <td>February</td>\n",
       "      <td>14</td>\n",
       "      <td>17:08:48</td>\n",
       "      <td>2020-04-28T07:46:54+00:00</td>\n",
       "      <td>Big 4 Bedroom Fully Renovated off Shrewsbury S...</td>\n",
       "      <td>1550</td>\n",
       "      <td>NaN</td>\n",
       "      <td>1.0</td>\n",
       "      <td>1.0</td>\n",
       "      <td>(google map)</td>\n",
       "      <td>Worcester -- Shrewsbury STREET</td>\n",
       "      <td>25027730402</td>\n",
       "    </tr>\n",
       "    <tr>\n",
       "      <th>1</th>\n",
       "      <td>7075306172</td>\n",
       "      <td>February</td>\n",
       "      <td>14</td>\n",
       "      <td>18:27:59</td>\n",
       "      <td>2020-04-28T05:02:33+00:00</td>\n",
       "      <td>PROPERTY INFO ID: 32252124Rent: 2275 / MonthBe...</td>\n",
       "      <td>2275</td>\n",
       "      <td>900.0</td>\n",
       "      <td>1.0</td>\n",
       "      <td>0.0</td>\n",
       "      <td>South St near Arbor Way</td>\n",
       "      <td>Jamaica Plain</td>\n",
       "      <td>25025981000</td>\n",
       "    </tr>\n",
       "    <tr>\n",
       "      <th>2</th>\n",
       "      <td>7075321793</td>\n",
       "      <td>February</td>\n",
       "      <td>14</td>\n",
       "      <td>18:46:53</td>\n",
       "      <td>2020-04-28T21:43:02+00:00</td>\n",
       "      <td>PROPERTY INFO ID: 1281339Rent: 2350 / MonthBed...</td>\n",
       "      <td>2350</td>\n",
       "      <td>800.0</td>\n",
       "      <td>1.0</td>\n",
       "      <td>0.0</td>\n",
       "      <td>Commonwealth Ave near Brighton Ave.</td>\n",
       "      <td>Allston</td>\n",
       "      <td>25025000703</td>\n",
       "    </tr>\n",
       "    <tr>\n",
       "      <th>3</th>\n",
       "      <td>7075365895</td>\n",
       "      <td>February</td>\n",
       "      <td>14</td>\n",
       "      <td>19:43:07</td>\n",
       "      <td>2020-04-28T02:11:10+00:00</td>\n",
       "      <td>PROPERTY INFO ID: 32252343Rent: 2350 / MonthBe...</td>\n",
       "      <td>2350</td>\n",
       "      <td>NaN</td>\n",
       "      <td>1.0</td>\n",
       "      <td>0.0</td>\n",
       "      <td>Commonwealth Ave near Gorham st</td>\n",
       "      <td>Allston</td>\n",
       "      <td>25025000704</td>\n",
       "    </tr>\n",
       "    <tr>\n",
       "      <th>4</th>\n",
       "      <td>7075367288</td>\n",
       "      <td>February</td>\n",
       "      <td>14</td>\n",
       "      <td>19:45:02</td>\n",
       "      <td>2020-04-28T17:12:47+00:00</td>\n",
       "      <td>PROPERTY INFO ID: 32252343Rent: 2350 / MonthBe...</td>\n",
       "      <td>2350</td>\n",
       "      <td>NaN</td>\n",
       "      <td>1.0</td>\n",
       "      <td>0.0</td>\n",
       "      <td>Commonwealth Ave near Gorham st</td>\n",
       "      <td>Allston</td>\n",
       "      <td>25025000704</td>\n",
       "    </tr>\n",
       "  </tbody>\n",
       "</table>\n",
       "</div>"
      ],
      "text/plain": [
       "   LISTING_ID LISTING_MONTH  LISTING_DAY LISTING_TIME  \\\n",
       "0  7075241085      February           14     17:08:48   \n",
       "1  7075306172      February           14     18:27:59   \n",
       "2  7075321793      February           14     18:46:53   \n",
       "3  7075365895      February           14     19:43:07   \n",
       "4  7075367288      February           14     19:45:02   \n",
       "\n",
       "                RETRIEVED_ON  \\\n",
       "0  2020-04-28T07:46:54+00:00   \n",
       "1  2020-04-28T05:02:33+00:00   \n",
       "2  2020-04-28T21:43:02+00:00   \n",
       "3  2020-04-28T02:11:10+00:00   \n",
       "4  2020-04-28T17:12:47+00:00   \n",
       "\n",
       "                                                BODY  PRICE  AREA_SQFT  \\\n",
       "0  Big 4 Bedroom Fully Renovated off Shrewsbury S...   1550        NaN   \n",
       "1  PROPERTY INFO ID: 32252124Rent: 2275 / MonthBe...   2275      900.0   \n",
       "2  PROPERTY INFO ID: 1281339Rent: 2350 / MonthBed...   2350      800.0   \n",
       "3  PROPERTY INFO ID: 32252343Rent: 2350 / MonthBe...   2350        NaN   \n",
       "4  PROPERTY INFO ID: 32252343Rent: 2350 / MonthBe...   2350        NaN   \n",
       "\n",
       "   ALLOWS_CATS  ALLOWS_DOGS                              ADDRESS  \\\n",
       "0          1.0          1.0                         (google map)   \n",
       "1          1.0          0.0              South St near Arbor Way   \n",
       "2          1.0          0.0  Commonwealth Ave near Brighton Ave.   \n",
       "3          1.0          0.0      Commonwealth Ave near Gorham st   \n",
       "4          1.0          0.0      Commonwealth Ave near Gorham st   \n",
       "\n",
       "                         LOCATION     CT_ID_10  \n",
       "0  Worcester -- Shrewsbury STREET  25027730402  \n",
       "1                   Jamaica Plain  25025981000  \n",
       "2                         Allston  25025000703  \n",
       "3                         Allston  25025000704  \n",
       "4                         Allston  25025000704  "
      ]
     },
     "execution_count": 4,
     "metadata": {},
     "output_type": "execute_result"
    }
   ],
   "source": [
    "raw_data.head()"
   ]
  },
  {
   "cell_type": "code",
   "execution_count": 5,
   "id": "01ff4fc3-2392-45b4-ab52-811c00c67b80",
   "metadata": {
    "tags": []
   },
   "outputs": [
    {
     "name": "stdout",
     "output_type": "stream",
     "text": [
      "<class 'pandas.core.frame.DataFrame'>\n",
      "RangeIndex: 134854 entries, 0 to 134853\n",
      "Data columns (total 13 columns):\n",
      " #   Column         Non-Null Count   Dtype  \n",
      "---  ------         --------------   -----  \n",
      " 0   LISTING_ID     134854 non-null  int64  \n",
      " 1   LISTING_MONTH  134854 non-null  object \n",
      " 2   LISTING_DAY    134854 non-null  int64  \n",
      " 3   LISTING_TIME   134854 non-null  object \n",
      " 4   RETRIEVED_ON   134854 non-null  object \n",
      " 5   BODY           134854 non-null  object \n",
      " 6   PRICE          134854 non-null  int64  \n",
      " 7   AREA_SQFT      54472 non-null   float64\n",
      " 8   ALLOWS_CATS    132295 non-null  float64\n",
      " 9   ALLOWS_DOGS    132295 non-null  float64\n",
      " 10  ADDRESS        100943 non-null  object \n",
      " 11  LOCATION       114446 non-null  object \n",
      " 12  CT_ID_10       134854 non-null  int64  \n",
      "dtypes: float64(3), int64(4), object(6)\n",
      "memory usage: 13.4+ MB\n"
     ]
    }
   ],
   "source": [
    "raw_data.info()"
   ]
  },
  {
   "cell_type": "code",
   "execution_count": 6,
   "id": "b43394c8-b5ef-45b9-bc70-e98a512b485a",
   "metadata": {},
   "outputs": [
    {
     "data": {
      "text/plain": [
       "'2020-04-26T19:18:00+00:00'"
      ]
     },
     "execution_count": 6,
     "metadata": {},
     "output_type": "execute_result"
    }
   ],
   "source": [
    "raw_data.RETRIEVED_ON.min()"
   ]
  },
  {
   "cell_type": "code",
   "execution_count": 7,
   "id": "e09775c6-6c82-42dc-9fa9-62cf42e656ac",
   "metadata": {},
   "outputs": [
    {
     "data": {
      "text/plain": [
       "'2021-01-18T17:21:54+00:00'"
      ]
     },
     "execution_count": 7,
     "metadata": {},
     "output_type": "execute_result"
    }
   ],
   "source": [
    "raw_data.RETRIEVED_ON.max()"
   ]
  },
  {
   "cell_type": "markdown",
   "id": "9aa0db33-e17f-487a-8597-f6d03bc94239",
   "metadata": {},
   "source": [
    "### The dataset includes listings that were active on the site from 04/26/2020 through 01/18/2020"
   ]
  },
  {
   "cell_type": "code",
   "execution_count": 8,
   "id": "ae3168f9-6c54-4583-85c2-d1c095400c0f",
   "metadata": {
    "tags": []
   },
   "outputs": [
    {
     "data": {
      "text/plain": [
       "'Big 4 Bedroom Fully Renovated off Shrewsbury Street w/ 4 Large Bedrooms, Modern Eat-in kitchen, Luxury Tiled Bathrooms, Washer/dryer Hookups, Very Efficient Gas Heat, High Ceilings, Walk-in Closets & New Flooring!! PLEASE CONTACT PAUL LATINO OF RE/MAX ADVANTAGE show contact info !!'"
      ]
     },
     "execution_count": 8,
     "metadata": {},
     "output_type": "execute_result"
    }
   ],
   "source": [
    " raw_data.BODY[0]"
   ]
  },
  {
   "cell_type": "markdown",
   "id": "85b4b797-8361-4e1e-9140-f66093931053",
   "metadata": {
    "tags": []
   },
   "source": [
    "### The 'BODY' column will be the focus of this phase of the project"
   ]
  },
  {
   "cell_type": "code",
   "execution_count": 46,
   "id": "dbef14cf-42d0-4577-8eff-248bf9a2a5a8",
   "metadata": {},
   "outputs": [],
   "source": [
    "count_vectorizer = CountVectorizer(stop_words = 'english')"
   ]
  },
  {
   "cell_type": "code",
   "execution_count": 47,
   "id": "d972f0d2-423d-4a38-a03b-001debd5aa1e",
   "metadata": {},
   "outputs": [],
   "source": [
    "count_data = count_vectorizer.fit_transform(raw_data.BODY)"
   ]
  },
  {
   "cell_type": "code",
   "execution_count": 48,
   "id": "cb81dceb-1e90-4b14-9c3f-269bc929cc78",
   "metadata": {},
   "outputs": [
    {
     "data": {
      "text/plain": [
       "(134854, 71414)"
      ]
     },
     "execution_count": 48,
     "metadata": {},
     "output_type": "execute_result"
    }
   ],
   "source": [
    "count_data.shape"
   ]
  },
  {
   "cell_type": "code",
   "execution_count": 49,
   "id": "beab5f94-db57-415e-a725-9d2d4b45c4cc",
   "metadata": {},
   "outputs": [],
   "source": [
    "count_df = pd.DataFrame(count_data.sum(axis = 0)).T"
   ]
  },
  {
   "cell_type": "code",
   "execution_count": 50,
   "id": "d4c7ee2e-c043-4813-b67b-1eed5a1590bf",
   "metadata": {},
   "outputs": [],
   "source": [
    "count_df.index = count_vectorizer.get_feature_names()"
   ]
  },
  {
   "cell_type": "code",
   "execution_count": 51,
   "id": "3032b2c9-5fa9-44b6-ba9a-71e223d03734",
   "metadata": {},
   "outputs": [
    {
     "data": {
      "text/html": [
       "<div>\n",
       "<style scoped>\n",
       "    .dataframe tbody tr th:only-of-type {\n",
       "        vertical-align: middle;\n",
       "    }\n",
       "\n",
       "    .dataframe tbody tr th {\n",
       "        vertical-align: top;\n",
       "    }\n",
       "\n",
       "    .dataframe thead th {\n",
       "        text-align: right;\n",
       "    }\n",
       "</style>\n",
       "<table border=\"1\" class=\"dataframe\">\n",
       "  <thead>\n",
       "    <tr style=\"text-align: right;\">\n",
       "      <th></th>\n",
       "      <th>0</th>\n",
       "    </tr>\n",
       "  </thead>\n",
       "  <tbody>\n",
       "    <tr>\n",
       "      <th>00</th>\n",
       "      <td>20223</td>\n",
       "    </tr>\n",
       "    <tr>\n",
       "      <th>000</th>\n",
       "      <td>4480</td>\n",
       "    </tr>\n",
       "    <tr>\n",
       "      <th>0001</th>\n",
       "      <td>1</td>\n",
       "    </tr>\n",
       "    <tr>\n",
       "      <th>0002</th>\n",
       "      <td>2</td>\n",
       "    </tr>\n",
       "    <tr>\n",
       "      <th>0004</th>\n",
       "      <td>3</td>\n",
       "    </tr>\n",
       "    <tr>\n",
       "      <th>0005</th>\n",
       "      <td>13</td>\n",
       "    </tr>\n",
       "    <tr>\n",
       "      <th>0006</th>\n",
       "      <td>248</td>\n",
       "    </tr>\n",
       "    <tr>\n",
       "      <th>0008</th>\n",
       "      <td>1</td>\n",
       "    </tr>\n",
       "    <tr>\n",
       "      <th>000beds</th>\n",
       "      <td>7</td>\n",
       "    </tr>\n",
       "    <tr>\n",
       "      <th>000deposit</th>\n",
       "      <td>1</td>\n",
       "    </tr>\n",
       "    <tr>\n",
       "      <th>000sf</th>\n",
       "      <td>15</td>\n",
       "    </tr>\n",
       "    <tr>\n",
       "      <th>000sq</th>\n",
       "      <td>5</td>\n",
       "    </tr>\n",
       "    <tr>\n",
       "      <th>000sqft</th>\n",
       "      <td>9</td>\n",
       "    </tr>\n",
       "    <tr>\n",
       "      <th>001</th>\n",
       "      <td>10</td>\n",
       "    </tr>\n",
       "    <tr>\n",
       "      <th>00116</th>\n",
       "      <td>1</td>\n",
       "    </tr>\n",
       "    <tr>\n",
       "      <th>0018</th>\n",
       "      <td>1</td>\n",
       "    </tr>\n",
       "    <tr>\n",
       "      <th>002</th>\n",
       "      <td>10</td>\n",
       "    </tr>\n",
       "    <tr>\n",
       "      <th>0020</th>\n",
       "      <td>26</td>\n",
       "    </tr>\n",
       "    <tr>\n",
       "      <th>0022</th>\n",
       "      <td>83</td>\n",
       "    </tr>\n",
       "    <tr>\n",
       "      <th>0024</th>\n",
       "      <td>3</td>\n",
       "    </tr>\n",
       "    <tr>\n",
       "      <th>0025</th>\n",
       "      <td>1</td>\n",
       "    </tr>\n",
       "    <tr>\n",
       "      <th>003</th>\n",
       "      <td>58</td>\n",
       "    </tr>\n",
       "    <tr>\n",
       "      <th>0031</th>\n",
       "      <td>1</td>\n",
       "    </tr>\n",
       "    <tr>\n",
       "      <th>0038</th>\n",
       "      <td>2</td>\n",
       "    </tr>\n",
       "    <tr>\n",
       "      <th>0039</th>\n",
       "      <td>2</td>\n",
       "    </tr>\n",
       "  </tbody>\n",
       "</table>\n",
       "</div>"
      ],
      "text/plain": [
       "                0\n",
       "00          20223\n",
       "000          4480\n",
       "0001            1\n",
       "0002            2\n",
       "0004            3\n",
       "0005           13\n",
       "0006          248\n",
       "0008            1\n",
       "000beds         7\n",
       "000deposit      1\n",
       "000sf          15\n",
       "000sq           5\n",
       "000sqft         9\n",
       "001            10\n",
       "00116           1\n",
       "0018            1\n",
       "002            10\n",
       "0020           26\n",
       "0022           83\n",
       "0024            3\n",
       "0025            1\n",
       "003            58\n",
       "0031            1\n",
       "0038            2\n",
       "0039            2"
      ]
     },
     "execution_count": 51,
     "metadata": {},
     "output_type": "execute_result"
    }
   ],
   "source": [
    "count_df.head(25)"
   ]
  },
  {
   "cell_type": "code",
   "execution_count": 72,
   "id": "65714b78-b370-4bf8-a7f4-3cd18724d1d9",
   "metadata": {},
   "outputs": [],
   "source": [
    "count_df.columns = ['Count']\n",
    "sorted_word_count = count_df.sort_values(by = 'Count', ascending = False)"
   ]
  },
  {
   "cell_type": "code",
   "execution_count": 78,
   "id": "58e291ff-2a91-423a-8fad-1f6ef58f9ded",
   "metadata": {},
   "outputs": [
    {
     "data": {
      "text/plain": [
       "<function matplotlib.pyplot.show(close=None, block=None)>"
      ]
     },
     "execution_count": 78,
     "metadata": {},
     "output_type": "execute_result"
    },
    {
     "data": {
      "image/png": "[encoded data removed]",
      "text/plain": [
       "<Figure size 432x288 with 1 Axes>"
      ]
     },
     "metadata": {
      "needs_background": "light"
     },
     "output_type": "display_data"
    }
   ],
   "source": [
    "plt.bar(sorted_word_count[:25].index, sorted_word_count[:25].Count)\n",
    "plt.xticks(rotation = 90)\n",
    "plt.title('Most common words in dataset')\n",
    "plt.show"
   ]
  },
  {
   "cell_type": "code",
   "execution_count": 62,
   "id": "98d1f651-bf56-49e0-ac81-3fe7f014124d",
   "metadata": {},
   "outputs": [],
   "source": [
    "def preprocess_text(text):\n",
    "    text = text.lower()\n",
    "    text = re.sub(r'\\d+', '', text)\n",
    "    return text"
   ]
  },
  {
   "cell_type": "code",
   "execution_count": 63,
   "id": "5c023400-479e-45ff-9246-b9111f460bda",
   "metadata": {},
   "outputs": [],
   "source": [
    "count_vectorizer = CountVectorizer(stop_words = 'english', preprocessor = preprocess_text)\n",
    "count_data = count_vectorizer.fit_transform(raw_data.BODY)"
   ]
  },
  {
   "cell_type": "code",
   "execution_count": 64,
   "id": "60f48492-a286-47e9-92b6-5545849a817d",
   "metadata": {},
   "outputs": [
    {
     "data": {
      "text/html": [
       "<div>\n",
       "<style scoped>\n",
       "    .dataframe tbody tr th:only-of-type {\n",
       "        vertical-align: middle;\n",
       "    }\n",
       "\n",
       "    .dataframe tbody tr th {\n",
       "        vertical-align: top;\n",
       "    }\n",
       "\n",
       "    .dataframe thead th {\n",
       "        text-align: right;\n",
       "    }\n",
       "</style>\n",
       "<table border=\"1\" class=\"dataframe\">\n",
       "  <thead>\n",
       "    <tr style=\"text-align: right;\">\n",
       "      <th></th>\n",
       "      <th>0</th>\n",
       "    </tr>\n",
       "  </thead>\n",
       "  <tbody>\n",
       "    <tr>\n",
       "      <th>__</th>\n",
       "      <td>12</td>\n",
       "    </tr>\n",
       "    <tr>\n",
       "      <th>___</th>\n",
       "      <td>29</td>\n",
       "    </tr>\n",
       "    <tr>\n",
       "      <th>____</th>\n",
       "      <td>132</td>\n",
       "    </tr>\n",
       "    <tr>\n",
       "      <th>_____</th>\n",
       "      <td>28</td>\n",
       "    </tr>\n",
       "    <tr>\n",
       "      <th>______</th>\n",
       "      <td>6</td>\n",
       "    </tr>\n",
       "    <tr>\n",
       "      <th>_______</th>\n",
       "      <td>75</td>\n",
       "    </tr>\n",
       "    <tr>\n",
       "      <th>________</th>\n",
       "      <td>8</td>\n",
       "    </tr>\n",
       "    <tr>\n",
       "      <th>_________</th>\n",
       "      <td>33</td>\n",
       "    </tr>\n",
       "    <tr>\n",
       "      <th>__________</th>\n",
       "      <td>2</td>\n",
       "    </tr>\n",
       "    <tr>\n",
       "      <th>___________</th>\n",
       "      <td>70</td>\n",
       "    </tr>\n",
       "    <tr>\n",
       "      <th>____________</th>\n",
       "      <td>190</td>\n",
       "    </tr>\n",
       "    <tr>\n",
       "      <th>_____________</th>\n",
       "      <td>63</td>\n",
       "    </tr>\n",
       "    <tr>\n",
       "      <th>______________</th>\n",
       "      <td>3</td>\n",
       "    </tr>\n",
       "    <tr>\n",
       "      <th>________________</th>\n",
       "      <td>2</td>\n",
       "    </tr>\n",
       "    <tr>\n",
       "      <th>_________________</th>\n",
       "      <td>1</td>\n",
       "    </tr>\n",
       "    <tr>\n",
       "      <th>__________________</th>\n",
       "      <td>17</td>\n",
       "    </tr>\n",
       "    <tr>\n",
       "      <th>____________________</th>\n",
       "      <td>2</td>\n",
       "    </tr>\n",
       "    <tr>\n",
       "      <th>_______________________</th>\n",
       "      <td>1</td>\n",
       "    </tr>\n",
       "    <tr>\n",
       "      <th>_________________________</th>\n",
       "      <td>1</td>\n",
       "    </tr>\n",
       "    <tr>\n",
       "      <th>__________________________</th>\n",
       "      <td>1</td>\n",
       "    </tr>\n",
       "    <tr>\n",
       "      <th>___________________________</th>\n",
       "      <td>6</td>\n",
       "    </tr>\n",
       "    <tr>\n",
       "      <th>____________________________</th>\n",
       "      <td>10</td>\n",
       "    </tr>\n",
       "    <tr>\n",
       "      <th>_____________________________</th>\n",
       "      <td>2</td>\n",
       "    </tr>\n",
       "    <tr>\n",
       "      <th>_______________________________</th>\n",
       "      <td>1</td>\n",
       "    </tr>\n",
       "    <tr>\n",
       "      <th>________________________________</th>\n",
       "      <td>4</td>\n",
       "    </tr>\n",
       "  </tbody>\n",
       "</table>\n",
       "</div>"
      ],
      "text/plain": [
       "                                    0\n",
       "__                                 12\n",
       "___                                29\n",
       "____                              132\n",
       "_____                              28\n",
       "______                              6\n",
       "_______                            75\n",
       "________                            8\n",
       "_________                          33\n",
       "__________                          2\n",
       "___________                        70\n",
       "____________                      190\n",
       "_____________                      63\n",
       "______________                      3\n",
       "________________                    2\n",
       "_________________                   1\n",
       "__________________                 17\n",
       "____________________                2\n",
       "_______________________             1\n",
       "_________________________           1\n",
       "__________________________          1\n",
       "___________________________         6\n",
       "____________________________       10\n",
       "_____________________________       2\n",
       "_______________________________     1\n",
       "________________________________    4"
      ]
     },
     "execution_count": 64,
     "metadata": {},
     "output_type": "execute_result"
    }
   ],
   "source": [
    "count_df = pd.DataFrame(count_data.sum(axis = 0)).T\n",
    "count_df.index = count_vectorizer.get_feature_names()\n",
    "count_df.head(25)"
   ]
  },
  {
   "cell_type": "code",
   "execution_count": 65,
   "id": "16149689-575c-4f70-9381-c864e718d5ad",
   "metadata": {},
   "outputs": [
    {
     "data": {
      "text/plain": [
       "(134854, 44821)"
      ]
     },
     "execution_count": 65,
     "metadata": {},
     "output_type": "execute_result"
    }
   ],
   "source": [
    "count_data.shape"
   ]
  },
  {
   "cell_type": "code",
   "execution_count": 59,
   "id": "f451bfe3-4703-4205-9659-72e922cc28f5",
   "metadata": {},
   "outputs": [
    {
     "data": {
      "text/plain": [
       "(134854, 39952)"
      ]
     },
     "execution_count": 59,
     "metadata": {},
     "output_type": "execute_result"
    }
   ],
   "source": [
    "tfidf_vectorizer = TfidfVectorizer(stop_words='english', min_df = 2, max_df = 0.7)\n",
    "tfidf_data = tfidf_vectorizer.fit_transform(raw_data.BODY)\n",
    "tfidf_data.shape"
   ]
  },
  {
   "cell_type": "code",
   "execution_count": 60,
   "id": "b8d29e0f-46e3-476e-8aeb-0c18dfe22426",
   "metadata": {},
   "outputs": [
    {
     "data": {
      "text/plain": [
       "<134854x39952 sparse matrix of type '<class 'numpy.float64'>'\n",
       "\twith 11297731 stored elements in Compressed Sparse Row format>"
      ]
     },
     "execution_count": 60,
     "metadata": {},
     "output_type": "execute_result"
    }
   ],
   "source": [
    "tfidf_data"
   ]
  },
  {
   "cell_type": "code",
   "execution_count": null,
   "id": "303bb1c1-1b50-443b-a1aa-72f184b4a9f2",
   "metadata": {},
   "outputs": [],
   "source": []
  },
  {
   "cell_type": "code",
   "execution_count": null,
   "id": "0f6410e5-5132-42eb-b138-fe99a7880be3",
   "metadata": {},
   "outputs": [],
   "source": []
  }
 ],
 "metadata": {
  "kernelspec": {
   "display_name": "Python 3",
   "language": "python",
   "name": "python3"
  },
  "language_info": {
   "codemirror_mode": {
    "name": "ipython",
    "version": 3
   },
   "file_extension": ".py",
   "mimetype": "text/x-python",
   "name": "python",
   "nbconvert_exporter": "python",
   "pygments_lexer": "ipython3",
   "version": "3.8.10"
  }
 },
 "nbformat": 4,
 "nbformat_minor": 5
}
