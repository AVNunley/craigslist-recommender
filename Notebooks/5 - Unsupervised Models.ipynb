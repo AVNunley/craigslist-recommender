{
 "cells": [
  {
   "cell_type": "code",
   "execution_count": 2,
   "id": "e635280e-735a-4723-bda9-179452e4967c",
   "metadata": {},
   "outputs": [
    {
     "name": "stderr",
     "output_type": "stream",
     "text": [
      "C:\\Users\\Work_Remote\\anaconda3\\envs\\craigslist-recommender\\lib\\site-packages\\gensim\\similarities\\__init__.py:15: UserWarning: The gensim.similarities.levenshtein submodule is disabled, because the optional Levenshtein package <https://pypi.org/project/python-Levenshtein/> is unavailable. Install Levenhstein (e.g. `pip install python-Levenshtein`) to suppress this warning.\n",
      "  warnings.warn(msg)\n"
     ]
    }
   ],
   "source": [
    "import nltk, gensim\n",
    "import pandas as pd\n",
    "import numpy as np\n",
    "import matplotlib.pyplot as plt\n",
    "from sklearn.feature_extraction.text import TfidfVectorizer\n",
    "from sklearn.cluster import KMeans"
   ]
  },
  {
   "cell_type": "code",
   "execution_count": 3,
   "id": "4e54cefe-0734-440c-8a54-8af3ef39f419",
   "metadata": {},
   "outputs": [],
   "source": [
    "#Instantiate DataFrame of craigslist data\n",
    "raw_data = pd.read_csv('data\\\\CRAIGSLIST.Listings-1.csv')"
   ]
  },
  {
   "cell_type": "code",
   "execution_count": 25,
   "id": "f451bfe3-4703-4205-9659-72e922cc28f5",
   "metadata": {},
   "outputs": [],
   "source": [
    "tfidf_vectorizer = TfidfVectorizer(stop_words='english', min_df = 2, max_df = 0.7)\n",
    "tfidf_data = tfidf_vectorizer.fit_transform(raw_data.BODY)"
   ]
  },
  {
   "cell_type": "code",
   "execution_count": 26,
   "id": "b8d29e0f-46e3-476e-8aeb-0c18dfe22426",
   "metadata": {},
   "outputs": [
    {
     "data": {
      "text/plain": [
       "<134854x39952 sparse matrix of type '<class 'numpy.float64'>'\n",
       "\twith 11297731 stored elements in Compressed Sparse Row format>"
      ]
     },
     "execution_count": 26,
     "metadata": {},
     "output_type": "execute_result"
    }
   ],
   "source": [
    "tfidf_data"
   ]
  },
  {
   "cell_type": "code",
   "execution_count": 14,
   "id": "94cc2b64-3166-4bca-94a3-7a524fbde3d9",
   "metadata": {},
   "outputs": [],
   "source": [
    "n_clusters = 10\n",
    "model = KMeans(n_clusters=n_clusters, init='k-means++', max_iter=500, n_init=15).fit(tfidf_data)"
   ]
  },
  {
   "cell_type": "code",
   "execution_count": 15,
   "id": "ed9832a3-4fdb-454b-838d-4c67ea88ae02",
   "metadata": {},
   "outputs": [
    {
     "name": "stdout",
     "output_type": "stream",
     "text": [
      "Top terms per cluster:\n",
      "Cluster 0:\n",
      " room\n",
      " floor\n",
      " bedroom\n",
      " larg\n",
      " kitchen\n",
      " live\n",
      " park\n",
      " unit\n",
      " close\n",
      " street\n",
      " hardwood\n",
      " walk\n",
      " new\n",
      " avail\n",
      " space\n",
      "Cluster 1:\n",
      " apart\n",
      " commun\n",
      " todai\n",
      " featur\n",
      " home\n",
      " offer\n",
      " manag\n",
      " closet\n",
      " tour\n",
      " center\n",
      " amen\n",
      " contact\n",
      " park\n",
      " pet\n",
      " free\n",
      "Cluster 2:\n",
      " loft\n",
      " maynard\n",
      " commun\n",
      " andov\n",
      " apart\n",
      " home\n",
      " worcest\n",
      " tour\n",
      " todai\n",
      " north\n",
      " contact\n",
      " vue\n",
      " lawrenc\n",
      " person\n",
      " indoor\n",
      "Cluster 3:\n",
      " repres\n",
      " build\n",
      " unit\n",
      " apart\n",
      " daili\n",
      " finish\n",
      " date\n",
      " model\n",
      " subject\n",
      " vari\n",
      " flexibl\n",
      " chang\n",
      " actual\n",
      " plan\n",
      " avail\n",
      "Cluster 4:\n",
      " discrimin\n",
      " statu\n",
      " advertis\n",
      " prestig\n",
      " person\n",
      " solut\n",
      " real\n",
      " estat\n",
      " genet\n",
      " martial\n",
      " arm\n",
      " prestigerentalsolut\n",
      " anti\n",
      " ancestri\n",
      " illeg\n",
      "Cluster 5:\n",
      " squar\n",
      " maven\n",
      " cambridg\n",
      " davi\n",
      " fee\n",
      " bath\n",
      " refer\n",
      " realti\n",
      " dishwash\n",
      " avon\n",
      " negoti\n",
      " laundri\n",
      " hardwood\n",
      " includ\n",
      " municip\n",
      "Cluster 6:\n",
      " avail\n",
      " rent\n",
      " includ\n",
      " hot\n",
      " properti\n",
      " monthb\n",
      " date\n",
      " info\n",
      " heat\n",
      " bath\n",
      " bu\n",
      " park\n",
      " water\n",
      " fee\n",
      " av\n",
      "Cluster 7:\n",
      " place\n",
      " placesforless\n",
      " broker\n",
      " reach\n",
      " craigslist\n",
      " fee\n",
      " apart\n",
      " virtual\n",
      " onlin\n",
      " unit\n",
      " need\n",
      " tour\n",
      " brokerag\n",
      " brows\n",
      " http\n",
      "Cluster 8:\n",
      " month\n",
      " select\n",
      " units\n",
      " hour\n",
      " available\n",
      " pet\n",
      " onlin\n",
      " resid\n",
      " center\n",
      " pool\n",
      " commun\n",
      " limit\n",
      " fit\n",
      " area\n",
      " restrict\n",
      "Cluster 9:\n",
      " month\n",
      " apart\n",
      " includ\n",
      " bedroom\n",
      " rent\n",
      " park\n",
      " floor\n",
      " street\n",
      " avail\n",
      " requir\n",
      " heat\n",
      " water\n",
      " unit\n",
      " secur\n",
      " locat\n"
     ]
    }
   ],
   "source": [
    "print(\"Top terms per cluster:\")\n",
    "order_centroids = model.cluster_centers_.argsort()[:, ::-1]\n",
    "terms = vectorizer.get_feature_names()\n",
    "for i in range(n_clusters):\n",
    "    print(\"Cluster %d:\" % i),\n",
    "    for ind in order_centroids[i, :15]:\n",
    "        print(' %s' % terms[ind]),\n",
    "    print"
   ]
  },
  {
   "cell_type": "code",
   "execution_count": null,
   "id": "303bb1c1-1b50-443b-a1aa-72f184b4a9f2",
   "metadata": {},
   "outputs": [],
   "source": []
  },
  {
   "cell_type": "code",
   "execution_count": null,
   "id": "0f6410e5-5132-42eb-b138-fe99a7880be3",
   "metadata": {},
   "outputs": [],
   "source": []
  }
 ],
 "metadata": {
  "kernelspec": {
   "display_name": "Python 3",
   "language": "python",
   "name": "python3"
  },
  "language_info": {
   "codemirror_mode": {
    "name": "ipython",
    "version": 3
   },
   "file_extension": ".py",
   "mimetype": "text/x-python",
   "name": "python",
   "nbconvert_exporter": "python",
   "pygments_lexer": "ipython3",
   "version": "3.8.10"
  }
 },
 "nbformat": 4,
 "nbformat_minor": 5
}
