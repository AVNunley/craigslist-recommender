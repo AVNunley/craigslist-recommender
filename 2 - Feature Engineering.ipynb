{
 "cells": [
  {
   "cell_type": "code",
   "execution_count": 1,
   "id": "e635280e-735a-4723-bda9-179452e4967c",
   "metadata": {},
   "outputs": [],
   "source": [
    "import nltk, gensim, re\n",
    "import pandas as pd\n",
    "import numpy as np\n",
    "import matplotlib.pyplot as plt\n",
    "import seaborn as sns\n",
    "from sklearn.feature_extraction.text import TfidfVectorizer, CountVectorizer\n",
    "from sklearn.cluster import KMeans\n",
    "from scipy import stats\n",
    "\n",
    "sns.set_context('talk')"
   ]
  },
  {
   "cell_type": "code",
   "execution_count": 6,
   "id": "4dc4e549-b7cb-4f53-88b3-47ad607f7bd7",
   "metadata": {},
   "outputs": [],
   "source": [
    "df = pd.read_csv('wrangled_data.csv')\n",
    "df.set_index('LISTING_ID', inplace = True, drop = True)"
   ]
  },
  {
   "cell_type": "code",
   "execution_count": 7,
   "id": "26ce4227-823e-4d94-9376-698b033ab302",
   "metadata": {},
   "outputs": [
    {
     "data": {
      "text/html": [
       "<div>\n",
       "<style scoped>\n",
       "    .dataframe tbody tr th:only-of-type {\n",
       "        vertical-align: middle;\n",
       "    }\n",
       "\n",
       "    .dataframe tbody tr th {\n",
       "        vertical-align: top;\n",
       "    }\n",
       "\n",
       "    .dataframe thead th {\n",
       "        text-align: right;\n",
       "    }\n",
       "</style>\n",
       "<table border=\"1\" class=\"dataframe\">\n",
       "  <thead>\n",
       "    <tr style=\"text-align: right;\">\n",
       "      <th></th>\n",
       "      <th>BODY</th>\n",
       "      <th>PRICE</th>\n",
       "      <th>AREA_SQFT</th>\n",
       "      <th>ALLOWS_CATS</th>\n",
       "      <th>ALLOWS_DOGS</th>\n",
       "    </tr>\n",
       "    <tr>\n",
       "      <th>LISTING_ID</th>\n",
       "      <th></th>\n",
       "      <th></th>\n",
       "      <th></th>\n",
       "      <th></th>\n",
       "      <th></th>\n",
       "    </tr>\n",
       "  </thead>\n",
       "  <tbody>\n",
       "    <tr>\n",
       "      <th>7075306172</th>\n",
       "      <td>PROPERTY INFO ID: 32252124Rent: 2275 / MonthBe...</td>\n",
       "      <td>2275</td>\n",
       "      <td>900.0</td>\n",
       "      <td>1.0</td>\n",
       "      <td>0.0</td>\n",
       "    </tr>\n",
       "    <tr>\n",
       "      <th>7075321793</th>\n",
       "      <td>PROPERTY INFO ID: 1281339Rent: 2350 / MonthBed...</td>\n",
       "      <td>2350</td>\n",
       "      <td>800.0</td>\n",
       "      <td>1.0</td>\n",
       "      <td>0.0</td>\n",
       "    </tr>\n",
       "    <tr>\n",
       "      <th>7075372720</th>\n",
       "      <td>PROPERTY INFO ID: 2741631Rent: 2395 / MonthBed...</td>\n",
       "      <td>2395</td>\n",
       "      <td>875.0</td>\n",
       "      <td>1.0</td>\n",
       "      <td>0.0</td>\n",
       "    </tr>\n",
       "    <tr>\n",
       "      <th>7075376264</th>\n",
       "      <td>PROPERTY INFO ID: 2741631Rent: 2395 / MonthBed...</td>\n",
       "      <td>2395</td>\n",
       "      <td>875.0</td>\n",
       "      <td>1.0</td>\n",
       "      <td>0.0</td>\n",
       "    </tr>\n",
       "    <tr>\n",
       "      <th>7075380613</th>\n",
       "      <td>PROPERTY INFO ID: 9826244Rent: 2450 / MonthBed...</td>\n",
       "      <td>2450</td>\n",
       "      <td>950.0</td>\n",
       "      <td>1.0</td>\n",
       "      <td>0.0</td>\n",
       "    </tr>\n",
       "  </tbody>\n",
       "</table>\n",
       "</div>"
      ],
      "text/plain": [
       "                                                         BODY  PRICE  \\\n",
       "LISTING_ID                                                             \n",
       "7075306172  PROPERTY INFO ID: 32252124Rent: 2275 / MonthBe...   2275   \n",
       "7075321793  PROPERTY INFO ID: 1281339Rent: 2350 / MonthBed...   2350   \n",
       "7075372720  PROPERTY INFO ID: 2741631Rent: 2395 / MonthBed...   2395   \n",
       "7075376264  PROPERTY INFO ID: 2741631Rent: 2395 / MonthBed...   2395   \n",
       "7075380613  PROPERTY INFO ID: 9826244Rent: 2450 / MonthBed...   2450   \n",
       "\n",
       "            AREA_SQFT  ALLOWS_CATS  ALLOWS_DOGS  \n",
       "LISTING_ID                                       \n",
       "7075306172      900.0          1.0          0.0  \n",
       "7075321793      800.0          1.0          0.0  \n",
       "7075372720      875.0          1.0          0.0  \n",
       "7075376264      875.0          1.0          0.0  \n",
       "7075380613      950.0          1.0          0.0  "
      ]
     },
     "execution_count": 7,
     "metadata": {},
     "output_type": "execute_result"
    }
   ],
   "source": [
    "df.head()"
   ]
  },
  {
   "cell_type": "code",
   "execution_count": 8,
   "id": "638eb0a0-eb78-4118-924d-342e272371a9",
   "metadata": {},
   "outputs": [
    {
     "data": {
      "text/plain": [
       "(126358, 5)"
      ]
     },
     "execution_count": 8,
     "metadata": {},
     "output_type": "execute_result"
    }
   ],
   "source": [
    "df.shape"
   ]
  },
  {
   "cell_type": "markdown",
   "id": "85b4b797-8361-4e1e-9140-f66093931053",
   "metadata": {
    "tags": []
   },
   "source": [
    "### Engineering features from the 'BODY' column will be the focus of this notebook"
   ]
  },
  {
   "cell_type": "code",
   "execution_count": 97,
   "id": "df3785dc-d6e6-476d-8046-ecdeac13db46",
   "metadata": {
    "tags": []
   },
   "outputs": [
    {
     "name": "stdout",
     "output_type": "stream",
     "text": [
      "                                                BODY\n",
      "0  Big 4 Bedroom Fully Renovated off Shrewsbury S...\n",
      "1  PROPERTY INFO ID: 32252124Rent: 2275 / MonthBe...\n",
      "2  PROPERTY INFO ID: 1281339Rent: 2350 / MonthBed...\n",
      "3  PROPERTY INFO ID: 32252343Rent: 2350 / MonthBe...\n",
      "4  PROPERTY INFO ID: 32252343Rent: 2350 / MonthBe...\n",
      "5  PROPERTY INFO ID: 2741631Rent: 2395 / MonthBed...\n",
      "6  PROPERTY INFO ID: 2741631Rent: 2395 / MonthBed...\n",
      "7  PROPERTY INFO ID: 9826244Rent: 2450 / MonthBed...\n",
      "8  PROPERTY INFO ID: 9826244Rent: 2450 / MonthBed...\n",
      "9  MustSeeProperties.com provides the Complete Pa...\n"
     ]
    }
   ],
   "source": [
    " print(pd.DataFrame(raw_data.BODY[:10]))"
   ]
  },
  {
   "cell_type": "code",
   "execution_count": 98,
   "id": "7a82f9b3-3e59-4050-a0e2-414c11674c42",
   "metadata": {},
   "outputs": [
    {
     "data": {
      "text/plain": [
       "'Big 4 Bedroom Fully Renovated off Shrewsbury Street w/ 4 Large Bedrooms, Modern Eat-in kitchen, Luxury Tiled Bathrooms, Washer/dryer Hookups, Very Efficient Gas Heat, High Ceilings, Walk-in Closets & New Flooring!! PLEASE CONTACT PAUL LATINO OF RE/MAX ADVANTAGE show contact info !!'"
      ]
     },
     "execution_count": 98,
     "metadata": {},
     "output_type": "execute_result"
    }
   ],
   "source": [
    " raw_data.BODY[0]"
   ]
  },
  {
   "cell_type": "code",
   "execution_count": null,
   "id": "7ab6f894-1fae-4606-8b49-f2cbd24a5467",
   "metadata": {},
   "outputs": [],
   "source": []
  },
  {
   "cell_type": "code",
   "execution_count": null,
   "id": "bb8b01e8-7ed7-454b-b601-4c326a8e9259",
   "metadata": {},
   "outputs": [],
   "source": []
  },
  {
   "cell_type": "code",
   "execution_count": 104,
   "id": "47041133-3607-468d-ac58-2fe20b0cf134",
   "metadata": {},
   "outputs": [],
   "source": [
    "def word_count(listing):\n",
    "    words = listing.split()\n",
    "    return len(words)"
   ]
  },
  {
   "cell_type": "code",
   "execution_count": 109,
   "id": "9fd4b6d4-7258-4b5f-8893-863403f98607",
   "metadata": {},
   "outputs": [],
   "source": [
    "def avg_word_length(listing):\n",
    "    words = listing.split()\n",
    "    word_lengths = [len(word) for word in words]\n",
    "    return sum(word_lengths)/len(words)"
   ]
  },
  {
   "cell_type": "code",
   "execution_count": 110,
   "id": "9d31ba71-0d7f-460e-8c74-b23d901c7ca1",
   "metadata": {},
   "outputs": [],
   "source": [
    "raw_data['BODY_CHAR_COUNT'] = raw_data.BODY.apply(len)\n",
    "raw_data['BODY_WORD_COUNT'] = raw_data.BODY.apply(word_count)\n",
    "raw_data['BODY_AVG_WORD_LENGTH'] = raw_data.BODY.apply(avg_word_length)"
   ]
  },
  {
   "cell_type": "code",
   "execution_count": 114,
   "id": "48648536-6499-4365-9f32-a5a5fa2add05",
   "metadata": {},
   "outputs": [
    {
     "data": {
      "text/html": [
       "<div>\n",
       "<style scoped>\n",
       "    .dataframe tbody tr th:only-of-type {\n",
       "        vertical-align: middle;\n",
       "    }\n",
       "\n",
       "    .dataframe tbody tr th {\n",
       "        vertical-align: top;\n",
       "    }\n",
       "\n",
       "    .dataframe thead th {\n",
       "        text-align: right;\n",
       "    }\n",
       "</style>\n",
       "<table border=\"1\" class=\"dataframe\">\n",
       "  <thead>\n",
       "    <tr style=\"text-align: right;\">\n",
       "      <th></th>\n",
       "      <th>BODY_CHAR_COUNT</th>\n",
       "      <th>BODY_WORD_COUNT</th>\n",
       "      <th>BODY_AVG_WORD_LENGTH</th>\n",
       "    </tr>\n",
       "  </thead>\n",
       "  <tbody>\n",
       "    <tr>\n",
       "      <th>count</th>\n",
       "      <td>134854.000000</td>\n",
       "      <td>134854.000000</td>\n",
       "      <td>134854.000000</td>\n",
       "    </tr>\n",
       "    <tr>\n",
       "      <th>mean</th>\n",
       "      <td>977.573272</td>\n",
       "      <td>150.757456</td>\n",
       "      <td>5.489535</td>\n",
       "    </tr>\n",
       "    <tr>\n",
       "      <th>std</th>\n",
       "      <td>703.183128</td>\n",
       "      <td>109.218269</td>\n",
       "      <td>0.684112</td>\n",
       "    </tr>\n",
       "    <tr>\n",
       "      <th>min</th>\n",
       "      <td>1.000000</td>\n",
       "      <td>1.000000</td>\n",
       "      <td>1.000000</td>\n",
       "    </tr>\n",
       "    <tr>\n",
       "      <th>25%</th>\n",
       "      <td>469.000000</td>\n",
       "      <td>73.000000</td>\n",
       "      <td>5.086420</td>\n",
       "    </tr>\n",
       "    <tr>\n",
       "      <th>50%</th>\n",
       "      <td>784.000000</td>\n",
       "      <td>120.000000</td>\n",
       "      <td>5.453782</td>\n",
       "    </tr>\n",
       "    <tr>\n",
       "      <th>75%</th>\n",
       "      <td>1308.000000</td>\n",
       "      <td>202.000000</td>\n",
       "      <td>5.852174</td>\n",
       "    </tr>\n",
       "    <tr>\n",
       "      <th>max</th>\n",
       "      <td>15236.000000</td>\n",
       "      <td>2282.000000</td>\n",
       "      <td>78.000000</td>\n",
       "    </tr>\n",
       "  </tbody>\n",
       "</table>\n",
       "</div>"
      ],
      "text/plain": [
       "       BODY_CHAR_COUNT  BODY_WORD_COUNT  BODY_AVG_WORD_LENGTH\n",
       "count    134854.000000    134854.000000         134854.000000\n",
       "mean        977.573272       150.757456              5.489535\n",
       "std         703.183128       109.218269              0.684112\n",
       "min           1.000000         1.000000              1.000000\n",
       "25%         469.000000        73.000000              5.086420\n",
       "50%         784.000000       120.000000              5.453782\n",
       "75%        1308.000000       202.000000              5.852174\n",
       "max       15236.000000      2282.000000             78.000000"
      ]
     },
     "execution_count": 114,
     "metadata": {},
     "output_type": "execute_result"
    }
   ],
   "source": [
    "raw_data[['BODY_CHAR_COUNT', 'BODY_WORD_COUNT', 'BODY_AVG_WORD_LENGTH']].describe()"
   ]
  },
  {
   "cell_type": "code",
   "execution_count": 112,
   "id": "07922d8d-eab5-4a4c-9f82-298df74f7643",
   "metadata": {},
   "outputs": [
    {
     "name": "stdout",
     "output_type": "stream",
     "text": [
      "Average number of characters per listing: 977.573271834725\n",
      "Average number of words per listing: 150.75745621190325\n",
      "Average word length per listing: 5.48953486557127\n"
     ]
    }
   ],
   "source": [
    "print('Average number of characters per listing:', np.mean(raw_data['BODY_CHAR_COUNT']))\n",
    "print('Average number of words per listing:', np.mean(raw_data['BODY_WORD_COUNT']))\n",
    "print('Average word length per listing:', np.mean(raw_data['BODY_AVG_WORD_LENGTH']))\n"
   ]
  },
  {
   "cell_type": "code",
   "execution_count": null,
   "id": "9f883433-0cbb-4a35-a4fa-4b0ebb529239",
   "metadata": {},
   "outputs": [],
   "source": [
    "raw_data['BODY_CHAR_COUNT']"
   ]
  },
  {
   "cell_type": "code",
   "execution_count": 123,
   "id": "3eeb90cd-c5bb-4e83-954b-7e0fd6670316",
   "metadata": {},
   "outputs": [
    {
     "data": {
      "text/plain": [
       "{'whiskers': [<matplotlib.lines.Line2D at 0x2798d02eaf0>,\n",
       "  <matplotlib.lines.Line2D at 0x2798d097310>],\n",
       " 'caps': [<matplotlib.lines.Line2D at 0x2798d097fd0>,\n",
       "  <matplotlib.lines.Line2D at 0x2798d097e80>],\n",
       " 'boxes': [<matplotlib.lines.Line2D at 0x2798d02ef40>],\n",
       " 'medians': [<matplotlib.lines.Line2D at 0x2798d097490>],\n",
       " 'fliers': [<matplotlib.lines.Line2D at 0x2798d097370>],\n",
       " 'means': []}"
      ]
     },
     "execution_count": 123,
     "metadata": {},
     "output_type": "execute_result"
    },
    {
     "data": {
      "image/png": "[encoded data removed]",
      "text/plain": [
       "<Figure size 432x288 with 1 Axes>"
      ]
     },
     "metadata": {
      "needs_background": "light"
     },
     "output_type": "display_data"
    }
   ],
   "source": [
    "plt.boxplot(raw_data['BODY_CHAR_COUNT'])"
   ]
  },
  {
   "cell_type": "code",
   "execution_count": 122,
   "id": "f08f8829-896b-4297-9f33-c0cc189f013f",
   "metadata": {},
   "outputs": [
    {
     "data": {
      "text/plain": [
       "{'whiskers': [<matplotlib.lines.Line2D at 0x2798d5f9100>,\n",
       "  <matplotlib.lines.Line2D at 0x2798d5f99d0>],\n",
       " 'caps': [<matplotlib.lines.Line2D at 0x2798d5f9ee0>,\n",
       "  <matplotlib.lines.Line2D at 0x2798d0ea190>],\n",
       " 'boxes': [<matplotlib.lines.Line2D at 0x2798d5f9640>],\n",
       " 'medians': [<matplotlib.lines.Line2D at 0x2798d0eabb0>],\n",
       " 'fliers': [<matplotlib.lines.Line2D at 0x2798d0ea490>],\n",
       " 'means': []}"
      ]
     },
     "execution_count": 122,
     "metadata": {},
     "output_type": "execute_result"
    },
    {
     "data": {
      "image/png": "[encoded data removed]",
      "text/plain": [
       "<Figure size 432x288 with 1 Axes>"
      ]
     },
     "metadata": {
      "needs_background": "light"
     },
     "output_type": "display_data"
    }
   ],
   "source": [
    "plt.boxplot(raw_data['BODY_WORD_COUNT'])"
   ]
  },
  {
   "cell_type": "code",
   "execution_count": 121,
   "id": "bd21459b-3479-4f28-a0ef-6b33c6813b74",
   "metadata": {},
   "outputs": [
    {
     "data": {
      "text/plain": [
       "{'whiskers': [<matplotlib.lines.Line2D at 0x2798d624f40>,\n",
       "  <matplotlib.lines.Line2D at 0x2798d624e50>],\n",
       " 'caps': [<matplotlib.lines.Line2D at 0x2798d6191f0>,\n",
       "  <matplotlib.lines.Line2D at 0x2798d6197c0>],\n",
       " 'boxes': [<matplotlib.lines.Line2D at 0x2798d624910>],\n",
       " 'medians': [<matplotlib.lines.Line2D at 0x2798d619df0>],\n",
       " 'fliers': [<matplotlib.lines.Line2D at 0x2798d619d30>],\n",
       " 'means': []}"
      ]
     },
     "execution_count": 121,
     "metadata": {},
     "output_type": "execute_result"
    },
    {
     "data": {
      "image/png": "[encoded data removed]",
      "text/plain": [
       "<Figure size 432x288 with 1 Axes>"
      ]
     },
     "metadata": {
      "needs_background": "light"
     },
     "output_type": "display_data"
    }
   ],
   "source": [
    "plt.boxplot(raw_data['BODY_AVG_WORD_LENGTH'])"
   ]
  },
  {
   "cell_type": "code",
   "execution_count": null,
   "id": "f1facc78-1054-45ed-a30b-532c85353b10",
   "metadata": {},
   "outputs": [],
   "source": [
    "#Other possible features to generate: # of sentences, # of paragraphs, # capitalized words, # all-capital words, # numeric quantities"
   ]
  },
  {
   "cell_type": "code",
   "execution_count": null,
   "id": "b37f5511-e69d-4e1c-9acc-8b9acdfb927f",
   "metadata": {},
   "outputs": [],
   "source": []
  },
  {
   "cell_type": "code",
   "execution_count": null,
   "id": "656cc1c5-5662-4d52-a28d-a2160096bcf8",
   "metadata": {},
   "outputs": [],
   "source": []
  },
  {
   "cell_type": "code",
   "execution_count": null,
   "id": "701add47-2a1a-4012-9258-162c6ce454d4",
   "metadata": {},
   "outputs": [],
   "source": []
  }
 ],
 "metadata": {
  "kernelspec": {
   "display_name": "Python 3",
   "language": "python",
   "name": "python3"
  },
  "language_info": {
   "codemirror_mode": {
    "name": "ipython",
    "version": 3
   },
   "file_extension": ".py",
   "mimetype": "text/x-python",
   "name": "python",
   "nbconvert_exporter": "python",
   "pygments_lexer": "ipython3",
   "version": "3.8.10"
  }
 },
 "nbformat": 4,
 "nbformat_minor": 5
}
