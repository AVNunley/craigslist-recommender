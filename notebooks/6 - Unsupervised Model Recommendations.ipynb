{
 "cells": [
  {
   "cell_type": "code",
   "execution_count": 1,
   "id": "e635280e-735a-4723-bda9-179452e4967c",
   "metadata": {},
   "outputs": [],
   "source": [
    "import nltk\n",
    "import pandas as pd\n",
    "import numpy as np\n",
    "import matplotlib.pyplot as plt\n",
    "from sklearn.feature_extraction.text import TfidfVectorizer\n",
    "from sklearn.cluster import KMeans, AgglomerativeClustering, DBSCAN\n",
    "from sklearn.preprocessing import StandardScaler\n",
    "from sklearn.decomposition import TruncatedSVD\n",
    "from scipy.sparse import hstack\n",
    "from gensim import parsing"
   ]
  },
  {
   "cell_type": "code",
   "execution_count": 2,
   "id": "4e54cefe-0734-440c-8a54-8af3ef39f419",
   "metadata": {},
   "outputs": [],
   "source": [
    "#Instantiate and setup DataFrame\n",
    "df = pd.read_csv('..\\\\data\\\\X.csv')\n",
    "df.set_index('LISTING_ID', inplace = True, drop = True)"
   ]
  },
  {
   "cell_type": "code",
   "execution_count": 4,
   "id": "512052cd-c447-43c8-bf04-bfeb9000d073",
   "metadata": {},
   "outputs": [
    {
     "data": {
      "text/html": [
       "<div>\n",
       "<style scoped>\n",
       "    .dataframe tbody tr th:only-of-type {\n",
       "        vertical-align: middle;\n",
       "    }\n",
       "\n",
       "    .dataframe tbody tr th {\n",
       "        vertical-align: top;\n",
       "    }\n",
       "\n",
       "    .dataframe thead th {\n",
       "        text-align: right;\n",
       "    }\n",
       "</style>\n",
       "<table border=\"1\" class=\"dataframe\">\n",
       "  <thead>\n",
       "    <tr style=\"text-align: right;\">\n",
       "      <th></th>\n",
       "      <th>0</th>\n",
       "      <th>1</th>\n",
       "      <th>2</th>\n",
       "      <th>3</th>\n",
       "      <th>4</th>\n",
       "      <th>5</th>\n",
       "      <th>6</th>\n",
       "      <th>7</th>\n",
       "      <th>8</th>\n",
       "      <th>9</th>\n",
       "    </tr>\n",
       "    <tr>\n",
       "      <th>LISTING_ID</th>\n",
       "      <th></th>\n",
       "      <th></th>\n",
       "      <th></th>\n",
       "      <th></th>\n",
       "      <th></th>\n",
       "      <th></th>\n",
       "      <th></th>\n",
       "      <th></th>\n",
       "      <th></th>\n",
       "      <th></th>\n",
       "    </tr>\n",
       "  </thead>\n",
       "  <tbody>\n",
       "    <tr>\n",
       "      <th>7075306172</th>\n",
       "      <td>0.917307</td>\n",
       "      <td>0.618685</td>\n",
       "      <td>0.192444</td>\n",
       "      <td>0.099921</td>\n",
       "      <td>0.206868</td>\n",
       "      <td>1.907992</td>\n",
       "      <td>-0.589809</td>\n",
       "      <td>0.425400</td>\n",
       "      <td>0.937936</td>\n",
       "      <td>-0.663455</td>\n",
       "    </tr>\n",
       "    <tr>\n",
       "      <th>7075321793</th>\n",
       "      <td>2.725348</td>\n",
       "      <td>0.182099</td>\n",
       "      <td>0.599635</td>\n",
       "      <td>-0.153622</td>\n",
       "      <td>0.743383</td>\n",
       "      <td>1.879798</td>\n",
       "      <td>-0.662512</td>\n",
       "      <td>0.086399</td>\n",
       "      <td>1.158547</td>\n",
       "      <td>-0.440024</td>\n",
       "    </tr>\n",
       "    <tr>\n",
       "      <th>7075372720</th>\n",
       "      <td>2.359884</td>\n",
       "      <td>0.124991</td>\n",
       "      <td>0.296978</td>\n",
       "      <td>0.079791</td>\n",
       "      <td>0.647150</td>\n",
       "      <td>1.813236</td>\n",
       "      <td>-0.542062</td>\n",
       "      <td>0.057395</td>\n",
       "      <td>1.010028</td>\n",
       "      <td>-0.771719</td>\n",
       "    </tr>\n",
       "    <tr>\n",
       "      <th>7075376264</th>\n",
       "      <td>2.359883</td>\n",
       "      <td>0.124993</td>\n",
       "      <td>0.296990</td>\n",
       "      <td>0.079790</td>\n",
       "      <td>0.647147</td>\n",
       "      <td>1.813213</td>\n",
       "      <td>-0.542055</td>\n",
       "      <td>0.057393</td>\n",
       "      <td>1.010026</td>\n",
       "      <td>-0.771720</td>\n",
       "    </tr>\n",
       "    <tr>\n",
       "      <th>7075380613</th>\n",
       "      <td>2.289303</td>\n",
       "      <td>0.146787</td>\n",
       "      <td>0.165366</td>\n",
       "      <td>0.345773</td>\n",
       "      <td>0.798692</td>\n",
       "      <td>1.715030</td>\n",
       "      <td>-0.397729</td>\n",
       "      <td>0.132051</td>\n",
       "      <td>1.198907</td>\n",
       "      <td>-0.484457</td>\n",
       "    </tr>\n",
       "  </tbody>\n",
       "</table>\n",
       "</div>"
      ],
      "text/plain": [
       "                   0         1         2         3         4         5  \\\n",
       "LISTING_ID                                                               \n",
       "7075306172  0.917307  0.618685  0.192444  0.099921  0.206868  1.907992   \n",
       "7075321793  2.725348  0.182099  0.599635 -0.153622  0.743383  1.879798   \n",
       "7075372720  2.359884  0.124991  0.296978  0.079791  0.647150  1.813236   \n",
       "7075376264  2.359883  0.124993  0.296990  0.079790  0.647147  1.813213   \n",
       "7075380613  2.289303  0.146787  0.165366  0.345773  0.798692  1.715030   \n",
       "\n",
       "                   6         7         8         9  \n",
       "LISTING_ID                                          \n",
       "7075306172 -0.589809  0.425400  0.937936 -0.663455  \n",
       "7075321793 -0.662512  0.086399  1.158547 -0.440024  \n",
       "7075372720 -0.542062  0.057395  1.010028 -0.771719  \n",
       "7075376264 -0.542055  0.057393  1.010026 -0.771720  \n",
       "7075380613 -0.397729  0.132051  1.198907 -0.484457  "
      ]
     },
     "execution_count": 4,
     "metadata": {},
     "output_type": "execute_result"
    }
   ],
   "source": [
    "df.head()"
   ]
  },
  {
   "cell_type": "markdown",
   "id": "ac2abcc1-608b-4994-b3e6-b872b83c125b",
   "metadata": {},
   "source": [
    "#### K-Means"
   ]
  },
  {
   "cell_type": "code",
   "execution_count": null,
   "id": "6f7feaa3-69dd-458d-8cc4-39a671e1d80c",
   "metadata": {},
   "outputs": [],
   "source": [
    "#Determine number of clusters"
   ]
  },
  {
   "cell_type": "code",
   "execution_count": 5,
   "id": "a79a2b92-61ab-44ae-a9e6-82d81a453516",
   "metadata": {},
   "outputs": [],
   "source": [
    "inertia_list = []\n",
    "K = range(1,50)\n",
    "for k in K:\n",
    "    km = KMeans(n_clusters = k, random_state = 33)\n",
    "    km.fit(df)\n",
    "    inertia_list.append(km.inertia_)"
   ]
  },
  {
   "cell_type": "code",
   "execution_count": 6,
   "id": "08a3e616-23e9-4727-abbf-7ff6e0d20c21",
   "metadata": {},
   "outputs": [
    {
     "data": {
      "text/plain": [
       "[<matplotlib.lines.Line2D at 0x21bac5c9340>]"
      ]
     },
     "execution_count": 6,
     "metadata": {},
     "output_type": "execute_result"
    },
    {
     "data": {
      "image/png": "[encoded data removed]",
      "text/plain": [
       "<Figure size 432x288 with 1 Axes>"
      ]
     },
     "metadata": {
      "needs_background": "light"
     },
     "output_type": "display_data"
    }
   ],
   "source": [
    "plt.plot(K, inertia_list)"
   ]
  },
  {
   "cell_type": "code",
   "execution_count": 117,
   "id": "4b6afaee-2546-4fcf-a01c-af7dca9dee75",
   "metadata": {},
   "outputs": [],
   "source": [
    "#### Include Average Silhouette Method and Gap Statistic"
   ]
  },
  {
   "cell_type": "code",
   "execution_count": 7,
   "id": "694e6ea0-7e57-4cc4-8c86-05eea390d0b9",
   "metadata": {},
   "outputs": [
    {
     "data": {
      "text/html": [
       "<div>\n",
       "<style scoped>\n",
       "    .dataframe tbody tr th:only-of-type {\n",
       "        vertical-align: middle;\n",
       "    }\n",
       "\n",
       "    .dataframe tbody tr th {\n",
       "        vertical-align: top;\n",
       "    }\n",
       "\n",
       "    .dataframe thead th {\n",
       "        text-align: right;\n",
       "    }\n",
       "</style>\n",
       "<table border=\"1\" class=\"dataframe\">\n",
       "  <thead>\n",
       "    <tr style=\"text-align: right;\">\n",
       "      <th></th>\n",
       "      <th>0</th>\n",
       "      <th>1</th>\n",
       "      <th>2</th>\n",
       "      <th>3</th>\n",
       "      <th>4</th>\n",
       "      <th>5</th>\n",
       "      <th>6</th>\n",
       "      <th>7</th>\n",
       "      <th>8</th>\n",
       "      <th>9</th>\n",
       "      <th>10</th>\n",
       "      <th>11</th>\n",
       "      <th>12</th>\n",
       "      <th>13</th>\n",
       "      <th>14</th>\n",
       "    </tr>\n",
       "  </thead>\n",
       "  <tbody>\n",
       "    <tr>\n",
       "      <th>0</th>\n",
       "      <td>3.648924</td>\n",
       "      <td>4.241990</td>\n",
       "      <td>3.048205</td>\n",
       "      <td>4.430072</td>\n",
       "      <td>24.858670</td>\n",
       "      <td>2.682690</td>\n",
       "      <td>3.339635</td>\n",
       "      <td>2.169100</td>\n",
       "      <td>3.439565</td>\n",
       "      <td>4.742870</td>\n",
       "      <td>3.766068</td>\n",
       "      <td>4.052204</td>\n",
       "      <td>3.565595</td>\n",
       "      <td>3.814753</td>\n",
       "      <td>3.710023</td>\n",
       "    </tr>\n",
       "    <tr>\n",
       "      <th>1</th>\n",
       "      <td>4.803323</td>\n",
       "      <td>5.432603</td>\n",
       "      <td>4.503983</td>\n",
       "      <td>5.700085</td>\n",
       "      <td>24.243139</td>\n",
       "      <td>2.591405</td>\n",
       "      <td>3.685421</td>\n",
       "      <td>2.603076</td>\n",
       "      <td>4.777662</td>\n",
       "      <td>3.269062</td>\n",
       "      <td>5.030195</td>\n",
       "      <td>5.466734</td>\n",
       "      <td>4.397108</td>\n",
       "      <td>3.384919</td>\n",
       "      <td>5.012131</td>\n",
       "    </tr>\n",
       "    <tr>\n",
       "      <th>2</th>\n",
       "      <td>4.434176</td>\n",
       "      <td>4.923839</td>\n",
       "      <td>4.111875</td>\n",
       "      <td>5.337337</td>\n",
       "      <td>24.268373</td>\n",
       "      <td>2.403505</td>\n",
       "      <td>3.454656</td>\n",
       "      <td>2.324600</td>\n",
       "      <td>4.411300</td>\n",
       "      <td>3.403873</td>\n",
       "      <td>4.797078</td>\n",
       "      <td>5.231067</td>\n",
       "      <td>4.123636</td>\n",
       "      <td>3.327554</td>\n",
       "      <td>4.642719</td>\n",
       "    </tr>\n",
       "    <tr>\n",
       "      <th>3</th>\n",
       "      <td>4.434163</td>\n",
       "      <td>4.923835</td>\n",
       "      <td>4.111864</td>\n",
       "      <td>5.337324</td>\n",
       "      <td>24.268373</td>\n",
       "      <td>2.403496</td>\n",
       "      <td>3.454640</td>\n",
       "      <td>2.324578</td>\n",
       "      <td>4.411296</td>\n",
       "      <td>3.403862</td>\n",
       "      <td>4.797065</td>\n",
       "      <td>5.231057</td>\n",
       "      <td>4.123622</td>\n",
       "      <td>3.327533</td>\n",
       "      <td>4.642710</td>\n",
       "    </tr>\n",
       "    <tr>\n",
       "      <th>4</th>\n",
       "      <td>4.327786</td>\n",
       "      <td>4.656972</td>\n",
       "      <td>4.055340</td>\n",
       "      <td>5.284371</td>\n",
       "      <td>24.232665</td>\n",
       "      <td>2.435472</td>\n",
       "      <td>3.410037</td>\n",
       "      <td>2.302780</td>\n",
       "      <td>4.378982</td>\n",
       "      <td>3.497437</td>\n",
       "      <td>4.655062</td>\n",
       "      <td>5.300181</td>\n",
       "      <td>4.000247</td>\n",
       "      <td>3.316533</td>\n",
       "      <td>4.591490</td>\n",
       "    </tr>\n",
       "  </tbody>\n",
       "</table>\n",
       "</div>"
      ],
      "text/plain": [
       "         0         1         2         3          4         5         6   \\\n",
       "0  3.648924  4.241990  3.048205  4.430072  24.858670  2.682690  3.339635   \n",
       "1  4.803323  5.432603  4.503983  5.700085  24.243139  2.591405  3.685421   \n",
       "2  4.434176  4.923839  4.111875  5.337337  24.268373  2.403505  3.454656   \n",
       "3  4.434163  4.923835  4.111864  5.337324  24.268373  2.403496  3.454640   \n",
       "4  4.327786  4.656972  4.055340  5.284371  24.232665  2.435472  3.410037   \n",
       "\n",
       "         7         8         9         10        11        12        13  \\\n",
       "0  2.169100  3.439565  4.742870  3.766068  4.052204  3.565595  3.814753   \n",
       "1  2.603076  4.777662  3.269062  5.030195  5.466734  4.397108  3.384919   \n",
       "2  2.324600  4.411300  3.403873  4.797078  5.231067  4.123636  3.327554   \n",
       "3  2.324578  4.411296  3.403862  4.797065  5.231057  4.123622  3.327533   \n",
       "4  2.302780  4.378982  3.497437  4.655062  5.300181  4.000247  3.316533   \n",
       "\n",
       "         14  \n",
       "0  3.710023  \n",
       "1  5.012131  \n",
       "2  4.642719  \n",
       "3  4.642710  \n",
       "4  4.591490  "
      ]
     },
     "execution_count": 7,
     "metadata": {},
     "output_type": "execute_result"
    }
   ],
   "source": [
    "km = KMeans(n_clusters = 15, random_state = 33)\n",
    "km_df = pd.DataFrame(km.fit_transform(df))\n",
    "km_df.head()"
   ]
  },
  {
   "cell_type": "code",
   "execution_count": 10,
   "id": "3845ba13-8b67-4a7e-972e-bb92c5a0ade2",
   "metadata": {},
   "outputs": [
    {
     "data": {
      "text/html": [
       "<div>\n",
       "<style scoped>\n",
       "    .dataframe tbody tr th:only-of-type {\n",
       "        vertical-align: middle;\n",
       "    }\n",
       "\n",
       "    .dataframe tbody tr th {\n",
       "        vertical-align: top;\n",
       "    }\n",
       "\n",
       "    .dataframe thead th {\n",
       "        text-align: right;\n",
       "    }\n",
       "</style>\n",
       "<table border=\"1\" class=\"dataframe\">\n",
       "  <thead>\n",
       "    <tr style=\"text-align: right;\">\n",
       "      <th></th>\n",
       "      <th>0</th>\n",
       "      <th>1</th>\n",
       "      <th>2</th>\n",
       "      <th>3</th>\n",
       "      <th>4</th>\n",
       "      <th>5</th>\n",
       "      <th>6</th>\n",
       "      <th>7</th>\n",
       "      <th>8</th>\n",
       "      <th>9</th>\n",
       "      <th>10</th>\n",
       "      <th>11</th>\n",
       "      <th>12</th>\n",
       "      <th>13</th>\n",
       "      <th>14</th>\n",
       "      <th>Cluster</th>\n",
       "    </tr>\n",
       "    <tr>\n",
       "      <th>LISTING_ID</th>\n",
       "      <th></th>\n",
       "      <th></th>\n",
       "      <th></th>\n",
       "      <th></th>\n",
       "      <th></th>\n",
       "      <th></th>\n",
       "      <th></th>\n",
       "      <th></th>\n",
       "      <th></th>\n",
       "      <th></th>\n",
       "      <th></th>\n",
       "      <th></th>\n",
       "      <th></th>\n",
       "      <th></th>\n",
       "      <th></th>\n",
       "      <th></th>\n",
       "    </tr>\n",
       "  </thead>\n",
       "  <tbody>\n",
       "    <tr>\n",
       "      <th>7075306172</th>\n",
       "      <td>3.648924</td>\n",
       "      <td>4.241990</td>\n",
       "      <td>3.048205</td>\n",
       "      <td>4.430072</td>\n",
       "      <td>24.858670</td>\n",
       "      <td>2.682690</td>\n",
       "      <td>3.339635</td>\n",
       "      <td>2.169100</td>\n",
       "      <td>3.439565</td>\n",
       "      <td>4.742870</td>\n",
       "      <td>3.766068</td>\n",
       "      <td>4.052204</td>\n",
       "      <td>3.565595</td>\n",
       "      <td>3.814753</td>\n",
       "      <td>3.710023</td>\n",
       "      <td>7</td>\n",
       "    </tr>\n",
       "    <tr>\n",
       "      <th>7075321793</th>\n",
       "      <td>4.803323</td>\n",
       "      <td>5.432603</td>\n",
       "      <td>4.503983</td>\n",
       "      <td>5.700085</td>\n",
       "      <td>24.243139</td>\n",
       "      <td>2.591405</td>\n",
       "      <td>3.685421</td>\n",
       "      <td>2.603076</td>\n",
       "      <td>4.777662</td>\n",
       "      <td>3.269062</td>\n",
       "      <td>5.030195</td>\n",
       "      <td>5.466734</td>\n",
       "      <td>4.397108</td>\n",
       "      <td>3.384919</td>\n",
       "      <td>5.012131</td>\n",
       "      <td>5</td>\n",
       "    </tr>\n",
       "    <tr>\n",
       "      <th>7075372720</th>\n",
       "      <td>4.434176</td>\n",
       "      <td>4.923839</td>\n",
       "      <td>4.111875</td>\n",
       "      <td>5.337337</td>\n",
       "      <td>24.268373</td>\n",
       "      <td>2.403505</td>\n",
       "      <td>3.454656</td>\n",
       "      <td>2.324600</td>\n",
       "      <td>4.411300</td>\n",
       "      <td>3.403873</td>\n",
       "      <td>4.797078</td>\n",
       "      <td>5.231067</td>\n",
       "      <td>4.123636</td>\n",
       "      <td>3.327554</td>\n",
       "      <td>4.642719</td>\n",
       "      <td>7</td>\n",
       "    </tr>\n",
       "    <tr>\n",
       "      <th>7075376264</th>\n",
       "      <td>4.434163</td>\n",
       "      <td>4.923835</td>\n",
       "      <td>4.111864</td>\n",
       "      <td>5.337324</td>\n",
       "      <td>24.268373</td>\n",
       "      <td>2.403496</td>\n",
       "      <td>3.454640</td>\n",
       "      <td>2.324578</td>\n",
       "      <td>4.411296</td>\n",
       "      <td>3.403862</td>\n",
       "      <td>4.797065</td>\n",
       "      <td>5.231057</td>\n",
       "      <td>4.123622</td>\n",
       "      <td>3.327533</td>\n",
       "      <td>4.642710</td>\n",
       "      <td>7</td>\n",
       "    </tr>\n",
       "    <tr>\n",
       "      <th>7075380613</th>\n",
       "      <td>4.327786</td>\n",
       "      <td>4.656972</td>\n",
       "      <td>4.055340</td>\n",
       "      <td>5.284371</td>\n",
       "      <td>24.232665</td>\n",
       "      <td>2.435472</td>\n",
       "      <td>3.410037</td>\n",
       "      <td>2.302780</td>\n",
       "      <td>4.378982</td>\n",
       "      <td>3.497437</td>\n",
       "      <td>4.655062</td>\n",
       "      <td>5.300181</td>\n",
       "      <td>4.000247</td>\n",
       "      <td>3.316533</td>\n",
       "      <td>4.591490</td>\n",
       "      <td>7</td>\n",
       "    </tr>\n",
       "  </tbody>\n",
       "</table>\n",
       "</div>"
      ],
      "text/plain": [
       "                   0         1         2         3          4         5  \\\n",
       "LISTING_ID                                                                \n",
       "7075306172  3.648924  4.241990  3.048205  4.430072  24.858670  2.682690   \n",
       "7075321793  4.803323  5.432603  4.503983  5.700085  24.243139  2.591405   \n",
       "7075372720  4.434176  4.923839  4.111875  5.337337  24.268373  2.403505   \n",
       "7075376264  4.434163  4.923835  4.111864  5.337324  24.268373  2.403496   \n",
       "7075380613  4.327786  4.656972  4.055340  5.284371  24.232665  2.435472   \n",
       "\n",
       "                   6         7         8         9        10        11  \\\n",
       "LISTING_ID                                                               \n",
       "7075306172  3.339635  2.169100  3.439565  4.742870  3.766068  4.052204   \n",
       "7075321793  3.685421  2.603076  4.777662  3.269062  5.030195  5.466734   \n",
       "7075372720  3.454656  2.324600  4.411300  3.403873  4.797078  5.231067   \n",
       "7075376264  3.454640  2.324578  4.411296  3.403862  4.797065  5.231057   \n",
       "7075380613  3.410037  2.302780  4.378982  3.497437  4.655062  5.300181   \n",
       "\n",
       "                  12        13        14  Cluster  \n",
       "LISTING_ID                                         \n",
       "7075306172  3.565595  3.814753  3.710023        7  \n",
       "7075321793  4.397108  3.384919  5.012131        5  \n",
       "7075372720  4.123636  3.327554  4.642719        7  \n",
       "7075376264  4.123622  3.327533  4.642710        7  \n",
       "7075380613  4.000247  3.316533  4.591490        7  "
      ]
     },
     "execution_count": 10,
     "metadata": {},
     "output_type": "execute_result"
    }
   ],
   "source": [
    "km_df.set_index(df.index, inplace = True)\n",
    "km_df['Cluster'] = km.labels_\n",
    "km_df.head()"
   ]
  },
  {
   "cell_type": "code",
   "execution_count": 11,
   "id": "a5afc215-11bf-4964-961a-5887123b8fb8",
   "metadata": {},
   "outputs": [
    {
     "data": {
      "text/plain": [
       "<BarContainer object of 15 artists>"
      ]
     },
     "execution_count": 11,
     "metadata": {},
     "output_type": "execute_result"
    },
    {
     "data": {
      "image/png": "[encoded data removed]",
      "text/plain": [
       "<Figure size 432x288 with 1 Axes>"
      ]
     },
     "metadata": {
      "needs_background": "light"
     },
     "output_type": "display_data"
    }
   ],
   "source": [
    "plt.bar(km_df.Cluster.value_counts().index, km_df.Cluster.value_counts())"
   ]
  },
  {
   "cell_type": "markdown",
   "id": "122a0fbd-da4e-4c71-8e7b-d0718a8ddee2",
   "metadata": {},
   "source": [
    "#### DBSCAN"
   ]
  },
  {
   "cell_type": "code",
   "execution_count": 33,
   "id": "b39c37c1-87b0-4435-a0c7-13a64870f094",
   "metadata": {},
   "outputs": [
    {
     "data": {
      "text/plain": [
       "DBSCAN(eps=0.7, min_samples=100)"
      ]
     },
     "execution_count": 33,
     "metadata": {},
     "output_type": "execute_result"
    }
   ],
   "source": [
    "db = DBSCAN(eps=0.7, min_samples=100)\n",
    "db.fit(X)"
   ]
  },
  {
   "cell_type": "code",
   "execution_count": 34,
   "id": "d8dcaeca-87a0-4a95-9e4d-72b8411e6be4",
   "metadata": {},
   "outputs": [
    {
     "data": {
      "text/plain": [
       "<BarContainer object of 5 artists>"
      ]
     },
     "execution_count": 34,
     "metadata": {},
     "output_type": "execute_result"
    },
    {
     "data": {
      "image/png": "[encoded data removed]",
      "text/plain": [
       "<Figure size 432x288 with 1 Axes>"
      ]
     },
     "metadata": {
      "needs_background": "light"
     },
     "output_type": "display_data"
    }
   ],
   "source": [
    "db_label_counts = pd.Series(db.labels_).value_counts().sort_index()\n",
    "plt.bar(db_label_counts.index, db_label_counts)"
   ]
  }
 ],
 "metadata": {
  "kernelspec": {
   "display_name": "Python 3",
   "language": "python",
   "name": "python3"
  },
  "language_info": {
   "codemirror_mode": {
    "name": "ipython",
    "version": 3
   },
   "file_extension": ".py",
   "mimetype": "text/x-python",
   "name": "python",
   "nbconvert_exporter": "python",
   "pygments_lexer": "ipython3",
   "version": "3.8.10"
  }
 },
 "nbformat": 4,
 "nbformat_minor": 5
}
