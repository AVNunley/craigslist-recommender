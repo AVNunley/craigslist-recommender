{
 "cells": [
  {
   "cell_type": "code",
   "execution_count": 1,
   "id": "e635280e-735a-4723-bda9-179452e4967c",
   "metadata": {},
   "outputs": [],
   "source": [
    "import nltk\n",
    "import pandas as pd\n",
    "import numpy as np\n",
    "import matplotlib.pyplot as plt\n",
    "from sklearn.feature_extraction.text import TfidfVectorizer\n",
    "from sklearn.cluster import KMeans, AgglomerativeClustering, DBSCAN\n",
    "from sklearn.preprocessing import StandardScaler\n",
    "from sklearn.decomposition import TruncatedSVD\n",
    "from scipy.sparse import hstack\n",
    "from gensim import parsing"
   ]
  },
  {
   "cell_type": "code",
   "execution_count": 2,
   "id": "4e54cefe-0734-440c-8a54-8af3ef39f419",
   "metadata": {},
   "outputs": [],
   "source": [
    "#Instantiate and setup DataFrame\n",
    "df = pd.read_csv('..\\\\data\\\\X.csv')\n",
    "df.set_index('LISTING_ID', inplace = True, drop = True)"
   ]
  },
  {
   "cell_type": "code",
   "execution_count": 4,
   "id": "512052cd-c447-43c8-bf04-bfeb9000d073",
   "metadata": {},
   "outputs": [
    {
     "data": {
      "text/html": [
       "<div>\n",
       "<style scoped>\n",
       "    .dataframe tbody tr th:only-of-type {\n",
       "        vertical-align: middle;\n",
       "    }\n",
       "\n",
       "    .dataframe tbody tr th {\n",
       "        vertical-align: top;\n",
       "    }\n",
       "\n",
       "    .dataframe thead th {\n",
       "        text-align: right;\n",
       "    }\n",
       "</style>\n",
       "<table border=\"1\" class=\"dataframe\">\n",
       "  <thead>\n",
       "    <tr style=\"text-align: right;\">\n",
       "      <th></th>\n",
       "      <th>0</th>\n",
       "      <th>1</th>\n",
       "      <th>2</th>\n",
       "      <th>3</th>\n",
       "      <th>4</th>\n",
       "      <th>5</th>\n",
       "      <th>6</th>\n",
       "      <th>7</th>\n",
       "      <th>8</th>\n",
       "      <th>9</th>\n",
       "    </tr>\n",
       "    <tr>\n",
       "      <th>LISTING_ID</th>\n",
       "      <th></th>\n",
       "      <th></th>\n",
       "      <th></th>\n",
       "      <th></th>\n",
       "      <th></th>\n",
       "      <th></th>\n",
       "      <th></th>\n",
       "      <th></th>\n",
       "      <th></th>\n",
       "      <th></th>\n",
       "    </tr>\n",
       "  </thead>\n",
       "  <tbody>\n",
       "    <tr>\n",
       "      <th>7075306172</th>\n",
       "      <td>0.917307</td>\n",
       "      <td>0.618685</td>\n",
       "      <td>0.192444</td>\n",
       "      <td>0.099921</td>\n",
       "      <td>0.206868</td>\n",
       "      <td>1.907992</td>\n",
       "      <td>-0.589809</td>\n",
       "      <td>0.425400</td>\n",
       "      <td>0.937936</td>\n",
       "      <td>-0.663455</td>\n",
       "    </tr>\n",
       "    <tr>\n",
       "      <th>7075321793</th>\n",
       "      <td>2.725348</td>\n",
       "      <td>0.182099</td>\n",
       "      <td>0.599635</td>\n",
       "      <td>-0.153622</td>\n",
       "      <td>0.743383</td>\n",
       "      <td>1.879798</td>\n",
       "      <td>-0.662512</td>\n",
       "      <td>0.086399</td>\n",
       "      <td>1.158547</td>\n",
       "      <td>-0.440024</td>\n",
       "    </tr>\n",
       "    <tr>\n",
       "      <th>7075372720</th>\n",
       "      <td>2.359884</td>\n",
       "      <td>0.124991</td>\n",
       "      <td>0.296978</td>\n",
       "      <td>0.079791</td>\n",
       "      <td>0.647150</td>\n",
       "      <td>1.813236</td>\n",
       "      <td>-0.542062</td>\n",
       "      <td>0.057395</td>\n",
       "      <td>1.010028</td>\n",
       "      <td>-0.771719</td>\n",
       "    </tr>\n",
       "    <tr>\n",
       "      <th>7075376264</th>\n",
       "      <td>2.359883</td>\n",
       "      <td>0.124993</td>\n",
       "      <td>0.296990</td>\n",
       "      <td>0.079790</td>\n",
       "      <td>0.647147</td>\n",
       "      <td>1.813213</td>\n",
       "      <td>-0.542055</td>\n",
       "      <td>0.057393</td>\n",
       "      <td>1.010026</td>\n",
       "      <td>-0.771720</td>\n",
       "    </tr>\n",
       "    <tr>\n",
       "      <th>7075380613</th>\n",
       "      <td>2.289303</td>\n",
       "      <td>0.146787</td>\n",
       "      <td>0.165366</td>\n",
       "      <td>0.345773</td>\n",
       "      <td>0.798692</td>\n",
       "      <td>1.715030</td>\n",
       "      <td>-0.397729</td>\n",
       "      <td>0.132051</td>\n",
       "      <td>1.198907</td>\n",
       "      <td>-0.484457</td>\n",
       "    </tr>\n",
       "  </tbody>\n",
       "</table>\n",
       "</div>"
      ],
      "text/plain": [
       "                   0         1         2         3         4         5  \\\n",
       "LISTING_ID                                                               \n",
       "7075306172  0.917307  0.618685  0.192444  0.099921  0.206868  1.907992   \n",
       "7075321793  2.725348  0.182099  0.599635 -0.153622  0.743383  1.879798   \n",
       "7075372720  2.359884  0.124991  0.296978  0.079791  0.647150  1.813236   \n",
       "7075376264  2.359883  0.124993  0.296990  0.079790  0.647147  1.813213   \n",
       "7075380613  2.289303  0.146787  0.165366  0.345773  0.798692  1.715030   \n",
       "\n",
       "                   6         7         8         9  \n",
       "LISTING_ID                                          \n",
       "7075306172 -0.589809  0.425400  0.937936 -0.663455  \n",
       "7075321793 -0.662512  0.086399  1.158547 -0.440024  \n",
       "7075372720 -0.542062  0.057395  1.010028 -0.771719  \n",
       "7075376264 -0.542055  0.057393  1.010026 -0.771720  \n",
       "7075380613 -0.397729  0.132051  1.198907 -0.484457  "
      ]
     },
     "execution_count": 4,
     "metadata": {},
     "output_type": "execute_result"
    }
   ],
   "source": [
    "df.head()"
   ]
  },
  {
   "cell_type": "markdown",
   "id": "ac2abcc1-608b-4994-b3e6-b872b83c125b",
   "metadata": {},
   "source": [
    "#### K-Means"
   ]
  },
  {
   "cell_type": "code",
   "execution_count": null,
   "id": "6f7feaa3-69dd-458d-8cc4-39a671e1d80c",
   "metadata": {},
   "outputs": [],
   "source": [
    "#Determine number of clusters"
   ]
  },
  {
   "cell_type": "code",
   "execution_count": null,
   "id": "a79a2b92-61ab-44ae-a9e6-82d81a453516",
   "metadata": {},
   "outputs": [],
   "source": [
    "inertia_list = []\n",
    "K = range(1,50)\n",
    "for k in K:\n",
    "    km = KMeans(n_clusters = k, random_state = 33)\n",
    "    km.fit(df)\n",
    "    inertia_list.append(km.inertia_)"
   ]
  },
  {
   "cell_type": "code",
   "execution_count": null,
   "id": "08a3e616-23e9-4727-abbf-7ff6e0d20c21",
   "metadata": {},
   "outputs": [],
   "source": [
    "plt.plot(K, inertia_list)"
   ]
  },
  {
   "cell_type": "code",
   "execution_count": 117,
   "id": "4b6afaee-2546-4fcf-a01c-af7dca9dee75",
   "metadata": {},
   "outputs": [],
   "source": [
    "#### Include Average Silhouette Method and Gap Statistic"
   ]
  },
  {
   "cell_type": "code",
   "execution_count": 41,
   "id": "694e6ea0-7e57-4cc4-8c86-05eea390d0b9",
   "metadata": {},
   "outputs": [
    {
     "data": {
      "text/html": [
       "<div>\n",
       "<style scoped>\n",
       "    .dataframe tbody tr th:only-of-type {\n",
       "        vertical-align: middle;\n",
       "    }\n",
       "\n",
       "    .dataframe tbody tr th {\n",
       "        vertical-align: top;\n",
       "    }\n",
       "\n",
       "    .dataframe thead th {\n",
       "        text-align: right;\n",
       "    }\n",
       "</style>\n",
       "<table border=\"1\" class=\"dataframe\">\n",
       "  <thead>\n",
       "    <tr style=\"text-align: right;\">\n",
       "      <th></th>\n",
       "      <th>0</th>\n",
       "      <th>1</th>\n",
       "      <th>2</th>\n",
       "      <th>3</th>\n",
       "      <th>4</th>\n",
       "      <th>5</th>\n",
       "      <th>6</th>\n",
       "      <th>7</th>\n",
       "      <th>8</th>\n",
       "      <th>9</th>\n",
       "    </tr>\n",
       "  </thead>\n",
       "  <tbody>\n",
       "    <tr>\n",
       "      <th>0</th>\n",
       "      <td>2.448714</td>\n",
       "      <td>2.117872</td>\n",
       "      <td>0.513867</td>\n",
       "      <td>4.100073</td>\n",
       "      <td>2.427687</td>\n",
       "      <td>2.403172</td>\n",
       "      <td>2.640018</td>\n",
       "      <td>2.058338</td>\n",
       "      <td>2.309617</td>\n",
       "      <td>2.862813</td>\n",
       "    </tr>\n",
       "    <tr>\n",
       "      <th>1</th>\n",
       "      <td>2.561005</td>\n",
       "      <td>2.173200</td>\n",
       "      <td>0.789541</td>\n",
       "      <td>4.480448</td>\n",
       "      <td>2.473455</td>\n",
       "      <td>2.175799</td>\n",
       "      <td>2.652662</td>\n",
       "      <td>2.147726</td>\n",
       "      <td>2.339516</td>\n",
       "      <td>3.175165</td>\n",
       "    </tr>\n",
       "    <tr>\n",
       "      <th>2</th>\n",
       "      <td>2.533206</td>\n",
       "      <td>2.115958</td>\n",
       "      <td>0.670137</td>\n",
       "      <td>4.185687</td>\n",
       "      <td>2.374812</td>\n",
       "      <td>2.384700</td>\n",
       "      <td>2.555280</td>\n",
       "      <td>2.088395</td>\n",
       "      <td>2.359840</td>\n",
       "      <td>2.945102</td>\n",
       "    </tr>\n",
       "    <tr>\n",
       "      <th>3</th>\n",
       "      <td>2.533206</td>\n",
       "      <td>2.115958</td>\n",
       "      <td>0.670137</td>\n",
       "      <td>4.185687</td>\n",
       "      <td>2.374812</td>\n",
       "      <td>2.384700</td>\n",
       "      <td>2.555280</td>\n",
       "      <td>2.088395</td>\n",
       "      <td>2.359840</td>\n",
       "      <td>2.945102</td>\n",
       "    </tr>\n",
       "    <tr>\n",
       "      <th>4</th>\n",
       "      <td>2.555843</td>\n",
       "      <td>2.106722</td>\n",
       "      <td>0.707708</td>\n",
       "      <td>3.897036</td>\n",
       "      <td>2.310134</td>\n",
       "      <td>2.621148</td>\n",
       "      <td>2.484905</td>\n",
       "      <td>2.081358</td>\n",
       "      <td>2.430263</td>\n",
       "      <td>2.737245</td>\n",
       "    </tr>\n",
       "  </tbody>\n",
       "</table>\n",
       "</div>"
      ],
      "text/plain": [
       "          0         1         2         3         4         5         6  \\\n",
       "0  2.448714  2.117872  0.513867  4.100073  2.427687  2.403172  2.640018   \n",
       "1  2.561005  2.173200  0.789541  4.480448  2.473455  2.175799  2.652662   \n",
       "2  2.533206  2.115958  0.670137  4.185687  2.374812  2.384700  2.555280   \n",
       "3  2.533206  2.115958  0.670137  4.185687  2.374812  2.384700  2.555280   \n",
       "4  2.555843  2.106722  0.707708  3.897036  2.310134  2.621148  2.484905   \n",
       "\n",
       "          7         8         9  \n",
       "0  2.058338  2.309617  2.862813  \n",
       "1  2.147726  2.339516  3.175165  \n",
       "2  2.088395  2.359840  2.945102  \n",
       "3  2.088395  2.359840  2.945102  \n",
       "4  2.081358  2.430263  2.737245  "
      ]
     },
     "execution_count": 41,
     "metadata": {},
     "output_type": "execute_result"
    }
   ],
   "source": [
    "km = KMeans(n_clusters = , random_state = 33)\n",
    "km_df = pd.DataFrame(km.fit_transform(df))\n",
    "km_df.head()"
   ]
  },
  {
   "cell_type": "code",
   "execution_count": 42,
   "id": "3845ba13-8b67-4a7e-972e-bb92c5a0ade2",
   "metadata": {},
   "outputs": [
    {
     "data": {
      "text/html": [
       "<div>\n",
       "<style scoped>\n",
       "    .dataframe tbody tr th:only-of-type {\n",
       "        vertical-align: middle;\n",
       "    }\n",
       "\n",
       "    .dataframe tbody tr th {\n",
       "        vertical-align: top;\n",
       "    }\n",
       "\n",
       "    .dataframe thead th {\n",
       "        text-align: right;\n",
       "    }\n",
       "</style>\n",
       "<table border=\"1\" class=\"dataframe\">\n",
       "  <thead>\n",
       "    <tr style=\"text-align: right;\">\n",
       "      <th></th>\n",
       "      <th>0</th>\n",
       "      <th>1</th>\n",
       "      <th>2</th>\n",
       "      <th>3</th>\n",
       "      <th>4</th>\n",
       "      <th>5</th>\n",
       "      <th>6</th>\n",
       "      <th>7</th>\n",
       "      <th>8</th>\n",
       "      <th>9</th>\n",
       "      <th>Cluster</th>\n",
       "    </tr>\n",
       "    <tr>\n",
       "      <th>LISTING_ID</th>\n",
       "      <th></th>\n",
       "      <th></th>\n",
       "      <th></th>\n",
       "      <th></th>\n",
       "      <th></th>\n",
       "      <th></th>\n",
       "      <th></th>\n",
       "      <th></th>\n",
       "      <th></th>\n",
       "      <th></th>\n",
       "      <th></th>\n",
       "    </tr>\n",
       "  </thead>\n",
       "  <tbody>\n",
       "    <tr>\n",
       "      <th>7075306172</th>\n",
       "      <td>2.448714</td>\n",
       "      <td>2.117872</td>\n",
       "      <td>0.513867</td>\n",
       "      <td>4.100073</td>\n",
       "      <td>2.427687</td>\n",
       "      <td>2.403172</td>\n",
       "      <td>2.640018</td>\n",
       "      <td>2.058338</td>\n",
       "      <td>2.309617</td>\n",
       "      <td>2.862813</td>\n",
       "      <td>2</td>\n",
       "    </tr>\n",
       "    <tr>\n",
       "      <th>7075321793</th>\n",
       "      <td>2.561005</td>\n",
       "      <td>2.173200</td>\n",
       "      <td>0.789541</td>\n",
       "      <td>4.480448</td>\n",
       "      <td>2.473455</td>\n",
       "      <td>2.175799</td>\n",
       "      <td>2.652662</td>\n",
       "      <td>2.147726</td>\n",
       "      <td>2.339516</td>\n",
       "      <td>3.175165</td>\n",
       "      <td>2</td>\n",
       "    </tr>\n",
       "    <tr>\n",
       "      <th>7075372720</th>\n",
       "      <td>2.533206</td>\n",
       "      <td>2.115958</td>\n",
       "      <td>0.670137</td>\n",
       "      <td>4.185687</td>\n",
       "      <td>2.374812</td>\n",
       "      <td>2.384700</td>\n",
       "      <td>2.555280</td>\n",
       "      <td>2.088395</td>\n",
       "      <td>2.359840</td>\n",
       "      <td>2.945102</td>\n",
       "      <td>2</td>\n",
       "    </tr>\n",
       "    <tr>\n",
       "      <th>7075376264</th>\n",
       "      <td>2.533206</td>\n",
       "      <td>2.115958</td>\n",
       "      <td>0.670137</td>\n",
       "      <td>4.185687</td>\n",
       "      <td>2.374812</td>\n",
       "      <td>2.384700</td>\n",
       "      <td>2.555280</td>\n",
       "      <td>2.088395</td>\n",
       "      <td>2.359840</td>\n",
       "      <td>2.945102</td>\n",
       "      <td>2</td>\n",
       "    </tr>\n",
       "    <tr>\n",
       "      <th>7075380613</th>\n",
       "      <td>2.555843</td>\n",
       "      <td>2.106722</td>\n",
       "      <td>0.707708</td>\n",
       "      <td>3.897036</td>\n",
       "      <td>2.310134</td>\n",
       "      <td>2.621148</td>\n",
       "      <td>2.484905</td>\n",
       "      <td>2.081358</td>\n",
       "      <td>2.430263</td>\n",
       "      <td>2.737245</td>\n",
       "      <td>2</td>\n",
       "    </tr>\n",
       "  </tbody>\n",
       "</table>\n",
       "</div>"
      ],
      "text/plain": [
       "                   0         1         2         3         4         5  \\\n",
       "LISTING_ID                                                               \n",
       "7075306172  2.448714  2.117872  0.513867  4.100073  2.427687  2.403172   \n",
       "7075321793  2.561005  2.173200  0.789541  4.480448  2.473455  2.175799   \n",
       "7075372720  2.533206  2.115958  0.670137  4.185687  2.374812  2.384700   \n",
       "7075376264  2.533206  2.115958  0.670137  4.185687  2.374812  2.384700   \n",
       "7075380613  2.555843  2.106722  0.707708  3.897036  2.310134  2.621148   \n",
       "\n",
       "                   6         7         8         9  Cluster  \n",
       "LISTING_ID                                                   \n",
       "7075306172  2.640018  2.058338  2.309617  2.862813        2  \n",
       "7075321793  2.652662  2.147726  2.339516  3.175165        2  \n",
       "7075372720  2.555280  2.088395  2.359840  2.945102        2  \n",
       "7075376264  2.555280  2.088395  2.359840  2.945102        2  \n",
       "7075380613  2.484905  2.081358  2.430263  2.737245        2  "
      ]
     },
     "execution_count": 42,
     "metadata": {},
     "output_type": "execute_result"
    }
   ],
   "source": [
    "km_df.set_index(features_unscaled.index, inplace = True)\n",
    "km_df['Cluster'] = km.labels_\n",
    "km_df.head()"
   ]
  },
  {
   "cell_type": "code",
   "execution_count": 43,
   "id": "a5afc215-11bf-4964-961a-5887123b8fb8",
   "metadata": {},
   "outputs": [
    {
     "data": {
      "text/plain": [
       "<BarContainer object of 10 artists>"
      ]
     },
     "execution_count": 43,
     "metadata": {},
     "output_type": "execute_result"
    },
    {
     "data": {
      "image/png": "[encoded data removed]",
      "text/plain": [
       "<Figure size 432x288 with 1 Axes>"
      ]
     },
     "metadata": {
      "needs_background": "light"
     },
     "output_type": "display_data"
    }
   ],
   "source": [
    "plt.bar(km_df.Cluster.value_counts().index, km_df.Cluster.value_counts())"
   ]
  },
  {
   "cell_type": "markdown",
   "id": "122a0fbd-da4e-4c71-8e7b-d0718a8ddee2",
   "metadata": {},
   "source": [
    "#### DBSCAN"
   ]
  },
  {
   "cell_type": "code",
   "execution_count": 33,
   "id": "b39c37c1-87b0-4435-a0c7-13a64870f094",
   "metadata": {},
   "outputs": [
    {
     "data": {
      "text/plain": [
       "DBSCAN(eps=0.7, min_samples=100)"
      ]
     },
     "execution_count": 33,
     "metadata": {},
     "output_type": "execute_result"
    }
   ],
   "source": [
    "db = DBSCAN(eps=0.7, min_samples=100)\n",
    "db.fit(X)"
   ]
  },
  {
   "cell_type": "code",
   "execution_count": 34,
   "id": "d8dcaeca-87a0-4a95-9e4d-72b8411e6be4",
   "metadata": {},
   "outputs": [
    {
     "data": {
      "text/plain": [
       "<BarContainer object of 5 artists>"
      ]
     },
     "execution_count": 34,
     "metadata": {},
     "output_type": "execute_result"
    },
    {
     "data": {
      "image/png": "[encoded data removed]",
      "text/plain": [
       "<Figure size 432x288 with 1 Axes>"
      ]
     },
     "metadata": {
      "needs_background": "light"
     },
     "output_type": "display_data"
    }
   ],
   "source": [
    "db_label_counts = pd.Series(db.labels_).value_counts().sort_index()\n",
    "plt.bar(db_label_counts.index, db_label_counts)"
   ]
  }
 ],
 "metadata": {
  "kernelspec": {
   "display_name": "Python 3",
   "language": "python",
   "name": "python3"
  },
  "language_info": {
   "codemirror_mode": {
    "name": "ipython",
    "version": 3
   },
   "file_extension": ".py",
   "mimetype": "text/x-python",
   "name": "python",
   "nbconvert_exporter": "python",
   "pygments_lexer": "ipython3",
   "version": "3.8.10"
  }
 },
 "nbformat": 4,
 "nbformat_minor": 5
}
