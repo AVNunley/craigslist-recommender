{
 "cells": [
  {
   "cell_type": "code",
   "execution_count": 1,
   "id": "e635280e-735a-4723-bda9-179452e4967c",
   "metadata": {},
   "outputs": [],
   "source": [
    "import nltk, re\n",
    "import pandas as pd\n",
    "import numpy as np\n",
    "import matplotlib.pyplot as plt\n",
    "import seaborn as sns\n",
    "from sklearn.feature_extraction.text import TfidfVectorizer, CountVectorizer\n",
    "from sklearn.cluster import KMeans\n",
    "from scipy import stats\n",
    "from gensim import parsing\n",
    "\n",
    "sns.set_context('talk')"
   ]
  },
  {
   "cell_type": "code",
   "execution_count": 2,
   "id": "3139f643-b8c0-4a86-9b3c-a83bd839ef0b",
   "metadata": {},
   "outputs": [
    {
     "data": {
      "text/plain": [
       "5    PROPERTY INFO ID: 9826244Rent: 2450 / MonthBed...\n",
       "6    Lovely, large one bedroom apartment in an attr...\n",
       "7    Privately situated, ocean view cottage steps a...\n",
       "8    PROPERTY INFO ID: 71165240Rent: 2723 / MonthBe...\n",
       "9    EDGARTOWN VILLAGE - Condominium living! A deli...\n",
       "Name: BODY, dtype: object"
      ]
     },
     "execution_count": 2,
     "metadata": {},
     "output_type": "execute_result"
    }
   ],
   "source": [
    "#Instantiate DataFrame of wrangled data\n",
    "df = pd.read_csv('..\\\\data\\\\full_features.csv')\n",
    "df.BODY[5:10]"
   ]
  },
  {
   "cell_type": "markdown",
   "id": "ddb7a506-87e1-438d-833b-7e2d8ab7edef",
   "metadata": {},
   "source": [
    "#### Now, the 'BODY' feature will be vectorized."
   ]
  },
  {
   "cell_type": "code",
   "execution_count": 3,
   "id": "c3acb1df-cdb7-4e9b-90b0-1f238e01aef7",
   "metadata": {},
   "outputs": [],
   "source": [
    "#The gensim.parsing.preprocess_documents() function tokenizes and stems a pandas Series\n",
    "preprocessed_text = parsing.preprocess_documents(df.BODY)"
   ]
  },
  {
   "cell_type": "code",
   "execution_count": 4,
   "id": "a92ae1f6-f970-4441-9e27-59eb294ec157",
   "metadata": {},
   "outputs": [
    {
     "data": {
      "text/plain": [
       "0    properti info rent monthb bath avail date pet ...\n",
       "1    properti info rent monthb bath avail date nowp...\n",
       "2    properti info rent monthb bath avail date pet ...\n",
       "3    properti info rent monthb bath avail date pet ...\n",
       "4    properti info rent monthb bath avail date nowp...\n",
       "Name: BODY_PREPROCESSED, dtype: object"
      ]
     },
     "execution_count": 4,
     "metadata": {},
     "output_type": "execute_result"
    }
   ],
   "source": [
    "df['BODY_PREPROCESSED'] = [' '.join(word) for word in preprocessed_text]\n",
    "df.BODY_PREPROCESSED.head()"
   ]
  },
  {
   "cell_type": "code",
   "execution_count": 9,
   "id": "4551c942-9170-473e-a26f-9dc2b47b3514",
   "metadata": {},
   "outputs": [],
   "source": [
    "# Possible Future PreProcessing: Remove HTML/XML tags, Replace accented characters, Correct Spelling Errors"
   ]
  },
  {
   "cell_type": "code",
   "execution_count": 5,
   "id": "dbef14cf-42d0-4577-8eff-248bf9a2a5a8",
   "metadata": {
    "tags": []
   },
   "outputs": [
    {
     "data": {
      "text/plain": [
       "(126358, 70291)"
      ]
     },
     "execution_count": 5,
     "metadata": {},
     "output_type": "execute_result"
    }
   ],
   "source": [
    "bow_vectorizer = CountVectorizer(stop_words = 'english')\n",
    "bow_matrix = bow_vectorizer.fit_transform(df.BODY)\n",
    "bow_matrix.shape"
   ]
  },
  {
   "cell_type": "code",
   "execution_count": 6,
   "id": "ad464df3-39a5-4e8b-9569-537e426cbd91",
   "metadata": {},
   "outputs": [],
   "source": [
    "word_count = pd.DataFrame(bow_matrix.sum(axis = 0).T)\n",
    "word_count.index = bow_vectorizer.get_feature_names()\n",
    "word_count.columns = ['Count']\n",
    "word_count.sort_values(by = 'Count', inplace = True, ascending = False)"
   ]
  },
  {
   "cell_type": "code",
   "execution_count": 7,
   "id": "6682ba93-5524-4dfa-a78b-84bb93d444c8",
   "metadata": {},
   "outputs": [
    {
     "data": {
      "text/plain": [
       "<function matplotlib.pyplot.show(close=None, block=None)>"
      ]
     },
     "execution_count": 7,
     "metadata": {},
     "output_type": "execute_result"
    },
    {
     "data": {
      "image/png": "[encoded data removed]",
      "text/plain": [
       "<Figure size 432x288 with 1 Axes>"
      ]
     },
     "metadata": {
      "needs_background": "light"
     },
     "output_type": "display_data"
    }
   ],
   "source": [
    "plt.bar(word_count[:25].index, word_count[:25].Count)\n",
    "plt.xticks(rotation = 90)\n",
    "plt.title('Most common words in dataset')\n",
    "plt.show"
   ]
  },
  {
   "cell_type": "markdown",
   "id": "e362c492-6bfd-441f-bf7a-16781fc802fd",
   "metadata": {},
   "source": [
    "#### The most common words are as expected for a set of real estate listings in Massachusetts.\n",
    "\n",
    "#### A more complex vectorization such as tf-idf can prevent these words from dominating models and similarity measures."
   ]
  },
  {
   "cell_type": "code",
   "execution_count": 8,
   "id": "4f267cf6-9ca0-4a5b-a4c7-e45059297ab8",
   "metadata": {},
   "outputs": [
    {
     "data": {
      "text/plain": [
       "(126358, 37899)"
      ]
     },
     "execution_count": 8,
     "metadata": {},
     "output_type": "execute_result"
    }
   ],
   "source": [
    "tfidf_vectorizer = TfidfVectorizer(stop_words = 'english', min_df = 2, max_df = 0.7)\n",
    "tfidf_matrix = tfidf_vectorizer.fit_transform(df.BODY)\n",
    "tfidf_matrix.shape"
   ]
  },
  {
   "cell_type": "markdown",
   "id": "1d492d98-4b7d-45e7-a02c-9934b0da25c4",
   "metadata": {},
   "source": [
    "#### The 'BODY' column is now vectorized and ready to be processed by statistical models"
   ]
  },
  {
   "cell_type": "code",
   "execution_count": null,
   "id": "036485a5-3a40-4216-a09e-2e5baf52396e",
   "metadata": {},
   "outputs": [],
   "source": []
  }
 ],
 "metadata": {
  "kernelspec": {
   "display_name": "Python 3",
   "language": "python",
   "name": "python3"
  },
  "language_info": {
   "codemirror_mode": {
    "name": "ipython",
    "version": 3
   },
   "file_extension": ".py",
   "mimetype": "text/x-python",
   "name": "python",
   "nbconvert_exporter": "python",
   "pygments_lexer": "ipython3",
   "version": "3.8.10"
  }
 },
 "nbformat": 4,
 "nbformat_minor": 5
}
