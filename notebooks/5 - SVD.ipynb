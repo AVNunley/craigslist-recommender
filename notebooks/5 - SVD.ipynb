{
 "cells": [
  {
   "cell_type": "code",
   "execution_count": 5,
   "id": "e635280e-735a-4723-bda9-179452e4967c",
   "metadata": {},
   "outputs": [],
   "source": [
    "import nltk\n",
    "import pandas as pd\n",
    "import numpy as np\n",
    "import matplotlib.pyplot as plt\n",
    "from sklearn.feature_extraction.text import TfidfVectorizer\n",
    "from sklearn.cluster import KMeans, AgglomerativeClustering, DBSCAN\n",
    "from sklearn.preprocessing import StandardScaler\n",
    "from sklearn.decomposition import TruncatedSVD\n",
    "from scipy.sparse import hstack\n",
    "from gensim import parsing"
   ]
  },
  {
   "cell_type": "code",
   "execution_count": 3,
   "id": "4e54cefe-0734-440c-8a54-8af3ef39f419",
   "metadata": {},
   "outputs": [],
   "source": [
    "#Instantiate and setup DataFrame\n",
    "df = pd.read_csv('..\\\\data\\\\full_features.csv')\n",
    "df.set_index('LISTING_ID', inplace = True, drop = True)"
   ]
  },
  {
   "cell_type": "code",
   "execution_count": 6,
   "id": "f451bfe3-4703-4205-9659-72e922cc28f5",
   "metadata": {
    "tags": []
   },
   "outputs": [
    {
     "data": {
      "text/plain": [
       "<126358x20738 sparse matrix of type '<class 'numpy.float64'>'\n",
       "\twith 9238338 stored elements in Compressed Sparse Row format>"
      ]
     },
     "execution_count": 6,
     "metadata": {},
     "output_type": "execute_result"
    }
   ],
   "source": [
    "preprocessed_text = parsing.preprocess_documents(df.BODY)\n",
    "preprocessed_text = [' '.join(word) for word in preprocessed_text]\n",
    "tfidf_vectorizer = TfidfVectorizer(stop_words = 'english', min_df = 2, max_df = 0.7)\n",
    "tfidf_matrix = tfidf_vectorizer.fit_transform(preprocessed_text)\n",
    "tfidf_matrix"
   ]
  },
  {
   "cell_type": "code",
   "execution_count": 7,
   "id": "b1f805bd-f88a-4a4a-9023-d8b4b9d95b08",
   "metadata": {},
   "outputs": [],
   "source": [
    "features_unscaled = df.drop('BODY', axis = 1)\n",
    "scaler = StandardScaler()\n",
    "features = scaler.fit_transform(features_unscaled)"
   ]
  },
  {
   "cell_type": "code",
   "execution_count": 8,
   "id": "6ca7ea34-0d72-4180-918a-70035e7e6277",
   "metadata": {},
   "outputs": [
    {
     "data": {
      "text/html": [
       "<div>\n",
       "<style scoped>\n",
       "    .dataframe tbody tr th:only-of-type {\n",
       "        vertical-align: middle;\n",
       "    }\n",
       "\n",
       "    .dataframe tbody tr th {\n",
       "        vertical-align: top;\n",
       "    }\n",
       "\n",
       "    .dataframe thead th {\n",
       "        text-align: right;\n",
       "    }\n",
       "</style>\n",
       "<table border=\"1\" class=\"dataframe\">\n",
       "  <thead>\n",
       "    <tr style=\"text-align: right;\">\n",
       "      <th></th>\n",
       "      <th>Unnamed: 0</th>\n",
       "      <th>PRICE</th>\n",
       "      <th>AREA_SQFT</th>\n",
       "      <th>ALLOWS_CATS</th>\n",
       "      <th>ALLOWS_DOGS</th>\n",
       "      <th>CHAR_COUNT</th>\n",
       "      <th>WORD_COUNT</th>\n",
       "      <th>SENTENCE_COUNT</th>\n",
       "      <th>UNIQUE_COUNT</th>\n",
       "      <th>AVG_WORD_LENGTH</th>\n",
       "      <th>AVG_SENTENCE_LENGTH</th>\n",
       "      <th>UNIQUE_WORD_RATIO</th>\n",
       "    </tr>\n",
       "    <tr>\n",
       "      <th>LISTING_ID</th>\n",
       "      <th></th>\n",
       "      <th></th>\n",
       "      <th></th>\n",
       "      <th></th>\n",
       "      <th></th>\n",
       "      <th></th>\n",
       "      <th></th>\n",
       "      <th></th>\n",
       "      <th></th>\n",
       "      <th></th>\n",
       "      <th></th>\n",
       "      <th></th>\n",
       "    </tr>\n",
       "  </thead>\n",
       "  <tbody>\n",
       "    <tr>\n",
       "      <th>7075306172</th>\n",
       "      <td>0</td>\n",
       "      <td>2275</td>\n",
       "      <td>900.0</td>\n",
       "      <td>1.0</td>\n",
       "      <td>0.0</td>\n",
       "      <td>1380</td>\n",
       "      <td>199</td>\n",
       "      <td>6</td>\n",
       "      <td>165</td>\n",
       "      <td>6.934673</td>\n",
       "      <td>33.166667</td>\n",
       "      <td>0.829146</td>\n",
       "    </tr>\n",
       "    <tr>\n",
       "      <th>7075321793</th>\n",
       "      <td>1</td>\n",
       "      <td>2350</td>\n",
       "      <td>800.0</td>\n",
       "      <td>1.0</td>\n",
       "      <td>0.0</td>\n",
       "      <td>2180</td>\n",
       "      <td>306</td>\n",
       "      <td>11</td>\n",
       "      <td>226</td>\n",
       "      <td>7.124183</td>\n",
       "      <td>27.818182</td>\n",
       "      <td>0.738562</td>\n",
       "    </tr>\n",
       "    <tr>\n",
       "      <th>7075372720</th>\n",
       "      <td>2</td>\n",
       "      <td>2395</td>\n",
       "      <td>875.0</td>\n",
       "      <td>1.0</td>\n",
       "      <td>0.0</td>\n",
       "      <td>1992</td>\n",
       "      <td>289</td>\n",
       "      <td>11</td>\n",
       "      <td>224</td>\n",
       "      <td>6.892734</td>\n",
       "      <td>26.272727</td>\n",
       "      <td>0.775087</td>\n",
       "    </tr>\n",
       "    <tr>\n",
       "      <th>7075376264</th>\n",
       "      <td>3</td>\n",
       "      <td>2395</td>\n",
       "      <td>875.0</td>\n",
       "      <td>1.0</td>\n",
       "      <td>0.0</td>\n",
       "      <td>1992</td>\n",
       "      <td>289</td>\n",
       "      <td>11</td>\n",
       "      <td>224</td>\n",
       "      <td>6.892734</td>\n",
       "      <td>26.272727</td>\n",
       "      <td>0.775087</td>\n",
       "    </tr>\n",
       "    <tr>\n",
       "      <th>7075380613</th>\n",
       "      <td>4</td>\n",
       "      <td>2450</td>\n",
       "      <td>950.0</td>\n",
       "      <td>1.0</td>\n",
       "      <td>0.0</td>\n",
       "      <td>1966</td>\n",
       "      <td>279</td>\n",
       "      <td>12</td>\n",
       "      <td>211</td>\n",
       "      <td>7.046595</td>\n",
       "      <td>23.250000</td>\n",
       "      <td>0.756272</td>\n",
       "    </tr>\n",
       "  </tbody>\n",
       "</table>\n",
       "</div>"
      ],
      "text/plain": [
       "            Unnamed: 0  PRICE  AREA_SQFT  ALLOWS_CATS  ALLOWS_DOGS  \\\n",
       "LISTING_ID                                                           \n",
       "7075306172           0   2275      900.0          1.0          0.0   \n",
       "7075321793           1   2350      800.0          1.0          0.0   \n",
       "7075372720           2   2395      875.0          1.0          0.0   \n",
       "7075376264           3   2395      875.0          1.0          0.0   \n",
       "7075380613           4   2450      950.0          1.0          0.0   \n",
       "\n",
       "            CHAR_COUNT  WORD_COUNT  SENTENCE_COUNT  UNIQUE_COUNT  \\\n",
       "LISTING_ID                                                         \n",
       "7075306172        1380         199               6           165   \n",
       "7075321793        2180         306              11           226   \n",
       "7075372720        1992         289              11           224   \n",
       "7075376264        1992         289              11           224   \n",
       "7075380613        1966         279              12           211   \n",
       "\n",
       "            AVG_WORD_LENGTH  AVG_SENTENCE_LENGTH  UNIQUE_WORD_RATIO  \n",
       "LISTING_ID                                                           \n",
       "7075306172         6.934673            33.166667           0.829146  \n",
       "7075321793         7.124183            27.818182           0.738562  \n",
       "7075372720         6.892734            26.272727           0.775087  \n",
       "7075376264         6.892734            26.272727           0.775087  \n",
       "7075380613         7.046595            23.250000           0.756272  "
      ]
     },
     "execution_count": 8,
     "metadata": {},
     "output_type": "execute_result"
    }
   ],
   "source": [
    "features_unscaled.head()"
   ]
  },
  {
   "cell_type": "code",
   "execution_count": 9,
   "id": "534c2cba-b7b6-403b-ae45-e115dd95c744",
   "metadata": {},
   "outputs": [
    {
     "data": {
      "text/html": [
       "<div>\n",
       "<style scoped>\n",
       "    .dataframe tbody tr th:only-of-type {\n",
       "        vertical-align: middle;\n",
       "    }\n",
       "\n",
       "    .dataframe tbody tr th {\n",
       "        vertical-align: top;\n",
       "    }\n",
       "\n",
       "    .dataframe thead th {\n",
       "        text-align: right;\n",
       "    }\n",
       "</style>\n",
       "<table border=\"1\" class=\"dataframe\">\n",
       "  <thead>\n",
       "    <tr style=\"text-align: right;\">\n",
       "      <th></th>\n",
       "      <th>0</th>\n",
       "      <th>1</th>\n",
       "      <th>2</th>\n",
       "      <th>3</th>\n",
       "      <th>4</th>\n",
       "      <th>5</th>\n",
       "      <th>6</th>\n",
       "      <th>7</th>\n",
       "      <th>8</th>\n",
       "      <th>9</th>\n",
       "      <th>10</th>\n",
       "      <th>11</th>\n",
       "    </tr>\n",
       "  </thead>\n",
       "  <tbody>\n",
       "    <tr>\n",
       "      <th>0</th>\n",
       "      <td>-1.732037</td>\n",
       "      <td>0.285777</td>\n",
       "      <td>-0.196376</td>\n",
       "      <td>0.886683</td>\n",
       "      <td>-0.762854</td>\n",
       "      <td>0.552311</td>\n",
       "      <td>0.423130</td>\n",
       "      <td>-0.214663</td>\n",
       "      <td>0.683713</td>\n",
       "      <td>0.674925</td>\n",
       "      <td>0.867024</td>\n",
       "      <td>0.133021</td>\n",
       "    </tr>\n",
       "    <tr>\n",
       "      <th>1</th>\n",
       "      <td>-1.732010</td>\n",
       "      <td>0.369994</td>\n",
       "      <td>-0.616577</td>\n",
       "      <td>0.886683</td>\n",
       "      <td>-0.762854</td>\n",
       "      <td>1.680041</td>\n",
       "      <td>1.394159</td>\n",
       "      <td>0.056311</td>\n",
       "      <td>1.545986</td>\n",
       "      <td>0.954204</td>\n",
       "      <td>0.520517</td>\n",
       "      <td>-0.775392</td>\n",
       "    </tr>\n",
       "    <tr>\n",
       "      <th>2</th>\n",
       "      <td>-1.731982</td>\n",
       "      <td>0.420524</td>\n",
       "      <td>-0.301426</td>\n",
       "      <td>0.886683</td>\n",
       "      <td>-0.762854</td>\n",
       "      <td>1.415024</td>\n",
       "      <td>1.239883</td>\n",
       "      <td>0.056311</td>\n",
       "      <td>1.517715</td>\n",
       "      <td>0.613119</td>\n",
       "      <td>0.420394</td>\n",
       "      <td>-0.409109</td>\n",
       "    </tr>\n",
       "    <tr>\n",
       "      <th>3</th>\n",
       "      <td>-1.731955</td>\n",
       "      <td>0.420524</td>\n",
       "      <td>-0.301426</td>\n",
       "      <td>0.886683</td>\n",
       "      <td>-0.762854</td>\n",
       "      <td>1.415024</td>\n",
       "      <td>1.239883</td>\n",
       "      <td>0.056311</td>\n",
       "      <td>1.517715</td>\n",
       "      <td>0.613119</td>\n",
       "      <td>0.420394</td>\n",
       "      <td>-0.409109</td>\n",
       "    </tr>\n",
       "    <tr>\n",
       "      <th>4</th>\n",
       "      <td>-1.731927</td>\n",
       "      <td>0.482284</td>\n",
       "      <td>0.013725</td>\n",
       "      <td>0.886683</td>\n",
       "      <td>-0.762854</td>\n",
       "      <td>1.378373</td>\n",
       "      <td>1.149133</td>\n",
       "      <td>0.110505</td>\n",
       "      <td>1.333952</td>\n",
       "      <td>0.839863</td>\n",
       "      <td>0.224564</td>\n",
       "      <td>-0.597785</td>\n",
       "    </tr>\n",
       "  </tbody>\n",
       "</table>\n",
       "</div>"
      ],
      "text/plain": [
       "         0         1         2         3         4         5         6   \\\n",
       "0 -1.732037  0.285777 -0.196376  0.886683 -0.762854  0.552311  0.423130   \n",
       "1 -1.732010  0.369994 -0.616577  0.886683 -0.762854  1.680041  1.394159   \n",
       "2 -1.731982  0.420524 -0.301426  0.886683 -0.762854  1.415024  1.239883   \n",
       "3 -1.731955  0.420524 -0.301426  0.886683 -0.762854  1.415024  1.239883   \n",
       "4 -1.731927  0.482284  0.013725  0.886683 -0.762854  1.378373  1.149133   \n",
       "\n",
       "         7         8         9         10        11  \n",
       "0 -0.214663  0.683713  0.674925  0.867024  0.133021  \n",
       "1  0.056311  1.545986  0.954204  0.520517 -0.775392  \n",
       "2  0.056311  1.517715  0.613119  0.420394 -0.409109  \n",
       "3  0.056311  1.517715  0.613119  0.420394 -0.409109  \n",
       "4  0.110505  1.333952  0.839863  0.224564 -0.597785  "
      ]
     },
     "execution_count": 9,
     "metadata": {},
     "output_type": "execute_result"
    }
   ],
   "source": [
    "pd.DataFrame(features).head()"
   ]
  },
  {
   "cell_type": "code",
   "execution_count": 15,
   "id": "fad94b90-32fd-4861-982a-3224aad26575",
   "metadata": {},
   "outputs": [
    {
     "data": {
      "text/plain": [
       "numpy.ndarray"
      ]
     },
     "execution_count": 15,
     "metadata": {},
     "output_type": "execute_result"
    }
   ],
   "source": [
    "type(features)"
   ]
  },
  {
   "cell_type": "code",
   "execution_count": 10,
   "id": "52ce9b26-f841-470f-9d97-59d78d53f87b",
   "metadata": {},
   "outputs": [
    {
     "data": {
      "text/plain": [
       "(126358, 20750)"
      ]
     },
     "execution_count": 10,
     "metadata": {},
     "output_type": "execute_result"
    }
   ],
   "source": [
    "X_matrix = hstack((tfidf_matrix, features))\n",
    "X_full = pd.DataFrame.sparse.from_spmatrix(X_matrix)\n",
    "X_full.shape"
   ]
  },
  {
   "cell_type": "code",
   "execution_count": 13,
   "id": "d2b89721-660c-4eb9-96fe-ddf9cc069e6a",
   "metadata": {},
   "outputs": [],
   "source": [
    "components = range(1,25)\n",
    "var_explained_list = []\n",
    "\n",
    "for number in components:\n",
    "    svd = TruncatedSVD(n_components = number)\n",
    "    svd.fit(X_full)\n",
    "    var_explained_list.append(svd.explained_variance_ratio_.sum())"
   ]
  },
  {
   "cell_type": "code",
   "execution_count": 16,
   "id": "d368f0b9-bd45-4ded-8e4d-d3c44ad295c7",
   "metadata": {},
   "outputs": [
    {
     "data": {
      "text/plain": [
       "<matplotlib.lines.Line2D at 0x289810e9850>"
      ]
     },
     "execution_count": 16,
     "metadata": {},
     "output_type": "execute_result"
    },
    {
     "data": {
      "image/png": "[encoded data removed]",
      "text/plain": [
       "<Figure size 432x288 with 1 Axes>"
      ]
     },
     "metadata": {
      "needs_background": "light"
     },
     "output_type": "display_data"
    }
   ],
   "source": [
    "plt.plot(components, var_explained_list)\n",
    "plt.axhline(0.9, color = 'green')\n",
    "plt.axhline(0.85, color = 'yellow')\n",
    "plt.axhline(0.8, color = 'red')\n",
    "plt.axvline(10, color = 'black')"
   ]
  },
  {
   "cell_type": "code",
   "execution_count": 17,
   "id": "57c6a21c-a82f-4de2-9d96-5ca15861e8e2",
   "metadata": {},
   "outputs": [
    {
     "data": {
      "text/plain": [
       "0.9282247441553012"
      ]
     },
     "execution_count": 17,
     "metadata": {},
     "output_type": "execute_result"
    }
   ],
   "source": [
    "svd = TruncatedSVD(n_components = 10)\n",
    "svd.fit(X_full)\n",
    "var_explained = svd.explained_variance_ratio_.sum()\n",
    "var_explained"
   ]
  },
  {
   "cell_type": "code",
   "execution_count": 18,
   "id": "97d6b493-30db-495e-bddd-068a9c3cec52",
   "metadata": {},
   "outputs": [
    {
     "data": {
      "text/plain": [
       "<BarContainer object of 10 artists>"
      ]
     },
     "execution_count": 18,
     "metadata": {},
     "output_type": "execute_result"
    },
    {
     "data": {
      "image/png": "[encoded data removed]",
      "text/plain": [
       "<Figure size 432x288 with 1 Axes>"
      ]
     },
     "metadata": {
      "needs_background": "light"
     },
     "output_type": "display_data"
    }
   ],
   "source": [
    "plt.bar(range(len(svd.explained_variance_ratio_)), svd.explained_variance_ratio_)"
   ]
  },
  {
   "cell_type": "code",
   "execution_count": 22,
   "id": "ccc88599-51b3-4c0f-8cba-4d3c044b4177",
   "metadata": {
    "tags": []
   },
   "outputs": [],
   "source": [
    "X = pd.DataFrame(svd.transform(X_full))"
   ]
  },
  {
   "cell_type": "code",
   "execution_count": 23,
   "id": "c5dd56be-8e18-490c-945e-3a629e515c54",
   "metadata": {},
   "outputs": [
    {
     "data": {
      "text/plain": [
       "(126358, 10)"
      ]
     },
     "execution_count": 23,
     "metadata": {},
     "output_type": "execute_result"
    }
   ],
   "source": [
    "X.shape"
   ]
  },
  {
   "cell_type": "code",
   "execution_count": 25,
   "id": "148b5139-b310-4195-81a3-7a58de8c1ba9",
   "metadata": {},
   "outputs": [],
   "source": [
    "X.index = df.index"
   ]
  },
  {
   "cell_type": "code",
   "execution_count": 26,
   "id": "58884549-a1b0-4da1-acda-a18ac729cddc",
   "metadata": {},
   "outputs": [
    {
     "data": {
      "text/html": [
       "<div>\n",
       "<style scoped>\n",
       "    .dataframe tbody tr th:only-of-type {\n",
       "        vertical-align: middle;\n",
       "    }\n",
       "\n",
       "    .dataframe tbody tr th {\n",
       "        vertical-align: top;\n",
       "    }\n",
       "\n",
       "    .dataframe thead th {\n",
       "        text-align: right;\n",
       "    }\n",
       "</style>\n",
       "<table border=\"1\" class=\"dataframe\">\n",
       "  <thead>\n",
       "    <tr style=\"text-align: right;\">\n",
       "      <th></th>\n",
       "      <th>0</th>\n",
       "      <th>1</th>\n",
       "      <th>2</th>\n",
       "      <th>3</th>\n",
       "      <th>4</th>\n",
       "      <th>5</th>\n",
       "      <th>6</th>\n",
       "      <th>7</th>\n",
       "      <th>8</th>\n",
       "      <th>9</th>\n",
       "    </tr>\n",
       "    <tr>\n",
       "      <th>LISTING_ID</th>\n",
       "      <th></th>\n",
       "      <th></th>\n",
       "      <th></th>\n",
       "      <th></th>\n",
       "      <th></th>\n",
       "      <th></th>\n",
       "      <th></th>\n",
       "      <th></th>\n",
       "      <th></th>\n",
       "      <th></th>\n",
       "    </tr>\n",
       "  </thead>\n",
       "  <tbody>\n",
       "    <tr>\n",
       "      <th>7075306172</th>\n",
       "      <td>0.917307</td>\n",
       "      <td>0.618685</td>\n",
       "      <td>0.192444</td>\n",
       "      <td>0.099921</td>\n",
       "      <td>0.206868</td>\n",
       "      <td>1.907992</td>\n",
       "      <td>-0.589809</td>\n",
       "      <td>0.425400</td>\n",
       "      <td>0.937936</td>\n",
       "      <td>-0.663455</td>\n",
       "    </tr>\n",
       "    <tr>\n",
       "      <th>7075321793</th>\n",
       "      <td>2.725348</td>\n",
       "      <td>0.182099</td>\n",
       "      <td>0.599635</td>\n",
       "      <td>-0.153622</td>\n",
       "      <td>0.743383</td>\n",
       "      <td>1.879798</td>\n",
       "      <td>-0.662512</td>\n",
       "      <td>0.086399</td>\n",
       "      <td>1.158547</td>\n",
       "      <td>-0.440024</td>\n",
       "    </tr>\n",
       "    <tr>\n",
       "      <th>7075372720</th>\n",
       "      <td>2.359884</td>\n",
       "      <td>0.124991</td>\n",
       "      <td>0.296978</td>\n",
       "      <td>0.079791</td>\n",
       "      <td>0.647150</td>\n",
       "      <td>1.813236</td>\n",
       "      <td>-0.542062</td>\n",
       "      <td>0.057395</td>\n",
       "      <td>1.010028</td>\n",
       "      <td>-0.771719</td>\n",
       "    </tr>\n",
       "    <tr>\n",
       "      <th>7075376264</th>\n",
       "      <td>2.359883</td>\n",
       "      <td>0.124993</td>\n",
       "      <td>0.296990</td>\n",
       "      <td>0.079790</td>\n",
       "      <td>0.647147</td>\n",
       "      <td>1.813213</td>\n",
       "      <td>-0.542055</td>\n",
       "      <td>0.057393</td>\n",
       "      <td>1.010026</td>\n",
       "      <td>-0.771720</td>\n",
       "    </tr>\n",
       "    <tr>\n",
       "      <th>7075380613</th>\n",
       "      <td>2.289303</td>\n",
       "      <td>0.146787</td>\n",
       "      <td>0.165366</td>\n",
       "      <td>0.345773</td>\n",
       "      <td>0.798692</td>\n",
       "      <td>1.715030</td>\n",
       "      <td>-0.397729</td>\n",
       "      <td>0.132051</td>\n",
       "      <td>1.198907</td>\n",
       "      <td>-0.484457</td>\n",
       "    </tr>\n",
       "  </tbody>\n",
       "</table>\n",
       "</div>"
      ],
      "text/plain": [
       "                   0         1         2         3         4         5  \\\n",
       "LISTING_ID                                                               \n",
       "7075306172  0.917307  0.618685  0.192444  0.099921  0.206868  1.907992   \n",
       "7075321793  2.725348  0.182099  0.599635 -0.153622  0.743383  1.879798   \n",
       "7075372720  2.359884  0.124991  0.296978  0.079791  0.647150  1.813236   \n",
       "7075376264  2.359883  0.124993  0.296990  0.079790  0.647147  1.813213   \n",
       "7075380613  2.289303  0.146787  0.165366  0.345773  0.798692  1.715030   \n",
       "\n",
       "                   6         7         8         9  \n",
       "LISTING_ID                                          \n",
       "7075306172 -0.589809  0.425400  0.937936 -0.663455  \n",
       "7075321793 -0.662512  0.086399  1.158547 -0.440024  \n",
       "7075372720 -0.542062  0.057395  1.010028 -0.771719  \n",
       "7075376264 -0.542055  0.057393  1.010026 -0.771720  \n",
       "7075380613 -0.397729  0.132051  1.198907 -0.484457  "
      ]
     },
     "execution_count": 26,
     "metadata": {},
     "output_type": "execute_result"
    }
   ],
   "source": [
    "X.head()"
   ]
  },
  {
   "cell_type": "code",
   "execution_count": 27,
   "id": "00724a8c-05ef-4372-8d7d-87f71774f38b",
   "metadata": {},
   "outputs": [],
   "source": [
    "X.to_csv('..\\\\data\\\\X.csv')"
   ]
  }
 ],
 "metadata": {
  "kernelspec": {
   "display_name": "Python 3",
   "language": "python",
   "name": "python3"
  },
  "language_info": {
   "codemirror_mode": {
    "name": "ipython",
    "version": 3
   },
   "file_extension": ".py",
   "mimetype": "text/x-python",
   "name": "python",
   "nbconvert_exporter": "python",
   "pygments_lexer": "ipython3",
   "version": "3.8.10"
  }
 },
 "nbformat": 4,
 "nbformat_minor": 5
}
