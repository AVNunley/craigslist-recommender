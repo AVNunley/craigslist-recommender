{
 "cells": [
  {
   "cell_type": "code",
   "execution_count": 2,
   "id": "e635280e-735a-4723-bda9-179452e4967c",
   "metadata": {},
   "outputs": [],
   "source": [
    "import nltk, gensim, re\n",
    "import pandas as pd\n",
    "import numpy as np\n",
    "import matplotlib.pyplot as plt\n",
    "import seaborn as sns\n",
    "from sklearn.feature_extraction.text import TfidfVectorizer, CountVectorizer\n",
    "from sklearn.cluster import KMeans\n",
    "from sklearn.metrics.pairwise import linear_kernel\n",
    "from scipy import stats\n",
    "from gensim import parsing\n",
    "\n",
    "sns.set_context('talk')"
   ]
  },
  {
   "cell_type": "markdown",
   "id": "914916ab-df32-4ec1-a0a0-9db862c3cfec",
   "metadata": {},
   "source": [
    "#### Before building an unsupervised machine learning model using the full feature set, we can already use the vectorized form of the 'BODY' column to generate recommendations."
   ]
  },
  {
   "cell_type": "code",
   "execution_count": 8,
   "id": "a536f7bb-5539-41f7-b8c7-55ad7045f64d",
   "metadata": {},
   "outputs": [],
   "source": [
    "# Instantiate DataFrame of craigslist data\n",
    "df = pd.read_csv('..\\\\data\\\\wrangled_data.csv').sample(10000, random_state = 33).reset_index(drop = True)"
   ]
  },
  {
   "cell_type": "code",
   "execution_count": 9,
   "id": "ee65cd09-80b0-4bd0-8e53-34ffd5032f82",
   "metadata": {},
   "outputs": [
    {
     "data": {
      "text/html": [
       "<div>\n",
       "<style scoped>\n",
       "    .dataframe tbody tr th:only-of-type {\n",
       "        vertical-align: middle;\n",
       "    }\n",
       "\n",
       "    .dataframe tbody tr th {\n",
       "        vertical-align: top;\n",
       "    }\n",
       "\n",
       "    .dataframe thead th {\n",
       "        text-align: right;\n",
       "    }\n",
       "</style>\n",
       "<table border=\"1\" class=\"dataframe\">\n",
       "  <thead>\n",
       "    <tr style=\"text-align: right;\">\n",
       "      <th></th>\n",
       "      <th>LISTING_ID</th>\n",
       "      <th>BODY</th>\n",
       "      <th>PRICE</th>\n",
       "      <th>AREA_SQFT</th>\n",
       "      <th>ALLOWS_CATS</th>\n",
       "      <th>ALLOWS_DOGS</th>\n",
       "    </tr>\n",
       "  </thead>\n",
       "  <tbody>\n",
       "    <tr>\n",
       "      <th>0</th>\n",
       "      <td>7243962319</td>\n",
       "      <td>Move-In Special! No Security Deposit with enro...</td>\n",
       "      <td>1800</td>\n",
       "      <td>930.0</td>\n",
       "      <td>1.0</td>\n",
       "      <td>1.0</td>\n",
       "    </tr>\n",
       "    <tr>\n",
       "      <th>1</th>\n",
       "      <td>7184667893</td>\n",
       "      <td>campus, or fun places to shop and dine. Locate...</td>\n",
       "      <td>1700</td>\n",
       "      <td>1259.0</td>\n",
       "      <td>1.0</td>\n",
       "      <td>1.0</td>\n",
       "    </tr>\n",
       "    <tr>\n",
       "      <th>2</th>\n",
       "      <td>7216782594</td>\n",
       "      <td>Luxurious Apartment Building Im talking Ferrar...</td>\n",
       "      <td>2050</td>\n",
       "      <td>850.0</td>\n",
       "      <td>1.0</td>\n",
       "      <td>1.0</td>\n",
       "    </tr>\n",
       "    <tr>\n",
       "      <th>3</th>\n",
       "      <td>7102358949</td>\n",
       "      <td>SPECIAL! $500 security deposit with your good ...</td>\n",
       "      <td>1800</td>\n",
       "      <td>930.0</td>\n",
       "      <td>0.0</td>\n",
       "      <td>0.0</td>\n",
       "    </tr>\n",
       "    <tr>\n",
       "      <th>4</th>\n",
       "      <td>7093981324</td>\n",
       "      <td>PROPERTY INFO ID: 176506860Rent: 2849 / MonthB...</td>\n",
       "      <td>2849</td>\n",
       "      <td>930.0</td>\n",
       "      <td>1.0</td>\n",
       "      <td>1.0</td>\n",
       "    </tr>\n",
       "  </tbody>\n",
       "</table>\n",
       "</div>"
      ],
      "text/plain": [
       "   LISTING_ID                                               BODY  PRICE  \\\n",
       "0  7243962319  Move-In Special! No Security Deposit with enro...   1800   \n",
       "1  7184667893  campus, or fun places to shop and dine. Locate...   1700   \n",
       "2  7216782594  Luxurious Apartment Building Im talking Ferrar...   2050   \n",
       "3  7102358949  SPECIAL! $500 security deposit with your good ...   1800   \n",
       "4  7093981324  PROPERTY INFO ID: 176506860Rent: 2849 / MonthB...   2849   \n",
       "\n",
       "   AREA_SQFT  ALLOWS_CATS  ALLOWS_DOGS  \n",
       "0      930.0          1.0          1.0  \n",
       "1     1259.0          1.0          1.0  \n",
       "2      850.0          1.0          1.0  \n",
       "3      930.0          0.0          0.0  \n",
       "4      930.0          1.0          1.0  "
      ]
     },
     "execution_count": 9,
     "metadata": {},
     "output_type": "execute_result"
    }
   ],
   "source": [
    "df.head()"
   ]
  },
  {
   "cell_type": "code",
   "execution_count": 10,
   "id": "f941cba7-e2a0-4803-a6b6-eb6bb346eca2",
   "metadata": {},
   "outputs": [],
   "source": [
    "indices = pd.Series(df.index, index=df['LISTING_ID'])"
   ]
  },
  {
   "cell_type": "code",
   "execution_count": 11,
   "id": "82dbf915-56e9-4381-b415-0508c0e491bf",
   "metadata": {},
   "outputs": [],
   "source": [
    "def get_recommendations(id, matrix, indices, number):\n",
    "\n",
    "    index = indices[id]\n",
    "\n",
    "    sim_scores = list(enumerate(matrix[index]))\n",
    "    sim_scores = sorted(sim_scores, key=lambda x: x[1], reverse=True)\n",
    "\n",
    "    sim_scores = sim_scores[1 : number + 1]\n",
    "\n",
    "    listing_indices = [i[0] for i in sim_scores]\n",
    "\n",
    "    return df.iloc[listing_indices]"
   ]
  },
  {
   "cell_type": "code",
   "execution_count": 12,
   "id": "76a1926b-dcd4-4c40-9822-be42e96fc465",
   "metadata": {},
   "outputs": [],
   "source": [
    "preprocessed_text = parsing.preprocess_documents(df.BODY)\n",
    "preprocessed_text = [' '.join(word) for word in preprocessed_text]"
   ]
  },
  {
   "cell_type": "code",
   "execution_count": 13,
   "id": "4320736a-696a-4a46-9691-d01fcb7269df",
   "metadata": {},
   "outputs": [
    {
     "data": {
      "text/plain": [
       "(10000, 7179)"
      ]
     },
     "execution_count": 13,
     "metadata": {},
     "output_type": "execute_result"
    }
   ],
   "source": [
    "tfidf_vectorizer = TfidfVectorizer(stop_words = 'english', min_df = 2, max_df = 0.7)\n",
    "tfidf_matrix = tfidf_vectorizer.fit_transform(preprocessed_text)\n",
    "tfidf_matrix.shape"
   ]
  },
  {
   "cell_type": "code",
   "execution_count": 14,
   "id": "f8325d78-13b7-49d3-a778-b361738cd605",
   "metadata": {},
   "outputs": [
    {
     "data": {
      "text/plain": [
       "array([[1.        , 0.41111905, 0.05760425, ..., 0.07819667, 0.02461539,\n",
       "        0.08991901],\n",
       "       [0.41111905, 1.        , 0.06795537, ..., 0.069312  , 0.04847409,\n",
       "        0.15265568],\n",
       "       [0.05760425, 0.06795537, 1.        , ..., 0.05906828, 0.05608127,\n",
       "        0.05188825],\n",
       "       [0.42124283, 0.9781539 , 0.08144368, ..., 0.07986837, 0.05188047,\n",
       "        0.15536391],\n",
       "       [0.07892397, 0.09687006, 0.06389695, ..., 0.151926  , 0.09125714,\n",
       "        0.09710242]])"
      ]
     },
     "execution_count": 14,
     "metadata": {},
     "output_type": "execute_result"
    }
   ],
   "source": [
    "cosine_sim = linear_kernel(tfidf_matrix, tfidf_matrix)\n",
    "cosine_sim[:5]"
   ]
  },
  {
   "cell_type": "code",
   "execution_count": 22,
   "id": "b583b7a9-7b45-417b-abf7-a17de3a6aceb",
   "metadata": {},
   "outputs": [
    {
     "data": {
      "text/html": [
       "<div>\n",
       "<style scoped>\n",
       "    .dataframe tbody tr th:only-of-type {\n",
       "        vertical-align: middle;\n",
       "    }\n",
       "\n",
       "    .dataframe tbody tr th {\n",
       "        vertical-align: top;\n",
       "    }\n",
       "\n",
       "    .dataframe thead th {\n",
       "        text-align: right;\n",
       "    }\n",
       "</style>\n",
       "<table border=\"1\" class=\"dataframe\">\n",
       "  <thead>\n",
       "    <tr style=\"text-align: right;\">\n",
       "      <th></th>\n",
       "      <th>LISTING_ID</th>\n",
       "      <th>BODY</th>\n",
       "      <th>PRICE</th>\n",
       "      <th>AREA_SQFT</th>\n",
       "      <th>ALLOWS_CATS</th>\n",
       "      <th>ALLOWS_DOGS</th>\n",
       "    </tr>\n",
       "  </thead>\n",
       "  <tbody>\n",
       "    <tr>\n",
       "      <th>6786</th>\n",
       "      <td>7137682740</td>\n",
       "      <td>PROPERTY INFO ID: 159878111Rent: $2,168 / Mont...</td>\n",
       "      <td>2168</td>\n",
       "      <td>930.0</td>\n",
       "      <td>1.0</td>\n",
       "      <td>1.0</td>\n",
       "    </tr>\n",
       "    <tr>\n",
       "      <th>5709</th>\n",
       "      <td>7139944097</td>\n",
       "      <td>PROPERTY INFO ID: 180181693Rent: $5,509 / Mont...</td>\n",
       "      <td>5509</td>\n",
       "      <td>930.0</td>\n",
       "      <td>1.0</td>\n",
       "      <td>1.0</td>\n",
       "    </tr>\n",
       "    <tr>\n",
       "      <th>8562</th>\n",
       "      <td>7132823884</td>\n",
       "      <td>Location: Northampton St., Boston (South End) ...</td>\n",
       "      <td>3995</td>\n",
       "      <td>930.0</td>\n",
       "      <td>1.0</td>\n",
       "      <td>0.0</td>\n",
       "    </tr>\n",
       "    <tr>\n",
       "      <th>7846</th>\n",
       "      <td>7202598332</td>\n",
       "      <td>Looking for someone to take my spot in this HU...</td>\n",
       "      <td>810</td>\n",
       "      <td>930.0</td>\n",
       "      <td>1.0</td>\n",
       "      <td>0.0</td>\n",
       "    </tr>\n",
       "    <tr>\n",
       "      <th>7006</th>\n",
       "      <td>7154984615</td>\n",
       "      <td>PROPERTY INFO ID: 226751235Rent: $1,775 / Mont...</td>\n",
       "      <td>1775</td>\n",
       "      <td>930.0</td>\n",
       "      <td>1.0</td>\n",
       "      <td>0.0</td>\n",
       "    </tr>\n",
       "  </tbody>\n",
       "</table>\n",
       "</div>"
      ],
      "text/plain": [
       "      LISTING_ID                                               BODY  PRICE  \\\n",
       "6786  7137682740  PROPERTY INFO ID: 159878111Rent: $2,168 / Mont...   2168   \n",
       "5709  7139944097  PROPERTY INFO ID: 180181693Rent: $5,509 / Mont...   5509   \n",
       "8562  7132823884  Location: Northampton St., Boston (South End) ...   3995   \n",
       "7846  7202598332  Looking for someone to take my spot in this HU...    810   \n",
       "7006  7154984615  PROPERTY INFO ID: 226751235Rent: $1,775 / Mont...   1775   \n",
       "\n",
       "      AREA_SQFT  ALLOWS_CATS  ALLOWS_DOGS  \n",
       "6786      930.0          1.0          1.0  \n",
       "5709      930.0          1.0          1.0  \n",
       "8562      930.0          1.0          0.0  \n",
       "7846      930.0          1.0          0.0  \n",
       "7006      930.0          1.0          0.0  "
      ]
     },
     "execution_count": 22,
     "metadata": {},
     "output_type": "execute_result"
    }
   ],
   "source": [
    "df.sample(5)"
   ]
  },
  {
   "cell_type": "code",
   "execution_count": 23,
   "id": "a0024901-3d9e-49f9-97fc-eb9b2f57b1ca",
   "metadata": {},
   "outputs": [
    {
     "name": "stdout",
     "output_type": "stream",
     "text": [
      "      LISTING_ID                                               BODY  PRICE  \\\n",
      "7407  7177319091  Huge (1150 sq ft + attic/basement), updated 3 ...   1200   \n",
      "8452  7151640680  Huge room available in Somerville, right next ...   1700   \n",
      "8077  7151181300  Brighton Center! Newly renovated 4 bedroom 2 b...   3600   \n",
      "6546  7214324622  Gorgeous 2 bedroom, 1 bath apartment in Teele ...   2800   \n",
      "4307  7196534791  3BR share is a great cheap option if you're lo...   1700   \n",
      "1921  7155070264  Large sunny room in the heart of Coolidge corn...    920   \n",
      "3474  7204187350  Spacious 3 bedroom townhouse style apartment f...   1700   \n",
      "9     7210842080  Gorgeous 2 floor unit offers 4 bedrooms and 2 ...    925   \n",
      "1027  7123418152  $2,650.00 per month. Gorgeous 3 bedroom, 2 bat...   2650   \n",
      "7217  7103316328  Beautiful duplex 2,200SF apartment with 5 bedr...   4550   \n",
      "\n",
      "      AREA_SQFT  ALLOWS_CATS  ALLOWS_DOGS  \n",
      "7407     1150.0          1.0          1.0  \n",
      "8452      930.0          1.0          1.0  \n",
      "8077     1100.0          1.0          0.0  \n",
      "6546     1200.0          0.0          0.0  \n",
      "4307      930.0          0.0          0.0  \n",
      "1921      200.0          0.0          0.0  \n",
      "3474      930.0          1.0          0.0  \n",
      "9         930.0          0.0          0.0  \n",
      "1027     2500.0          0.0          0.0  \n",
      "7217     2200.0          0.0          0.0  \n"
     ]
    }
   ],
   "source": [
    "print(get_recommendations(7202598332, cosine_sim, indices, 10))"
   ]
  }
 ],
 "metadata": {
  "kernelspec": {
   "display_name": "Python 3",
   "language": "python",
   "name": "python3"
  },
  "language_info": {
   "codemirror_mode": {
    "name": "ipython",
    "version": 3
   },
   "file_extension": ".py",
   "mimetype": "text/x-python",
   "name": "python",
   "nbconvert_exporter": "python",
   "pygments_lexer": "ipython3",
   "version": "3.8.10"
  }
 },
 "nbformat": 4,
 "nbformat_minor": 5
}
