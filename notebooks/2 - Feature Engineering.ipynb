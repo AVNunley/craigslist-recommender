{
 "cells": [
  {
   "cell_type": "code",
   "execution_count": 2,
   "id": "e635280e-735a-4723-bda9-179452e4967c",
   "metadata": {
    "tags": []
   },
   "outputs": [],
   "source": [
    "import nltk, gensim, re\n",
    "import pandas as pd\n",
    "import numpy as np\n",
    "import matplotlib.pyplot as plt\n",
    "import seaborn as sns\n",
    "from sklearn.feature_extraction.text import TfidfVectorizer, CountVectorizer\n",
    "from sklearn.cluster import KMeans\n",
    "from scipy import stats\n",
    "\n",
    "sns.set_context('talk')"
   ]
  },
  {
   "cell_type": "code",
   "execution_count": 3,
   "id": "b607bef6-697b-4e43-a8e8-aa5cd892c9f9",
   "metadata": {},
   "outputs": [
    {
     "data": {
      "text/plain": [
       "5    PROPERTY INFO ID: 9826244Rent: 2450 / MonthBed...\n",
       "6    Lovely, large one bedroom apartment in an attr...\n",
       "7    Privately situated, ocean view cottage steps a...\n",
       "8    PROPERTY INFO ID: 71165240Rent: 2723 / MonthBe...\n",
       "9    EDGARTOWN VILLAGE - Condominium living! A deli...\n",
       "Name: BODY, dtype: object"
      ]
     },
     "execution_count": 3,
     "metadata": {},
     "output_type": "execute_result"
    }
   ],
   "source": [
    "#Instantiate DataFrame of wrangled data\n",
    "df = pd.read_csv('..\\\\data\\\\wrangled_data.csv')\n",
    "df.BODY[5:10]"
   ]
  },
  {
   "cell_type": "markdown",
   "id": "88088f64-fc9e-4681-b14a-a172c6d161d1",
   "metadata": {},
   "source": [
    "#### Before being vectorized, the 'BODY' feature will be used to engineer some new features."
   ]
  },
  {
   "cell_type": "code",
   "execution_count": 4,
   "id": "b0d3b880-fec6-4ad3-ab11-45194e32c880",
   "metadata": {},
   "outputs": [],
   "source": [
    "def count_chars(text):\n",
    "    return len(text)\n",
    "def count_words(text):\n",
    "    return len(text.split())\n",
    "def count_sentences(text):\n",
    "    return len(nltk.sent_tokenize(text))\n",
    "def count_unique_words(text):\n",
    "    return len(set(text.split()))"
   ]
  },
  {
   "cell_type": "code",
   "execution_count": 5,
   "id": "2f2bc41d-97c4-4d69-bc92-74ca3247af40",
   "metadata": {},
   "outputs": [
    {
     "name": "stderr",
     "output_type": "stream",
     "text": [
      "[nltk_data] Downloading package punkt to\n",
      "[nltk_data]     C:\\Users\\Work_Remote\\AppData\\Roaming\\nltk_data...\n",
      "[nltk_data]   Package punkt is already up-to-date!\n"
     ]
    },
    {
     "data": {
      "text/plain": [
       "True"
      ]
     },
     "execution_count": 5,
     "metadata": {},
     "output_type": "execute_result"
    }
   ],
   "source": [
    "nltk.download('punkt')"
   ]
  },
  {
   "cell_type": "code",
   "execution_count": 6,
   "id": "d5ce2a34-a3c5-4ab2-a49f-03e231934e27",
   "metadata": {},
   "outputs": [],
   "source": [
    "df['CHAR_COUNT'] = df['BODY'].apply(lambda x:count_chars(x))\n",
    "df['WORD_COUNT'] = df['BODY'].apply(lambda x:count_words(x))\n",
    "df['SENTENCE_COUNT'] = df['BODY'].apply(lambda x:count_sentences(x))\n",
    "df['UNIQUE_COUNT'] = df['BODY'].apply(lambda x:count_unique_words(x))\n",
    "df['AVG_WORD_LENGTH'] = df['CHAR_COUNT']/df['WORD_COUNT']\n",
    "df['AVG_SENTENCE_LENGTH'] = df['WORD_COUNT']/df['SENTENCE_COUNT']\n",
    "df['UNIQUE_WORD_RATIO'] = df['UNIQUE_COUNT']/df['WORD_COUNT']"
   ]
  },
  {
   "cell_type": "code",
   "execution_count": 8,
   "id": "6593e906-8ed5-462a-93ea-a215ac5ef682",
   "metadata": {},
   "outputs": [
    {
     "data": {
      "text/html": [
       "<div>\n",
       "<style scoped>\n",
       "    .dataframe tbody tr th:only-of-type {\n",
       "        vertical-align: middle;\n",
       "    }\n",
       "\n",
       "    .dataframe tbody tr th {\n",
       "        vertical-align: top;\n",
       "    }\n",
       "\n",
       "    .dataframe thead th {\n",
       "        text-align: right;\n",
       "    }\n",
       "</style>\n",
       "<table border=\"1\" class=\"dataframe\">\n",
       "  <thead>\n",
       "    <tr style=\"text-align: right;\">\n",
       "      <th></th>\n",
       "      <th>LISTING_ID</th>\n",
       "      <th>BODY</th>\n",
       "      <th>PRICE</th>\n",
       "      <th>AREA_SQFT</th>\n",
       "      <th>ALLOWS_CATS</th>\n",
       "      <th>ALLOWS_DOGS</th>\n",
       "      <th>CHAR_COUNT</th>\n",
       "      <th>WORD_COUNT</th>\n",
       "      <th>SENTENCE_COUNT</th>\n",
       "      <th>UNIQUE_COUNT</th>\n",
       "      <th>AVG_WORD_LENGTH</th>\n",
       "      <th>AVG_SENTENCE_LENGTH</th>\n",
       "      <th>UNIQUE_WORD_RATIO</th>\n",
       "    </tr>\n",
       "  </thead>\n",
       "  <tbody>\n",
       "    <tr>\n",
       "      <th>5</th>\n",
       "      <td>7075381886</td>\n",
       "      <td>PROPERTY INFO ID: 9826244Rent: 2450 / MonthBed...</td>\n",
       "      <td>2450</td>\n",
       "      <td>950.0</td>\n",
       "      <td>1.0</td>\n",
       "      <td>0.0</td>\n",
       "      <td>1966</td>\n",
       "      <td>279</td>\n",
       "      <td>12</td>\n",
       "      <td>211</td>\n",
       "      <td>7.046595</td>\n",
       "      <td>23.250000</td>\n",
       "      <td>0.756272</td>\n",
       "    </tr>\n",
       "    <tr>\n",
       "      <th>6</th>\n",
       "      <td>7080746122</td>\n",
       "      <td>Lovely, large one bedroom apartment in an attr...</td>\n",
       "      <td>975</td>\n",
       "      <td>800.0</td>\n",
       "      <td>0.0</td>\n",
       "      <td>0.0</td>\n",
       "      <td>516</td>\n",
       "      <td>71</td>\n",
       "      <td>6</td>\n",
       "      <td>64</td>\n",
       "      <td>7.267606</td>\n",
       "      <td>11.833333</td>\n",
       "      <td>0.901408</td>\n",
       "    </tr>\n",
       "    <tr>\n",
       "      <th>7</th>\n",
       "      <td>7080759732</td>\n",
       "      <td>Privately situated, ocean view cottage steps a...</td>\n",
       "      <td>1500</td>\n",
       "      <td>577.0</td>\n",
       "      <td>1.0</td>\n",
       "      <td>1.0</td>\n",
       "      <td>1010</td>\n",
       "      <td>162</td>\n",
       "      <td>10</td>\n",
       "      <td>125</td>\n",
       "      <td>6.234568</td>\n",
       "      <td>16.200000</td>\n",
       "      <td>0.771605</td>\n",
       "    </tr>\n",
       "    <tr>\n",
       "      <th>8</th>\n",
       "      <td>7080759800</td>\n",
       "      <td>PROPERTY INFO ID: 71165240Rent: 2723 / MonthBe...</td>\n",
       "      <td>2723</td>\n",
       "      <td>840.0</td>\n",
       "      <td>1.0</td>\n",
       "      <td>0.0</td>\n",
       "      <td>1976</td>\n",
       "      <td>297</td>\n",
       "      <td>16</td>\n",
       "      <td>232</td>\n",
       "      <td>6.653199</td>\n",
       "      <td>18.562500</td>\n",
       "      <td>0.781145</td>\n",
       "    </tr>\n",
       "    <tr>\n",
       "      <th>9</th>\n",
       "      <td>7080761824</td>\n",
       "      <td>EDGARTOWN VILLAGE - Condominium living! A deli...</td>\n",
       "      <td>1500</td>\n",
       "      <td>493.0</td>\n",
       "      <td>1.0</td>\n",
       "      <td>1.0</td>\n",
       "      <td>670</td>\n",
       "      <td>95</td>\n",
       "      <td>7</td>\n",
       "      <td>83</td>\n",
       "      <td>7.052632</td>\n",
       "      <td>13.571429</td>\n",
       "      <td>0.873684</td>\n",
       "    </tr>\n",
       "  </tbody>\n",
       "</table>\n",
       "</div>"
      ],
      "text/plain": [
       "   LISTING_ID                                               BODY  PRICE  \\\n",
       "5  7075381886  PROPERTY INFO ID: 9826244Rent: 2450 / MonthBed...   2450   \n",
       "6  7080746122  Lovely, large one bedroom apartment in an attr...    975   \n",
       "7  7080759732  Privately situated, ocean view cottage steps a...   1500   \n",
       "8  7080759800  PROPERTY INFO ID: 71165240Rent: 2723 / MonthBe...   2723   \n",
       "9  7080761824  EDGARTOWN VILLAGE - Condominium living! A deli...   1500   \n",
       "\n",
       "   AREA_SQFT  ALLOWS_CATS  ALLOWS_DOGS  CHAR_COUNT  WORD_COUNT  \\\n",
       "5      950.0          1.0          0.0        1966         279   \n",
       "6      800.0          0.0          0.0         516          71   \n",
       "7      577.0          1.0          1.0        1010         162   \n",
       "8      840.0          1.0          0.0        1976         297   \n",
       "9      493.0          1.0          1.0         670          95   \n",
       "\n",
       "   SENTENCE_COUNT  UNIQUE_COUNT  AVG_WORD_LENGTH  AVG_SENTENCE_LENGTH  \\\n",
       "5              12           211         7.046595            23.250000   \n",
       "6               6            64         7.267606            11.833333   \n",
       "7              10           125         6.234568            16.200000   \n",
       "8              16           232         6.653199            18.562500   \n",
       "9               7            83         7.052632            13.571429   \n",
       "\n",
       "   UNIQUE_WORD_RATIO  \n",
       "5           0.756272  \n",
       "6           0.901408  \n",
       "7           0.771605  \n",
       "8           0.781145  \n",
       "9           0.873684  "
      ]
     },
     "execution_count": 8,
     "metadata": {},
     "output_type": "execute_result"
    }
   ],
   "source": [
    "df[5:10]"
   ]
  },
  {
   "cell_type": "code",
   "execution_count": 10,
   "id": "07922d8d-eab5-4a4c-9f82-298df74f7643",
   "metadata": {},
   "outputs": [
    {
     "name": "stdout",
     "output_type": "stream",
     "text": [
      "Average number of characters per listing: 988.196695104386\n",
      "Average number of words per listing: 152.37424618939838\n",
      "Average number of sentences per listing: 9.96096012915684\n",
      "Average number of unique words per listing: 116.63188717770146\n"
     ]
    }
   ],
   "source": [
    "print('Average number of characters per listing:', np.mean(df['CHAR_COUNT']))\n",
    "print('Average number of words per listing:', np.mean(df['WORD_COUNT']))\n",
    "print('Average number of sentences per listing:', np.mean(df['SENTENCE_COUNT']))\n",
    "print('Average number of unique words per listing:', np.mean(df['UNIQUE_COUNT']))"
   ]
  },
  {
   "cell_type": "code",
   "execution_count": 15,
   "id": "55bf3cd3-166d-4b22-a010-d008395ca01a",
   "metadata": {},
   "outputs": [
    {
     "data": {
      "text/plain": [
       "(array([1.1809e+04, 3.3452e+04, 2.6421e+04, 1.6331e+04, 1.2875e+04,\n",
       "        8.3050e+03, 6.7810e+03, 4.4290e+03, 2.5330e+03, 1.8320e+03,\n",
       "        5.6600e+02, 4.3300e+02, 1.3300e+02, 5.7000e+01, 5.6000e+01,\n",
       "        1.3800e+02, 5.5000e+01, 2.7000e+01, 2.3000e+01, 1.5000e+01,\n",
       "        8.0000e+00, 5.0000e+00, 8.0000e+00, 8.0000e+00, 1.1000e+01,\n",
       "        8.0000e+00, 6.0000e+00, 8.0000e+00, 3.0000e+00, 0.0000e+00,\n",
       "        1.0000e+00, 4.0000e+00, 0.0000e+00, 0.0000e+00, 0.0000e+00,\n",
       "        3.0000e+00, 0.0000e+00, 0.0000e+00, 3.0000e+00, 0.0000e+00,\n",
       "        0.0000e+00, 0.0000e+00, 3.0000e+00, 5.0000e+00, 0.0000e+00,\n",
       "        0.0000e+00, 1.0000e+00, 0.0000e+00, 1.0000e+00, 1.0000e+00]),\n",
       " array([1.00000e+00, 4.66200e+01, 9.22400e+01, 1.37860e+02, 1.83480e+02,\n",
       "        2.29100e+02, 2.74720e+02, 3.20340e+02, 3.65960e+02, 4.11580e+02,\n",
       "        4.57200e+02, 5.02820e+02, 5.48440e+02, 5.94060e+02, 6.39680e+02,\n",
       "        6.85300e+02, 7.30920e+02, 7.76540e+02, 8.22160e+02, 8.67780e+02,\n",
       "        9.13400e+02, 9.59020e+02, 1.00464e+03, 1.05026e+03, 1.09588e+03,\n",
       "        1.14150e+03, 1.18712e+03, 1.23274e+03, 1.27836e+03, 1.32398e+03,\n",
       "        1.36960e+03, 1.41522e+03, 1.46084e+03, 1.50646e+03, 1.55208e+03,\n",
       "        1.59770e+03, 1.64332e+03, 1.68894e+03, 1.73456e+03, 1.78018e+03,\n",
       "        1.82580e+03, 1.87142e+03, 1.91704e+03, 1.96266e+03, 2.00828e+03,\n",
       "        2.05390e+03, 2.09952e+03, 2.14514e+03, 2.19076e+03, 2.23638e+03,\n",
       "        2.28200e+03]),\n",
       " <BarContainer object of 50 artists>)"
      ]
     },
     "execution_count": 15,
     "metadata": {},
     "output_type": "execute_result"
    },
    {
     "data": {
      "image/png": "[encoded data removed]",
      "text/plain": [
       "<Figure size 432x288 with 1 Axes>"
      ]
     },
     "metadata": {
      "needs_background": "light"
     },
     "output_type": "display_data"
    }
   ],
   "source": [
    "plt.hist(df.WORD_COUNT, bins = 50)"
   ]
  },
  {
   "cell_type": "code",
   "execution_count": 11,
   "id": "3eeb90cd-c5bb-4e83-954b-7e0fd6670316",
   "metadata": {},
   "outputs": [
    {
     "data": {
      "text/plain": [
       "{'whiskers': [<matplotlib.lines.Line2D at 0x1fd68ce3490>,\n",
       "  <matplotlib.lines.Line2D at 0x1fd68ce37f0>],\n",
       " 'caps': [<matplotlib.lines.Line2D at 0x1fd68ce3b50>,\n",
       "  <matplotlib.lines.Line2D at 0x1fd68ce3eb0>],\n",
       " 'boxes': [<matplotlib.lines.Line2D at 0x1fd68ce3130>],\n",
       " 'medians': [<matplotlib.lines.Line2D at 0x1fd68cf0250>],\n",
       " 'fliers': [<matplotlib.lines.Line2D at 0x1fd68cf05b0>],\n",
       " 'means': []}"
      ]
     },
     "execution_count": 11,
     "metadata": {},
     "output_type": "execute_result"
    },
    {
     "data": {
      "image/png": "[encoded data removed]",
      "text/plain": [
       "<Figure size 432x288 with 1 Axes>"
      ]
     },
     "metadata": {
      "needs_background": "light"
     },
     "output_type": "display_data"
    }
   ],
   "source": [
    "plt.boxplot(df['CHAR_COUNT'])"
   ]
  },
  {
   "cell_type": "code",
   "execution_count": 12,
   "id": "f08f8829-896b-4297-9f33-c0cc189f013f",
   "metadata": {},
   "outputs": [
    {
     "data": {
      "text/plain": [
       "{'whiskers': [<matplotlib.lines.Line2D at 0x1fd68da7610>,\n",
       "  <matplotlib.lines.Line2D at 0x1fd68da7970>],\n",
       " 'caps': [<matplotlib.lines.Line2D at 0x1fd68da7cd0>,\n",
       "  <matplotlib.lines.Line2D at 0x1fd68db7070>],\n",
       " 'boxes': [<matplotlib.lines.Line2D at 0x1fd68da72b0>],\n",
       " 'medians': [<matplotlib.lines.Line2D at 0x1fd68db73d0>],\n",
       " 'fliers': [<matplotlib.lines.Line2D at 0x1fd68db7730>],\n",
       " 'means': []}"
      ]
     },
     "execution_count": 12,
     "metadata": {},
     "output_type": "execute_result"
    },
    {
     "data": {
      "image/png": "[encoded data removed]",
      "text/plain": [
       "<Figure size 432x288 with 1 Axes>"
      ]
     },
     "metadata": {
      "needs_background": "light"
     },
     "output_type": "display_data"
    }
   ],
   "source": [
    "plt.boxplot(df['WORD_COUNT'])"
   ]
  },
  {
   "cell_type": "code",
   "execution_count": 13,
   "id": "bd21459b-3479-4f28-a0ef-6b33c6813b74",
   "metadata": {},
   "outputs": [
    {
     "data": {
      "text/plain": [
       "{'whiskers': [<matplotlib.lines.Line2D at 0x1fd68e077c0>,\n",
       "  <matplotlib.lines.Line2D at 0x1fd68e07b20>],\n",
       " 'caps': [<matplotlib.lines.Line2D at 0x1fd68e07e80>,\n",
       "  <matplotlib.lines.Line2D at 0x1fd68e14220>],\n",
       " 'boxes': [<matplotlib.lines.Line2D at 0x1fd68e07460>],\n",
       " 'medians': [<matplotlib.lines.Line2D at 0x1fd68e145b0>],\n",
       " 'fliers': [<matplotlib.lines.Line2D at 0x1fd68e14910>],\n",
       " 'means': []}"
      ]
     },
     "execution_count": 13,
     "metadata": {},
     "output_type": "execute_result"
    },
    {
     "data": {
      "image/png": "[encoded data removed]",
      "text/plain": [
       "<Figure size 432x288 with 1 Axes>"
      ]
     },
     "metadata": {
      "needs_background": "light"
     },
     "output_type": "display_data"
    }
   ],
   "source": [
    "plt.boxplot(df['SENTENCE_COUNT'])"
   ]
  },
  {
   "cell_type": "code",
   "execution_count": 16,
   "id": "b5eaea38-2754-4e36-920e-d784e5e1e7ca",
   "metadata": {},
   "outputs": [],
   "source": [
    "df.to_csv('..\\\\data\\\\full_features.csv')"
   ]
  }
 ],
 "metadata": {
  "kernelspec": {
   "display_name": "Python 3",
   "language": "python",
   "name": "python3"
  },
  "language_info": {
   "codemirror_mode": {
    "name": "ipython",
    "version": 3
   },
   "file_extension": ".py",
   "mimetype": "text/x-python",
   "name": "python",
   "nbconvert_exporter": "python",
   "pygments_lexer": "ipython3",
   "version": "3.8.10"
  }
 },
 "nbformat": 4,
 "nbformat_minor": 5
}
