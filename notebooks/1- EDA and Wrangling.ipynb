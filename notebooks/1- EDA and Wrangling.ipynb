{
 "cells": [
  {
   "cell_type": "code",
   "execution_count": 1,
   "id": "e635280e-735a-4723-bda9-179452e4967c",
   "metadata": {
    "tags": []
   },
   "outputs": [],
   "source": [
    "import nltk, gensim, re\n",
    "import pandas as pd\n",
    "import numpy as np\n",
    "import matplotlib.pyplot as plt\n",
    "import seaborn as sns\n",
    "from sklearn.feature_extraction.text import TfidfVectorizer, CountVectorizer\n",
    "from sklearn.cluster import KMeans\n",
    "from scipy import stats\n",
    "\n",
    "sns.set_context('talk')"
   ]
  },
  {
   "cell_type": "markdown",
   "id": "cb95d471-7ab9-429f-b1bb-981a409fe424",
   "metadata": {
    "tags": []
   },
   "source": [
    "### Loading and inspecting the dataset"
   ]
  },
  {
   "cell_type": "code",
   "execution_count": 2,
   "id": "4e54cefe-0734-440c-8a54-8af3ef39f419",
   "metadata": {},
   "outputs": [],
   "source": [
    "#Instantiate DataFrame of craigslist data\n",
    "\n",
    "listings_df = pd.read_csv('..\\\\data\\\\CRAIGSLIST.Listings-1.csv')"
   ]
  },
  {
   "cell_type": "code",
   "execution_count": 3,
   "id": "9df39430-ff32-4e9b-b3d4-9fd44a7d810b",
   "metadata": {},
   "outputs": [],
   "source": [
    "# Function to print dataframe columns in a readable format\n",
    "\n",
    "def format_columns(df):\n",
    "    print(\"Columns:\")\n",
    "    for column in df.columns:\n",
    "        print(column)"
   ]
  },
  {
   "cell_type": "code",
   "execution_count": 4,
   "id": "789c8131-344c-470c-b660-be9e761eb20c",
   "metadata": {},
   "outputs": [
    {
     "name": "stdout",
     "output_type": "stream",
     "text": [
      "Columns:\n",
      "LISTING_ID\n",
      "LISTING_MONTH\n",
      "LISTING_DAY\n",
      "LISTING_TIME\n",
      "RETRIEVED_ON\n",
      "BODY\n",
      "PRICE\n",
      "AREA_SQFT\n",
      "ALLOWS_CATS\n",
      "ALLOWS_DOGS\n",
      "ADDRESS\n",
      "LOCATION\n",
      "CT_ID_10\n"
     ]
    }
   ],
   "source": [
    "format_columns(listings_df)"
   ]
  },
  {
   "cell_type": "code",
   "execution_count": 5,
   "id": "6737976f-5961-4ed0-85ca-2d981de17215",
   "metadata": {},
   "outputs": [
    {
     "data": {
      "text/plain": [
       "'2020-04-26T19:18:00+00:00'"
      ]
     },
     "execution_count": 5,
     "metadata": {},
     "output_type": "execute_result"
    }
   ],
   "source": [
    "listings_df.RETRIEVED_ON.min()"
   ]
  },
  {
   "cell_type": "code",
   "execution_count": 6,
   "id": "e224c6cd-d04b-461f-b1c8-f61347478a62",
   "metadata": {},
   "outputs": [
    {
     "data": {
      "text/plain": [
       "'2021-01-18T17:21:54+00:00'"
      ]
     },
     "execution_count": 6,
     "metadata": {},
     "output_type": "execute_result"
    }
   ],
   "source": [
    "listings_df.RETRIEVED_ON.max()"
   ]
  },
  {
   "cell_type": "markdown",
   "id": "db8f1b33-5687-4fd4-bc6e-75692e400bfc",
   "metadata": {},
   "source": [
    "#### The dataset includes listings that were active on the site from 01/18/2020 through 04/26/2020. The 'RETRIEVED_ON' column will no longer be needed for this dataset."
   ]
  },
  {
   "cell_type": "markdown",
   "id": "d4be21f3-fb26-4944-98d4-3bf400a22140",
   "metadata": {},
   "source": [
    "#### Because this tool is intended to be used with a snapshot of current listing data, ['LISTING_MONTH', 'LISTING_DAY, 'LISTING_TIME'] are not relevant.  "
   ]
  },
  {
   "cell_type": "markdown",
   "id": "8a2a8412-d980-4670-890a-c13e63796ceb",
   "metadata": {},
   "source": [
    "#### The location data contained in ['ADDRESS', 'LOCATION', 'CT_ID_10'] are outside the current scope of this project. Despite being particularly important for real estate, the vast majority of goods and services offered on craigslist are filtered by location as much as necessary by user location selection."
   ]
  },
  {
   "cell_type": "code",
   "execution_count": 7,
   "id": "7d461ba9-13cd-4260-96bd-e8ca8659800e",
   "metadata": {},
   "outputs": [],
   "source": [
    "#Drop unnecessary columns from feature set\n",
    "\n",
    "listings_df.drop(['LISTING_MONTH',\n",
    "               'LISTING_DAY',\n",
    "               'LISTING_TIME',\n",
    "               'RETRIEVED_ON',\n",
    "               'ADDRESS',\n",
    "               'LOCATION',\n",
    "               'CT_ID_10'],\n",
    "              axis =1,\n",
    "              inplace = True)"
   ]
  },
  {
   "cell_type": "code",
   "execution_count": 8,
   "id": "b879d17e-5033-44be-a0f0-632d2d4c6705",
   "metadata": {},
   "outputs": [
    {
     "name": "stdout",
     "output_type": "stream",
     "text": [
      "Columns:\n",
      "LISTING_ID\n",
      "BODY\n",
      "PRICE\n",
      "AREA_SQFT\n",
      "ALLOWS_CATS\n",
      "ALLOWS_DOGS\n"
     ]
    }
   ],
   "source": [
    "format_columns(listings_df)"
   ]
  },
  {
   "cell_type": "code",
   "execution_count": 9,
   "id": "f5de6460-872e-4552-bffa-fbf4f45f9369",
   "metadata": {},
   "outputs": [
    {
     "name": "stdout",
     "output_type": "stream",
     "text": [
      "Unique Listing IDs: 129409\n",
      "Rows in DataFrame: 134854\n",
      "Excess Rows: 5445\n",
      "Percentage of Dataset that is Excess: 4.04\n"
     ]
    }
   ],
   "source": [
    "unique_IDs = listings_df.LISTING_ID.nunique()\n",
    "row_count = listings_df.shape[0]\n",
    "excess = row_count - unique_IDs\n",
    "\n",
    "print('Unique Listing IDs:', unique_IDs)\n",
    "print('Rows in DataFrame:', row_count)\n",
    "print('Excess Rows:', excess)\n",
    "print('Percentage of Dataset that is Excess:', round(excess/row_count, 4) * 100)"
   ]
  },
  {
   "cell_type": "markdown",
   "id": "165a0c73-e34c-4b51-aefc-1272e014b247",
   "metadata": {},
   "source": [
    "#### There are 5,445 observations in the dataset that contain duplicate IDs. Duplicates will be dropped in favor of the more recent listing"
   ]
  },
  {
   "cell_type": "code",
   "execution_count": 10,
   "id": "0068a6b4-027d-41db-8d68-c2409f3e92dc",
   "metadata": {
    "tags": []
   },
   "outputs": [],
   "source": [
    "listings_df.drop_duplicates(subset = ['LISTING_ID'], inplace = True, keep = 'last')"
   ]
  },
  {
   "cell_type": "code",
   "execution_count": 11,
   "id": "6db74a37-4515-47cf-8732-20176a1b7b2e",
   "metadata": {},
   "outputs": [
    {
     "name": "stdout",
     "output_type": "stream",
     "text": [
      "Unique Listing IDs: 129409\n",
      "Rows in DataFrame: 129409\n",
      "Excess Rows: 0\n",
      "Percentage of Dataset that is Excess: 0.0\n"
     ]
    }
   ],
   "source": [
    "unique_IDs = listings_df.LISTING_ID.nunique()\n",
    "row_count = listings_df.shape[0]\n",
    "excess = row_count - unique_IDs\n",
    "\n",
    "print('Unique Listing IDs:', unique_IDs)\n",
    "print('Rows in DataFrame:', row_count)\n",
    "print('Excess Rows:', excess)\n",
    "print('Percentage of Dataset that is Excess:', round(excess/row_count, 4) * 100)"
   ]
  },
  {
   "cell_type": "markdown",
   "id": "2634d1aa-f00e-4f4a-a838-e25bfffbda28",
   "metadata": {},
   "source": [
    "#### 'LISTING_ID' will now be used as the index of the DataFrame"
   ]
  },
  {
   "cell_type": "code",
   "execution_count": 12,
   "id": "ab21c46a-21a3-45b8-b768-1bc0b01f4e51",
   "metadata": {},
   "outputs": [],
   "source": [
    "listings_df.set_index('LISTING_ID', drop = True, inplace = True)"
   ]
  },
  {
   "cell_type": "code",
   "execution_count": 13,
   "id": "d989d2aa-1852-49d6-a1c6-19fb3c50f079",
   "metadata": {},
   "outputs": [
    {
     "data": {
      "text/html": [
       "<div>\n",
       "<style scoped>\n",
       "    .dataframe tbody tr th:only-of-type {\n",
       "        vertical-align: middle;\n",
       "    }\n",
       "\n",
       "    .dataframe tbody tr th {\n",
       "        vertical-align: top;\n",
       "    }\n",
       "\n",
       "    .dataframe thead th {\n",
       "        text-align: right;\n",
       "    }\n",
       "</style>\n",
       "<table border=\"1\" class=\"dataframe\">\n",
       "  <thead>\n",
       "    <tr style=\"text-align: right;\">\n",
       "      <th></th>\n",
       "      <th>PRICE</th>\n",
       "      <th>AREA_SQFT</th>\n",
       "      <th>ALLOWS_CATS</th>\n",
       "      <th>ALLOWS_DOGS</th>\n",
       "    </tr>\n",
       "  </thead>\n",
       "  <tbody>\n",
       "    <tr>\n",
       "      <th>count</th>\n",
       "      <td>129409.000000</td>\n",
       "      <td>5.266000e+04</td>\n",
       "      <td>126885.000000</td>\n",
       "      <td>126885.000000</td>\n",
       "    </tr>\n",
       "    <tr>\n",
       "      <th>mean</th>\n",
       "      <td>2007.589604</td>\n",
       "      <td>1.447529e+03</td>\n",
       "      <td>0.559089</td>\n",
       "      <td>0.367853</td>\n",
       "    </tr>\n",
       "    <tr>\n",
       "      <th>std</th>\n",
       "      <td>898.619447</td>\n",
       "      <td>4.458312e+04</td>\n",
       "      <td>0.496498</td>\n",
       "      <td>0.482223</td>\n",
       "    </tr>\n",
       "    <tr>\n",
       "      <th>min</th>\n",
       "      <td>10.000000</td>\n",
       "      <td>0.000000e+00</td>\n",
       "      <td>0.000000</td>\n",
       "      <td>0.000000</td>\n",
       "    </tr>\n",
       "    <tr>\n",
       "      <th>25%</th>\n",
       "      <td>1400.000000</td>\n",
       "      <td>7.200000e+02</td>\n",
       "      <td>0.000000</td>\n",
       "      <td>0.000000</td>\n",
       "    </tr>\n",
       "    <tr>\n",
       "      <th>50%</th>\n",
       "      <td>1875.000000</td>\n",
       "      <td>9.340000e+02</td>\n",
       "      <td>1.000000</td>\n",
       "      <td>0.000000</td>\n",
       "    </tr>\n",
       "    <tr>\n",
       "      <th>75%</th>\n",
       "      <td>2498.000000</td>\n",
       "      <td>1.191000e+03</td>\n",
       "      <td>1.000000</td>\n",
       "      <td>1.000000</td>\n",
       "    </tr>\n",
       "    <tr>\n",
       "      <th>max</th>\n",
       "      <td>7000.000000</td>\n",
       "      <td>7.001500e+06</td>\n",
       "      <td>1.000000</td>\n",
       "      <td>1.000000</td>\n",
       "    </tr>\n",
       "  </tbody>\n",
       "</table>\n",
       "</div>"
      ],
      "text/plain": [
       "               PRICE     AREA_SQFT    ALLOWS_CATS    ALLOWS_DOGS\n",
       "count  129409.000000  5.266000e+04  126885.000000  126885.000000\n",
       "mean     2007.589604  1.447529e+03       0.559089       0.367853\n",
       "std       898.619447  4.458312e+04       0.496498       0.482223\n",
       "min        10.000000  0.000000e+00       0.000000       0.000000\n",
       "25%      1400.000000  7.200000e+02       0.000000       0.000000\n",
       "50%      1875.000000  9.340000e+02       1.000000       0.000000\n",
       "75%      2498.000000  1.191000e+03       1.000000       1.000000\n",
       "max      7000.000000  7.001500e+06       1.000000       1.000000"
      ]
     },
     "execution_count": 13,
     "metadata": {},
     "output_type": "execute_result"
    }
   ],
   "source": [
    "listings_df.describe()"
   ]
  },
  {
   "cell_type": "code",
   "execution_count": 14,
   "id": "f85658a3-f72b-4404-a471-2b9fd5c606ed",
   "metadata": {},
   "outputs": [
    {
     "name": "stdout",
     "output_type": "stream",
     "text": [
      "Current number of rows in DataFrame: 129409\n"
     ]
    }
   ],
   "source": [
    "print('Current number of rows in DataFrame:', listings_df.shape[0])"
   ]
  },
  {
   "cell_type": "markdown",
   "id": "484d3e4f-ec5c-485d-840b-4aa054c72c27",
   "metadata": {},
   "source": [
    "#### The missing data in the pet-related and 'AREA_SQFT' columns need to be accounted for."
   ]
  },
  {
   "cell_type": "code",
   "execution_count": 15,
   "id": "92adec6f-42a3-4d46-9d2d-c29c5610f88a",
   "metadata": {},
   "outputs": [
    {
     "name": "stdout",
     "output_type": "stream",
     "text": [
      "Observations with missing pet data: 2524\n",
      "Percent of original dataset: 1.95\n"
     ]
    }
   ],
   "source": [
    "missing_pet_data_count = listings_df.shape[0] - sum(listings_df.ALLOWS_CATS.notnull())\n",
    "print('Observations with missing pet data:', missing_pet_data_count)\n",
    "print('Percent of original dataset:', round(missing_pet_data_count/row_count, 4) * 100)"
   ]
  },
  {
   "cell_type": "code",
   "execution_count": 16,
   "id": "3c5a7554-1d84-4b32-85bf-288be678d22c",
   "metadata": {},
   "outputs": [
    {
     "name": "stdout",
     "output_type": "stream",
     "text": [
      "Observations with missing pet data: 76749\n",
      "Percent of original dataset: 59.309999999999995\n"
     ]
    }
   ],
   "source": [
    "missing_area_data_count = listings_df.shape[0] - sum(listings_df.AREA_SQFT.notnull())\n",
    "print('Observations with missing pet data:', missing_area_data_count)\n",
    "print('Percent of original dataset:', round(missing_area_data_count/row_count, 4) * 100)"
   ]
  },
  {
   "cell_type": "markdown",
   "id": "b075db66-0290-4c39-bbc3-1b1d51fcb21d",
   "metadata": {},
   "source": [
    "#### Because the observations with missing pet-related data compose only 1.95% of the dataset, those observations will be removed."
   ]
  },
  {
   "cell_type": "code",
   "execution_count": 17,
   "id": "01d2251f-afd9-4192-a033-ffe8f9bc9c31",
   "metadata": {
    "tags": []
   },
   "outputs": [],
   "source": [
    "#Drop rows without pet data\n",
    "\n",
    "listings_df = listings_df[listings_df.ALLOWS_CATS.notnull()]"
   ]
  },
  {
   "cell_type": "markdown",
   "id": "91b74463-f901-4bd2-b5e5-4636d2fdb498",
   "metadata": {},
   "source": [
    "#### However, over half of the observations are missing square footage data, so the missing values will be replaced with the median of the existing values after removing outliers"
   ]
  },
  {
   "cell_type": "code",
   "execution_count": 18,
   "id": "802be75d-cca3-4389-b422-519504d35c11",
   "metadata": {},
   "outputs": [
    {
     "name": "stdout",
     "output_type": "stream",
     "text": [
      "Rows with square footage: 52658\n",
      "Rows without square footage: 74227\n"
     ]
    }
   ],
   "source": [
    "with_sqft = listings_df[listings_df.AREA_SQFT.notnull()]\n",
    "without_sqft = listings_df[listings_df.AREA_SQFT.isnull()]\n",
    "\n",
    "print('Rows with square footage:', with_sqft.shape[0])\n",
    "print('Rows without square footage:', without_sqft.shape[0])"
   ]
  },
  {
   "cell_type": "code",
   "execution_count": 19,
   "id": "3d7e2c9b-462c-4c8b-a03e-55f5eabdf42b",
   "metadata": {
    "tags": []
   },
   "outputs": [
    {
     "data": {
      "text/plain": [
       "<PandasArray>\n",
       "[7001500.0, 7001100.0, 1234567.0,  999999.0,  999999.0,  999999.0,  850900.0,\n",
       "  713799.0,  710940.0,  400600.0,  181000.0,  151582.0,  135000.0,  120000.0,\n",
       "  114000.0,  114000.0,  100000.0,  100000.0,   99999.0,   99999.0,   99999.0,\n",
       "   99999.0,   99999.0,   99999.0,   99999.0,   99999.0,   99999.0,   72500.0,\n",
       "   69000.0,   69000.0,   69000.0,   48600.0,   21000.0,   14503.0,   14000.0,\n",
       "   12345.0,   12000.0,   12000.0,   11170.0,   10001.0,   10000.0,    9999.0,\n",
       "    9999.0,    9999.0,    9999.0,    9999.0,    9999.0,    9999.0,    9999.0,\n",
       "    9999.0]\n",
       "Length: 50, dtype: float64"
      ]
     },
     "execution_count": 19,
     "metadata": {},
     "output_type": "execute_result"
    }
   ],
   "source": [
    "# Check the largest observations for square footage\n",
    "\n",
    "areas = with_sqft.AREA_SQFT\n",
    "areas.sort_values(ascending = False).array[:50]"
   ]
  },
  {
   "cell_type": "markdown",
   "id": "6ba821eb-adb8-4a10-86f5-a82618b85136",
   "metadata": {
    "tags": []
   },
   "source": [
    "#### According to Wikipedia, the largest house in MA is Castle Hill (https://en.wikipedia.org/wiki/List_of_largest_houses_in_the_United_States) and it has a square footage of 56, 368. The small number of observations that are greater must be erroneous and can be removed from the dataset."
   ]
  },
  {
   "cell_type": "code",
   "execution_count": 20,
   "id": "87a51957-e873-4c62-80d0-4dff393eb613",
   "metadata": {
    "tags": []
   },
   "outputs": [],
   "source": [
    "with_sqft = with_sqft[with_sqft.AREA_SQFT < 56368]"
   ]
  },
  {
   "cell_type": "code",
   "execution_count": 21,
   "id": "358a1582-5dca-484f-9fb3-c5490c7c9b06",
   "metadata": {
    "tags": []
   },
   "outputs": [
    {
     "data": {
      "text/plain": [
       "<matplotlib.collections.PathCollection at 0x1b13a31c1f0>"
      ]
     },
     "execution_count": 21,
     "metadata": {},
     "output_type": "execute_result"
    },
    {
     "data": {
      "image/png": "[encoded data removed]",
      "text/plain": [
       "<Figure size 432x288 with 1 Axes>"
      ]
     },
     "metadata": {
      "needs_background": "light"
     },
     "output_type": "display_data"
    }
   ],
   "source": [
    "plt.scatter(with_sqft.AREA_SQFT, with_sqft.PRICE)"
   ]
  },
  {
   "cell_type": "code",
   "execution_count": 22,
   "id": "e7f6f25c-f924-4109-9dd6-6873a7cd6866",
   "metadata": {},
   "outputs": [
    {
     "name": "stdout",
     "output_type": "stream",
     "text": [
      "Listings with unknown square footage: 87\n"
     ]
    }
   ],
   "source": [
    "print('Listings with unknown square footage:', sum(with_sqft.AREA_SQFT == 9999))"
   ]
  },
  {
   "cell_type": "markdown",
   "id": "792d50ec-6303-415a-aab6-ab28de0b5c12",
   "metadata": {
    "tags": []
   },
   "source": [
    "#### It is apparent that 9999 was used as a value for unknown square footages. There are a number of outliers as well."
   ]
  },
  {
   "cell_type": "code",
   "execution_count": 23,
   "id": "321c009f-ac76-416f-b2c0-7f004ca97273",
   "metadata": {
    "tags": []
   },
   "outputs": [
    {
     "name": "stdout",
     "output_type": "stream",
     "text": [
      "Rows with square footage: 52540\n",
      "Rows without square footage: 74314\n"
     ]
    }
   ],
   "source": [
    "without_sqft = without_sqft.append(with_sqft[with_sqft.AREA_SQFT == 9999])\n",
    "\n",
    "with_sqft = with_sqft[with_sqft.AREA_SQFT != 9999]\n",
    "\n",
    "print('Rows with square footage:', with_sqft.shape[0])\n",
    "print('Rows without square footage:', without_sqft.shape[0])"
   ]
  },
  {
   "cell_type": "code",
   "execution_count": 24,
   "id": "8523e296-778c-4869-9f2a-a23de2af4b2b",
   "metadata": {},
   "outputs": [
    {
     "data": {
      "text/plain": [
       "(52050, 5)"
      ]
     },
     "execution_count": 24,
     "metadata": {},
     "output_type": "execute_result"
    }
   ],
   "source": [
    "z = np.abs(stats.zscore(with_sqft.AREA_SQFT))\n",
    "outlier_mask = z < 3\n",
    "\n",
    "with_sqft = with_sqft[outlier_mask]\n",
    "with_sqft.shape"
   ]
  },
  {
   "cell_type": "code",
   "execution_count": 25,
   "id": "e82137bb-2aaa-407f-8b1f-ccca353a9a7c",
   "metadata": {},
   "outputs": [
    {
     "data": {
      "text/plain": [
       "<matplotlib.collections.PathCollection at 0x1b132efee80>"
      ]
     },
     "execution_count": 25,
     "metadata": {},
     "output_type": "execute_result"
    },
    {
     "data": {
      "image/png": "[encoded data removed]",
      "text/plain": [
       "<Figure size 432x288 with 1 Axes>"
      ]
     },
     "metadata": {
      "needs_background": "light"
     },
     "output_type": "display_data"
    }
   ],
   "source": [
    "plt.scatter(with_sqft.AREA_SQFT, with_sqft.PRICE)"
   ]
  },
  {
   "cell_type": "code",
   "execution_count": 26,
   "id": "27234525-8285-42f9-8be5-ba779f2d4979",
   "metadata": {},
   "outputs": [
    {
     "data": {
      "text/plain": [
       "6"
      ]
     },
     "execution_count": 26,
     "metadata": {},
     "output_type": "execute_result"
    }
   ],
   "source": [
    "sum(with_sqft.AREA_SQFT == 0)"
   ]
  },
  {
   "cell_type": "code",
   "execution_count": 27,
   "id": "f13f4b41-801b-444a-aaaa-f106433b71f2",
   "metadata": {},
   "outputs": [],
   "source": [
    "with_sqft = with_sqft[with_sqft.AREA_SQFT != 0]"
   ]
  },
  {
   "cell_type": "code",
   "execution_count": 28,
   "id": "0a30571e-3455-4e47-8dd3-a5febf7c9bd4",
   "metadata": {},
   "outputs": [
    {
     "data": {
      "text/plain": [
       "(52044, 5)"
      ]
     },
     "execution_count": 28,
     "metadata": {},
     "output_type": "execute_result"
    }
   ],
   "source": [
    "with_sqft.shape"
   ]
  },
  {
   "cell_type": "code",
   "execution_count": 29,
   "id": "36a7bf9c-f3a4-498b-96f0-1afb7d86d802",
   "metadata": {},
   "outputs": [
    {
     "data": {
      "text/plain": [
       "<AxesSubplot:xlabel='AREA_SQFT'>"
      ]
     },
     "execution_count": 29,
     "metadata": {},
     "output_type": "execute_result"
    },
    {
     "data": {
      "image/png": "[encoded data removed]",
      "text/plain": [
       "<Figure size 432x288 with 1 Axes>"
      ]
     },
     "metadata": {
      "needs_background": "light"
     },
     "output_type": "display_data"
    }
   ],
   "source": [
    "sns.boxplot(x=with_sqft.AREA_SQFT)"
   ]
  },
  {
   "cell_type": "code",
   "execution_count": 30,
   "id": "9b587741-ff6c-40b0-97dd-a762d2f74e88",
   "metadata": {},
   "outputs": [],
   "source": [
    "median_sqft = np.median(with_sqft.AREA_SQFT)"
   ]
  },
  {
   "cell_type": "code",
   "execution_count": 31,
   "id": "34e222d3-1710-47ae-8e9f-24d6abbba81c",
   "metadata": {},
   "outputs": [],
   "source": [
    "without_sqft.AREA_SQFT = median_sqft"
   ]
  },
  {
   "cell_type": "code",
   "execution_count": 32,
   "id": "f88c9a75-614e-4361-9256-96a591b644b4",
   "metadata": {},
   "outputs": [
    {
     "data": {
      "text/html": [
       "<div>\n",
       "<style scoped>\n",
       "    .dataframe tbody tr th:only-of-type {\n",
       "        vertical-align: middle;\n",
       "    }\n",
       "\n",
       "    .dataframe tbody tr th {\n",
       "        vertical-align: top;\n",
       "    }\n",
       "\n",
       "    .dataframe thead th {\n",
       "        text-align: right;\n",
       "    }\n",
       "</style>\n",
       "<table border=\"1\" class=\"dataframe\">\n",
       "  <thead>\n",
       "    <tr style=\"text-align: right;\">\n",
       "      <th></th>\n",
       "      <th>BODY</th>\n",
       "      <th>PRICE</th>\n",
       "      <th>AREA_SQFT</th>\n",
       "      <th>ALLOWS_CATS</th>\n",
       "      <th>ALLOWS_DOGS</th>\n",
       "    </tr>\n",
       "    <tr>\n",
       "      <th>LISTING_ID</th>\n",
       "      <th></th>\n",
       "      <th></th>\n",
       "      <th></th>\n",
       "      <th></th>\n",
       "      <th></th>\n",
       "    </tr>\n",
       "  </thead>\n",
       "  <tbody>\n",
       "    <tr>\n",
       "      <th>7075241085</th>\n",
       "      <td>Big 4 Bedroom Fully Renovated off Shrewsbury S...</td>\n",
       "      <td>1550</td>\n",
       "      <td>930.0</td>\n",
       "      <td>1.0</td>\n",
       "      <td>1.0</td>\n",
       "    </tr>\n",
       "    <tr>\n",
       "      <th>7075365895</th>\n",
       "      <td>PROPERTY INFO ID: 32252343Rent: 2350 / MonthBe...</td>\n",
       "      <td>2350</td>\n",
       "      <td>930.0</td>\n",
       "      <td>1.0</td>\n",
       "      <td>0.0</td>\n",
       "    </tr>\n",
       "    <tr>\n",
       "      <th>7075367288</th>\n",
       "      <td>PROPERTY INFO ID: 32252343Rent: 2350 / MonthBe...</td>\n",
       "      <td>2350</td>\n",
       "      <td>930.0</td>\n",
       "      <td>1.0</td>\n",
       "      <td>0.0</td>\n",
       "    </tr>\n",
       "    <tr>\n",
       "      <th>7080724747</th>\n",
       "      <td>MustSeeProperties.com provides the Complete Pa...</td>\n",
       "      <td>795</td>\n",
       "      <td>930.0</td>\n",
       "      <td>0.0</td>\n",
       "      <td>0.0</td>\n",
       "    </tr>\n",
       "    <tr>\n",
       "      <th>7080726002</th>\n",
       "      <td>Our Goal: Provide You With the Best. If you ca...</td>\n",
       "      <td>795</td>\n",
       "      <td>930.0</td>\n",
       "      <td>0.0</td>\n",
       "      <td>0.0</td>\n",
       "    </tr>\n",
       "  </tbody>\n",
       "</table>\n",
       "</div>"
      ],
      "text/plain": [
       "                                                         BODY  PRICE  \\\n",
       "LISTING_ID                                                             \n",
       "7075241085  Big 4 Bedroom Fully Renovated off Shrewsbury S...   1550   \n",
       "7075365895  PROPERTY INFO ID: 32252343Rent: 2350 / MonthBe...   2350   \n",
       "7075367288  PROPERTY INFO ID: 32252343Rent: 2350 / MonthBe...   2350   \n",
       "7080724747  MustSeeProperties.com provides the Complete Pa...    795   \n",
       "7080726002  Our Goal: Provide You With the Best. If you ca...    795   \n",
       "\n",
       "            AREA_SQFT  ALLOWS_CATS  ALLOWS_DOGS  \n",
       "LISTING_ID                                       \n",
       "7075241085      930.0          1.0          1.0  \n",
       "7075365895      930.0          1.0          0.0  \n",
       "7075367288      930.0          1.0          0.0  \n",
       "7080724747      930.0          0.0          0.0  \n",
       "7080726002      930.0          0.0          0.0  "
      ]
     },
     "execution_count": 32,
     "metadata": {},
     "output_type": "execute_result"
    }
   ],
   "source": [
    "without_sqft.head()"
   ]
  },
  {
   "cell_type": "code",
   "execution_count": 33,
   "id": "5850ef14-8e65-4f27-b870-509efbcb0f77",
   "metadata": {},
   "outputs": [],
   "source": [
    "listings_df = with_sqft.append(without_sqft)"
   ]
  },
  {
   "cell_type": "code",
   "execution_count": 34,
   "id": "76a27d4d-ba5f-4e8a-ba5a-49748e2bfbb4",
   "metadata": {},
   "outputs": [
    {
     "data": {
      "text/plain": [
       "(126358, 5)"
      ]
     },
     "execution_count": 34,
     "metadata": {},
     "output_type": "execute_result"
    }
   ],
   "source": [
    "listings_df.shape"
   ]
  },
  {
   "cell_type": "code",
   "execution_count": 35,
   "id": "714de2be-c0b9-4dae-8dfa-3f3895743548",
   "metadata": {},
   "outputs": [
    {
     "data": {
      "text/html": [
       "<div>\n",
       "<style scoped>\n",
       "    .dataframe tbody tr th:only-of-type {\n",
       "        vertical-align: middle;\n",
       "    }\n",
       "\n",
       "    .dataframe tbody tr th {\n",
       "        vertical-align: top;\n",
       "    }\n",
       "\n",
       "    .dataframe thead th {\n",
       "        text-align: right;\n",
       "    }\n",
       "</style>\n",
       "<table border=\"1\" class=\"dataframe\">\n",
       "  <thead>\n",
       "    <tr style=\"text-align: right;\">\n",
       "      <th></th>\n",
       "      <th>BODY</th>\n",
       "      <th>PRICE</th>\n",
       "      <th>AREA_SQFT</th>\n",
       "      <th>ALLOWS_CATS</th>\n",
       "      <th>ALLOWS_DOGS</th>\n",
       "    </tr>\n",
       "    <tr>\n",
       "      <th>LISTING_ID</th>\n",
       "      <th></th>\n",
       "      <th></th>\n",
       "      <th></th>\n",
       "      <th></th>\n",
       "      <th></th>\n",
       "    </tr>\n",
       "  </thead>\n",
       "  <tbody>\n",
       "    <tr>\n",
       "      <th>7075306172</th>\n",
       "      <td>PROPERTY INFO ID: 32252124Rent: 2275 / MonthBe...</td>\n",
       "      <td>2275</td>\n",
       "      <td>900.0</td>\n",
       "      <td>1.0</td>\n",
       "      <td>0.0</td>\n",
       "    </tr>\n",
       "    <tr>\n",
       "      <th>7075321793</th>\n",
       "      <td>PROPERTY INFO ID: 1281339Rent: 2350 / MonthBed...</td>\n",
       "      <td>2350</td>\n",
       "      <td>800.0</td>\n",
       "      <td>1.0</td>\n",
       "      <td>0.0</td>\n",
       "    </tr>\n",
       "    <tr>\n",
       "      <th>7075372720</th>\n",
       "      <td>PROPERTY INFO ID: 2741631Rent: 2395 / MonthBed...</td>\n",
       "      <td>2395</td>\n",
       "      <td>875.0</td>\n",
       "      <td>1.0</td>\n",
       "      <td>0.0</td>\n",
       "    </tr>\n",
       "    <tr>\n",
       "      <th>7075376264</th>\n",
       "      <td>PROPERTY INFO ID: 2741631Rent: 2395 / MonthBed...</td>\n",
       "      <td>2395</td>\n",
       "      <td>875.0</td>\n",
       "      <td>1.0</td>\n",
       "      <td>0.0</td>\n",
       "    </tr>\n",
       "    <tr>\n",
       "      <th>7075380613</th>\n",
       "      <td>PROPERTY INFO ID: 9826244Rent: 2450 / MonthBed...</td>\n",
       "      <td>2450</td>\n",
       "      <td>950.0</td>\n",
       "      <td>1.0</td>\n",
       "      <td>0.0</td>\n",
       "    </tr>\n",
       "  </tbody>\n",
       "</table>\n",
       "</div>"
      ],
      "text/plain": [
       "                                                         BODY  PRICE  \\\n",
       "LISTING_ID                                                             \n",
       "7075306172  PROPERTY INFO ID: 32252124Rent: 2275 / MonthBe...   2275   \n",
       "7075321793  PROPERTY INFO ID: 1281339Rent: 2350 / MonthBed...   2350   \n",
       "7075372720  PROPERTY INFO ID: 2741631Rent: 2395 / MonthBed...   2395   \n",
       "7075376264  PROPERTY INFO ID: 2741631Rent: 2395 / MonthBed...   2395   \n",
       "7075380613  PROPERTY INFO ID: 9826244Rent: 2450 / MonthBed...   2450   \n",
       "\n",
       "            AREA_SQFT  ALLOWS_CATS  ALLOWS_DOGS  \n",
       "LISTING_ID                                       \n",
       "7075306172      900.0          1.0          0.0  \n",
       "7075321793      800.0          1.0          0.0  \n",
       "7075372720      875.0          1.0          0.0  \n",
       "7075376264      875.0          1.0          0.0  \n",
       "7075380613      950.0          1.0          0.0  "
      ]
     },
     "execution_count": 35,
     "metadata": {},
     "output_type": "execute_result"
    }
   ],
   "source": [
    "listings_df.head()"
   ]
  },
  {
   "cell_type": "code",
   "execution_count": 36,
   "id": "917c650f-bcfb-4881-b0ee-5142318923b3",
   "metadata": {},
   "outputs": [
    {
     "data": {
      "text/html": [
       "<div>\n",
       "<style scoped>\n",
       "    .dataframe tbody tr th:only-of-type {\n",
       "        vertical-align: middle;\n",
       "    }\n",
       "\n",
       "    .dataframe tbody tr th {\n",
       "        vertical-align: top;\n",
       "    }\n",
       "\n",
       "    .dataframe thead th {\n",
       "        text-align: right;\n",
       "    }\n",
       "</style>\n",
       "<table border=\"1\" class=\"dataframe\">\n",
       "  <thead>\n",
       "    <tr style=\"text-align: right;\">\n",
       "      <th></th>\n",
       "      <th>BODY</th>\n",
       "      <th>PRICE</th>\n",
       "      <th>AREA_SQFT</th>\n",
       "      <th>ALLOWS_CATS</th>\n",
       "      <th>ALLOWS_DOGS</th>\n",
       "    </tr>\n",
       "    <tr>\n",
       "      <th>LISTING_ID</th>\n",
       "      <th></th>\n",
       "      <th></th>\n",
       "      <th></th>\n",
       "      <th></th>\n",
       "      <th></th>\n",
       "    </tr>\n",
       "  </thead>\n",
       "  <tbody>\n",
       "    <tr>\n",
       "      <th>7117153392</th>\n",
       "      <td>PROPERTY INFO ID: 206339206Rent: $2,650 / Mont...</td>\n",
       "      <td>2650</td>\n",
       "      <td>930.0</td>\n",
       "      <td>1.0</td>\n",
       "      <td>1.0</td>\n",
       "    </tr>\n",
       "    <tr>\n",
       "      <th>7117216017</th>\n",
       "      <td>PROPERTY INFO ID: 206327268Rent: $1,775 / Mont...</td>\n",
       "      <td>1775</td>\n",
       "      <td>930.0</td>\n",
       "      <td>1.0</td>\n",
       "      <td>0.0</td>\n",
       "    </tr>\n",
       "    <tr>\n",
       "      <th>7164609101</th>\n",
       "      <td>This apartment is on a dead end st right off H...</td>\n",
       "      <td>2000</td>\n",
       "      <td>930.0</td>\n",
       "      <td>0.0</td>\n",
       "      <td>0.0</td>\n",
       "    </tr>\n",
       "    <tr>\n",
       "      <th>7179598931</th>\n",
       "      <td>North End Waterfront studio in a great locatio...</td>\n",
       "      <td>2100</td>\n",
       "      <td>930.0</td>\n",
       "      <td>0.0</td>\n",
       "      <td>0.0</td>\n",
       "    </tr>\n",
       "    <tr>\n",
       "      <th>7182439498</th>\n",
       "      <td>Beautifully remodeled 2 bedroom apartment in H...</td>\n",
       "      <td>1975</td>\n",
       "      <td>930.0</td>\n",
       "      <td>0.0</td>\n",
       "      <td>0.0</td>\n",
       "    </tr>\n",
       "  </tbody>\n",
       "</table>\n",
       "</div>"
      ],
      "text/plain": [
       "                                                         BODY  PRICE  \\\n",
       "LISTING_ID                                                             \n",
       "7117153392  PROPERTY INFO ID: 206339206Rent: $2,650 / Mont...   2650   \n",
       "7117216017  PROPERTY INFO ID: 206327268Rent: $1,775 / Mont...   1775   \n",
       "7164609101  This apartment is on a dead end st right off H...   2000   \n",
       "7179598931  North End Waterfront studio in a great locatio...   2100   \n",
       "7182439498  Beautifully remodeled 2 bedroom apartment in H...   1975   \n",
       "\n",
       "            AREA_SQFT  ALLOWS_CATS  ALLOWS_DOGS  \n",
       "LISTING_ID                                       \n",
       "7117153392      930.0          1.0          1.0  \n",
       "7117216017      930.0          1.0          0.0  \n",
       "7164609101      930.0          0.0          0.0  \n",
       "7179598931      930.0          0.0          0.0  \n",
       "7182439498      930.0          0.0          0.0  "
      ]
     },
     "execution_count": 36,
     "metadata": {},
     "output_type": "execute_result"
    }
   ],
   "source": [
    "listings_df.tail()"
   ]
  },
  {
   "cell_type": "code",
   "execution_count": 37,
   "id": "042c07b4-2c98-404d-aaa5-b2f17e3109d1",
   "metadata": {},
   "outputs": [
    {
     "data": {
      "text/plain": [
       "(array([  229.,  1103.,  5912., 11551., 12721., 15631., 21481., 14597.,\n",
       "        14075.,  9036.,  5836.,  4342.,  3237.,  2232.,  1605.,   686.,\n",
       "          682.,   519.,   235.,   200.,   141.,   144.,    69.,    57.,\n",
       "           37.]),\n",
       " array([  10. ,  289.6,  569.2,  848.8, 1128.4, 1408. , 1687.6, 1967.2,\n",
       "        2246.8, 2526.4, 2806. , 3085.6, 3365.2, 3644.8, 3924.4, 4204. ,\n",
       "        4483.6, 4763.2, 5042.8, 5322.4, 5602. , 5881.6, 6161.2, 6440.8,\n",
       "        6720.4, 7000. ]),\n",
       " <BarContainer object of 25 artists>)"
      ]
     },
     "execution_count": 37,
     "metadata": {},
     "output_type": "execute_result"
    },
    {
     "data": {
      "image/png": "[encoded data removed]",
      "text/plain": [
       "<Figure size 432x288 with 1 Axes>"
      ]
     },
     "metadata": {
      "needs_background": "light"
     },
     "output_type": "display_data"
    }
   ],
   "source": [
    "plt.hist(listings_df.PRICE, bins = 25)"
   ]
  },
  {
   "cell_type": "code",
   "execution_count": 38,
   "id": "be9a34e7-35d2-47bc-a19f-2483ea3e7c33",
   "metadata": {},
   "outputs": [
    {
     "data": {
      "text/plain": [
       "<AxesSubplot:xlabel='PRICE'>"
      ]
     },
     "execution_count": 38,
     "metadata": {},
     "output_type": "execute_result"
    },
    {
     "data": {
      "image/png": "[encoded data removed]",
      "text/plain": [
       "<Figure size 432x288 with 1 Axes>"
      ]
     },
     "metadata": {
      "needs_background": "light"
     },
     "output_type": "display_data"
    }
   ],
   "source": [
    "sns.boxplot(x=listings_df.PRICE)"
   ]
  },
  {
   "cell_type": "code",
   "execution_count": 39,
   "id": "4c780c1b-c7d9-4d22-a93f-3286524caa0b",
   "metadata": {},
   "outputs": [
    {
     "name": "stdout",
     "output_type": "stream",
     "text": [
      "<class 'pandas.core.frame.DataFrame'>\n",
      "Int64Index: 126358 entries, 7075306172 to 7182439498\n",
      "Data columns (total 5 columns):\n",
      " #   Column       Non-Null Count   Dtype  \n",
      "---  ------       --------------   -----  \n",
      " 0   BODY         126358 non-null  object \n",
      " 1   PRICE        126358 non-null  int64  \n",
      " 2   AREA_SQFT    126358 non-null  float64\n",
      " 3   ALLOWS_CATS  126358 non-null  float64\n",
      " 4   ALLOWS_DOGS  126358 non-null  float64\n",
      "dtypes: float64(3), int64(1), object(1)\n",
      "memory usage: 5.8+ MB\n"
     ]
    }
   ],
   "source": [
    "listings_df.info()"
   ]
  },
  {
   "cell_type": "code",
   "execution_count": 40,
   "id": "3b13478c-7ff2-44d9-a3b8-5a6a06e0fe8e",
   "metadata": {},
   "outputs": [],
   "source": [
    "listings_df.to_csv('..\\\\data\\\\wrangled_data.csv')"
   ]
  },
  {
   "cell_type": "markdown",
   "id": "e124e4b7-2c41-4128-a561-32d041b5ca40",
   "metadata": {},
   "source": [
    "#### The dataset is now wrangled and ready for engineering!"
   ]
  }
 ],
 "metadata": {
  "kernelspec": {
   "display_name": "Python 3",
   "language": "python",
   "name": "python3"
  },
  "language_info": {
   "codemirror_mode": {
    "name": "ipython",
    "version": 3
   },
   "file_extension": ".py",
   "mimetype": "text/x-python",
   "name": "python",
   "nbconvert_exporter": "python",
   "pygments_lexer": "ipython3",
   "version": "3.8.10"
  }
 },
 "nbformat": 4,
 "nbformat_minor": 5
}
