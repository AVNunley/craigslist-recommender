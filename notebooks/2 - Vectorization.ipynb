{
 "cells": [
  {
   "cell_type": "code",
   "execution_count": 1,
   "id": "e635280e-735a-4723-bda9-179452e4967c",
   "metadata": {},
   "outputs": [
    {
     "name": "stderr",
     "output_type": "stream",
     "text": [
      "C:\\Users\\Work_Remote\\anaconda3\\envs\\craigslist-recommender\\lib\\site-packages\\gensim\\similarities\\__init__.py:15: UserWarning: The gensim.similarities.levenshtein submodule is disabled, because the optional Levenshtein package <https://pypi.org/project/python-Levenshtein/> is unavailable. Install Levenhstein (e.g. `pip install python-Levenshtein`) to suppress this warning.\n",
      "  warnings.warn(msg)\n"
     ]
    }
   ],
   "source": [
    "import nltk, gensim, re\n",
    "import pandas as pd\n",
    "import numpy as np\n",
    "import matplotlib.pyplot as plt\n",
    "import seaborn as sns\n",
    "from sklearn.feature_extraction.text import TfidfVectorizer, CountVectorizer\n",
    "from sklearn.cluster import KMeans\n",
    "from scipy import stats\n",
    "\n",
    "sns.set_context('talk')"
   ]
  },
  {
   "cell_type": "code",
   "execution_count": null,
   "id": "eccf18d0-4ae5-4dc2-bff3-79a3188324ae",
   "metadata": {},
   "outputs": [],
   "source": [
    "df = "
   ]
  },
  {
   "cell_type": "code",
   "execution_count": 7,
   "id": "4fc953f4-7260-49ee-9ae1-e355404cae4d",
   "metadata": {},
   "outputs": [],
   "source": [
    "processed_data = gensim.parsing.preprocess_documents(raw_data.BODY)"
   ]
  },
  {
   "cell_type": "code",
   "execution_count": 8,
   "id": "3dafd150-b1d4-4659-9932-7f9dae48a543",
   "metadata": {
    "tags": []
   },
   "outputs": [
    {
     "data": {
      "text/plain": [
       "['big',\n",
       " 'bedroom',\n",
       " 'fulli',\n",
       " 'renov',\n",
       " 'shrewsburi',\n",
       " 'street',\n",
       " 'larg',\n",
       " 'bedroom',\n",
       " 'modern',\n",
       " 'eat',\n",
       " 'kitchen',\n",
       " 'luxuri',\n",
       " 'tile',\n",
       " 'bathroom',\n",
       " 'washer',\n",
       " 'dryer',\n",
       " 'hookup',\n",
       " 'effici',\n",
       " 'ga',\n",
       " 'heat',\n",
       " 'high',\n",
       " 'ceil',\n",
       " 'walk',\n",
       " 'closet',\n",
       " 'new']"
      ]
     },
     "execution_count": 8,
     "metadata": {},
     "output_type": "execute_result"
    }
   ],
   "source": [
    "processed_data[0][0:25]"
   ]
  },
  {
   "cell_type": "code",
   "execution_count": 9,
   "id": "babc9ec5-3f2f-4932-8be2-28d70ef62bcd",
   "metadata": {},
   "outputs": [],
   "source": [
    "processed_df = pd.DataFrame([' '.join(w) for w in processed_data], columns = ['Description'])"
   ]
  },
  {
   "cell_type": "code",
   "execution_count": 10,
   "id": "77d543f1-eb6c-474d-85e9-a2f10de6af8f",
   "metadata": {},
   "outputs": [
    {
     "data": {
      "text/html": [
       "<div>\n",
       "<style scoped>\n",
       "    .dataframe tbody tr th:only-of-type {\n",
       "        vertical-align: middle;\n",
       "    }\n",
       "\n",
       "    .dataframe tbody tr th {\n",
       "        vertical-align: top;\n",
       "    }\n",
       "\n",
       "    .dataframe thead th {\n",
       "        text-align: right;\n",
       "    }\n",
       "</style>\n",
       "<table border=\"1\" class=\"dataframe\">\n",
       "  <thead>\n",
       "    <tr style=\"text-align: right;\">\n",
       "      <th></th>\n",
       "      <th>Description</th>\n",
       "    </tr>\n",
       "  </thead>\n",
       "  <tbody>\n",
       "    <tr>\n",
       "      <th>0</th>\n",
       "      <td>big bedroom fulli renov shrewsburi street larg...</td>\n",
       "    </tr>\n",
       "    <tr>\n",
       "      <th>1</th>\n",
       "      <td>properti info rent monthb bath avail date pet ...</td>\n",
       "    </tr>\n",
       "    <tr>\n",
       "      <th>2</th>\n",
       "      <td>properti info rent monthb bath avail date nowp...</td>\n",
       "    </tr>\n",
       "    <tr>\n",
       "      <th>3</th>\n",
       "      <td>properti info rent monthb bath avail date pet ...</td>\n",
       "    </tr>\n",
       "    <tr>\n",
       "      <th>4</th>\n",
       "      <td>properti info rent monthb bath avail date pet ...</td>\n",
       "    </tr>\n",
       "  </tbody>\n",
       "</table>\n",
       "</div>"
      ],
      "text/plain": [
       "                                         Description\n",
       "0  big bedroom fulli renov shrewsburi street larg...\n",
       "1  properti info rent monthb bath avail date pet ...\n",
       "2  properti info rent monthb bath avail date nowp...\n",
       "3  properti info rent monthb bath avail date pet ...\n",
       "4  properti info rent monthb bath avail date pet ..."
      ]
     },
     "execution_count": 10,
     "metadata": {},
     "output_type": "execute_result"
    }
   ],
   "source": [
    "processed_df.head()"
   ]
  },
  {
   "cell_type": "code",
   "execution_count": 11,
   "id": "28512665-f25d-466c-bb1a-c9a8473af7e1",
   "metadata": {},
   "outputs": [
    {
     "name": "stdout",
     "output_type": "stream",
     "text": [
      "<class 'pandas.core.frame.DataFrame'>\n",
      "RangeIndex: 134854 entries, 0 to 134853\n",
      "Data columns (total 1 columns):\n",
      " #   Column       Non-Null Count   Dtype \n",
      "---  ------       --------------   ----- \n",
      " 0   Description  134854 non-null  object\n",
      "dtypes: object(1)\n",
      "memory usage: 1.0+ MB\n"
     ]
    }
   ],
   "source": [
    "processed_df.info()"
   ]
  },
  {
   "cell_type": "code",
   "execution_count": null,
   "id": "e3352f98-76f5-4399-95cf-3102541b939a",
   "metadata": {},
   "outputs": [],
   "source": []
  },
  {
   "cell_type": "code",
   "execution_count": null,
   "id": "8cbc34c7-3446-4bdc-bb4b-948f6f3a70bd",
   "metadata": {},
   "outputs": [],
   "source": []
  },
  {
   "cell_type": "code",
   "execution_count": null,
   "id": "1637c76c-0235-4b5d-90b8-a2bbece968a7",
   "metadata": {},
   "outputs": [],
   "source": []
  },
  {
   "cell_type": "code",
   "execution_count": null,
   "id": "efb4ef46-1fb8-45a6-bd11-ea7ce925b2c8",
   "metadata": {},
   "outputs": [],
   "source": []
  },
  {
   "cell_type": "code",
   "execution_count": 2,
   "id": "4e54cefe-0734-440c-8a54-8af3ef39f419",
   "metadata": {
    "tags": []
   },
   "outputs": [],
   "source": [
    "#Instantiate DataFrame of craigslist data\n",
    "raw_data = pd.read_csv('data\\\\CRAIGSLIST.Listings-1.csv')"
   ]
  },
  {
   "cell_type": "code",
   "execution_count": 14,
   "id": "dbef14cf-42d0-4577-8eff-248bf9a2a5a8",
   "metadata": {
    "tags": []
   },
   "outputs": [
    {
     "data": {
      "text/plain": [
       "(134854, 71414)"
      ]
     },
     "execution_count": 14,
     "metadata": {},
     "output_type": "execute_result"
    }
   ],
   "source": [
    "bow_vectorizer = CountVectorizer(stop_words = 'english')\n",
    "bow_matrix = bow_vectorizer.fit_transform(raw_data.BODY)\n",
    "bow_matrix.shape"
   ]
  },
  {
   "cell_type": "code",
   "execution_count": 15,
   "id": "cd3b48f7-5845-4e45-92bf-f4931a9e8487",
   "metadata": {},
   "outputs": [
    {
     "data": {
      "text/plain": [
       "(134854, 757269)"
      ]
     },
     "execution_count": 15,
     "metadata": {},
     "output_type": "execute_result"
    }
   ],
   "source": [
    "bigram_vectorizer = CountVectorizer(stop_words = 'english', ngram_range = (2,2))\n",
    "bigram_matrix = bigram_vectorizer.fit_transform(raw_data.BODY)\n",
    "bigram_matrix.shape"
   ]
  },
  {
   "cell_type": "code",
   "execution_count": 16,
   "id": "bdfc08ff-e428-49a8-b470-0de23d927728",
   "metadata": {},
   "outputs": [
    {
     "data": {
      "text/plain": [
       "(134854, 2642003)"
      ]
     },
     "execution_count": 16,
     "metadata": {},
     "output_type": "execute_result"
    }
   ],
   "source": [
    "unibitri_vectorizer = CountVectorizer(stop_words = 'english', ngram_range = (1,3))\n",
    "unibitri_matrix = unibitri_vectorizer.fit_transform(raw_data.BODY)\n",
    "unibitri_matrix.shape"
   ]
  },
  {
   "cell_type": "code",
   "execution_count": 18,
   "id": "d972f0d2-423d-4a38-a03b-001debd5aa1e",
   "metadata": {},
   "outputs": [
    {
     "data": {
      "text/plain": [
       "(134854, 40243)"
      ]
     },
     "execution_count": 18,
     "metadata": {},
     "output_type": "execute_result"
    }
   ],
   "source": [
    "tfidf_vectorizer = TfidfVectorizer(min_df = 2, max_df = 0.7)\n",
    "tfidf_matrix = tfidf_vectorizer.fit_transform(raw_data.BODY)\n",
    "tfidf_matrix.shape"
   ]
  },
  {
   "cell_type": "code",
   "execution_count": null,
   "id": "bb70bca1-e31a-4db1-86ab-9d92f479f252",
   "metadata": {},
   "outputs": [],
   "source": []
  },
  {
   "cell_type": "code",
   "execution_count": null,
   "id": "76a3c285-7fa3-43a1-bb18-60ad9472fcec",
   "metadata": {},
   "outputs": [],
   "source": []
  },
  {
   "cell_type": "markdown",
   "id": "3cddb4db-a394-43cf-a29e-7cc0a3984976",
   "metadata": {},
   "source": [
    "## More Vectorizations and Tokenizations"
   ]
  },
  {
   "cell_type": "markdown",
   "id": "c5bf1e12-cb78-4ba7-820c-36cd90e69ebe",
   "metadata": {},
   "source": [
    "## Future PreProcessing: Remove HTML/XML tags, Replace accented characters, Correct Spelling Errors"
   ]
  },
  {
   "cell_type": "code",
   "execution_count": 46,
   "id": "aa25c37e-254c-4b26-a68f-ffca8cc66c6a",
   "metadata": {},
   "outputs": [],
   "source": [
    "count_vectorizer = CountVectorizer(stop_words = 'english')"
   ]
  },
  {
   "cell_type": "code",
   "execution_count": 47,
   "id": "09ef554e-ee6e-4f3a-a165-e8c91a1fc92a",
   "metadata": {},
   "outputs": [],
   "source": [
    "count_data = count_vectorizer.fit_transform(listings_df.BODY)"
   ]
  },
  {
   "cell_type": "code",
   "execution_count": 48,
   "id": "e7fb470e-6ab3-417c-896b-0ecc5af16832",
   "metadata": {},
   "outputs": [
    {
     "data": {
      "text/plain": [
       "(134854, 71414)"
      ]
     },
     "execution_count": 48,
     "metadata": {},
     "output_type": "execute_result"
    }
   ],
   "source": [
    "count_data.shape"
   ]
  },
  {
   "cell_type": "code",
   "execution_count": 49,
   "id": "4ebd6752-9f3b-45a6-84e8-1ddedb053e67",
   "metadata": {},
   "outputs": [],
   "source": [
    "count_df = pd.DataFrame(count_data.sum(axis = 0)).T"
   ]
  },
  {
   "cell_type": "code",
   "execution_count": 50,
   "id": "5fc24725-2568-4e94-be89-5a783383286d",
   "metadata": {},
   "outputs": [],
   "source": [
    "count_df.index = count_vectorizer.get_feature_names()"
   ]
  },
  {
   "cell_type": "code",
   "execution_count": 51,
   "id": "917fdc70-0062-4c56-a0c7-859b8ee1435c",
   "metadata": {},
   "outputs": [
    {
     "data": {
      "text/html": [
       "<div>\n",
       "<style scoped>\n",
       "    .dataframe tbody tr th:only-of-type {\n",
       "        vertical-align: middle;\n",
       "    }\n",
       "\n",
       "    .dataframe tbody tr th {\n",
       "        vertical-align: top;\n",
       "    }\n",
       "\n",
       "    .dataframe thead th {\n",
       "        text-align: right;\n",
       "    }\n",
       "</style>\n",
       "<table border=\"1\" class=\"dataframe\">\n",
       "  <thead>\n",
       "    <tr style=\"text-align: right;\">\n",
       "      <th></th>\n",
       "      <th>0</th>\n",
       "    </tr>\n",
       "  </thead>\n",
       "  <tbody>\n",
       "    <tr>\n",
       "      <th>00</th>\n",
       "      <td>20223</td>\n",
       "    </tr>\n",
       "    <tr>\n",
       "      <th>000</th>\n",
       "      <td>4480</td>\n",
       "    </tr>\n",
       "    <tr>\n",
       "      <th>0001</th>\n",
       "      <td>1</td>\n",
       "    </tr>\n",
       "    <tr>\n",
       "      <th>0002</th>\n",
       "      <td>2</td>\n",
       "    </tr>\n",
       "    <tr>\n",
       "      <th>0004</th>\n",
       "      <td>3</td>\n",
       "    </tr>\n",
       "    <tr>\n",
       "      <th>0005</th>\n",
       "      <td>13</td>\n",
       "    </tr>\n",
       "    <tr>\n",
       "      <th>0006</th>\n",
       "      <td>248</td>\n",
       "    </tr>\n",
       "    <tr>\n",
       "      <th>0008</th>\n",
       "      <td>1</td>\n",
       "    </tr>\n",
       "    <tr>\n",
       "      <th>000beds</th>\n",
       "      <td>7</td>\n",
       "    </tr>\n",
       "    <tr>\n",
       "      <th>000deposit</th>\n",
       "      <td>1</td>\n",
       "    </tr>\n",
       "    <tr>\n",
       "      <th>000sf</th>\n",
       "      <td>15</td>\n",
       "    </tr>\n",
       "    <tr>\n",
       "      <th>000sq</th>\n",
       "      <td>5</td>\n",
       "    </tr>\n",
       "    <tr>\n",
       "      <th>000sqft</th>\n",
       "      <td>9</td>\n",
       "    </tr>\n",
       "    <tr>\n",
       "      <th>001</th>\n",
       "      <td>10</td>\n",
       "    </tr>\n",
       "    <tr>\n",
       "      <th>00116</th>\n",
       "      <td>1</td>\n",
       "    </tr>\n",
       "    <tr>\n",
       "      <th>0018</th>\n",
       "      <td>1</td>\n",
       "    </tr>\n",
       "    <tr>\n",
       "      <th>002</th>\n",
       "      <td>10</td>\n",
       "    </tr>\n",
       "    <tr>\n",
       "      <th>0020</th>\n",
       "      <td>26</td>\n",
       "    </tr>\n",
       "    <tr>\n",
       "      <th>0022</th>\n",
       "      <td>83</td>\n",
       "    </tr>\n",
       "    <tr>\n",
       "      <th>0024</th>\n",
       "      <td>3</td>\n",
       "    </tr>\n",
       "    <tr>\n",
       "      <th>0025</th>\n",
       "      <td>1</td>\n",
       "    </tr>\n",
       "    <tr>\n",
       "      <th>003</th>\n",
       "      <td>58</td>\n",
       "    </tr>\n",
       "    <tr>\n",
       "      <th>0031</th>\n",
       "      <td>1</td>\n",
       "    </tr>\n",
       "    <tr>\n",
       "      <th>0038</th>\n",
       "      <td>2</td>\n",
       "    </tr>\n",
       "    <tr>\n",
       "      <th>0039</th>\n",
       "      <td>2</td>\n",
       "    </tr>\n",
       "  </tbody>\n",
       "</table>\n",
       "</div>"
      ],
      "text/plain": [
       "                0\n",
       "00          20223\n",
       "000          4480\n",
       "0001            1\n",
       "0002            2\n",
       "0004            3\n",
       "0005           13\n",
       "0006          248\n",
       "0008            1\n",
       "000beds         7\n",
       "000deposit      1\n",
       "000sf          15\n",
       "000sq           5\n",
       "000sqft         9\n",
       "001            10\n",
       "00116           1\n",
       "0018            1\n",
       "002            10\n",
       "0020           26\n",
       "0022           83\n",
       "0024            3\n",
       "0025            1\n",
       "003            58\n",
       "0031            1\n",
       "0038            2\n",
       "0039            2"
      ]
     },
     "execution_count": 51,
     "metadata": {},
     "output_type": "execute_result"
    }
   ],
   "source": [
    "count_df.head(25)"
   ]
  },
  {
   "cell_type": "code",
   "execution_count": 72,
   "id": "c4f0295d-e51b-4f85-881c-1e01cb36a7b8",
   "metadata": {},
   "outputs": [],
   "source": [
    "count_df.columns = ['Count']\n",
    "sorted_word_count = count_df.sort_values(by = 'Count', ascending = False)"
   ]
  },
  {
   "cell_type": "code",
   "execution_count": 78,
   "id": "e05479fb-a427-4373-b24e-04838c1f57a6",
   "metadata": {},
   "outputs": [
    {
     "data": {
      "text/plain": [
       "<function matplotlib.pyplot.show(close=None, block=None)>"
      ]
     },
     "execution_count": 78,
     "metadata": {},
     "output_type": "execute_result"
    },
    {
     "data": {
      "image/png": "[encoded data removed]",
      "text/plain": [
       "<Figure size 432x288 with 1 Axes>"
      ]
     },
     "metadata": {
      "needs_background": "light"
     },
     "output_type": "display_data"
    }
   ],
   "source": [
    "plt.bar(sorted_word_count[:25].index, sorted_word_count[:25].Count)\n",
    "plt.xticks(rotation = 90)\n",
    "plt.title('Most common words in dataset')\n",
    "plt.show"
   ]
  },
  {
   "cell_type": "markdown",
   "id": "e362c492-6bfd-441f-bf7a-16781fc802fd",
   "metadata": {},
   "source": [
    "#### The most common words are as expected for a set of real estate listings in Massachusetts.\n",
    "\n",
    "#### A more complex vectorization such as tf-idf can prevent these words from dominating models and similarity measures."
   ]
  },
  {
   "cell_type": "code",
   "execution_count": 85,
   "id": "5e5ff9a0-2d89-456c-97e5-f580302d771d",
   "metadata": {},
   "outputs": [
    {
     "data": {
      "text/html": [
       "<div>\n",
       "<style scoped>\n",
       "    .dataframe tbody tr th:only-of-type {\n",
       "        vertical-align: middle;\n",
       "    }\n",
       "\n",
       "    .dataframe tbody tr th {\n",
       "        vertical-align: top;\n",
       "    }\n",
       "\n",
       "    .dataframe thead th {\n",
       "        text-align: right;\n",
       "    }\n",
       "</style>\n",
       "<table border=\"1\" class=\"dataframe\">\n",
       "  <thead>\n",
       "    <tr style=\"text-align: right;\">\n",
       "      <th></th>\n",
       "      <th>0</th>\n",
       "    </tr>\n",
       "  </thead>\n",
       "  <tbody>\n",
       "    <tr>\n",
       "      <th>0</th>\n",
       "      <td>33</td>\n",
       "    </tr>\n",
       "    <tr>\n",
       "      <th>1</th>\n",
       "      <td>138</td>\n",
       "    </tr>\n",
       "    <tr>\n",
       "      <th>2</th>\n",
       "      <td>206</td>\n",
       "    </tr>\n",
       "    <tr>\n",
       "      <th>3</th>\n",
       "      <td>179</td>\n",
       "    </tr>\n",
       "    <tr>\n",
       "      <th>4</th>\n",
       "      <td>179</td>\n",
       "    </tr>\n",
       "  </tbody>\n",
       "</table>\n",
       "</div>"
      ],
      "text/plain": [
       "     0\n",
       "0   33\n",
       "1  138\n",
       "2  206\n",
       "3  179\n",
       "4  179"
      ]
     },
     "execution_count": 85,
     "metadata": {},
     "output_type": "execute_result"
    }
   ],
   "source": [
    "words_per_doc_df = pd.DataFrame(count_data.sum(axis = 1))\n",
    "words_per_doc_df.head()"
   ]
  },
  {
   "cell_type": "code",
   "execution_count": 89,
   "id": "d5629cd9-c57c-4ee3-9185-aab72b6c4848",
   "metadata": {},
   "outputs": [
    {
     "data": {
      "image/png": "[encoded data removed]",
      "text/plain": [
       "<Figure size 432x288 with 1 Axes>"
      ]
     },
     "metadata": {
      "needs_background": "light"
     },
     "output_type": "display_data"
    }
   ],
   "source": [
    "plt.hist(words_per_doc_df.values)\n",
    "plt.title('Histogram of words per listing')\n",
    "plt.show()"
   ]
  }
 ],
 "metadata": {
  "kernelspec": {
   "display_name": "Python 3",
   "language": "python",
   "name": "python3"
  },
  "language_info": {
   "codemirror_mode": {
    "name": "ipython",
    "version": 3
   },
   "file_extension": ".py",
   "mimetype": "text/x-python",
   "name": "python",
   "nbconvert_exporter": "python",
   "pygments_lexer": "ipython3",
   "version": "3.8.10"
  }
 },
 "nbformat": 4,
 "nbformat_minor": 5
}
