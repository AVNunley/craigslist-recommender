{
 "cells": [
  {
   "cell_type": "code",
   "execution_count": 1,
   "id": "e635280e-735a-4723-bda9-179452e4967c",
   "metadata": {
    "tags": []
   },
   "outputs": [],
   "source": [
    "import nltk, gensim, re\n",
    "import pandas as pd\n",
    "import numpy as np\n",
    "import matplotlib.pyplot as plt\n",
    "import seaborn as sns\n",
    "from sklearn.feature_extraction.text import TfidfVectorizer, CountVectorizer\n",
    "from sklearn.cluster import KMeans\n",
    "from scipy import stats\n",
    "\n",
    "sns.set_context('talk')"
   ]
  },
  {
   "cell_type": "markdown",
   "id": "cb95d471-7ab9-429f-b1bb-981a409fe424",
   "metadata": {
    "tags": []
   },
   "source": [
    "### Loading and inspecting the dataset"
   ]
  },
  {
   "cell_type": "code",
   "execution_count": 3,
   "id": "4e54cefe-0734-440c-8a54-8af3ef39f419",
   "metadata": {},
   "outputs": [
    {
     "ename": "FileNotFoundError",
     "evalue": "[Errno 2] No such file or directory: 'data\\\\CRAIGSLIST.Listings-1.csv'",
     "output_type": "error",
     "traceback": [
      "\u001b[1;31m---------------------------------------------------------------------------\u001b[0m",
      "\u001b[1;31mFileNotFoundError\u001b[0m                         Traceback (most recent call last)",
      "\u001b[1;32m<ipython-input-3-8bfc35fd8b44>\u001b[0m in \u001b[0;36m<module>\u001b[1;34m\u001b[0m\n\u001b[0;32m      1\u001b[0m \u001b[1;31m#Instantiate DataFrame of craigslist data\u001b[0m\u001b[1;33m\u001b[0m\u001b[1;33m\u001b[0m\u001b[1;33m\u001b[0m\u001b[0m\n\u001b[0;32m      2\u001b[0m \u001b[1;33m\u001b[0m\u001b[0m\n\u001b[1;32m----> 3\u001b[1;33m \u001b[0mlistings_df\u001b[0m \u001b[1;33m=\u001b[0m \u001b[0mpd\u001b[0m\u001b[1;33m.\u001b[0m\u001b[0mread_csv\u001b[0m\u001b[1;33m(\u001b[0m\u001b[1;34m'data\\\\CRAIGSLIST.Listings-1.csv'\u001b[0m\u001b[1;33m)\u001b[0m\u001b[1;33m\u001b[0m\u001b[1;33m\u001b[0m\u001b[0m\n\u001b[0m",
      "\u001b[1;32m~\\anaconda3\\envs\\craigslist-recommender\\lib\\site-packages\\pandas\\io\\parsers.py\u001b[0m in \u001b[0;36mread_csv\u001b[1;34m(filepath_or_buffer, sep, delimiter, header, names, index_col, usecols, squeeze, prefix, mangle_dupe_cols, dtype, engine, converters, true_values, false_values, skipinitialspace, skiprows, skipfooter, nrows, na_values, keep_default_na, na_filter, verbose, skip_blank_lines, parse_dates, infer_datetime_format, keep_date_col, date_parser, dayfirst, cache_dates, iterator, chunksize, compression, thousands, decimal, lineterminator, quotechar, quoting, doublequote, escapechar, comment, encoding, dialect, error_bad_lines, warn_bad_lines, delim_whitespace, low_memory, memory_map, float_precision, storage_options)\u001b[0m\n\u001b[0;32m    608\u001b[0m     \u001b[0mkwds\u001b[0m\u001b[1;33m.\u001b[0m\u001b[0mupdate\u001b[0m\u001b[1;33m(\u001b[0m\u001b[0mkwds_defaults\u001b[0m\u001b[1;33m)\u001b[0m\u001b[1;33m\u001b[0m\u001b[1;33m\u001b[0m\u001b[0m\n\u001b[0;32m    609\u001b[0m \u001b[1;33m\u001b[0m\u001b[0m\n\u001b[1;32m--> 610\u001b[1;33m     \u001b[1;32mreturn\u001b[0m \u001b[0m_read\u001b[0m\u001b[1;33m(\u001b[0m\u001b[0mfilepath_or_buffer\u001b[0m\u001b[1;33m,\u001b[0m \u001b[0mkwds\u001b[0m\u001b[1;33m)\u001b[0m\u001b[1;33m\u001b[0m\u001b[1;33m\u001b[0m\u001b[0m\n\u001b[0m\u001b[0;32m    611\u001b[0m \u001b[1;33m\u001b[0m\u001b[0m\n\u001b[0;32m    612\u001b[0m \u001b[1;33m\u001b[0m\u001b[0m\n",
      "\u001b[1;32m~\\anaconda3\\envs\\craigslist-recommender\\lib\\site-packages\\pandas\\io\\parsers.py\u001b[0m in \u001b[0;36m_read\u001b[1;34m(filepath_or_buffer, kwds)\u001b[0m\n\u001b[0;32m    460\u001b[0m \u001b[1;33m\u001b[0m\u001b[0m\n\u001b[0;32m    461\u001b[0m     \u001b[1;31m# Create the parser.\u001b[0m\u001b[1;33m\u001b[0m\u001b[1;33m\u001b[0m\u001b[1;33m\u001b[0m\u001b[0m\n\u001b[1;32m--> 462\u001b[1;33m     \u001b[0mparser\u001b[0m \u001b[1;33m=\u001b[0m \u001b[0mTextFileReader\u001b[0m\u001b[1;33m(\u001b[0m\u001b[0mfilepath_or_buffer\u001b[0m\u001b[1;33m,\u001b[0m \u001b[1;33m**\u001b[0m\u001b[0mkwds\u001b[0m\u001b[1;33m)\u001b[0m\u001b[1;33m\u001b[0m\u001b[1;33m\u001b[0m\u001b[0m\n\u001b[0m\u001b[0;32m    463\u001b[0m \u001b[1;33m\u001b[0m\u001b[0m\n\u001b[0;32m    464\u001b[0m     \u001b[1;32mif\u001b[0m \u001b[0mchunksize\u001b[0m \u001b[1;32mor\u001b[0m \u001b[0miterator\u001b[0m\u001b[1;33m:\u001b[0m\u001b[1;33m\u001b[0m\u001b[1;33m\u001b[0m\u001b[0m\n",
      "\u001b[1;32m~\\anaconda3\\envs\\craigslist-recommender\\lib\\site-packages\\pandas\\io\\parsers.py\u001b[0m in \u001b[0;36m__init__\u001b[1;34m(self, f, engine, **kwds)\u001b[0m\n\u001b[0;32m    817\u001b[0m             \u001b[0mself\u001b[0m\u001b[1;33m.\u001b[0m\u001b[0moptions\u001b[0m\u001b[1;33m[\u001b[0m\u001b[1;34m\"has_index_names\"\u001b[0m\u001b[1;33m]\u001b[0m \u001b[1;33m=\u001b[0m \u001b[0mkwds\u001b[0m\u001b[1;33m[\u001b[0m\u001b[1;34m\"has_index_names\"\u001b[0m\u001b[1;33m]\u001b[0m\u001b[1;33m\u001b[0m\u001b[1;33m\u001b[0m\u001b[0m\n\u001b[0;32m    818\u001b[0m \u001b[1;33m\u001b[0m\u001b[0m\n\u001b[1;32m--> 819\u001b[1;33m         \u001b[0mself\u001b[0m\u001b[1;33m.\u001b[0m\u001b[0m_engine\u001b[0m \u001b[1;33m=\u001b[0m \u001b[0mself\u001b[0m\u001b[1;33m.\u001b[0m\u001b[0m_make_engine\u001b[0m\u001b[1;33m(\u001b[0m\u001b[0mself\u001b[0m\u001b[1;33m.\u001b[0m\u001b[0mengine\u001b[0m\u001b[1;33m)\u001b[0m\u001b[1;33m\u001b[0m\u001b[1;33m\u001b[0m\u001b[0m\n\u001b[0m\u001b[0;32m    820\u001b[0m \u001b[1;33m\u001b[0m\u001b[0m\n\u001b[0;32m    821\u001b[0m     \u001b[1;32mdef\u001b[0m \u001b[0mclose\u001b[0m\u001b[1;33m(\u001b[0m\u001b[0mself\u001b[0m\u001b[1;33m)\u001b[0m\u001b[1;33m:\u001b[0m\u001b[1;33m\u001b[0m\u001b[1;33m\u001b[0m\u001b[0m\n",
      "\u001b[1;32m~\\anaconda3\\envs\\craigslist-recommender\\lib\\site-packages\\pandas\\io\\parsers.py\u001b[0m in \u001b[0;36m_make_engine\u001b[1;34m(self, engine)\u001b[0m\n\u001b[0;32m   1048\u001b[0m             )\n\u001b[0;32m   1049\u001b[0m         \u001b[1;31m# error: Too many arguments for \"ParserBase\"\u001b[0m\u001b[1;33m\u001b[0m\u001b[1;33m\u001b[0m\u001b[1;33m\u001b[0m\u001b[0m\n\u001b[1;32m-> 1050\u001b[1;33m         \u001b[1;32mreturn\u001b[0m \u001b[0mmapping\u001b[0m\u001b[1;33m[\u001b[0m\u001b[0mengine\u001b[0m\u001b[1;33m]\u001b[0m\u001b[1;33m(\u001b[0m\u001b[0mself\u001b[0m\u001b[1;33m.\u001b[0m\u001b[0mf\u001b[0m\u001b[1;33m,\u001b[0m \u001b[1;33m**\u001b[0m\u001b[0mself\u001b[0m\u001b[1;33m.\u001b[0m\u001b[0moptions\u001b[0m\u001b[1;33m)\u001b[0m  \u001b[1;31m# type: ignore[call-arg]\u001b[0m\u001b[1;33m\u001b[0m\u001b[1;33m\u001b[0m\u001b[0m\n\u001b[0m\u001b[0;32m   1051\u001b[0m \u001b[1;33m\u001b[0m\u001b[0m\n\u001b[0;32m   1052\u001b[0m     \u001b[1;32mdef\u001b[0m \u001b[0m_failover_to_python\u001b[0m\u001b[1;33m(\u001b[0m\u001b[0mself\u001b[0m\u001b[1;33m)\u001b[0m\u001b[1;33m:\u001b[0m\u001b[1;33m\u001b[0m\u001b[1;33m\u001b[0m\u001b[0m\n",
      "\u001b[1;32m~\\anaconda3\\envs\\craigslist-recommender\\lib\\site-packages\\pandas\\io\\parsers.py\u001b[0m in \u001b[0;36m__init__\u001b[1;34m(self, src, **kwds)\u001b[0m\n\u001b[0;32m   1865\u001b[0m \u001b[1;33m\u001b[0m\u001b[0m\n\u001b[0;32m   1866\u001b[0m         \u001b[1;31m# open handles\u001b[0m\u001b[1;33m\u001b[0m\u001b[1;33m\u001b[0m\u001b[1;33m\u001b[0m\u001b[0m\n\u001b[1;32m-> 1867\u001b[1;33m         \u001b[0mself\u001b[0m\u001b[1;33m.\u001b[0m\u001b[0m_open_handles\u001b[0m\u001b[1;33m(\u001b[0m\u001b[0msrc\u001b[0m\u001b[1;33m,\u001b[0m \u001b[0mkwds\u001b[0m\u001b[1;33m)\u001b[0m\u001b[1;33m\u001b[0m\u001b[1;33m\u001b[0m\u001b[0m\n\u001b[0m\u001b[0;32m   1868\u001b[0m         \u001b[1;32massert\u001b[0m \u001b[0mself\u001b[0m\u001b[1;33m.\u001b[0m\u001b[0mhandles\u001b[0m \u001b[1;32mis\u001b[0m \u001b[1;32mnot\u001b[0m \u001b[1;32mNone\u001b[0m\u001b[1;33m\u001b[0m\u001b[1;33m\u001b[0m\u001b[0m\n\u001b[0;32m   1869\u001b[0m         \u001b[1;32mfor\u001b[0m \u001b[0mkey\u001b[0m \u001b[1;32min\u001b[0m \u001b[1;33m(\u001b[0m\u001b[1;34m\"storage_options\"\u001b[0m\u001b[1;33m,\u001b[0m \u001b[1;34m\"encoding\"\u001b[0m\u001b[1;33m,\u001b[0m \u001b[1;34m\"memory_map\"\u001b[0m\u001b[1;33m,\u001b[0m \u001b[1;34m\"compression\"\u001b[0m\u001b[1;33m)\u001b[0m\u001b[1;33m:\u001b[0m\u001b[1;33m\u001b[0m\u001b[1;33m\u001b[0m\u001b[0m\n",
      "\u001b[1;32m~\\anaconda3\\envs\\craigslist-recommender\\lib\\site-packages\\pandas\\io\\parsers.py\u001b[0m in \u001b[0;36m_open_handles\u001b[1;34m(self, src, kwds)\u001b[0m\n\u001b[0;32m   1360\u001b[0m         \u001b[0mLet\u001b[0m \u001b[0mthe\u001b[0m \u001b[0mreaders\u001b[0m \u001b[0mopen\u001b[0m \u001b[0mIOHanldes\u001b[0m \u001b[0mafter\u001b[0m \u001b[0mthey\u001b[0m \u001b[0mare\u001b[0m \u001b[0mdone\u001b[0m \u001b[1;32mwith\u001b[0m \u001b[0mtheir\u001b[0m \u001b[0mpotential\u001b[0m \u001b[0mraises\u001b[0m\u001b[1;33m.\u001b[0m\u001b[1;33m\u001b[0m\u001b[1;33m\u001b[0m\u001b[0m\n\u001b[0;32m   1361\u001b[0m         \"\"\"\n\u001b[1;32m-> 1362\u001b[1;33m         self.handles = get_handle(\n\u001b[0m\u001b[0;32m   1363\u001b[0m             \u001b[0msrc\u001b[0m\u001b[1;33m,\u001b[0m\u001b[1;33m\u001b[0m\u001b[1;33m\u001b[0m\u001b[0m\n\u001b[0;32m   1364\u001b[0m             \u001b[1;34m\"r\"\u001b[0m\u001b[1;33m,\u001b[0m\u001b[1;33m\u001b[0m\u001b[1;33m\u001b[0m\u001b[0m\n",
      "\u001b[1;32m~\\anaconda3\\envs\\craigslist-recommender\\lib\\site-packages\\pandas\\io\\common.py\u001b[0m in \u001b[0;36mget_handle\u001b[1;34m(path_or_buf, mode, encoding, compression, memory_map, is_text, errors, storage_options)\u001b[0m\n\u001b[0;32m    640\u001b[0m                 \u001b[0merrors\u001b[0m \u001b[1;33m=\u001b[0m \u001b[1;34m\"replace\"\u001b[0m\u001b[1;33m\u001b[0m\u001b[1;33m\u001b[0m\u001b[0m\n\u001b[0;32m    641\u001b[0m             \u001b[1;31m# Encoding\u001b[0m\u001b[1;33m\u001b[0m\u001b[1;33m\u001b[0m\u001b[1;33m\u001b[0m\u001b[0m\n\u001b[1;32m--> 642\u001b[1;33m             handle = open(\n\u001b[0m\u001b[0;32m    643\u001b[0m                 \u001b[0mhandle\u001b[0m\u001b[1;33m,\u001b[0m\u001b[1;33m\u001b[0m\u001b[1;33m\u001b[0m\u001b[0m\n\u001b[0;32m    644\u001b[0m                 \u001b[0mioargs\u001b[0m\u001b[1;33m.\u001b[0m\u001b[0mmode\u001b[0m\u001b[1;33m,\u001b[0m\u001b[1;33m\u001b[0m\u001b[1;33m\u001b[0m\u001b[0m\n",
      "\u001b[1;31mFileNotFoundError\u001b[0m: [Errno 2] No such file or directory: 'data\\\\CRAIGSLIST.Listings-1.csv'"
     ]
    }
   ],
   "source": [
    "#Instantiate DataFrame of craigslist data\n",
    "\n",
    "listings_df = pd.read_csv('data\\\\CRAIGSLIST.Listings-1.csv')"
   ]
  },
  {
   "cell_type": "code",
   "execution_count": null,
   "id": "9df39430-ff32-4e9b-b3d4-9fd44a7d810b",
   "metadata": {},
   "outputs": [],
   "source": [
    "# Function to print dataframe columns in a readable format\n",
    "\n",
    "def format_columns(df):\n",
    "    print(\"Columns:\")\n",
    "    for column in df.columns:\n",
    "        print(column)"
   ]
  },
  {
   "cell_type": "code",
   "execution_count": null,
   "id": "789c8131-344c-470c-b660-be9e761eb20c",
   "metadata": {},
   "outputs": [],
   "source": [
    "format_columns(listings_df)"
   ]
  },
  {
   "cell_type": "code",
   "execution_count": null,
   "id": "6737976f-5961-4ed0-85ca-2d981de17215",
   "metadata": {},
   "outputs": [],
   "source": [
    "listings_df.RETRIEVED_ON.min()"
   ]
  },
  {
   "cell_type": "code",
   "execution_count": null,
   "id": "e224c6cd-d04b-461f-b1c8-f61347478a62",
   "metadata": {},
   "outputs": [],
   "source": [
    "listings_df.RETRIEVED_ON.max()"
   ]
  },
  {
   "cell_type": "markdown",
   "id": "db8f1b33-5687-4fd4-bc6e-75692e400bfc",
   "metadata": {},
   "source": [
    "#### The dataset includes listings that were active on the site from 01/18/2020 through 04/26/2020. The 'RETRIEVED_ON' column will no longer be needed for this dataset."
   ]
  },
  {
   "cell_type": "markdown",
   "id": "d4be21f3-fb26-4944-98d4-3bf400a22140",
   "metadata": {},
   "source": [
    "#### Because this tool is intended to be used with a snapshot of current listing data, ['LISTING_MONTH', 'LISTING_DAY, 'LISTING_TIME'] are not relevant.  "
   ]
  },
  {
   "cell_type": "markdown",
   "id": "8a2a8412-d980-4670-890a-c13e63796ceb",
   "metadata": {},
   "source": [
    "#### The location data contained in ['ADDRESS', 'LOCATION', 'CT_ID_10'] are outside the current scope of this project. Despite being particularly important for real estate, the vast majority of goods and services offered on craigslist are filtered by location as much as necessary by user location selection."
   ]
  },
  {
   "cell_type": "code",
   "execution_count": null,
   "id": "7d461ba9-13cd-4260-96bd-e8ca8659800e",
   "metadata": {},
   "outputs": [],
   "source": [
    "#Drop unnecessary columns from feature set\n",
    "\n",
    "listings_df.drop(['LISTING_MONTH',\n",
    "               'LISTING_DAY',\n",
    "               'LISTING_TIME',\n",
    "               'RETRIEVED_ON',\n",
    "               'ADDRESS',\n",
    "               'LOCATION',\n",
    "               'CT_ID_10'],\n",
    "              axis =1,\n",
    "              inplace = True)"
   ]
  },
  {
   "cell_type": "code",
   "execution_count": null,
   "id": "b879d17e-5033-44be-a0f0-632d2d4c6705",
   "metadata": {},
   "outputs": [],
   "source": [
    "format_columns(listings_df)"
   ]
  },
  {
   "cell_type": "code",
   "execution_count": null,
   "id": "f5de6460-872e-4552-bffa-fbf4f45f9369",
   "metadata": {},
   "outputs": [],
   "source": [
    "unique_IDs = listings_df.LISTING_ID.nunique()\n",
    "row_count = listings_df.shape[0]\n",
    "excess = row_count - unique_IDs\n",
    "\n",
    "print('Unique Listing IDs:', unique_IDs)\n",
    "print('Rows in DataFrame:', row_count)\n",
    "print('Excess Rows:', excess)\n",
    "print('Percentage of Dataset that is Excess:', round(excess/row_count, 4) * 100)"
   ]
  },
  {
   "cell_type": "markdown",
   "id": "165a0c73-e34c-4b51-aefc-1272e014b247",
   "metadata": {},
   "source": [
    "#### There are 5,445 observations in the dataset that contain duplicate IDs. Duplicates will be dropped in favor of the more recent listing"
   ]
  },
  {
   "cell_type": "code",
   "execution_count": null,
   "id": "0068a6b4-027d-41db-8d68-c2409f3e92dc",
   "metadata": {
    "tags": []
   },
   "outputs": [],
   "source": [
    "listings_df.drop_duplicates(subset = ['LISTING_ID'], inplace = True, keep = 'last')"
   ]
  },
  {
   "cell_type": "code",
   "execution_count": null,
   "id": "6db74a37-4515-47cf-8732-20176a1b7b2e",
   "metadata": {},
   "outputs": [],
   "source": [
    "unique_IDs = listings_df.LISTING_ID.nunique()\n",
    "row_count = listings_df.shape[0]\n",
    "excess = row_count - unique_IDs\n",
    "\n",
    "print('Unique Listing IDs:', unique_IDs)\n",
    "print('Rows in DataFrame:', row_count)\n",
    "print('Excess Rows:', excess)\n",
    "print('Percentage of Dataset that is Excess:', round(excess/row_count, 4) * 100)"
   ]
  },
  {
   "cell_type": "markdown",
   "id": "2634d1aa-f00e-4f4a-a838-e25bfffbda28",
   "metadata": {},
   "source": [
    "#### 'LISTING_ID' will now be used as the index of the DataFrame"
   ]
  },
  {
   "cell_type": "code",
   "execution_count": null,
   "id": "ab21c46a-21a3-45b8-b768-1bc0b01f4e51",
   "metadata": {},
   "outputs": [],
   "source": [
    "listings_df.set_index('LISTING_ID', drop = True, inplace = True)"
   ]
  },
  {
   "cell_type": "code",
   "execution_count": null,
   "id": "d989d2aa-1852-49d6-a1c6-19fb3c50f079",
   "metadata": {},
   "outputs": [],
   "source": [
    "listings_df.describe()"
   ]
  },
  {
   "cell_type": "code",
   "execution_count": null,
   "id": "f85658a3-f72b-4404-a471-2b9fd5c606ed",
   "metadata": {},
   "outputs": [],
   "source": [
    "print('Current number of rows in DataFrame:', listings_df.shape[0])"
   ]
  },
  {
   "cell_type": "markdown",
   "id": "484d3e4f-ec5c-485d-840b-4aa054c72c27",
   "metadata": {},
   "source": [
    "#### The missing data in the pet-related and 'AREA_SQFT' columns need to be accounted for."
   ]
  },
  {
   "cell_type": "code",
   "execution_count": null,
   "id": "92adec6f-42a3-4d46-9d2d-c29c5610f88a",
   "metadata": {},
   "outputs": [],
   "source": [
    "missing_pet_data_count = listings_df.shape[0] - sum(listings_df.ALLOWS_CATS.notnull())\n",
    "print('Observations with missing pet data:', missing_pet_data_count)\n",
    "print('Percent of original dataset:', round(missing_pet_data_count/row_count, 4) * 100)"
   ]
  },
  {
   "cell_type": "code",
   "execution_count": null,
   "id": "3c5a7554-1d84-4b32-85bf-288be678d22c",
   "metadata": {},
   "outputs": [],
   "source": [
    "missing_area_data_count = listings_df.shape[0] - sum(listings_df.AREA_SQFT.notnull())\n",
    "print('Observations with missing pet data:', missing_area_data_count)\n",
    "print('Percent of original dataset:', round(missing_area_data_count/row_count, 4) * 100)"
   ]
  },
  {
   "cell_type": "markdown",
   "id": "b075db66-0290-4c39-bbc3-1b1d51fcb21d",
   "metadata": {},
   "source": [
    "#### Because the observations with missing pet-related data compose only 1.95% of the dataset, those observations will be removed."
   ]
  },
  {
   "cell_type": "code",
   "execution_count": null,
   "id": "01d2251f-afd9-4192-a033-ffe8f9bc9c31",
   "metadata": {
    "tags": []
   },
   "outputs": [],
   "source": [
    "#Drop rows without pet data\n",
    "\n",
    "listings_df = listings_df[listings_df.ALLOWS_CATS.notnull()]"
   ]
  },
  {
   "cell_type": "markdown",
   "id": "91b74463-f901-4bd2-b5e5-4636d2fdb498",
   "metadata": {},
   "source": [
    "#### However, over half of the observations are missing square footage data, so the missing values will be replaced with the median of the existing values after removing outliers"
   ]
  },
  {
   "cell_type": "code",
   "execution_count": null,
   "id": "802be75d-cca3-4389-b422-519504d35c11",
   "metadata": {},
   "outputs": [],
   "source": [
    "with_sqft = listings_df[listings_df.AREA_SQFT.notnull()]\n",
    "without_sqft = listings_df[listings_df.AREA_SQFT.isnull()]\n",
    "\n",
    "print('Rows with square footage:', with_sqft.shape[0])\n",
    "print('Rows without square footage:', without_sqft.shape[0])"
   ]
  },
  {
   "cell_type": "code",
   "execution_count": null,
   "id": "3d7e2c9b-462c-4c8b-a03e-55f5eabdf42b",
   "metadata": {
    "tags": []
   },
   "outputs": [],
   "source": [
    "# Check the largest observations for square footage\n",
    "\n",
    "areas = with_sqft.AREA_SQFT\n",
    "areas.sort_values(ascending = False).array[:50]"
   ]
  },
  {
   "cell_type": "markdown",
   "id": "6ba821eb-adb8-4a10-86f5-a82618b85136",
   "metadata": {
    "tags": []
   },
   "source": [
    "#### According to Wikipedia, the largest house in MA is Castle Hill (https://en.wikipedia.org/wiki/List_of_largest_houses_in_the_United_States) and it has a square footage of 56, 368. The small number of observations that are greater must be erroneous and can be removed from the dataset."
   ]
  },
  {
   "cell_type": "code",
   "execution_count": null,
   "id": "87a51957-e873-4c62-80d0-4dff393eb613",
   "metadata": {
    "tags": []
   },
   "outputs": [],
   "source": [
    "with_sqft = with_sqft[with_sqft.AREA_SQFT < 56368]"
   ]
  },
  {
   "cell_type": "code",
   "execution_count": null,
   "id": "358a1582-5dca-484f-9fb3-c5490c7c9b06",
   "metadata": {
    "tags": []
   },
   "outputs": [],
   "source": [
    "plt.scatter(with_sqft.AREA_SQFT, with_sqft.PRICE)"
   ]
  },
  {
   "cell_type": "code",
   "execution_count": null,
   "id": "e7f6f25c-f924-4109-9dd6-6873a7cd6866",
   "metadata": {},
   "outputs": [],
   "source": [
    "print('Listings with unknown square footage:', sum(with_sqft.AREA_SQFT == 9999))"
   ]
  },
  {
   "cell_type": "markdown",
   "id": "792d50ec-6303-415a-aab6-ab28de0b5c12",
   "metadata": {
    "tags": []
   },
   "source": [
    "#### It is apparent that 9999 was used as a value for unknown square footages. There are a number of outliers as well."
   ]
  },
  {
   "cell_type": "code",
   "execution_count": null,
   "id": "321c009f-ac76-416f-b2c0-7f004ca97273",
   "metadata": {
    "tags": []
   },
   "outputs": [],
   "source": [
    "without_sqft = without_sqft.append(with_sqft[with_sqft.AREA_SQFT == 9999])\n",
    "\n",
    "with_sqft = with_sqft[with_sqft.AREA_SQFT != 9999]\n",
    "\n",
    "print('Rows with square footage:', with_sqft.shape[0])\n",
    "print('Rows without square footage:', without_sqft.shape[0])"
   ]
  },
  {
   "cell_type": "code",
   "execution_count": null,
   "id": "8523e296-778c-4869-9f2a-a23de2af4b2b",
   "metadata": {},
   "outputs": [],
   "source": [
    "z = np.abs(stats.zscore(with_sqft.AREA_SQFT))\n",
    "outlier_mask = z < 3\n",
    "\n",
    "with_sqft = with_sqft[outlier_mask]\n",
    "with_sqft.shape"
   ]
  },
  {
   "cell_type": "code",
   "execution_count": null,
   "id": "e82137bb-2aaa-407f-8b1f-ccca353a9a7c",
   "metadata": {},
   "outputs": [],
   "source": [
    "plt.scatter(with_sqft.AREA_SQFT, with_sqft.PRICE)"
   ]
  },
  {
   "cell_type": "code",
   "execution_count": null,
   "id": "27234525-8285-42f9-8be5-ba779f2d4979",
   "metadata": {},
   "outputs": [],
   "source": [
    "sum(with_sqft.AREA_SQFT == 0)"
   ]
  },
  {
   "cell_type": "code",
   "execution_count": null,
   "id": "f13f4b41-801b-444a-aaaa-f106433b71f2",
   "metadata": {},
   "outputs": [],
   "source": [
    "with_sqft = with_sqft[with_sqft.AREA_SQFT != 0]"
   ]
  },
  {
   "cell_type": "code",
   "execution_count": null,
   "id": "0a30571e-3455-4e47-8dd3-a5febf7c9bd4",
   "metadata": {},
   "outputs": [],
   "source": [
    "with_sqft.shape"
   ]
  },
  {
   "cell_type": "code",
   "execution_count": null,
   "id": "36a7bf9c-f3a4-498b-96f0-1afb7d86d802",
   "metadata": {},
   "outputs": [],
   "source": [
    "sns.boxplot(x=with_sqft.AREA_SQFT)"
   ]
  },
  {
   "cell_type": "code",
   "execution_count": null,
   "id": "9b587741-ff6c-40b0-97dd-a762d2f74e88",
   "metadata": {},
   "outputs": [],
   "source": [
    "median_sqft = np.median(with_sqft.AREA_SQFT)"
   ]
  },
  {
   "cell_type": "code",
   "execution_count": null,
   "id": "34e222d3-1710-47ae-8e9f-24d6abbba81c",
   "metadata": {},
   "outputs": [],
   "source": [
    "without_sqft.AREA_SQFT = median_sqft"
   ]
  },
  {
   "cell_type": "code",
   "execution_count": null,
   "id": "f88c9a75-614e-4361-9256-96a591b644b4",
   "metadata": {},
   "outputs": [],
   "source": [
    "without_sqft.head()"
   ]
  },
  {
   "cell_type": "code",
   "execution_count": null,
   "id": "5850ef14-8e65-4f27-b870-509efbcb0f77",
   "metadata": {},
   "outputs": [],
   "source": [
    "listings_df = with_sqft.append(without_sqft)"
   ]
  },
  {
   "cell_type": "code",
   "execution_count": null,
   "id": "76a27d4d-ba5f-4e8a-ba5a-49748e2bfbb4",
   "metadata": {},
   "outputs": [],
   "source": [
    "listings_df.shape"
   ]
  },
  {
   "cell_type": "code",
   "execution_count": null,
   "id": "714de2be-c0b9-4dae-8dfa-3f3895743548",
   "metadata": {},
   "outputs": [],
   "source": [
    "listings_df.head()"
   ]
  },
  {
   "cell_type": "code",
   "execution_count": null,
   "id": "917c650f-bcfb-4881-b0ee-5142318923b3",
   "metadata": {},
   "outputs": [],
   "source": [
    "listings_df.tail()"
   ]
  },
  {
   "cell_type": "code",
   "execution_count": null,
   "id": "042c07b4-2c98-404d-aaa5-b2f17e3109d1",
   "metadata": {},
   "outputs": [],
   "source": [
    "plt.hist(listings_df.PRICE, bins = 25)"
   ]
  },
  {
   "cell_type": "code",
   "execution_count": null,
   "id": "be9a34e7-35d2-47bc-a19f-2483ea3e7c33",
   "metadata": {},
   "outputs": [],
   "source": [
    "sns.boxplot(x=listings_df.PRICE)"
   ]
  },
  {
   "cell_type": "code",
   "execution_count": null,
   "id": "4c780c1b-c7d9-4d22-a93f-3286524caa0b",
   "metadata": {},
   "outputs": [],
   "source": [
    "listings_df.info()"
   ]
  },
  {
   "cell_type": "code",
   "execution_count": null,
   "id": "3b13478c-7ff2-44d9-a3b8-5a6a06e0fe8e",
   "metadata": {},
   "outputs": [],
   "source": [
    "listings_df.to_csv('\\\\data\\\\wrangled_data.csv')"
   ]
  },
  {
   "cell_type": "markdown",
   "id": "e124e4b7-2c41-4128-a561-32d041b5ca40",
   "metadata": {},
   "source": [
    "#### The data is now wrangled and ready for engineering!"
   ]
  }
 ],
 "metadata": {
  "kernelspec": {
   "display_name": "Python 3",
   "language": "python",
   "name": "python3"
  },
  "language_info": {
   "codemirror_mode": {
    "name": "ipython",
    "version": 3
   },
   "file_extension": ".py",
   "mimetype": "text/x-python",
   "name": "python",
   "nbconvert_exporter": "python",
   "pygments_lexer": "ipython3",
   "version": "3.8.10"
  }
 },
 "nbformat": 4,
 "nbformat_minor": 5
}
