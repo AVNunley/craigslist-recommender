{
 "cells": [
  {
   "cell_type": "code",
   "execution_count": 1,
   "id": "e635280e-735a-4723-bda9-179452e4967c",
   "metadata": {},
   "outputs": [],
   "source": [
    "import nltk, gensim, re\n",
    "import pandas as pd\n",
    "import numpy as np\n",
    "import matplotlib.pyplot as plt\n",
    "import seaborn as sns\n",
    "from sklearn.feature_extraction.text import TfidfVectorizer, CountVectorizer\n",
    "from sklearn.cluster import KMeans\n",
    "from sklearn.metrics.pairwise import linear_kernel\n",
    "from scipy import stats\n",
    "from gensim import parsing\n",
    "\n",
    "sns.set_context('talk')"
   ]
  },
  {
   "cell_type": "markdown",
   "id": "914916ab-df32-4ec1-a0a0-9db862c3cfec",
   "metadata": {},
   "source": [
    "#### Before building an unsupervised machine learning model using the full feature set, we can already use the vectorized form of the 'BODY' column to generate recommendations."
   ]
  },
  {
   "cell_type": "code",
   "execution_count": 2,
   "id": "5f0a87ab-05be-423a-86ad-1654ae4a8c02",
   "metadata": {},
   "outputs": [],
   "source": [
    "#Instantiate DataFrame of craigslist data\n",
    "df = pd.read_csv('..\\\\data\\\\wrangled_data.csv')"
   ]
  },
  {
   "cell_type": "code",
   "execution_count": 3,
   "id": "ee65cd09-80b0-4bd0-8e53-34ffd5032f82",
   "metadata": {},
   "outputs": [
    {
     "data": {
      "text/html": [
       "<div>\n",
       "<style scoped>\n",
       "    .dataframe tbody tr th:only-of-type {\n",
       "        vertical-align: middle;\n",
       "    }\n",
       "\n",
       "    .dataframe tbody tr th {\n",
       "        vertical-align: top;\n",
       "    }\n",
       "\n",
       "    .dataframe thead th {\n",
       "        text-align: right;\n",
       "    }\n",
       "</style>\n",
       "<table border=\"1\" class=\"dataframe\">\n",
       "  <thead>\n",
       "    <tr style=\"text-align: right;\">\n",
       "      <th></th>\n",
       "      <th>LISTING_ID</th>\n",
       "      <th>BODY</th>\n",
       "      <th>PRICE</th>\n",
       "      <th>AREA_SQFT</th>\n",
       "      <th>ALLOWS_CATS</th>\n",
       "      <th>ALLOWS_DOGS</th>\n",
       "    </tr>\n",
       "  </thead>\n",
       "  <tbody>\n",
       "    <tr>\n",
       "      <th>0</th>\n",
       "      <td>7075306172</td>\n",
       "      <td>PROPERTY INFO ID: 32252124Rent: 2275 / MonthBe...</td>\n",
       "      <td>2275</td>\n",
       "      <td>900.0</td>\n",
       "      <td>1.0</td>\n",
       "      <td>0.0</td>\n",
       "    </tr>\n",
       "    <tr>\n",
       "      <th>1</th>\n",
       "      <td>7075321793</td>\n",
       "      <td>PROPERTY INFO ID: 1281339Rent: 2350 / MonthBed...</td>\n",
       "      <td>2350</td>\n",
       "      <td>800.0</td>\n",
       "      <td>1.0</td>\n",
       "      <td>0.0</td>\n",
       "    </tr>\n",
       "    <tr>\n",
       "      <th>2</th>\n",
       "      <td>7075372720</td>\n",
       "      <td>PROPERTY INFO ID: 2741631Rent: 2395 / MonthBed...</td>\n",
       "      <td>2395</td>\n",
       "      <td>875.0</td>\n",
       "      <td>1.0</td>\n",
       "      <td>0.0</td>\n",
       "    </tr>\n",
       "    <tr>\n",
       "      <th>3</th>\n",
       "      <td>7075376264</td>\n",
       "      <td>PROPERTY INFO ID: 2741631Rent: 2395 / MonthBed...</td>\n",
       "      <td>2395</td>\n",
       "      <td>875.0</td>\n",
       "      <td>1.0</td>\n",
       "      <td>0.0</td>\n",
       "    </tr>\n",
       "    <tr>\n",
       "      <th>4</th>\n",
       "      <td>7075380613</td>\n",
       "      <td>PROPERTY INFO ID: 9826244Rent: 2450 / MonthBed...</td>\n",
       "      <td>2450</td>\n",
       "      <td>950.0</td>\n",
       "      <td>1.0</td>\n",
       "      <td>0.0</td>\n",
       "    </tr>\n",
       "  </tbody>\n",
       "</table>\n",
       "</div>"
      ],
      "text/plain": [
       "   LISTING_ID                                               BODY  PRICE  \\\n",
       "0  7075306172  PROPERTY INFO ID: 32252124Rent: 2275 / MonthBe...   2275   \n",
       "1  7075321793  PROPERTY INFO ID: 1281339Rent: 2350 / MonthBed...   2350   \n",
       "2  7075372720  PROPERTY INFO ID: 2741631Rent: 2395 / MonthBed...   2395   \n",
       "3  7075376264  PROPERTY INFO ID: 2741631Rent: 2395 / MonthBed...   2395   \n",
       "4  7075380613  PROPERTY INFO ID: 9826244Rent: 2450 / MonthBed...   2450   \n",
       "\n",
       "   AREA_SQFT  ALLOWS_CATS  ALLOWS_DOGS  \n",
       "0      900.0          1.0          0.0  \n",
       "1      800.0          1.0          0.0  \n",
       "2      875.0          1.0          0.0  \n",
       "3      875.0          1.0          0.0  \n",
       "4      950.0          1.0          0.0  "
      ]
     },
     "execution_count": 3,
     "metadata": {},
     "output_type": "execute_result"
    }
   ],
   "source": [
    "df.head()"
   ]
  },
  {
   "cell_type": "code",
   "execution_count": 4,
   "id": "f941cba7-e2a0-4803-a6b6-eb6bb346eca2",
   "metadata": {},
   "outputs": [],
   "source": [
    "indices = pd.Series(df.index, index=df['LISTING_ID'])"
   ]
  },
  {
   "cell_type": "code",
   "execution_count": null,
   "id": "82dbf915-56e9-4381-b415-0508c0e491bf",
   "metadata": {},
   "outputs": [],
   "source": [
    "def get_recommendations(id, matrix, indices, number):\n",
    "\n",
    "    index = indices[id]\n",
    "\n",
    "    sim_scores = list(enumerate(matrix[index]))\n",
    "    sim_scores = sorted(sim_scores, key=lambda x: x[1], reverse=True)\n",
    "\n",
    "    sim_scores = sim_scores[1 : number + 1]\n",
    "\n",
    "    listing_indices = [i[0] for i in sim_scores]\n",
    "\n",
    "    return df.iloc[listing_indices]"
   ]
  },
  {
   "cell_type": "code",
   "execution_count": 6,
   "id": "76a1926b-dcd4-4c40-9822-be42e96fc465",
   "metadata": {},
   "outputs": [],
   "source": [
    "preprocessed_text = parsing.preprocess_documents(df.BODY)\n",
    "preprocessed_text = [' '.join(word) for word in preprocessed_text]"
   ]
  },
  {
   "cell_type": "code",
   "execution_count": 7,
   "id": "4320736a-696a-4a46-9691-d01fcb7269df",
   "metadata": {},
   "outputs": [
    {
     "data": {
      "text/plain": [
       "(126358, 20738)"
      ]
     },
     "execution_count": 7,
     "metadata": {},
     "output_type": "execute_result"
    }
   ],
   "source": [
    "tfidf_vectorizer = TfidfVectorizer(stop_words = 'english', min_df = 2, max_df = 0.7)\n",
    "tfidf_matrix = tfidf_vectorizer.fit_transform(preprocessed_text)\n",
    "tfidf_matrix.shape"
   ]
  },
  {
   "cell_type": "code",
   "execution_count": 8,
   "id": "f8325d78-13b7-49d3-a778-b361738cd605",
   "metadata": {},
   "outputs": [
    {
     "ename": "MemoryError",
     "evalue": "Unable to allocate 117. GiB for an array with shape (15687690569,) and data type int64",
     "output_type": "error",
     "traceback": [
      "\u001b[1;31m---------------------------------------------------------------------------\u001b[0m",
      "\u001b[1;31mMemoryError\u001b[0m                               Traceback (most recent call last)",
      "\u001b[1;32m<ipython-input-8-548843ebd986>\u001b[0m in \u001b[0;36m<module>\u001b[1;34m\u001b[0m\n\u001b[1;32m----> 1\u001b[1;33m \u001b[0mcosine_sim\u001b[0m \u001b[1;33m=\u001b[0m \u001b[0mlinear_kernel\u001b[0m\u001b[1;33m(\u001b[0m\u001b[0mtfidf_matrix\u001b[0m\u001b[1;33m,\u001b[0m \u001b[0mtfidf_matrix\u001b[0m\u001b[1;33m)\u001b[0m\u001b[1;33m\u001b[0m\u001b[1;33m\u001b[0m\u001b[0m\n\u001b[0m\u001b[0;32m      2\u001b[0m \u001b[0mcosine_sim\u001b[0m\u001b[1;33m[\u001b[0m\u001b[1;33m:\u001b[0m\u001b[1;36m5\u001b[0m\u001b[1;33m]\u001b[0m\u001b[1;33m\u001b[0m\u001b[1;33m\u001b[0m\u001b[0m\n",
      "\u001b[1;32m~\\anaconda3\\envs\\craigslist-recommender\\lib\\site-packages\\sklearn\\metrics\\pairwise.py\u001b[0m in \u001b[0;36mlinear_kernel\u001b[1;34m(X, Y, dense_output)\u001b[0m\n\u001b[0;32m   1003\u001b[0m     \"\"\"\n\u001b[0;32m   1004\u001b[0m     \u001b[0mX\u001b[0m\u001b[1;33m,\u001b[0m \u001b[0mY\u001b[0m \u001b[1;33m=\u001b[0m \u001b[0mcheck_pairwise_arrays\u001b[0m\u001b[1;33m(\u001b[0m\u001b[0mX\u001b[0m\u001b[1;33m,\u001b[0m \u001b[0mY\u001b[0m\u001b[1;33m)\u001b[0m\u001b[1;33m\u001b[0m\u001b[1;33m\u001b[0m\u001b[0m\n\u001b[1;32m-> 1005\u001b[1;33m     \u001b[1;32mreturn\u001b[0m \u001b[0msafe_sparse_dot\u001b[0m\u001b[1;33m(\u001b[0m\u001b[0mX\u001b[0m\u001b[1;33m,\u001b[0m \u001b[0mY\u001b[0m\u001b[1;33m.\u001b[0m\u001b[0mT\u001b[0m\u001b[1;33m,\u001b[0m \u001b[0mdense_output\u001b[0m\u001b[1;33m=\u001b[0m\u001b[0mdense_output\u001b[0m\u001b[1;33m)\u001b[0m\u001b[1;33m\u001b[0m\u001b[1;33m\u001b[0m\u001b[0m\n\u001b[0m\u001b[0;32m   1006\u001b[0m \u001b[1;33m\u001b[0m\u001b[0m\n\u001b[0;32m   1007\u001b[0m \u001b[1;33m\u001b[0m\u001b[0m\n",
      "\u001b[1;32m~\\anaconda3\\envs\\craigslist-recommender\\lib\\site-packages\\sklearn\\utils\\validation.py\u001b[0m in \u001b[0;36minner_f\u001b[1;34m(*args, **kwargs)\u001b[0m\n\u001b[0;32m     61\u001b[0m             \u001b[0mextra_args\u001b[0m \u001b[1;33m=\u001b[0m \u001b[0mlen\u001b[0m\u001b[1;33m(\u001b[0m\u001b[0margs\u001b[0m\u001b[1;33m)\u001b[0m \u001b[1;33m-\u001b[0m \u001b[0mlen\u001b[0m\u001b[1;33m(\u001b[0m\u001b[0mall_args\u001b[0m\u001b[1;33m)\u001b[0m\u001b[1;33m\u001b[0m\u001b[1;33m\u001b[0m\u001b[0m\n\u001b[0;32m     62\u001b[0m             \u001b[1;32mif\u001b[0m \u001b[0mextra_args\u001b[0m \u001b[1;33m<=\u001b[0m \u001b[1;36m0\u001b[0m\u001b[1;33m:\u001b[0m\u001b[1;33m\u001b[0m\u001b[1;33m\u001b[0m\u001b[0m\n\u001b[1;32m---> 63\u001b[1;33m                 \u001b[1;32mreturn\u001b[0m \u001b[0mf\u001b[0m\u001b[1;33m(\u001b[0m\u001b[1;33m*\u001b[0m\u001b[0margs\u001b[0m\u001b[1;33m,\u001b[0m \u001b[1;33m**\u001b[0m\u001b[0mkwargs\u001b[0m\u001b[1;33m)\u001b[0m\u001b[1;33m\u001b[0m\u001b[1;33m\u001b[0m\u001b[0m\n\u001b[0m\u001b[0;32m     64\u001b[0m \u001b[1;33m\u001b[0m\u001b[0m\n\u001b[0;32m     65\u001b[0m             \u001b[1;31m# extra_args > 0\u001b[0m\u001b[1;33m\u001b[0m\u001b[1;33m\u001b[0m\u001b[1;33m\u001b[0m\u001b[0m\n",
      "\u001b[1;32m~\\anaconda3\\envs\\craigslist-recommender\\lib\\site-packages\\sklearn\\utils\\extmath.py\u001b[0m in \u001b[0;36msafe_sparse_dot\u001b[1;34m(a, b, dense_output)\u001b[0m\n\u001b[0;32m    150\u001b[0m             \u001b[0mret\u001b[0m \u001b[1;33m=\u001b[0m \u001b[0mnp\u001b[0m\u001b[1;33m.\u001b[0m\u001b[0mdot\u001b[0m\u001b[1;33m(\u001b[0m\u001b[0ma\u001b[0m\u001b[1;33m,\u001b[0m \u001b[0mb\u001b[0m\u001b[1;33m)\u001b[0m\u001b[1;33m\u001b[0m\u001b[1;33m\u001b[0m\u001b[0m\n\u001b[0;32m    151\u001b[0m     \u001b[1;32melse\u001b[0m\u001b[1;33m:\u001b[0m\u001b[1;33m\u001b[0m\u001b[1;33m\u001b[0m\u001b[0m\n\u001b[1;32m--> 152\u001b[1;33m         \u001b[0mret\u001b[0m \u001b[1;33m=\u001b[0m \u001b[0ma\u001b[0m \u001b[1;33m@\u001b[0m \u001b[0mb\u001b[0m\u001b[1;33m\u001b[0m\u001b[1;33m\u001b[0m\u001b[0m\n\u001b[0m\u001b[0;32m    153\u001b[0m \u001b[1;33m\u001b[0m\u001b[0m\n\u001b[0;32m    154\u001b[0m     if (sparse.issparse(a) and sparse.issparse(b)\n",
      "\u001b[1;32m~\\anaconda3\\envs\\craigslist-recommender\\lib\\site-packages\\scipy\\sparse\\base.py\u001b[0m in \u001b[0;36m__matmul__\u001b[1;34m(self, other)\u001b[0m\n\u001b[0;32m    558\u001b[0m             raise ValueError(\"Scalar operands are not allowed, \"\n\u001b[0;32m    559\u001b[0m                              \"use '*' instead\")\n\u001b[1;32m--> 560\u001b[1;33m         \u001b[1;32mreturn\u001b[0m \u001b[0mself\u001b[0m\u001b[1;33m.\u001b[0m\u001b[0m__mul__\u001b[0m\u001b[1;33m(\u001b[0m\u001b[0mother\u001b[0m\u001b[1;33m)\u001b[0m\u001b[1;33m\u001b[0m\u001b[1;33m\u001b[0m\u001b[0m\n\u001b[0m\u001b[0;32m    561\u001b[0m \u001b[1;33m\u001b[0m\u001b[0m\n\u001b[0;32m    562\u001b[0m     \u001b[1;32mdef\u001b[0m \u001b[0m__rmatmul__\u001b[0m\u001b[1;33m(\u001b[0m\u001b[0mself\u001b[0m\u001b[1;33m,\u001b[0m \u001b[0mother\u001b[0m\u001b[1;33m)\u001b[0m\u001b[1;33m:\u001b[0m\u001b[1;33m\u001b[0m\u001b[1;33m\u001b[0m\u001b[0m\n",
      "\u001b[1;32m~\\anaconda3\\envs\\craigslist-recommender\\lib\\site-packages\\scipy\\sparse\\base.py\u001b[0m in \u001b[0;36m__mul__\u001b[1;34m(self, other)\u001b[0m\n\u001b[0;32m    478\u001b[0m             \u001b[1;32mif\u001b[0m \u001b[0mself\u001b[0m\u001b[1;33m.\u001b[0m\u001b[0mshape\u001b[0m\u001b[1;33m[\u001b[0m\u001b[1;36m1\u001b[0m\u001b[1;33m]\u001b[0m \u001b[1;33m!=\u001b[0m \u001b[0mother\u001b[0m\u001b[1;33m.\u001b[0m\u001b[0mshape\u001b[0m\u001b[1;33m[\u001b[0m\u001b[1;36m0\u001b[0m\u001b[1;33m]\u001b[0m\u001b[1;33m:\u001b[0m\u001b[1;33m\u001b[0m\u001b[1;33m\u001b[0m\u001b[0m\n\u001b[0;32m    479\u001b[0m                 \u001b[1;32mraise\u001b[0m \u001b[0mValueError\u001b[0m\u001b[1;33m(\u001b[0m\u001b[1;34m'dimension mismatch'\u001b[0m\u001b[1;33m)\u001b[0m\u001b[1;33m\u001b[0m\u001b[1;33m\u001b[0m\u001b[0m\n\u001b[1;32m--> 480\u001b[1;33m             \u001b[1;32mreturn\u001b[0m \u001b[0mself\u001b[0m\u001b[1;33m.\u001b[0m\u001b[0m_mul_sparse_matrix\u001b[0m\u001b[1;33m(\u001b[0m\u001b[0mother\u001b[0m\u001b[1;33m)\u001b[0m\u001b[1;33m\u001b[0m\u001b[1;33m\u001b[0m\u001b[0m\n\u001b[0m\u001b[0;32m    481\u001b[0m \u001b[1;33m\u001b[0m\u001b[0m\n\u001b[0;32m    482\u001b[0m         \u001b[1;31m# If it's a list or whatever, treat it like a matrix\u001b[0m\u001b[1;33m\u001b[0m\u001b[1;33m\u001b[0m\u001b[1;33m\u001b[0m\u001b[0m\n",
      "\u001b[1;32m~\\anaconda3\\envs\\craigslist-recommender\\lib\\site-packages\\scipy\\sparse\\compressed.py\u001b[0m in \u001b[0;36m_mul_sparse_matrix\u001b[1;34m(self, other)\u001b[0m\n\u001b[0;32m    516\u001b[0m \u001b[1;33m\u001b[0m\u001b[0m\n\u001b[0;32m    517\u001b[0m         \u001b[0mindptr\u001b[0m \u001b[1;33m=\u001b[0m \u001b[0mnp\u001b[0m\u001b[1;33m.\u001b[0m\u001b[0mempty\u001b[0m\u001b[1;33m(\u001b[0m\u001b[0mmajor_axis\u001b[0m \u001b[1;33m+\u001b[0m \u001b[1;36m1\u001b[0m\u001b[1;33m,\u001b[0m \u001b[0mdtype\u001b[0m\u001b[1;33m=\u001b[0m\u001b[0midx_dtype\u001b[0m\u001b[1;33m)\u001b[0m\u001b[1;33m\u001b[0m\u001b[1;33m\u001b[0m\u001b[0m\n\u001b[1;32m--> 518\u001b[1;33m         \u001b[0mindices\u001b[0m \u001b[1;33m=\u001b[0m \u001b[0mnp\u001b[0m\u001b[1;33m.\u001b[0m\u001b[0mempty\u001b[0m\u001b[1;33m(\u001b[0m\u001b[0mnnz\u001b[0m\u001b[1;33m,\u001b[0m \u001b[0mdtype\u001b[0m\u001b[1;33m=\u001b[0m\u001b[0midx_dtype\u001b[0m\u001b[1;33m)\u001b[0m\u001b[1;33m\u001b[0m\u001b[1;33m\u001b[0m\u001b[0m\n\u001b[0m\u001b[0;32m    519\u001b[0m         \u001b[0mdata\u001b[0m \u001b[1;33m=\u001b[0m \u001b[0mnp\u001b[0m\u001b[1;33m.\u001b[0m\u001b[0mempty\u001b[0m\u001b[1;33m(\u001b[0m\u001b[0mnnz\u001b[0m\u001b[1;33m,\u001b[0m \u001b[0mdtype\u001b[0m\u001b[1;33m=\u001b[0m\u001b[0mupcast\u001b[0m\u001b[1;33m(\u001b[0m\u001b[0mself\u001b[0m\u001b[1;33m.\u001b[0m\u001b[0mdtype\u001b[0m\u001b[1;33m,\u001b[0m \u001b[0mother\u001b[0m\u001b[1;33m.\u001b[0m\u001b[0mdtype\u001b[0m\u001b[1;33m)\u001b[0m\u001b[1;33m)\u001b[0m\u001b[1;33m\u001b[0m\u001b[1;33m\u001b[0m\u001b[0m\n\u001b[0;32m    520\u001b[0m \u001b[1;33m\u001b[0m\u001b[0m\n",
      "\u001b[1;31mMemoryError\u001b[0m: Unable to allocate 117. GiB for an array with shape (15687690569,) and data type int64"
     ]
    }
   ],
   "source": [
    "cosine_sim = linear_kernel(tfidf_matrix, tfidf_matrix)\n",
    "cosine_sim[:5]"
   ]
  },
  {
   "cell_type": "code",
   "execution_count": null,
   "id": "1e0582b3-433d-4680-8dde-fd89d97aeaf6",
   "metadata": {},
   "outputs": [],
   "source": [
    "df.index.sample(5)"
   ]
  },
  {
   "cell_type": "code",
   "execution_count": null,
   "id": "8f210cef-86b7-49a6-b939-b83fe09bb97b",
   "metadata": {},
   "outputs": [],
   "source": []
  },
  {
   "cell_type": "code",
   "execution_count": null,
   "id": "a0024901-3d9e-49f9-97fc-eb9b2f57b1ca",
   "metadata": {},
   "outputs": [],
   "source": [
    "print(get_recommendations(7138861705, cosine_sim, indices, 10))"
   ]
  },
  {
   "cell_type": "code",
   "execution_count": null,
   "id": "d56fa7c5-7598-4499-9ec1-ab314d06a7fc",
   "metadata": {},
   "outputs": [],
   "source": []
  },
  {
   "cell_type": "code",
   "execution_count": 51,
   "id": "eb84e793-0fba-44df-bf2c-84ffe2e0cfbc",
   "metadata": {},
   "outputs": [],
   "source": [
    "#Instantiate DataFrame of craigslist data\n",
    "raw_data_sample = pd.read_csv('data\\\\CRAIGSLIST.Listings-1.csv').sample(frac = 0.1, random_state = 33).reset_index(drop = True)"
   ]
  },
  {
   "cell_type": "code",
   "execution_count": 53,
   "id": "6216299b-a727-406e-972f-3a36bbdb175c",
   "metadata": {},
   "outputs": [],
   "source": [
    "indices = pd.Series(df.index, index=df['LISTING_ID'])"
   ]
  },
  {
   "cell_type": "code",
   "execution_count": 65,
   "id": "6f273b0f-2a25-46ce-922f-c2f954f96a21",
   "metadata": {},
   "outputs": [],
   "source": [
    "def get_recommendations(id, matrix, indices, number):\n",
    "#id = 7172059171\n",
    "#matrix = cosine_sim\n",
    "\n",
    "    index = indices[id]\n",
    "\n",
    "    sim_scores = list(enumerate(matrix[index]))\n",
    "    sim_scores = sorted(sim_scores, key=lambda x: x[1], reverse=True)\n",
    "\n",
    "    sim_scores = sim_scores[1 : number + 1]\n",
    "\n",
    "    listing_indices = [i[0] for i in sim_scores]\n",
    "\n",
    "    return raw_data_sample['BODY'].iloc[listing_indices]"
   ]
  },
  {
   "cell_type": "code",
   "execution_count": 73,
   "id": "47be40f5-38cb-4f3b-935b-be16f552bfb3",
   "metadata": {},
   "outputs": [],
   "source": [
    "pd.set_option('display.max_colwidth', None)"
   ]
  },
  {
   "cell_type": "code",
   "execution_count": 17,
   "id": "4e54cefe-0734-440c-8a54-8af3ef39f419",
   "metadata": {},
   "outputs": [],
   "source": []
  },
  {
   "cell_type": "code",
   "execution_count": 57,
   "id": "f0f490db-ac94-4681-8256-9ee0ece93d8b",
   "metadata": {},
   "outputs": [
    {
     "data": {
      "text/plain": [
       "(13485, 13980)"
      ]
     },
     "execution_count": 57,
     "metadata": {},
     "output_type": "execute_result"
    }
   ],
   "source": [
    "tfidf_vectorizer = TfidfVectorizer(min_df = 2, max_df = 0.7)\n",
    "tfidf_matrix = tfidf_vectorizer.fit_transform(raw_data_sample.BODY)\n",
    "tfidf_matrix.shape"
   ]
  },
  {
   "cell_type": "code",
   "execution_count": null,
   "id": "db6706f1-c0ca-46cb-aa75-a2fab325541a",
   "metadata": {},
   "outputs": [],
   "source": [
    "cosine_sim = linear_kernel(tfidf_matrix, tfidf_matrix)\n",
    "cosine_sim[:5]"
   ]
  },
  {
   "cell_type": "code",
   "execution_count": 75,
   "id": "17b07957-cd89-44bd-815c-52c2a4bc715f",
   "metadata": {
    "tags": []
   },
   "outputs": [
    {
     "name": "stdout",
     "output_type": "stream",
     "text": [
      "6744                                                                                                                                                                                                                                                                Limited Availability! Available Now! Pet Friendly 2 Bedroom Apartment!  Free Heat, Hot Water, Expanded Cable & High Speed Internet!  Stainless Steel Appliances  Air Conditioner  Wood-Style Flooring and Plush Carpeting  Washer/Dryer in Apartment  24-Hour Emergency Maintenance  Pet Friendly with Off-Leash Dog Park  On-Site Friendly & Professional Management  Off Street Parking  Secured Entry  Best Location in Town!  Washer/Dryer in Apartment  Resort Style Swimming Pool ☞And so Much More!!! Call today and schedule your tour of our community! Sugarloaf Estates 28 River Rd Sunderland, MA 01375 Call: show contact info For more pictures and specials place this link in your browser: https://www.aspensquare.com/massachusetts/sunderland/apartments/sugarloaf-estates?utm_source=Craigslist&utm_medium=referral&utm_campaign=Craigslist Aspen Square Management, Sugarloaf Estates, Cliffside, Boulders, Rolling Green, Pufton Village, Sunderland, Amherst, Hadley, Hatfield, Deerfield, Greenfield, Five Colleges, UMASS, Smith College, Amherst College, Hampshire College, Mount Holyoke, Holyoke Community College, Greenfield Community College, Hallmark, I-91, RT-47, RT-116, RT- 5 & 10, River Road, Hadley Road, Gym, Fitness Center, Swimming Pool, Basketball, BBQ Area, Volleyball, Playground, Garden Plot, Bus Route, Free-Parking, Off-street Parking, Snow Removal, Trash Removal, Laundry, Washer, Dryer, Stainless Steel Appliances, Microwave, Dishwasher, Stove, Oven, Refrigerator, Storage, Ample Closet Space, 2 Bedroom, Spacious, Sunny, Modern Kitchen, Utilities Included, Heat, Hot Water, Cable, Internet, Pets, Cats, Dogs, Pet Friendly, Bark Park, Large Breeds, Move in Specials, Reduced Rent, Limited Time, Move In, Specials, Pictures, Corporate, Short Term, Furnished\n",
      "10057                                                                                                                                                                                                                                                               Limited Availability! Available Now! Pet Friendly 2 Bedroom Apartment!  Free Heat, Hot Water, Expanded Cable & High Speed Internet!  Stainless Steel Appliances  Air Conditioner  Wood-Style Flooring and Plush Carpeting  Washer/Dryer in Apartment  24-Hour Emergency Maintenance  Pet Friendly with Off-Leash Dog Park  On-Site Friendly & Professional Management  Off Street Parking  Secured Entry  Best Location in Town!  Washer/Dryer in Apartment  Resort Style Swimming Pool ☞And so Much More!!! Call today and schedule your tour of our community! Sugarloaf Estates 28 River Rd Sunderland, MA 01375 Call: show contact info For more pictures and specials place this link in your browser: https://www.aspensquare.com/massachusetts/sunderland/apartments/sugarloaf-estates?utm_source=Craigslist&utm_medium=referral&utm_campaign=Craigslist Aspen Square Management, Sugarloaf Estates, Cliffside, Boulders, Rolling Green, Pufton Village, Sunderland, Amherst, Hadley, Hatfield, Deerfield, Greenfield, Five Colleges, UMASS, Smith College, Amherst College, Hampshire College, Mount Holyoke, Holyoke Community College, Greenfield Community College, Hallmark, I-91, RT-47, RT-116, RT- 5 & 10, River Road, Hadley Road, Gym, Fitness Center, Swimming Pool, Basketball, BBQ Area, Volleyball, Playground, Garden Plot, Bus Route, Free-Parking, Off-street Parking, Snow Removal, Trash Removal, Laundry, Washer, Dryer, Stainless Steel Appliances, Microwave, Dishwasher, Stove, Oven, Refrigerator, Storage, Ample Closet Space, 2 Bedroom, Spacious, Sunny, Modern Kitchen, Utilities Included, Heat, Hot Water, Cable, Internet, Pets, Cats, Dogs, Pet Friendly, Bark Park, Large Breeds, Move in Specials, Reduced Rent, Limited Time, Move In, Specials, Pictures, Corporate, Short Term, Furnished\n",
      "11565                                                                                                                                                                                                                                                               Limited Availability! Available Now! Pet Friendly 2 Bedroom Apartment!  Free Heat, Hot Water, Expanded Cable & High Speed Internet!  Stainless Steel Appliances  Air Conditioner  Wood-Style Flooring and Plush Carpeting  Washer/Dryer in Apartment  24-Hour Emergency Maintenance  Pet Friendly with Off-Leash Dog Park  On-Site Friendly & Professional Management  Off Street Parking  Secured Entry  Best Location in Town!  Washer/Dryer in Apartment  Resort Style Swimming Pool ☞And so Much More!!! Call today and schedule your tour of our community! Sugarloaf Estates 28 River Rd Sunderland, MA 01375 Call: show contact info For more pictures and specials place this link in your browser: https://www.aspensquare.com/massachusetts/sunderland/apartments/sugarloaf-estates?utm_source=Craigslist&utm_medium=referral&utm_campaign=Craigslist Aspen Square Management, Sugarloaf Estates, Cliffside, Boulders, Rolling Green, Pufton Village, Sunderland, Amherst, Hadley, Hatfield, Deerfield, Greenfield, Five Colleges, UMASS, Smith College, Amherst College, Hampshire College, Mount Holyoke, Holyoke Community College, Greenfield Community College, Hallmark, I-91, RT-47, RT-116, RT- 5 & 10, River Road, Hadley Road, Gym, Fitness Center, Swimming Pool, Basketball, BBQ Area, Volleyball, Playground, Garden Plot, Bus Route, Free-Parking, Off-street Parking, Snow Removal, Trash Removal, Laundry, Washer, Dryer, Stainless Steel Appliances, Microwave, Dishwasher, Stove, Oven, Refrigerator, Storage, Ample Closet Space, 2 Bedroom, Spacious, Sunny, Modern Kitchen, Utilities Included, Heat, Hot Water, Cable, Internet, Pets, Cats, Dogs, Pet Friendly, Bark Park, Large Breeds, Move in Specials, Reduced Rent, Limited Time, Move In, Specials, Pictures, Corporate, Short Term, Furnished\n",
      "1610                                                                                                                                                                                                                                                                                                                                                                       2 Bedroom Apartment Available in a Pet Friendly Community • Large Breeds Welcome • Dog Park Equipped with Agility Course • Plenty of Grassy Areas • Beautiful Walking Paths • Spacious Apartments Apartment Features • Updated Kitchen • Stainless Steel Appliances • Open Floorplan • Washer/Dryer in Select Homes • Heat, Hot Water, Cable & Internet Included! Don’t wait, call our Leasing Agents today to learn about our current specials and schedule your tour! Sugarloaf Estates ☏ show contact info ✉ 28 River Rd. Sunderland, MA 01375 For more pictures and specials place this link in your browser: https://www.aspensquare.com/massachusetts/sunderland/apartments/sugarloaf-estates?utm_source=Craigslist&utm_medium=referral&utm_campaign=Craigslist Aspen Square Management, Sugarloaf Estates, Cliffside, Boulders, Rolling Green, Pufton Village, Sunderland, Amherst, Hadley, Hatfield, Deerfield, Greenfield, Five Colleges, UMASS, Smith College, Amherst College, Hampshire College, Mount Holyoke, Holyoke Community College, Greenfield Community College, Hallmark, I-91, RT-47, RT-116, RT- 5 & 10, River Road, Hadley Road, Gym, Fitness Center, Swimming Pool, Basketball, BBQ Area, Volleyball, Playground, Garden Plot, Bus Route, Free-Parking, Off-street Parking, Snow Removal, Trash Removal, Laundry, Washer, Dryer, Stainless Steel Appliances, Microwave, Dishwasher, Stove, Oven, Refrigerator, Storage, Ample Closet Space, 2 Bedroom, Spacious, Sunny, Modern Kitchen, Utilities Included, Heat, Hot Water, Cable, Internet, Pets, Cats, Dogs, Pet Friendly, Bark Park, Large Breeds, Move in Specials, Reduced Rent, Limited Time, Move In, Specials, Pictures, Corporate, Short Term, Furnished\n",
      "2997                                                                                                                                                                                                                                                                                                                                                                       2 Bedroom Apartment Available in a Pet Friendly Community • Large Breeds Welcome • Dog Park Equipped with Agility Course • Plenty of Grassy Areas • Beautiful Walking Paths • Spacious Apartments Apartment Features • Updated Kitchen • Stainless Steel Appliances • Open Floorplan • Washer/Dryer in Select Homes • Heat, Hot Water, Cable & Internet Included! Don’t wait, call our Leasing Agents today to learn about our current specials and schedule your tour! Sugarloaf Estates ☏ show contact info ✉ 28 River Rd. Sunderland, MA 01375 For more pictures and specials place this link in your browser: https://www.aspensquare.com/massachusetts/sunderland/apartments/sugarloaf-estates?utm_source=Craigslist&utm_medium=referral&utm_campaign=Craigslist Aspen Square Management, Sugarloaf Estates, Cliffside, Boulders, Rolling Green, Pufton Village, Sunderland, Amherst, Hadley, Hatfield, Deerfield, Greenfield, Five Colleges, UMASS, Smith College, Amherst College, Hampshire College, Mount Holyoke, Holyoke Community College, Greenfield Community College, Hallmark, I-91, RT-47, RT-116, RT- 5 & 10, River Road, Hadley Road, Gym, Fitness Center, Swimming Pool, Basketball, BBQ Area, Volleyball, Playground, Garden Plot, Bus Route, Free-Parking, Off-street Parking, Snow Removal, Trash Removal, Laundry, Washer, Dryer, Stainless Steel Appliances, Microwave, Dishwasher, Stove, Oven, Refrigerator, Storage, Ample Closet Space, 2 Bedroom, Spacious, Sunny, Modern Kitchen, Utilities Included, Heat, Hot Water, Cable, Internet, Pets, Cats, Dogs, Pet Friendly, Bark Park, Large Breeds, Move in Specials, Reduced Rent, Limited Time, Move In, Specials, Pictures, Corporate, Short Term, Furnished\n",
      "10430                                                                                                         1/2 OFF June and $500 OFF security deposit! Join Our Community At Sugarloaf Estates! We have so much to offer you! Interior Amenities • Fully Applianced Kitchens • Open Floorplan • Spacious Rooms with Plenty of Storage Space • **ALL Utilities included**: o Cable TV o High-Speed Internet o Hot Water o Heat o Electric General Amenities • On Site, Professional Management Staff • 24 Hour Emergency Maintenance • Pet Friendly – We Have a Dog Park! • Ample parking • Close to Campus – We’re Right on The Bus Route! • Laundry Facilities • Roommate Matching • Outdoor Recreation Areas • Resort-Style Swimming Pool • 24/7 Fitness Center Sugarloaf Estates Call: show contact info 28 River Rd. Sunderland, MA 01375 Call today for to schedule your tour & find out about our current specials! For more pictures and specials place this link in your browser: https://www.aspensquare.com/massachusetts/sunderland/apartments/sugarloaf-estates?utm_source=Craigslist&utm_medium=referral&utm_campaign=Craigslist Aspen Square Management, Sugarloaf Estates, Cliffside, Boulders, Rolling Green, Pufton Village, Sunderland, Amherst, Hadley, Hatfield, Deerfield, Greenfield, Five Colleges, UMASS, Smith College, Amherst College, Hampshire College, Mount Holyoke, Holyoke Community College, Greenfield Community College, Hallmark, I-91, RT-47, RT-116, RT- 5 & 10, River Road, Hadley Road, Gym, Fitness Center, Swimming Pool, Basketball, BBQ Area, Volleyball, Playground, Garden Plot, Bus Route, Free-Parking, Off-street Parking, Snow Removal, Trash Removal, Laundry, Washer, Dryer, Stainless Steel Appliances, Microwave, Dishwasher, Stove, Oven, Refrigerator, Storage, Ample Closet Space, 2 Bedroom, Spacious, Sunny, Modern Kitchen, Utilities Included, Heat, Hot Water, Cable, Internet, Pets, Cats, Dogs, Pet Friendly, Bark Park, Large Breeds, Move in Specials, Reduced Rent, Limited Time, Move In, Specials, Pictures, Corporate, Short Term, Furnished\n",
      "1368                                                                                                                                                                                                                               Sugarloaf Estates Apartment Homes in Sunderland has the perfect 2 bedroom/1 bathroom apartment home just for YOU! Our New England Floor Plan Features ✹Modern Finishes ✹Washer and Dryer Included ✹Open Living Space ✹Amazing Closet Space Our Community Perks Will Blow You Away! ✹24-hour Fitness Center ✹Resort Style Swimming Pool ✹Lovely Walking Paths ✹Grilling Stations for Hosting ✹We Love Your Pets! Large Dogs Welcome! ✹24-Hour Emergency Maintenance Schedule Your Tour with Our Leasing Agent Today! °°°°°°°°°°°°°°°°°°°°°°°°°°°°°°°°°°°°°°°°°°°°°°°°°°°°°°° CONTACT INFORMATION☎☎☎ Sugarloaf Estates Apartments 28 River Rd. Sunderland, MA 01375 Call: show contact info For more pictures and specials place this link in your browser: https://www.aspensquare.com/massachusetts/sunderland/apartments/sugarloaf-estates?utm_source=Craigslist&utm_medium=referral&utm_campaign=Craigslist Aspen Square Management, Sugarloaf Estates, Cliffside, Boulders, Rolling Green, Pufton Village, Sunderland, Amherst, Hadley, Hatfield, Deerfield, Greenfield, Five Colleges, UMASS, Smith College, Amherst College, Hampshire College, Mount Holyoke, Holyoke Community College, Greenfield Community College, Hallmark, I-91, RT-47, RT-116, RT- 5 & 10, River Road, Hadley Road, Gym, Fitness Center, Swimming Pool, Basketball, BBQ Area, Volleyball, Playground, Garden Plot, Bus Route, Free-Parking, Off-street Parking, Snow Removal, Trash Removal, Laundry, Washer, Dryer, Stainless Steel Appliances, Microwave, Dishwasher, Stove, Oven, Refrigerator, Storage, Ample Closet Space, 2 Bedroom, Spacious, Sunny, Modern Kitchen, Utilities Included, Heat, Hot Water, Cable, Internet, Pets, Cats, Dogs, Pet Friendly, Bark Park, Large Breeds, Move in Specials, Reduced Rent, Limited Time, Move In, Specials, Pictures, Corporate, Short Term, Furnished\n",
      "7443     Take 1/2 OFF May's rent on this beautiful remodeled 2 bedroom apartment. Take an additional $500 OFF your security deposit for a summer move in! Join Our Community At Sugarloaf Estates! We have so much to offer you! Interior Amenities • Fully Applianced Kitchens • Open Floorplan • Spacious Rooms with Plenty of Storage Space • **ALL Utilities included**: o Cable TV o High-Speed Internet o Hot Water o Heat o Electric General Amenities • On Site, Professional Management Staff • 24 Hour Emergency Maintenance • Pet Friendly – We Have a Dog Park! • Ample parking • Close to Campus – We’re Right on The Bus Route! • Laundry Facilities • Roommate Matching • Outdoor Recreation Areas • Resort-Style Swimming Pool • 24/7 Fitness Center Sugarloaf Estates Call: show contact info 28 River Rd. Sunderland, MA 01375 Call today for to schedule your tour & find out about our current specials! For more pictures and specials place this link in your browser: https://www.aspensquare.com/massachusetts/sunderland/apartments/sugarloaf-estates?utm_source=Craigslist&utm_medium=referral&utm_campaign=Craigslist Aspen Square Management, Sugarloaf Estates, Cliffside, Boulders, Rolling Green, Pufton Village, Sunderland, Amherst, Hadley, Hatfield, Deerfield, Greenfield, Five Colleges, UMASS, Smith College, Amherst College, Hampshire College, Mount Holyoke, Holyoke Community College, Greenfield Community College, Hallmark, I-91, RT-47, RT-116, RT- 5 & 10, River Road, Hadley Road, Gym, Fitness Center, Swimming Pool, Basketball, BBQ Area, Volleyball, Playground, Garden Plot, Bus Route, Free-Parking, Off-street Parking, Snow Removal, Trash Removal, Laundry, Washer, Dryer, Stainless Steel Appliances, Microwave, Dishwasher, Stove, Oven, Refrigerator, Storage, Ample Closet Space, 2 Bedroom, Spacious, Sunny, Modern Kitchen, Utilities Included, Heat, Hot Water, Cable, Internet, Pets, Cats, Dogs, Pet Friendly, Bark Park, Large Breeds, Move in Specials, Reduced Rent, Limited Time, Move In, Specials, Pictures, Corporate, Short Term, Furnished\n",
      "5754                                                                                                                                                                                                                              Off Campus Living Just Minutes from UMass!  FREE Heat, Hot Water, Cable & High Speed Internet  Located on the PVTA Bus Line #31  Spacious Living Space  Fully Equipped Kitchen  8 Laundry Facilities  Roommate Matching Available  Trash & Snow Removal Included Community Amenities  Resort Style Swimming Pool  24 Hour Fitness Center  Basketball Court  Beach Volleyball Court  Dog Park  Bike Storage  Ample Parking CONTACT INFORMATION: -------------------------------------------------------------------------------------------------------- Sugarloaf Estates Apartment Homes Liz | Assistant Manager Phone: show contact info 28 River Rd. Sunderland, MA 01375 For more pictures and specials place this link in your browser: https://www.aspensquare.com/massachusetts/sunderland/apartments/sugarloaf-estates?utm_source=Craigslist&utm_medium=referral&utm_campaign=Craigslist Aspen Square Management, Sugarloaf Estates, Cliffside, Boulders, Rolling Green, Pufton Village, Sunderland, Amherst, Hadley, Hatfield, Deerfield, Greenfield, Five Colleges, UMASS, Smith College, Amherst College, Hampshire College, Mount Holyoke, Holyoke Community College, Greenfield Community College, Hallmark, I-91, RT-47, RT-116, RT- 5 & 10, River Road, Hadley Road, Gym, Fitness Center, Swimming Pool, Basketball, BBQ Area, Volleyball, Playground, Garden Plot, Bus Route, Free-Parking, Off-street Parking, Snow Removal, Trash Removal, Laundry, Washer, Dryer, Stainless Steel Appliances, Microwave, Dishwasher, Stove, Oven, Refrigerator, Storage, Ample Closet Space, 2 Bedroom, Spacious, Sunny, Modern Kitchen, Utilities Included, Heat, Hot Water, Cable, Internet, Pets, Cats, Dogs, Pet Friendly, Bark Park, Large Breeds, Move in Specials, Reduced Rent, Limited Time, Move In, Specials, Pictures, Corporate, Short Term, Furnished\n",
      "1301                                                                                                                                             NOW LEASING: 2 Bedroom Apartment ➡️ FREE heat, hot water, cable & internet ➡️ Open concept living area ➡️ Large breakfast bar ➡️ Fully remodeled kitchen ↪️Stainless steel appliances ↪️Wood style flooring ↪️Modern white cabinets ↪️Granite style counters ➡️ Spacious bedroom ➡️ Washer/Dryer in home You may never want to leave your home, but if you do, we have plenty of amenities! ➡️ Newly renovated salt water swimming pool ➡️ 24 hour fitness center ➡️ Basketball Court ➡️ Beach Volleyball ➡️ Grilling Stations ➡️ Bike Storage ➡️ Hammock Garden ➡️ Playground ➡️ Dog Park ➡️ On-site laundry facility ➡️ Online resident portal Come see this beautiful home for yourself TODAY! Sugarloaf Estates 28 River Rd Sunderland MA 01375 Call: show contact info For more pictures and specials place this link in your browser: https://www.aspensquare.com/massachusetts/sunderland/apartments/sugarloaf-estates?utm_source=Craigslist&utm_medium=referral&utm_campaign=Craigslist Aspen Square Management, Sugarloaf Estates, Cliffside, Boulders, Rolling Green, Pufton Village, Sunderland, Amherst, Hadley, Hatfield, Deerfield, Greenfield, Five Colleges, UMASS, Smith College, Amherst College, Hampshire College, Mount Holyoke, Holyoke Community College, Greenfield Community College, Hallmark, I-91, RT-47, RT-116, RT- 5 & 10, River Road, Hadley Road, Gym, Fitness Center, Swimming Pool, Basketball, BBQ Area, Volleyball, Playground, Garden Plot, Bus Route, Free-Parking, Off-street Parking, Snow Removal, Trash Removal, Laundry, Washer, Dryer, Stainless Steel Appliances, Microwave, Dishwasher, Stove, Oven, Refrigerator, Storage, Ample Closet Space, 2 Bedroom, Spacious, Sunny, Modern Kitchen, Utilities Included, Heat, Hot Water, Cable, Internet, Pets, Cats, Dogs, Pet Friendly, Bark Park, Large Breeds, Move in Specials, Reduced Rent, Limited Time, Move In, Specials, Pictures, Corporate, Short Term, Furnished\n",
      "Name: BODY, dtype: object\n"
     ]
    }
   ],
   "source": [
    "print(get_recommendations(7138861705, cosine_sim, indices, 10))"
   ]
  },
  {
   "cell_type": "code",
   "execution_count": null,
   "id": "352de545-84a6-4d24-857f-c9976f7624ac",
   "metadata": {},
   "outputs": [],
   "source": [
    "cosine_sim = linear_kernel(tfidf_matrix, tfidf_matrix)\n",
    "print(get_recommendations(7138861705, cosine_sim, indices, 10))"
   ]
  },
  {
   "cell_type": "code",
   "execution_count": null,
   "id": "8d9cb9aa-358e-408c-92e5-28d91731fff1",
   "metadata": {},
   "outputs": [],
   "source": []
  },
  {
   "cell_type": "code",
   "execution_count": null,
   "id": "69da7f37-8d0f-468c-a964-ec7ee398802e",
   "metadata": {},
   "outputs": [],
   "source": []
  }
 ],
 "metadata": {
  "kernelspec": {
   "display_name": "Python 3",
   "language": "python",
   "name": "python3"
  },
  "language_info": {
   "codemirror_mode": {
    "name": "ipython",
    "version": 3
   },
   "file_extension": ".py",
   "mimetype": "text/x-python",
   "name": "python",
   "nbconvert_exporter": "python",
   "pygments_lexer": "ipython3",
   "version": "3.8.10"
  }
 },
 "nbformat": 4,
 "nbformat_minor": 5
}
