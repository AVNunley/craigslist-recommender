{
 "cells": [
  {
   "cell_type": "code",
   "execution_count": 41,
   "id": "e635280e-735a-4723-bda9-179452e4967c",
   "metadata": {},
   "outputs": [],
   "source": [
    "import nltk, gensim\n",
    "import pandas as pd\n",
    "import numpy as np\n",
    "import matplotlib.pyplot as plt\n",
    "from sklearn.feature_extraction.text import TfidfVectorizer\n",
    "from sklearn.cluster import KMeans\n",
    "from sklearn.preprocessing import StandardScaler\n",
    "from sklearn.decomposition import TruncatedSVD\n",
    "from scipy.sparse import hstack"
   ]
  },
  {
   "cell_type": "code",
   "execution_count": 5,
   "id": "4e54cefe-0734-440c-8a54-8af3ef39f419",
   "metadata": {},
   "outputs": [],
   "source": [
    "#Instantiate and setup DataFrame\n",
    "df = pd.read_csv('..\\\\data\\\\wrangled_data.csv')\n",
    "df.set_index('LISTING_ID', inplace = True, drop = True)"
   ]
  },
  {
   "cell_type": "code",
   "execution_count": 6,
   "id": "f451bfe3-4703-4205-9659-72e922cc28f5",
   "metadata": {
    "tags": []
   },
   "outputs": [],
   "source": [
    "tfidf_vectorizer = TfidfVectorizer(stop_words='english', min_df = 2, max_df = 0.7)\n",
    "tfidf_data = tfidf_vectorizer.fit_transform(df.BODY)"
   ]
  },
  {
   "cell_type": "code",
   "execution_count": 23,
   "id": "01b11140-7de4-4d73-8a65-48fafc4a2a3e",
   "metadata": {},
   "outputs": [
    {
     "data": {
      "text/plain": [
       "<126358x37899 sparse matrix of type '<class 'numpy.float64'>'\n",
       "\twith 10689809 stored elements in Compressed Sparse Row format>"
      ]
     },
     "execution_count": 23,
     "metadata": {},
     "output_type": "execute_result"
    }
   ],
   "source": [
    "tfidf_data"
   ]
  },
  {
   "cell_type": "code",
   "execution_count": 16,
   "id": "b1f805bd-f88a-4a4a-9023-d8b4b9d95b08",
   "metadata": {},
   "outputs": [],
   "source": [
    "features_unscaled = df.drop('BODY', axis = 1)\n",
    "scaler = StandardScaler()\n",
    "features = scaler.fit_transform(features_unscaled)"
   ]
  },
  {
   "cell_type": "code",
   "execution_count": 17,
   "id": "6ca7ea34-0d72-4180-918a-70035e7e6277",
   "metadata": {},
   "outputs": [
    {
     "data": {
      "text/html": [
       "<div>\n",
       "<style scoped>\n",
       "    .dataframe tbody tr th:only-of-type {\n",
       "        vertical-align: middle;\n",
       "    }\n",
       "\n",
       "    .dataframe tbody tr th {\n",
       "        vertical-align: top;\n",
       "    }\n",
       "\n",
       "    .dataframe thead th {\n",
       "        text-align: right;\n",
       "    }\n",
       "</style>\n",
       "<table border=\"1\" class=\"dataframe\">\n",
       "  <thead>\n",
       "    <tr style=\"text-align: right;\">\n",
       "      <th></th>\n",
       "      <th>PRICE</th>\n",
       "      <th>AREA_SQFT</th>\n",
       "      <th>ALLOWS_CATS</th>\n",
       "      <th>ALLOWS_DOGS</th>\n",
       "    </tr>\n",
       "    <tr>\n",
       "      <th>LISTING_ID</th>\n",
       "      <th></th>\n",
       "      <th></th>\n",
       "      <th></th>\n",
       "      <th></th>\n",
       "    </tr>\n",
       "  </thead>\n",
       "  <tbody>\n",
       "    <tr>\n",
       "      <th>7075306172</th>\n",
       "      <td>2275</td>\n",
       "      <td>900.0</td>\n",
       "      <td>1.0</td>\n",
       "      <td>0.0</td>\n",
       "    </tr>\n",
       "    <tr>\n",
       "      <th>7075321793</th>\n",
       "      <td>2350</td>\n",
       "      <td>800.0</td>\n",
       "      <td>1.0</td>\n",
       "      <td>0.0</td>\n",
       "    </tr>\n",
       "    <tr>\n",
       "      <th>7075372720</th>\n",
       "      <td>2395</td>\n",
       "      <td>875.0</td>\n",
       "      <td>1.0</td>\n",
       "      <td>0.0</td>\n",
       "    </tr>\n",
       "    <tr>\n",
       "      <th>7075376264</th>\n",
       "      <td>2395</td>\n",
       "      <td>875.0</td>\n",
       "      <td>1.0</td>\n",
       "      <td>0.0</td>\n",
       "    </tr>\n",
       "    <tr>\n",
       "      <th>7075380613</th>\n",
       "      <td>2450</td>\n",
       "      <td>950.0</td>\n",
       "      <td>1.0</td>\n",
       "      <td>0.0</td>\n",
       "    </tr>\n",
       "  </tbody>\n",
       "</table>\n",
       "</div>"
      ],
      "text/plain": [
       "            PRICE  AREA_SQFT  ALLOWS_CATS  ALLOWS_DOGS\n",
       "LISTING_ID                                            \n",
       "7075306172   2275      900.0          1.0          0.0\n",
       "7075321793   2350      800.0          1.0          0.0\n",
       "7075372720   2395      875.0          1.0          0.0\n",
       "7075376264   2395      875.0          1.0          0.0\n",
       "7075380613   2450      950.0          1.0          0.0"
      ]
     },
     "execution_count": 17,
     "metadata": {},
     "output_type": "execute_result"
    }
   ],
   "source": [
    "features_unscaled.head()"
   ]
  },
  {
   "cell_type": "code",
   "execution_count": 19,
   "id": "534c2cba-b7b6-403b-ae45-e115dd95c744",
   "metadata": {},
   "outputs": [
    {
     "data": {
      "text/html": [
       "<div>\n",
       "<style scoped>\n",
       "    .dataframe tbody tr th:only-of-type {\n",
       "        vertical-align: middle;\n",
       "    }\n",
       "\n",
       "    .dataframe tbody tr th {\n",
       "        vertical-align: top;\n",
       "    }\n",
       "\n",
       "    .dataframe thead th {\n",
       "        text-align: right;\n",
       "    }\n",
       "</style>\n",
       "<table border=\"1\" class=\"dataframe\">\n",
       "  <thead>\n",
       "    <tr style=\"text-align: right;\">\n",
       "      <th></th>\n",
       "      <th>0</th>\n",
       "      <th>1</th>\n",
       "      <th>2</th>\n",
       "      <th>3</th>\n",
       "    </tr>\n",
       "  </thead>\n",
       "  <tbody>\n",
       "    <tr>\n",
       "      <th>0</th>\n",
       "      <td>0.285777</td>\n",
       "      <td>-0.196376</td>\n",
       "      <td>0.886683</td>\n",
       "      <td>-0.762854</td>\n",
       "    </tr>\n",
       "    <tr>\n",
       "      <th>1</th>\n",
       "      <td>0.369994</td>\n",
       "      <td>-0.616577</td>\n",
       "      <td>0.886683</td>\n",
       "      <td>-0.762854</td>\n",
       "    </tr>\n",
       "    <tr>\n",
       "      <th>2</th>\n",
       "      <td>0.420524</td>\n",
       "      <td>-0.301426</td>\n",
       "      <td>0.886683</td>\n",
       "      <td>-0.762854</td>\n",
       "    </tr>\n",
       "    <tr>\n",
       "      <th>3</th>\n",
       "      <td>0.420524</td>\n",
       "      <td>-0.301426</td>\n",
       "      <td>0.886683</td>\n",
       "      <td>-0.762854</td>\n",
       "    </tr>\n",
       "    <tr>\n",
       "      <th>4</th>\n",
       "      <td>0.482284</td>\n",
       "      <td>0.013725</td>\n",
       "      <td>0.886683</td>\n",
       "      <td>-0.762854</td>\n",
       "    </tr>\n",
       "  </tbody>\n",
       "</table>\n",
       "</div>"
      ],
      "text/plain": [
       "          0         1         2         3\n",
       "0  0.285777 -0.196376  0.886683 -0.762854\n",
       "1  0.369994 -0.616577  0.886683 -0.762854\n",
       "2  0.420524 -0.301426  0.886683 -0.762854\n",
       "3  0.420524 -0.301426  0.886683 -0.762854\n",
       "4  0.482284  0.013725  0.886683 -0.762854"
      ]
     },
     "execution_count": 19,
     "metadata": {},
     "output_type": "execute_result"
    }
   ],
   "source": [
    "pd.DataFrame(features).head()"
   ]
  },
  {
   "cell_type": "code",
   "execution_count": 63,
   "id": "52ce9b26-f841-470f-9d97-59d78d53f87b",
   "metadata": {},
   "outputs": [],
   "source": [
    "X_matrix = hstack((tfidf_data, features))"
   ]
  },
  {
   "cell_type": "code",
   "execution_count": 64,
   "id": "65cfe104-2101-4406-805e-b8af660ed60d",
   "metadata": {
    "tags": []
   },
   "outputs": [],
   "source": [
    "X_full = pd.DataFrame.sparse.from_spmatrix(X_matrix)"
   ]
  },
  {
   "cell_type": "code",
   "execution_count": 65,
   "id": "9f09b1ef-a056-4e5c-88b2-f6b9305ee34e",
   "metadata": {},
   "outputs": [
    {
     "data": {
      "text/plain": [
       "(126358, 37903)"
      ]
     },
     "execution_count": 65,
     "metadata": {},
     "output_type": "execute_result"
    }
   ],
   "source": [
    "X_full.shape"
   ]
  },
  {
   "cell_type": "code",
   "execution_count": 57,
   "id": "5ff573fc-0e77-4161-91b2-eb4e0199619d",
   "metadata": {},
   "outputs": [
    {
     "data": {
      "text/plain": [
       "TruncatedSVD(n_components=275)"
      ]
     },
     "execution_count": 57,
     "metadata": {},
     "output_type": "execute_result"
    }
   ],
   "source": [
    "svd = TruncatedSVD(n_components = 275)\n",
    "svd.fit(X_full)"
   ]
  },
  {
   "cell_type": "code",
   "execution_count": 58,
   "id": "732df5d6-ac5c-4210-91ff-2ebfb0bd589e",
   "metadata": {},
   "outputs": [
    {
     "data": {
      "text/plain": [
       "0.8978551876442807"
      ]
     },
     "execution_count": 58,
     "metadata": {},
     "output_type": "execute_result"
    }
   ],
   "source": [
    "var_explained = svd.explained_variance_ratio_.sum()\n",
    "var_explained"
   ]
  },
  {
   "cell_type": "code",
   "execution_count": 61,
   "id": "d2b89721-660c-4eb9-96fe-ddf9cc069e6a",
   "metadata": {},
   "outputs": [],
   "source": [
    "components = [1, 2, 3, 4, 5, 6, 7, 8, 9, 10, 15, 20, 25, 50, 100, 250, 500]\n",
    "var_explained_list = []\n",
    "\n",
    "for number in components:\n",
    "    svd = TruncatedSVD(n_components = number)\n",
    "    svd.fit(X_full)\n",
    "    var_explained_list.append(svd.explained_variance_ratio_.sum())"
   ]
  },
  {
   "cell_type": "code",
   "execution_count": 79,
   "id": "d368f0b9-bd45-4ded-8e4d-d3c44ad295c7",
   "metadata": {},
   "outputs": [
    {
     "data": {
      "text/plain": [
       "<matplotlib.lines.Line2D at 0x2205ae22fd0>"
      ]
     },
     "execution_count": 79,
     "metadata": {},
     "output_type": "execute_result"
    },
    {
     "data": {
      "image/png": "[encoded data removed]",
      "text/plain": [
       "<Figure size 432x288 with 1 Axes>"
      ]
     },
     "metadata": {
      "needs_background": "light"
     },
     "output_type": "display_data"
    }
   ],
   "source": [
    "plt.plot(components, var_explained_list)\n",
    "plt.axhline(0.9, color = 'green')\n",
    "plt.axhline(0.85, color = 'yellow')\n",
    "plt.axhline(0.8, color = 'red')"
   ]
  },
  {
   "cell_type": "code",
   "execution_count": 56,
   "id": "4c826de5-bee6-4206-839b-0cf668017f99",
   "metadata": {},
   "outputs": [
    {
     "data": {
      "text/plain": [
       "[0.3400887871683541,\n",
       " 0.5757617762435472,\n",
       " 0.7349244055557762,\n",
       " 0.8106222434839031,\n",
       " 0.8114477543369769,\n",
       " 0.8150637200770802,\n",
       " 0.8182277026441616,\n",
       " 0.8205013235936315,\n",
       " 0.8226198209022504,\n",
       " 0.8242898092630423,\n",
       " 0.8309868174820269,\n",
       " 0.8358415142866843,\n",
       " 0.8395891690599387,\n",
       " 0.8518368058776552,\n",
       " 0.8674243613989111,\n",
       " 0.8946188363207186,\n",
       " 0.9189862720342054]"
      ]
     },
     "execution_count": 56,
     "metadata": {},
     "output_type": "execute_result"
    }
   ],
   "source": [
    "var_explained"
   ]
  },
  {
   "cell_type": "code",
   "execution_count": 94,
   "id": "57c6a21c-a82f-4de2-9d96-5ca15861e8e2",
   "metadata": {},
   "outputs": [
    {
     "data": {
      "text/plain": [
       "0.8518464530779708"
      ]
     },
     "execution_count": 94,
     "metadata": {},
     "output_type": "execute_result"
    }
   ],
   "source": [
    "svd = TruncatedSVD(n_components = 50)\n",
    "svd.fit(X_full)\n",
    "var_explained = svd.explained_variance_ratio_.sum()\n",
    "var_explained"
   ]
  },
  {
   "cell_type": "code",
   "execution_count": 95,
   "id": "97d6b493-30db-495e-bddd-068a9c3cec52",
   "metadata": {},
   "outputs": [
    {
     "data": {
      "text/plain": [
       "<BarContainer object of 50 artists>"
      ]
     },
     "execution_count": 95,
     "metadata": {},
     "output_type": "execute_result"
    },
    {
     "data": {
      "image/png": "[encoded data removed]",
      "text/plain": [
       "<Figure size 432x288 with 1 Axes>"
      ]
     },
     "metadata": {
      "needs_background": "light"
     },
     "output_type": "display_data"
    }
   ],
   "source": [
    "plt.bar(range(len(svd.explained_variance_ratio_)), svd.explained_variance_ratio_)"
   ]
  },
  {
   "cell_type": "code",
   "execution_count": 96,
   "id": "fbb35091-b38f-4b4b-ae2b-4e8b89a0b566",
   "metadata": {},
   "outputs": [
    {
     "data": {
      "text/plain": [
       "0.8242898885491379"
      ]
     },
     "execution_count": 96,
     "metadata": {},
     "output_type": "execute_result"
    }
   ],
   "source": [
    "svd = TruncatedSVD(n_components = 10)\n",
    "svd.fit(X_full)\n",
    "var_explained = svd.explained_variance_ratio_.sum()\n",
    "var_explained"
   ]
  },
  {
   "cell_type": "code",
   "execution_count": 97,
   "id": "6dd92364-e0c8-4ad4-a152-664c3485620e",
   "metadata": {},
   "outputs": [
    {
     "data": {
      "text/plain": [
       "<BarContainer object of 10 artists>"
      ]
     },
     "execution_count": 97,
     "metadata": {},
     "output_type": "execute_result"
    },
    {
     "data": {
      "image/png": "[encoded data removed]",
      "text/plain": [
       "<Figure size 432x288 with 1 Axes>"
      ]
     },
     "metadata": {
      "needs_background": "light"
     },
     "output_type": "display_data"
    }
   ],
   "source": [
    "plt.bar(range(len(svd.explained_variance_ratio_)), svd.explained_variance_ratio_)"
   ]
  },
  {
   "cell_type": "code",
   "execution_count": 98,
   "id": "847cf7cd-ca7f-4e30-a50f-0c691cef0851",
   "metadata": {},
   "outputs": [
    {
     "data": {
      "text/plain": [
       "0.8106222434839033"
      ]
     },
     "execution_count": 98,
     "metadata": {},
     "output_type": "execute_result"
    }
   ],
   "source": [
    "svd = TruncatedSVD(n_components = 4)\n",
    "svd.fit(X_full)\n",
    "var_explained = svd.explained_variance_ratio_.sum()\n",
    "var_explained"
   ]
  },
  {
   "cell_type": "code",
   "execution_count": 99,
   "id": "7d8e91cf-57f8-4ccd-83b4-376937ca7f41",
   "metadata": {},
   "outputs": [
    {
     "data": {
      "text/plain": [
       "<BarContainer object of 4 artists>"
      ]
     },
     "execution_count": 99,
     "metadata": {},
     "output_type": "execute_result"
    },
    {
     "data": {
      "image/png": "[encoded data removed]",
      "text/plain": [
       "<Figure size 432x288 with 1 Axes>"
      ]
     },
     "metadata": {
      "needs_background": "light"
     },
     "output_type": "display_data"
    }
   ],
   "source": [
    "plt.bar(range(len(svd.explained_variance_ratio_)), svd.explained_variance_ratio_)"
   ]
  },
  {
   "cell_type": "code",
   "execution_count": null,
   "id": "9940e8b8-c5df-4fe7-b2d9-ce96879dc643",
   "metadata": {
    "tags": []
   },
   "outputs": [],
   "source": [
    "# Set n_components based on % of explained variance or on the accuracy:computation tradeoff depicted in the chart?"
   ]
  },
  {
   "cell_type": "code",
   "execution_count": 100,
   "id": "ccc88599-51b3-4c0f-8cba-4d3c044b4177",
   "metadata": {
    "tags": []
   },
   "outputs": [],
   "source": [
    "X = svd.transform(X_full)"
   ]
  },
  {
   "cell_type": "code",
   "execution_count": 101,
   "id": "c5dd56be-8e18-490c-945e-3a629e515c54",
   "metadata": {},
   "outputs": [
    {
     "data": {
      "text/plain": [
       "(126358, 4)"
      ]
     },
     "execution_count": 101,
     "metadata": {},
     "output_type": "execute_result"
    }
   ],
   "source": [
    "X.shape"
   ]
  },
  {
   "cell_type": "markdown",
   "id": "ac2abcc1-608b-4994-b3e6-b872b83c125b",
   "metadata": {},
   "source": [
    "#### K-Means"
   ]
  },
  {
   "cell_type": "code",
   "execution_count": null,
   "id": "6f7feaa3-69dd-458d-8cc4-39a671e1d80c",
   "metadata": {},
   "outputs": [],
   "source": [
    "#Determine number of clusters"
   ]
  },
  {
   "cell_type": "code",
   "execution_count": null,
   "id": "a79a2b92-61ab-44ae-a9e6-82d81a453516",
   "metadata": {},
   "outputs": [],
   "source": [
    "inertia_list = []\n",
    "K = range(1,25)\n",
    "for k in K:\n",
    "    km = KMeans(n_clusters = k, random_state = 33)\n",
    "    km = km.fit(X)\n",
    "    inertia_list.append(km.inertia_)"
   ]
  },
  {
   "cell_type": "code",
   "execution_count": null,
   "id": "08a3e616-23e9-4727-abbf-7ff6e0d20c21",
   "metadata": {},
   "outputs": [],
   "source": [
    "plt.plot(K, inertia_list)"
   ]
  },
  {
   "cell_type": "code",
   "execution_count": null,
   "id": "baf58ec4-b8c3-4458-8a71-f7f151b1a581",
   "metadata": {},
   "outputs": [],
   "source": []
  },
  {
   "cell_type": "code",
   "execution_count": null,
   "id": "4b6afaee-2546-4fcf-a01c-af7dca9dee75",
   "metadata": {},
   "outputs": [],
   "source": []
  },
  {
   "cell_type": "code",
   "execution_count": null,
   "id": "694e6ea0-7e57-4cc4-8c86-05eea390d0b9",
   "metadata": {},
   "outputs": [],
   "source": []
  },
  {
   "cell_type": "code",
   "execution_count": null,
   "id": "e7f06f7d-9b1c-480b-94d4-bbb6623fe0af",
   "metadata": {},
   "outputs": [],
   "source": []
  },
  {
   "cell_type": "code",
   "execution_count": null,
   "id": "2d5f12ff-7ae1-4691-94ec-07e48602d90a",
   "metadata": {},
   "outputs": [],
   "source": []
  },
  {
   "cell_type": "markdown",
   "id": "d97add76-f2db-427d-bd9c-7471364734b0",
   "metadata": {},
   "source": [
    "#### Hierarchical Clustering"
   ]
  },
  {
   "cell_type": "code",
   "execution_count": null,
   "id": "87e49595-0dd9-470f-8f99-4873e8671009",
   "metadata": {},
   "outputs": [],
   "source": []
  },
  {
   "cell_type": "code",
   "execution_count": null,
   "id": "c75ded0d-085d-4ac3-b7c8-41427396a8c4",
   "metadata": {},
   "outputs": [],
   "source": []
  },
  {
   "cell_type": "code",
   "execution_count": null,
   "id": "b4e8f79c-7329-43eb-84f5-78ddc72a52e3",
   "metadata": {},
   "outputs": [],
   "source": []
  },
  {
   "cell_type": "code",
   "execution_count": null,
   "id": "008c79a9-cde3-4921-b827-b43f943c290f",
   "metadata": {},
   "outputs": [],
   "source": []
  },
  {
   "cell_type": "code",
   "execution_count": null,
   "id": "9d373d04-eb8e-4856-9eb3-a6e9cba504dd",
   "metadata": {},
   "outputs": [],
   "source": []
  },
  {
   "cell_type": "code",
   "execution_count": null,
   "id": "1cdfaca5-3a64-456a-a46e-0c026af49e6a",
   "metadata": {},
   "outputs": [],
   "source": []
  },
  {
   "cell_type": "markdown",
   "id": "122a0fbd-da4e-4c71-8e7b-d0718a8ddee2",
   "metadata": {},
   "source": [
    "#### DBSCAN"
   ]
  },
  {
   "cell_type": "code",
   "execution_count": null,
   "id": "b39c37c1-87b0-4435-a0c7-13a64870f094",
   "metadata": {},
   "outputs": [],
   "source": []
  },
  {
   "cell_type": "code",
   "execution_count": null,
   "id": "d8dcaeca-87a0-4a95-9e4d-72b8411e6be4",
   "metadata": {},
   "outputs": [],
   "source": []
  },
  {
   "cell_type": "code",
   "execution_count": null,
   "id": "8fad61ef-485f-477a-9d9e-3178301a5e41",
   "metadata": {},
   "outputs": [],
   "source": []
  },
  {
   "cell_type": "code",
   "execution_count": null,
   "id": "4eb62223-8f3b-4cef-bb60-6a5aedea5108",
   "metadata": {},
   "outputs": [],
   "source": []
  },
  {
   "cell_type": "code",
   "execution_count": null,
   "id": "c17711d2-8a17-4d82-addc-c12b550d1b76",
   "metadata": {},
   "outputs": [],
   "source": []
  },
  {
   "cell_type": "code",
   "execution_count": null,
   "id": "e7478be6-8f97-4e25-9351-3ff090df61f2",
   "metadata": {},
   "outputs": [],
   "source": []
  },
  {
   "cell_type": "code",
   "execution_count": null,
   "id": "7967680e-0170-4929-89c1-9ee925e0ecb0",
   "metadata": {},
   "outputs": [],
   "source": []
  },
  {
   "cell_type": "code",
   "execution_count": null,
   "id": "67353020-dcdf-4fb2-a72a-0ab3da12737a",
   "metadata": {},
   "outputs": [],
   "source": [
    "n_clusters = 10\n",
    "model = KMeans(n_clusters=n_clusters, init='k-means++', max_iter=500, n_init=15).fit(tfidf_data)"
   ]
  },
  {
   "cell_type": "code",
   "execution_count": 15,
   "id": "ed9832a3-4fdb-454b-838d-4c67ea88ae02",
   "metadata": {},
   "outputs": [
    {
     "name": "stdout",
     "output_type": "stream",
     "text": [
      "Top terms per cluster:\n",
      "Cluster 0:\n",
      " room\n",
      " floor\n",
      " bedroom\n",
      " larg\n",
      " kitchen\n",
      " live\n",
      " park\n",
      " unit\n",
      " close\n",
      " street\n",
      " hardwood\n",
      " walk\n",
      " new\n",
      " avail\n",
      " space\n",
      "Cluster 1:\n",
      " apart\n",
      " commun\n",
      " todai\n",
      " featur\n",
      " home\n",
      " offer\n",
      " manag\n",
      " closet\n",
      " tour\n",
      " center\n",
      " amen\n",
      " contact\n",
      " park\n",
      " pet\n",
      " free\n",
      "Cluster 2:\n",
      " loft\n",
      " maynard\n",
      " commun\n",
      " andov\n",
      " apart\n",
      " home\n",
      " worcest\n",
      " tour\n",
      " todai\n",
      " north\n",
      " contact\n",
      " vue\n",
      " lawrenc\n",
      " person\n",
      " indoor\n",
      "Cluster 3:\n",
      " repres\n",
      " build\n",
      " unit\n",
      " apart\n",
      " daili\n",
      " finish\n",
      " date\n",
      " model\n",
      " subject\n",
      " vari\n",
      " flexibl\n",
      " chang\n",
      " actual\n",
      " plan\n",
      " avail\n",
      "Cluster 4:\n",
      " discrimin\n",
      " statu\n",
      " advertis\n",
      " prestig\n",
      " person\n",
      " solut\n",
      " real\n",
      " estat\n",
      " genet\n",
      " martial\n",
      " arm\n",
      " prestigerentalsolut\n",
      " anti\n",
      " ancestri\n",
      " illeg\n",
      "Cluster 5:\n",
      " squar\n",
      " maven\n",
      " cambridg\n",
      " davi\n",
      " fee\n",
      " bath\n",
      " refer\n",
      " realti\n",
      " dishwash\n",
      " avon\n",
      " negoti\n",
      " laundri\n",
      " hardwood\n",
      " includ\n",
      " municip\n",
      "Cluster 6:\n",
      " avail\n",
      " rent\n",
      " includ\n",
      " hot\n",
      " properti\n",
      " monthb\n",
      " date\n",
      " info\n",
      " heat\n",
      " bath\n",
      " bu\n",
      " park\n",
      " water\n",
      " fee\n",
      " av\n",
      "Cluster 7:\n",
      " place\n",
      " placesforless\n",
      " broker\n",
      " reach\n",
      " craigslist\n",
      " fee\n",
      " apart\n",
      " virtual\n",
      " onlin\n",
      " unit\n",
      " need\n",
      " tour\n",
      " brokerag\n",
      " brows\n",
      " http\n",
      "Cluster 8:\n",
      " month\n",
      " select\n",
      " units\n",
      " hour\n",
      " available\n",
      " pet\n",
      " onlin\n",
      " resid\n",
      " center\n",
      " pool\n",
      " commun\n",
      " limit\n",
      " fit\n",
      " area\n",
      " restrict\n",
      "Cluster 9:\n",
      " month\n",
      " apart\n",
      " includ\n",
      " bedroom\n",
      " rent\n",
      " park\n",
      " floor\n",
      " street\n",
      " avail\n",
      " requir\n",
      " heat\n",
      " water\n",
      " unit\n",
      " secur\n",
      " locat\n"
     ]
    }
   ],
   "source": [
    "print(\"Top terms per cluster:\")\n",
    "order_centroids = model.cluster_centers_.argsort()[:, ::-1]\n",
    "terms = vectorizer.get_feature_names()\n",
    "for i in range(n_clusters):\n",
    "    print(\"Cluster %d:\" % i),\n",
    "    for ind in order_centroids[i, :15]:\n",
    "        print(' %s' % terms[ind]),\n",
    "    print"
   ]
  },
  {
   "cell_type": "code",
   "execution_count": null,
   "id": "303bb1c1-1b50-443b-a1aa-72f184b4a9f2",
   "metadata": {},
   "outputs": [],
   "source": []
  },
  {
   "cell_type": "code",
   "execution_count": null,
   "id": "0f6410e5-5132-42eb-b138-fe99a7880be3",
   "metadata": {},
   "outputs": [],
   "source": []
  }
 ],
 "metadata": {
  "kernelspec": {
   "display_name": "Python 3",
   "language": "python",
   "name": "python3"
  },
  "language_info": {
   "codemirror_mode": {
    "name": "ipython",
    "version": 3
   },
   "file_extension": ".py",
   "mimetype": "text/x-python",
   "name": "python",
   "nbconvert_exporter": "python",
   "pygments_lexer": "ipython3",
   "version": "3.8.10"
  }
 },
 "nbformat": 4,
 "nbformat_minor": 5
}
