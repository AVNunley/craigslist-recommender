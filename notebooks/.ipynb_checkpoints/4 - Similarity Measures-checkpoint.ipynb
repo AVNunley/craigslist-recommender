{
 "cells": [
  {
   "cell_type": "code",
   "execution_count": 6,
   "id": "e635280e-735a-4723-bda9-179452e4967c",
   "metadata": {},
   "outputs": [],
   "source": [
    "import nltk, gensim, re\n",
    "import pandas as pd\n",
    "import numpy as np\n",
    "import matplotlib.pyplot as plt\n",
    "import seaborn as sns\n",
    "from sklearn.feature_extraction.text import TfidfVectorizer, CountVectorizer\n",
    "from sklearn.cluster import KMeans\n",
    "from scipy import stats\n",
    "\n",
    "sns.set_context('talk')"
   ]
  },
  {
   "cell_type": "code",
   "execution_count": 51,
   "id": "eb84e793-0fba-44df-bf2c-84ffe2e0cfbc",
   "metadata": {},
   "outputs": [],
   "source": [
    "#Instantiate DataFrame of craigslist data\n",
    "raw_data_sample = pd.read_csv('data\\\\CRAIGSLIST.Listings-1.csv').sample(frac = 0.1, random_state = 33).reset_index(drop = True)"
   ]
  },
  {
   "cell_type": "code",
   "execution_count": 53,
   "id": "6216299b-a727-406e-972f-3a36bbdb175c",
   "metadata": {},
   "outputs": [],
   "source": [
    "indices = pd.Series(raw_data_sample.index, index=raw_data_sample['LISTING_ID']).drop_duplicates()"
   ]
  },
  {
   "cell_type": "code",
   "execution_count": 65,
   "id": "6f273b0f-2a25-46ce-922f-c2f954f96a21",
   "metadata": {},
   "outputs": [],
   "source": [
    "def get_recommendations(id, matrix, indices, number):\n",
    "#id = 7172059171\n",
    "#matrix = cosine_sim\n",
    "\n",
    "    index = indices[id]\n",
    "\n",
    "    sim_scores = list(enumerate(matrix[index]))\n",
    "    sim_scores = sorted(sim_scores, key=lambda x: x[1], reverse=True)\n",
    "\n",
    "    sim_scores = sim_scores[1 : number + 1]\n",
    "\n",
    "    listing_indices = [i[0] for i in sim_scores]\n",
    "\n",
    "    return raw_data_sample['BODY'].iloc[listing_indices]"
   ]
  },
  {
   "cell_type": "code",
   "execution_count": 73,
   "id": "47be40f5-38cb-4f3b-935b-be16f552bfb3",
   "metadata": {},
   "outputs": [],
   "source": [
    "pd.set_option('display.max_colwidth', None)"
   ]
  },
  {
   "cell_type": "code",
   "execution_count": 17,
   "id": "4e54cefe-0734-440c-8a54-8af3ef39f419",
   "metadata": {},
   "outputs": [],
   "source": []
  },
  {
   "cell_type": "code",
   "execution_count": 57,
   "id": "f0f490db-ac94-4681-8256-9ee0ece93d8b",
   "metadata": {},
   "outputs": [
    {
     "data": {
      "text/plain": [
       "(13485, 13980)"
      ]
     },
     "execution_count": 57,
     "metadata": {},
     "output_type": "execute_result"
    }
   ],
   "source": [
    "tfidf_vectorizer = TfidfVectorizer(min_df = 2, max_df = 0.7)\n",
    "tfidf_matrix = tfidf_vectorizer.fit_transform(raw_data_sample.BODY)\n",
    "tfidf_matrix.shape"
   ]
  },
  {
   "cell_type": "code",
   "execution_count": 58,
   "id": "db6706f1-c0ca-46cb-aa75-a2fab325541a",
   "metadata": {},
   "outputs": [
    {
     "data": {
      "text/plain": [
       "array([[1.        , 0.02990802, 0.04071095, ..., 0.01396544, 0.11049123,\n",
       "        0.05544584],\n",
       "       [0.02990802, 1.        , 0.0925189 , ..., 0.05259575, 0.02054138,\n",
       "        0.02818588],\n",
       "       [0.04071095, 0.0925189 , 1.        , ..., 0.06447872, 0.0487288 ,\n",
       "        0.05022302],\n",
       "       [0.11461589, 0.05897118, 0.06784243, ..., 0.05839629, 0.08814916,\n",
       "        0.04961233],\n",
       "       [0.05339032, 0.05146263, 0.05881651, ..., 0.02092293, 0.01665409,\n",
       "        0.05507559]])"
      ]
     },
     "execution_count": 58,
     "metadata": {},
     "output_type": "execute_result"
    }
   ],
   "source": [
    "cosine_sim = linear_kernel(tfidf_matrix, tfidf_matrix)\n",
    "cosine_sim[:5]"
   ]
  },
  {
   "cell_type": "code",
   "execution_count": 75,
   "id": "17b07957-cd89-44bd-815c-52c2a4bc715f",
   "metadata": {
    "tags": []
   },
   "outputs": [
    {
     "name": "stdout",
     "output_type": "stream",
     "text": [
      "6744                                                                                                                                                                                                                                                                Limited Availability! Available Now! Pet Friendly 2 Bedroom Apartment!  Free Heat, Hot Water, Expanded Cable & High Speed Internet!  Stainless Steel Appliances  Air Conditioner  Wood-Style Flooring and Plush Carpeting  Washer/Dryer in Apartment  24-Hour Emergency Maintenance  Pet Friendly with Off-Leash Dog Park  On-Site Friendly & Professional Management  Off Street Parking  Secured Entry  Best Location in Town!  Washer/Dryer in Apartment  Resort Style Swimming Pool ☞And so Much More!!! Call today and schedule your tour of our community! Sugarloaf Estates 28 River Rd Sunderland, MA 01375 Call: show contact info For more pictures and specials place this link in your browser: https://www.aspensquare.com/massachusetts/sunderland/apartments/sugarloaf-estates?utm_source=Craigslist&utm_medium=referral&utm_campaign=Craigslist Aspen Square Management, Sugarloaf Estates, Cliffside, Boulders, Rolling Green, Pufton Village, Sunderland, Amherst, Hadley, Hatfield, Deerfield, Greenfield, Five Colleges, UMASS, Smith College, Amherst College, Hampshire College, Mount Holyoke, Holyoke Community College, Greenfield Community College, Hallmark, I-91, RT-47, RT-116, RT- 5 & 10, River Road, Hadley Road, Gym, Fitness Center, Swimming Pool, Basketball, BBQ Area, Volleyball, Playground, Garden Plot, Bus Route, Free-Parking, Off-street Parking, Snow Removal, Trash Removal, Laundry, Washer, Dryer, Stainless Steel Appliances, Microwave, Dishwasher, Stove, Oven, Refrigerator, Storage, Ample Closet Space, 2 Bedroom, Spacious, Sunny, Modern Kitchen, Utilities Included, Heat, Hot Water, Cable, Internet, Pets, Cats, Dogs, Pet Friendly, Bark Park, Large Breeds, Move in Specials, Reduced Rent, Limited Time, Move In, Specials, Pictures, Corporate, Short Term, Furnished\n",
      "10057                                                                                                                                                                                                                                                               Limited Availability! Available Now! Pet Friendly 2 Bedroom Apartment!  Free Heat, Hot Water, Expanded Cable & High Speed Internet!  Stainless Steel Appliances  Air Conditioner  Wood-Style Flooring and Plush Carpeting  Washer/Dryer in Apartment  24-Hour Emergency Maintenance  Pet Friendly with Off-Leash Dog Park  On-Site Friendly & Professional Management  Off Street Parking  Secured Entry  Best Location in Town!  Washer/Dryer in Apartment  Resort Style Swimming Pool ☞And so Much More!!! Call today and schedule your tour of our community! Sugarloaf Estates 28 River Rd Sunderland, MA 01375 Call: show contact info For more pictures and specials place this link in your browser: https://www.aspensquare.com/massachusetts/sunderland/apartments/sugarloaf-estates?utm_source=Craigslist&utm_medium=referral&utm_campaign=Craigslist Aspen Square Management, Sugarloaf Estates, Cliffside, Boulders, Rolling Green, Pufton Village, Sunderland, Amherst, Hadley, Hatfield, Deerfield, Greenfield, Five Colleges, UMASS, Smith College, Amherst College, Hampshire College, Mount Holyoke, Holyoke Community College, Greenfield Community College, Hallmark, I-91, RT-47, RT-116, RT- 5 & 10, River Road, Hadley Road, Gym, Fitness Center, Swimming Pool, Basketball, BBQ Area, Volleyball, Playground, Garden Plot, Bus Route, Free-Parking, Off-street Parking, Snow Removal, Trash Removal, Laundry, Washer, Dryer, Stainless Steel Appliances, Microwave, Dishwasher, Stove, Oven, Refrigerator, Storage, Ample Closet Space, 2 Bedroom, Spacious, Sunny, Modern Kitchen, Utilities Included, Heat, Hot Water, Cable, Internet, Pets, Cats, Dogs, Pet Friendly, Bark Park, Large Breeds, Move in Specials, Reduced Rent, Limited Time, Move In, Specials, Pictures, Corporate, Short Term, Furnished\n",
      "11565                                                                                                                                                                                                                                                               Limited Availability! Available Now! Pet Friendly 2 Bedroom Apartment!  Free Heat, Hot Water, Expanded Cable & High Speed Internet!  Stainless Steel Appliances  Air Conditioner  Wood-Style Flooring and Plush Carpeting  Washer/Dryer in Apartment  24-Hour Emergency Maintenance  Pet Friendly with Off-Leash Dog Park  On-Site Friendly & Professional Management  Off Street Parking  Secured Entry  Best Location in Town!  Washer/Dryer in Apartment  Resort Style Swimming Pool ☞And so Much More!!! Call today and schedule your tour of our community! Sugarloaf Estates 28 River Rd Sunderland, MA 01375 Call: show contact info For more pictures and specials place this link in your browser: https://www.aspensquare.com/massachusetts/sunderland/apartments/sugarloaf-estates?utm_source=Craigslist&utm_medium=referral&utm_campaign=Craigslist Aspen Square Management, Sugarloaf Estates, Cliffside, Boulders, Rolling Green, Pufton Village, Sunderland, Amherst, Hadley, Hatfield, Deerfield, Greenfield, Five Colleges, UMASS, Smith College, Amherst College, Hampshire College, Mount Holyoke, Holyoke Community College, Greenfield Community College, Hallmark, I-91, RT-47, RT-116, RT- 5 & 10, River Road, Hadley Road, Gym, Fitness Center, Swimming Pool, Basketball, BBQ Area, Volleyball, Playground, Garden Plot, Bus Route, Free-Parking, Off-street Parking, Snow Removal, Trash Removal, Laundry, Washer, Dryer, Stainless Steel Appliances, Microwave, Dishwasher, Stove, Oven, Refrigerator, Storage, Ample Closet Space, 2 Bedroom, Spacious, Sunny, Modern Kitchen, Utilities Included, Heat, Hot Water, Cable, Internet, Pets, Cats, Dogs, Pet Friendly, Bark Park, Large Breeds, Move in Specials, Reduced Rent, Limited Time, Move In, Specials, Pictures, Corporate, Short Term, Furnished\n",
      "1610                                                                                                                                                                                                                                                                                                                                                                       2 Bedroom Apartment Available in a Pet Friendly Community • Large Breeds Welcome • Dog Park Equipped with Agility Course • Plenty of Grassy Areas • Beautiful Walking Paths • Spacious Apartments Apartment Features • Updated Kitchen • Stainless Steel Appliances • Open Floorplan • Washer/Dryer in Select Homes • Heat, Hot Water, Cable & Internet Included! Don’t wait, call our Leasing Agents today to learn about our current specials and schedule your tour! Sugarloaf Estates ☏ show contact info ✉ 28 River Rd. Sunderland, MA 01375 For more pictures and specials place this link in your browser: https://www.aspensquare.com/massachusetts/sunderland/apartments/sugarloaf-estates?utm_source=Craigslist&utm_medium=referral&utm_campaign=Craigslist Aspen Square Management, Sugarloaf Estates, Cliffside, Boulders, Rolling Green, Pufton Village, Sunderland, Amherst, Hadley, Hatfield, Deerfield, Greenfield, Five Colleges, UMASS, Smith College, Amherst College, Hampshire College, Mount Holyoke, Holyoke Community College, Greenfield Community College, Hallmark, I-91, RT-47, RT-116, RT- 5 & 10, River Road, Hadley Road, Gym, Fitness Center, Swimming Pool, Basketball, BBQ Area, Volleyball, Playground, Garden Plot, Bus Route, Free-Parking, Off-street Parking, Snow Removal, Trash Removal, Laundry, Washer, Dryer, Stainless Steel Appliances, Microwave, Dishwasher, Stove, Oven, Refrigerator, Storage, Ample Closet Space, 2 Bedroom, Spacious, Sunny, Modern Kitchen, Utilities Included, Heat, Hot Water, Cable, Internet, Pets, Cats, Dogs, Pet Friendly, Bark Park, Large Breeds, Move in Specials, Reduced Rent, Limited Time, Move In, Specials, Pictures, Corporate, Short Term, Furnished\n",
      "2997                                                                                                                                                                                                                                                                                                                                                                       2 Bedroom Apartment Available in a Pet Friendly Community • Large Breeds Welcome • Dog Park Equipped with Agility Course • Plenty of Grassy Areas • Beautiful Walking Paths • Spacious Apartments Apartment Features • Updated Kitchen • Stainless Steel Appliances • Open Floorplan • Washer/Dryer in Select Homes • Heat, Hot Water, Cable & Internet Included! Don’t wait, call our Leasing Agents today to learn about our current specials and schedule your tour! Sugarloaf Estates ☏ show contact info ✉ 28 River Rd. Sunderland, MA 01375 For more pictures and specials place this link in your browser: https://www.aspensquare.com/massachusetts/sunderland/apartments/sugarloaf-estates?utm_source=Craigslist&utm_medium=referral&utm_campaign=Craigslist Aspen Square Management, Sugarloaf Estates, Cliffside, Boulders, Rolling Green, Pufton Village, Sunderland, Amherst, Hadley, Hatfield, Deerfield, Greenfield, Five Colleges, UMASS, Smith College, Amherst College, Hampshire College, Mount Holyoke, Holyoke Community College, Greenfield Community College, Hallmark, I-91, RT-47, RT-116, RT- 5 & 10, River Road, Hadley Road, Gym, Fitness Center, Swimming Pool, Basketball, BBQ Area, Volleyball, Playground, Garden Plot, Bus Route, Free-Parking, Off-street Parking, Snow Removal, Trash Removal, Laundry, Washer, Dryer, Stainless Steel Appliances, Microwave, Dishwasher, Stove, Oven, Refrigerator, Storage, Ample Closet Space, 2 Bedroom, Spacious, Sunny, Modern Kitchen, Utilities Included, Heat, Hot Water, Cable, Internet, Pets, Cats, Dogs, Pet Friendly, Bark Park, Large Breeds, Move in Specials, Reduced Rent, Limited Time, Move In, Specials, Pictures, Corporate, Short Term, Furnished\n",
      "10430                                                                                                         1/2 OFF June and $500 OFF security deposit! Join Our Community At Sugarloaf Estates! We have so much to offer you! Interior Amenities • Fully Applianced Kitchens • Open Floorplan • Spacious Rooms with Plenty of Storage Space • **ALL Utilities included**: o Cable TV o High-Speed Internet o Hot Water o Heat o Electric General Amenities • On Site, Professional Management Staff • 24 Hour Emergency Maintenance • Pet Friendly – We Have a Dog Park! • Ample parking • Close to Campus – We’re Right on The Bus Route! • Laundry Facilities • Roommate Matching • Outdoor Recreation Areas • Resort-Style Swimming Pool • 24/7 Fitness Center Sugarloaf Estates Call: show contact info 28 River Rd. Sunderland, MA 01375 Call today for to schedule your tour & find out about our current specials! For more pictures and specials place this link in your browser: https://www.aspensquare.com/massachusetts/sunderland/apartments/sugarloaf-estates?utm_source=Craigslist&utm_medium=referral&utm_campaign=Craigslist Aspen Square Management, Sugarloaf Estates, Cliffside, Boulders, Rolling Green, Pufton Village, Sunderland, Amherst, Hadley, Hatfield, Deerfield, Greenfield, Five Colleges, UMASS, Smith College, Amherst College, Hampshire College, Mount Holyoke, Holyoke Community College, Greenfield Community College, Hallmark, I-91, RT-47, RT-116, RT- 5 & 10, River Road, Hadley Road, Gym, Fitness Center, Swimming Pool, Basketball, BBQ Area, Volleyball, Playground, Garden Plot, Bus Route, Free-Parking, Off-street Parking, Snow Removal, Trash Removal, Laundry, Washer, Dryer, Stainless Steel Appliances, Microwave, Dishwasher, Stove, Oven, Refrigerator, Storage, Ample Closet Space, 2 Bedroom, Spacious, Sunny, Modern Kitchen, Utilities Included, Heat, Hot Water, Cable, Internet, Pets, Cats, Dogs, Pet Friendly, Bark Park, Large Breeds, Move in Specials, Reduced Rent, Limited Time, Move In, Specials, Pictures, Corporate, Short Term, Furnished\n",
      "1368                                                                                                                                                                                                                               Sugarloaf Estates Apartment Homes in Sunderland has the perfect 2 bedroom/1 bathroom apartment home just for YOU! Our New England Floor Plan Features ✹Modern Finishes ✹Washer and Dryer Included ✹Open Living Space ✹Amazing Closet Space Our Community Perks Will Blow You Away! ✹24-hour Fitness Center ✹Resort Style Swimming Pool ✹Lovely Walking Paths ✹Grilling Stations for Hosting ✹We Love Your Pets! Large Dogs Welcome! ✹24-Hour Emergency Maintenance Schedule Your Tour with Our Leasing Agent Today! °°°°°°°°°°°°°°°°°°°°°°°°°°°°°°°°°°°°°°°°°°°°°°°°°°°°°°° CONTACT INFORMATION☎☎☎ Sugarloaf Estates Apartments 28 River Rd. Sunderland, MA 01375 Call: show contact info For more pictures and specials place this link in your browser: https://www.aspensquare.com/massachusetts/sunderland/apartments/sugarloaf-estates?utm_source=Craigslist&utm_medium=referral&utm_campaign=Craigslist Aspen Square Management, Sugarloaf Estates, Cliffside, Boulders, Rolling Green, Pufton Village, Sunderland, Amherst, Hadley, Hatfield, Deerfield, Greenfield, Five Colleges, UMASS, Smith College, Amherst College, Hampshire College, Mount Holyoke, Holyoke Community College, Greenfield Community College, Hallmark, I-91, RT-47, RT-116, RT- 5 & 10, River Road, Hadley Road, Gym, Fitness Center, Swimming Pool, Basketball, BBQ Area, Volleyball, Playground, Garden Plot, Bus Route, Free-Parking, Off-street Parking, Snow Removal, Trash Removal, Laundry, Washer, Dryer, Stainless Steel Appliances, Microwave, Dishwasher, Stove, Oven, Refrigerator, Storage, Ample Closet Space, 2 Bedroom, Spacious, Sunny, Modern Kitchen, Utilities Included, Heat, Hot Water, Cable, Internet, Pets, Cats, Dogs, Pet Friendly, Bark Park, Large Breeds, Move in Specials, Reduced Rent, Limited Time, Move In, Specials, Pictures, Corporate, Short Term, Furnished\n",
      "7443     Take 1/2 OFF May's rent on this beautiful remodeled 2 bedroom apartment. Take an additional $500 OFF your security deposit for a summer move in! Join Our Community At Sugarloaf Estates! We have so much to offer you! Interior Amenities • Fully Applianced Kitchens • Open Floorplan • Spacious Rooms with Plenty of Storage Space • **ALL Utilities included**: o Cable TV o High-Speed Internet o Hot Water o Heat o Electric General Amenities • On Site, Professional Management Staff • 24 Hour Emergency Maintenance • Pet Friendly – We Have a Dog Park! • Ample parking • Close to Campus – We’re Right on The Bus Route! • Laundry Facilities • Roommate Matching • Outdoor Recreation Areas • Resort-Style Swimming Pool • 24/7 Fitness Center Sugarloaf Estates Call: show contact info 28 River Rd. Sunderland, MA 01375 Call today for to schedule your tour & find out about our current specials! For more pictures and specials place this link in your browser: https://www.aspensquare.com/massachusetts/sunderland/apartments/sugarloaf-estates?utm_source=Craigslist&utm_medium=referral&utm_campaign=Craigslist Aspen Square Management, Sugarloaf Estates, Cliffside, Boulders, Rolling Green, Pufton Village, Sunderland, Amherst, Hadley, Hatfield, Deerfield, Greenfield, Five Colleges, UMASS, Smith College, Amherst College, Hampshire College, Mount Holyoke, Holyoke Community College, Greenfield Community College, Hallmark, I-91, RT-47, RT-116, RT- 5 & 10, River Road, Hadley Road, Gym, Fitness Center, Swimming Pool, Basketball, BBQ Area, Volleyball, Playground, Garden Plot, Bus Route, Free-Parking, Off-street Parking, Snow Removal, Trash Removal, Laundry, Washer, Dryer, Stainless Steel Appliances, Microwave, Dishwasher, Stove, Oven, Refrigerator, Storage, Ample Closet Space, 2 Bedroom, Spacious, Sunny, Modern Kitchen, Utilities Included, Heat, Hot Water, Cable, Internet, Pets, Cats, Dogs, Pet Friendly, Bark Park, Large Breeds, Move in Specials, Reduced Rent, Limited Time, Move In, Specials, Pictures, Corporate, Short Term, Furnished\n",
      "5754                                                                                                                                                                                                                              Off Campus Living Just Minutes from UMass!  FREE Heat, Hot Water, Cable & High Speed Internet  Located on the PVTA Bus Line #31  Spacious Living Space  Fully Equipped Kitchen  8 Laundry Facilities  Roommate Matching Available  Trash & Snow Removal Included Community Amenities  Resort Style Swimming Pool  24 Hour Fitness Center  Basketball Court  Beach Volleyball Court  Dog Park  Bike Storage  Ample Parking CONTACT INFORMATION: -------------------------------------------------------------------------------------------------------- Sugarloaf Estates Apartment Homes Liz | Assistant Manager Phone: show contact info 28 River Rd. Sunderland, MA 01375 For more pictures and specials place this link in your browser: https://www.aspensquare.com/massachusetts/sunderland/apartments/sugarloaf-estates?utm_source=Craigslist&utm_medium=referral&utm_campaign=Craigslist Aspen Square Management, Sugarloaf Estates, Cliffside, Boulders, Rolling Green, Pufton Village, Sunderland, Amherst, Hadley, Hatfield, Deerfield, Greenfield, Five Colleges, UMASS, Smith College, Amherst College, Hampshire College, Mount Holyoke, Holyoke Community College, Greenfield Community College, Hallmark, I-91, RT-47, RT-116, RT- 5 & 10, River Road, Hadley Road, Gym, Fitness Center, Swimming Pool, Basketball, BBQ Area, Volleyball, Playground, Garden Plot, Bus Route, Free-Parking, Off-street Parking, Snow Removal, Trash Removal, Laundry, Washer, Dryer, Stainless Steel Appliances, Microwave, Dishwasher, Stove, Oven, Refrigerator, Storage, Ample Closet Space, 2 Bedroom, Spacious, Sunny, Modern Kitchen, Utilities Included, Heat, Hot Water, Cable, Internet, Pets, Cats, Dogs, Pet Friendly, Bark Park, Large Breeds, Move in Specials, Reduced Rent, Limited Time, Move In, Specials, Pictures, Corporate, Short Term, Furnished\n",
      "1301                                                                                                                                             NOW LEASING: 2 Bedroom Apartment ➡️ FREE heat, hot water, cable & internet ➡️ Open concept living area ➡️ Large breakfast bar ➡️ Fully remodeled kitchen ↪️Stainless steel appliances ↪️Wood style flooring ↪️Modern white cabinets ↪️Granite style counters ➡️ Spacious bedroom ➡️ Washer/Dryer in home You may never want to leave your home, but if you do, we have plenty of amenities! ➡️ Newly renovated salt water swimming pool ➡️ 24 hour fitness center ➡️ Basketball Court ➡️ Beach Volleyball ➡️ Grilling Stations ➡️ Bike Storage ➡️ Hammock Garden ➡️ Playground ➡️ Dog Park ➡️ On-site laundry facility ➡️ Online resident portal Come see this beautiful home for yourself TODAY! Sugarloaf Estates 28 River Rd Sunderland MA 01375 Call: show contact info For more pictures and specials place this link in your browser: https://www.aspensquare.com/massachusetts/sunderland/apartments/sugarloaf-estates?utm_source=Craigslist&utm_medium=referral&utm_campaign=Craigslist Aspen Square Management, Sugarloaf Estates, Cliffside, Boulders, Rolling Green, Pufton Village, Sunderland, Amherst, Hadley, Hatfield, Deerfield, Greenfield, Five Colleges, UMASS, Smith College, Amherst College, Hampshire College, Mount Holyoke, Holyoke Community College, Greenfield Community College, Hallmark, I-91, RT-47, RT-116, RT- 5 & 10, River Road, Hadley Road, Gym, Fitness Center, Swimming Pool, Basketball, BBQ Area, Volleyball, Playground, Garden Plot, Bus Route, Free-Parking, Off-street Parking, Snow Removal, Trash Removal, Laundry, Washer, Dryer, Stainless Steel Appliances, Microwave, Dishwasher, Stove, Oven, Refrigerator, Storage, Ample Closet Space, 2 Bedroom, Spacious, Sunny, Modern Kitchen, Utilities Included, Heat, Hot Water, Cable, Internet, Pets, Cats, Dogs, Pet Friendly, Bark Park, Large Breeds, Move in Specials, Reduced Rent, Limited Time, Move In, Specials, Pictures, Corporate, Short Term, Furnished\n",
      "Name: BODY, dtype: object\n"
     ]
    }
   ],
   "source": [
    "print(get_recommendations(7138861705, cosine_sim, indices, 10))"
   ]
  },
  {
   "cell_type": "code",
   "execution_count": null,
   "id": "352de545-84a6-4d24-857f-c9976f7624ac",
   "metadata": {},
   "outputs": [],
   "source": [
    "cosine_sim = linear_kernel(tfidf_matrix, tfidf_matrix)\n",
    "print(get_recommendations(7138861705, cosine_sim, indices, 10))"
   ]
  },
  {
   "cell_type": "code",
   "execution_count": null,
   "id": "8d9cb9aa-358e-408c-92e5-28d91731fff1",
   "metadata": {},
   "outputs": [],
   "source": []
  },
  {
   "cell_type": "code",
   "execution_count": null,
   "id": "69da7f37-8d0f-468c-a964-ec7ee398802e",
   "metadata": {},
   "outputs": [],
   "source": []
  }
 ],
 "metadata": {
  "kernelspec": {
   "display_name": "Python 3",
   "language": "python",
   "name": "python3"
  },
  "language_info": {
   "codemirror_mode": {
    "name": "ipython",
    "version": 3
   },
   "file_extension": ".py",
   "mimetype": "text/x-python",
   "name": "python",
   "nbconvert_exporter": "python",
   "pygments_lexer": "ipython3",
   "version": "3.8.10"
  }
 },
 "nbformat": 4,
 "nbformat_minor": 5
}
