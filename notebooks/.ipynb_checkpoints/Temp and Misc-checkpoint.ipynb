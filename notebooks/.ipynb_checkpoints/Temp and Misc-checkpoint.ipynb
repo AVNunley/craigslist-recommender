{
 "cells": [
  {
   "cell_type": "code",
   "execution_count": 1,
   "id": "e635280e-735a-4723-bda9-179452e4967c",
   "metadata": {},
   "outputs": [],
   "source": [
    "import nltk, gensim\n",
    "import pandas as pd\n",
    "import numpy as np\n",
    "import matplotlib.pyplot as plt\n",
    "from sklearn.feature_extraction.text import TfidfVectorizer\n",
    "from sklearn.cluster import KMeans, AgglomerativeClustering, DBSCAN\n",
    "from sklearn.preprocessing import StandardScaler\n",
    "from sklearn.decomposition import TruncatedSVD\n",
    "from scipy.sparse import hstack"
   ]
  },
  {
   "cell_type": "code",
   "execution_count": 2,
   "id": "4e54cefe-0734-440c-8a54-8af3ef39f419",
   "metadata": {},
   "outputs": [],
   "source": [
    "#Instantiate and setup DataFrame\n",
    "df = pd.read_csv('..\\\\data\\\\wrangled_data.csv')\n",
    "df.set_index('LISTING_ID', inplace = True, drop = True)"
   ]
  },
  {
   "cell_type": "code",
   "execution_count": 3,
   "id": "f451bfe3-4703-4205-9659-72e922cc28f5",
   "metadata": {
    "tags": []
   },
   "outputs": [],
   "source": [
    "tfidf_vectorizer = TfidfVectorizer(stop_words='english', min_df = 2, max_df = 0.7)\n",
    "tfidf_data = tfidf_vectorizer.fit_transform(df.BODY)"
   ]
  },
  {
   "cell_type": "code",
   "execution_count": 4,
   "id": "01b11140-7de4-4d73-8a65-48fafc4a2a3e",
   "metadata": {},
   "outputs": [
    {
     "data": {
      "text/plain": [
       "<126358x37899 sparse matrix of type '<class 'numpy.float64'>'\n",
       "\twith 10689809 stored elements in Compressed Sparse Row format>"
      ]
     },
     "execution_count": 4,
     "metadata": {},
     "output_type": "execute_result"
    }
   ],
   "source": [
    "tfidf_data"
   ]
  },
  {
   "cell_type": "code",
   "execution_count": 5,
   "id": "b1f805bd-f88a-4a4a-9023-d8b4b9d95b08",
   "metadata": {},
   "outputs": [],
   "source": [
    "features_unscaled = df.drop('BODY', axis = 1)\n",
    "scaler = StandardScaler()\n",
    "features = scaler.fit_transform(features_unscaled)"
   ]
  },
  {
   "cell_type": "code",
   "execution_count": 6,
   "id": "6ca7ea34-0d72-4180-918a-70035e7e6277",
   "metadata": {},
   "outputs": [
    {
     "data": {
      "text/html": [
       "<div>\n",
       "<style scoped>\n",
       "    .dataframe tbody tr th:only-of-type {\n",
       "        vertical-align: middle;\n",
       "    }\n",
       "\n",
       "    .dataframe tbody tr th {\n",
       "        vertical-align: top;\n",
       "    }\n",
       "\n",
       "    .dataframe thead th {\n",
       "        text-align: right;\n",
       "    }\n",
       "</style>\n",
       "<table border=\"1\" class=\"dataframe\">\n",
       "  <thead>\n",
       "    <tr style=\"text-align: right;\">\n",
       "      <th></th>\n",
       "      <th>PRICE</th>\n",
       "      <th>AREA_SQFT</th>\n",
       "      <th>ALLOWS_CATS</th>\n",
       "      <th>ALLOWS_DOGS</th>\n",
       "    </tr>\n",
       "    <tr>\n",
       "      <th>LISTING_ID</th>\n",
       "      <th></th>\n",
       "      <th></th>\n",
       "      <th></th>\n",
       "      <th></th>\n",
       "    </tr>\n",
       "  </thead>\n",
       "  <tbody>\n",
       "    <tr>\n",
       "      <th>7075306172</th>\n",
       "      <td>2275</td>\n",
       "      <td>900.0</td>\n",
       "      <td>1.0</td>\n",
       "      <td>0.0</td>\n",
       "    </tr>\n",
       "    <tr>\n",
       "      <th>7075321793</th>\n",
       "      <td>2350</td>\n",
       "      <td>800.0</td>\n",
       "      <td>1.0</td>\n",
       "      <td>0.0</td>\n",
       "    </tr>\n",
       "    <tr>\n",
       "      <th>7075372720</th>\n",
       "      <td>2395</td>\n",
       "      <td>875.0</td>\n",
       "      <td>1.0</td>\n",
       "      <td>0.0</td>\n",
       "    </tr>\n",
       "    <tr>\n",
       "      <th>7075376264</th>\n",
       "      <td>2395</td>\n",
       "      <td>875.0</td>\n",
       "      <td>1.0</td>\n",
       "      <td>0.0</td>\n",
       "    </tr>\n",
       "    <tr>\n",
       "      <th>7075380613</th>\n",
       "      <td>2450</td>\n",
       "      <td>950.0</td>\n",
       "      <td>1.0</td>\n",
       "      <td>0.0</td>\n",
       "    </tr>\n",
       "  </tbody>\n",
       "</table>\n",
       "</div>"
      ],
      "text/plain": [
       "            PRICE  AREA_SQFT  ALLOWS_CATS  ALLOWS_DOGS\n",
       "LISTING_ID                                            \n",
       "7075306172   2275      900.0          1.0          0.0\n",
       "7075321793   2350      800.0          1.0          0.0\n",
       "7075372720   2395      875.0          1.0          0.0\n",
       "7075376264   2395      875.0          1.0          0.0\n",
       "7075380613   2450      950.0          1.0          0.0"
      ]
     },
     "execution_count": 6,
     "metadata": {},
     "output_type": "execute_result"
    }
   ],
   "source": [
    "features_unscaled.head()"
   ]
  },
  {
   "cell_type": "code",
   "execution_count": 7,
   "id": "534c2cba-b7b6-403b-ae45-e115dd95c744",
   "metadata": {},
   "outputs": [
    {
     "data": {
      "text/html": [
       "<div>\n",
       "<style scoped>\n",
       "    .dataframe tbody tr th:only-of-type {\n",
       "        vertical-align: middle;\n",
       "    }\n",
       "\n",
       "    .dataframe tbody tr th {\n",
       "        vertical-align: top;\n",
       "    }\n",
       "\n",
       "    .dataframe thead th {\n",
       "        text-align: right;\n",
       "    }\n",
       "</style>\n",
       "<table border=\"1\" class=\"dataframe\">\n",
       "  <thead>\n",
       "    <tr style=\"text-align: right;\">\n",
       "      <th></th>\n",
       "      <th>0</th>\n",
       "      <th>1</th>\n",
       "      <th>2</th>\n",
       "      <th>3</th>\n",
       "    </tr>\n",
       "  </thead>\n",
       "  <tbody>\n",
       "    <tr>\n",
       "      <th>0</th>\n",
       "      <td>0.285777</td>\n",
       "      <td>-0.196376</td>\n",
       "      <td>0.886683</td>\n",
       "      <td>-0.762854</td>\n",
       "    </tr>\n",
       "    <tr>\n",
       "      <th>1</th>\n",
       "      <td>0.369994</td>\n",
       "      <td>-0.616577</td>\n",
       "      <td>0.886683</td>\n",
       "      <td>-0.762854</td>\n",
       "    </tr>\n",
       "    <tr>\n",
       "      <th>2</th>\n",
       "      <td>0.420524</td>\n",
       "      <td>-0.301426</td>\n",
       "      <td>0.886683</td>\n",
       "      <td>-0.762854</td>\n",
       "    </tr>\n",
       "    <tr>\n",
       "      <th>3</th>\n",
       "      <td>0.420524</td>\n",
       "      <td>-0.301426</td>\n",
       "      <td>0.886683</td>\n",
       "      <td>-0.762854</td>\n",
       "    </tr>\n",
       "    <tr>\n",
       "      <th>4</th>\n",
       "      <td>0.482284</td>\n",
       "      <td>0.013725</td>\n",
       "      <td>0.886683</td>\n",
       "      <td>-0.762854</td>\n",
       "    </tr>\n",
       "  </tbody>\n",
       "</table>\n",
       "</div>"
      ],
      "text/plain": [
       "          0         1         2         3\n",
       "0  0.285777 -0.196376  0.886683 -0.762854\n",
       "1  0.369994 -0.616577  0.886683 -0.762854\n",
       "2  0.420524 -0.301426  0.886683 -0.762854\n",
       "3  0.420524 -0.301426  0.886683 -0.762854\n",
       "4  0.482284  0.013725  0.886683 -0.762854"
      ]
     },
     "execution_count": 7,
     "metadata": {},
     "output_type": "execute_result"
    }
   ],
   "source": [
    "pd.DataFrame(features).head()"
   ]
  },
  {
   "cell_type": "code",
   "execution_count": 8,
   "id": "52ce9b26-f841-470f-9d97-59d78d53f87b",
   "metadata": {},
   "outputs": [],
   "source": [
    "X_matrix = hstack((tfidf_data, features))"
   ]
  },
  {
   "cell_type": "code",
   "execution_count": 9,
   "id": "65cfe104-2101-4406-805e-b8af660ed60d",
   "metadata": {
    "tags": []
   },
   "outputs": [],
   "source": [
    "X_full = pd.DataFrame.sparse.from_spmatrix(X_matrix)"
   ]
  },
  {
   "cell_type": "code",
   "execution_count": 10,
   "id": "9f09b1ef-a056-4e5c-88b2-f6b9305ee34e",
   "metadata": {},
   "outputs": [
    {
     "data": {
      "text/plain": [
       "(126358, 37903)"
      ]
     },
     "execution_count": 10,
     "metadata": {},
     "output_type": "execute_result"
    }
   ],
   "source": [
    "X_full.shape"
   ]
  },
  {
   "cell_type": "code",
   "execution_count": 11,
   "id": "5ff573fc-0e77-4161-91b2-eb4e0199619d",
   "metadata": {},
   "outputs": [
    {
     "data": {
      "text/plain": [
       "TruncatedSVD(n_components=275)"
      ]
     },
     "execution_count": 11,
     "metadata": {},
     "output_type": "execute_result"
    }
   ],
   "source": [
    "svd = TruncatedSVD(n_components = 275)\n",
    "svd.fit(X_full)"
   ]
  },
  {
   "cell_type": "code",
   "execution_count": 12,
   "id": "732df5d6-ac5c-4210-91ff-2ebfb0bd589e",
   "metadata": {},
   "outputs": [
    {
     "data": {
      "text/plain": [
       "0.89784280146161"
      ]
     },
     "execution_count": 12,
     "metadata": {},
     "output_type": "execute_result"
    }
   ],
   "source": [
    "var_explained = svd.explained_variance_ratio_.sum()\n",
    "var_explained"
   ]
  },
  {
   "cell_type": "code",
   "execution_count": 61,
   "id": "d2b89721-660c-4eb9-96fe-ddf9cc069e6a",
   "metadata": {},
   "outputs": [],
   "source": [
    "components = [1, 2, 3, 4, 5, 6, 7, 8, 9, 10, 15, 20, 25, 50, 100, 250, 500]\n",
    "var_explained_list = []\n",
    "\n",
    "for number in components:\n",
    "    svd = TruncatedSVD(n_components = number)\n",
    "    svd.fit(X_full)\n",
    "    var_explained_list.append(svd.explained_variance_ratio_.sum())"
   ]
  },
  {
   "cell_type": "code",
   "execution_count": 79,
   "id": "d368f0b9-bd45-4ded-8e4d-d3c44ad295c7",
   "metadata": {},
   "outputs": [
    {
     "data": {
      "text/plain": [
       "<matplotlib.lines.Line2D at 0x2205ae22fd0>"
      ]
     },
     "execution_count": 79,
     "metadata": {},
     "output_type": "execute_result"
    },
    {
     "data": {
      "image/png": "[encoded data removed]",
      "text/plain": [
       "<Figure size 432x288 with 1 Axes>"
      ]
     },
     "metadata": {
      "needs_background": "light"
     },
     "output_type": "display_data"
    }
   ],
   "source": [
    "plt.plot(components, var_explained_list)\n",
    "plt.axhline(0.9, color = 'green')\n",
    "plt.axhline(0.85, color = 'yellow')\n",
    "plt.axhline(0.8, color = 'red')"
   ]
  },
  {
   "cell_type": "code",
   "execution_count": 56,
   "id": "4c826de5-bee6-4206-839b-0cf668017f99",
   "metadata": {},
   "outputs": [
    {
     "data": {
      "text/plain": [
       "[0.3400887871683541,\n",
       " 0.5757617762435472,\n",
       " 0.7349244055557762,\n",
       " 0.8106222434839031,\n",
       " 0.8114477543369769,\n",
       " 0.8150637200770802,\n",
       " 0.8182277026441616,\n",
       " 0.8205013235936315,\n",
       " 0.8226198209022504,\n",
       " 0.8242898092630423,\n",
       " 0.8309868174820269,\n",
       " 0.8358415142866843,\n",
       " 0.8395891690599387,\n",
       " 0.8518368058776552,\n",
       " 0.8674243613989111,\n",
       " 0.8946188363207186,\n",
       " 0.9189862720342054]"
      ]
     },
     "execution_count": 56,
     "metadata": {},
     "output_type": "execute_result"
    }
   ],
   "source": [
    "var_explained"
   ]
  },
  {
   "cell_type": "code",
   "execution_count": 94,
   "id": "57c6a21c-a82f-4de2-9d96-5ca15861e8e2",
   "metadata": {},
   "outputs": [
    {
     "data": {
      "text/plain": [
       "0.8518464530779708"
      ]
     },
     "execution_count": 94,
     "metadata": {},
     "output_type": "execute_result"
    }
   ],
   "source": [
    "svd = TruncatedSVD(n_components = 50)\n",
    "svd.fit(X_full)\n",
    "var_explained = svd.explained_variance_ratio_.sum()\n",
    "var_explained"
   ]
  },
  {
   "cell_type": "code",
   "execution_count": 95,
   "id": "97d6b493-30db-495e-bddd-068a9c3cec52",
   "metadata": {},
   "outputs": [
    {
     "data": {
      "text/plain": [
       "<BarContainer object of 50 artists>"
      ]
     },
     "execution_count": 95,
     "metadata": {},
     "output_type": "execute_result"
    },
    {
     "data": {
      "image/png": "[encoded data removed]",
      "text/plain": [
       "<Figure size 432x288 with 1 Axes>"
      ]
     },
     "metadata": {
      "needs_background": "light"
     },
     "output_type": "display_data"
    }
   ],
   "source": [
    "plt.bar(range(len(svd.explained_variance_ratio_)), svd.explained_variance_ratio_)"
   ]
  },
  {
   "cell_type": "code",
   "execution_count": 96,
   "id": "fbb35091-b38f-4b4b-ae2b-4e8b89a0b566",
   "metadata": {},
   "outputs": [
    {
     "data": {
      "text/plain": [
       "0.8242898885491379"
      ]
     },
     "execution_count": 96,
     "metadata": {},
     "output_type": "execute_result"
    }
   ],
   "source": [
    "svd = TruncatedSVD(n_components = 10)\n",
    "svd.fit(X_full)\n",
    "var_explained = svd.explained_variance_ratio_.sum()\n",
    "var_explained"
   ]
  },
  {
   "cell_type": "code",
   "execution_count": 97,
   "id": "6dd92364-e0c8-4ad4-a152-664c3485620e",
   "metadata": {},
   "outputs": [
    {
     "data": {
      "text/plain": [
       "<BarContainer object of 10 artists>"
      ]
     },
     "execution_count": 97,
     "metadata": {},
     "output_type": "execute_result"
    },
    {
     "data": {
      "image/png": "[encoded data removed]",
      "text/plain": [
       "<Figure size 432x288 with 1 Axes>"
      ]
     },
     "metadata": {
      "needs_background": "light"
     },
     "output_type": "display_data"
    }
   ],
   "source": [
    "plt.bar(range(len(svd.explained_variance_ratio_)), svd.explained_variance_ratio_)"
   ]
  },
  {
   "cell_type": "code",
   "execution_count": 13,
   "id": "847cf7cd-ca7f-4e30-a50f-0c691cef0851",
   "metadata": {},
   "outputs": [
    {
     "data": {
      "text/plain": [
       "0.8106222434839029"
      ]
     },
     "execution_count": 13,
     "metadata": {},
     "output_type": "execute_result"
    }
   ],
   "source": [
    "svd = TruncatedSVD(n_components = 4)\n",
    "svd.fit(X_full)\n",
    "var_explained = svd.explained_variance_ratio_.sum()\n",
    "var_explained"
   ]
  },
  {
   "cell_type": "code",
   "execution_count": 14,
   "id": "7d8e91cf-57f8-4ccd-83b4-376937ca7f41",
   "metadata": {},
   "outputs": [
    {
     "data": {
      "text/plain": [
       "<BarContainer object of 4 artists>"
      ]
     },
     "execution_count": 14,
     "metadata": {},
     "output_type": "execute_result"
    },
    {
     "data": {
      "image/png": "[encoded data removed]",
      "text/plain": [
       "<Figure size 432x288 with 1 Axes>"
      ]
     },
     "metadata": {
      "needs_background": "light"
     },
     "output_type": "display_data"
    }
   ],
   "source": [
    "plt.bar(range(len(svd.explained_variance_ratio_)), svd.explained_variance_ratio_)"
   ]
  },
  {
   "cell_type": "code",
   "execution_count": null,
   "id": "9940e8b8-c5df-4fe7-b2d9-ce96879dc643",
   "metadata": {
    "tags": []
   },
   "outputs": [],
   "source": [
    "# Set n_components based on % of explained variance or on the accuracy:computation tradeoff depicted in the chart?"
   ]
  },
  {
   "cell_type": "code",
   "execution_count": 15,
   "id": "ccc88599-51b3-4c0f-8cba-4d3c044b4177",
   "metadata": {
    "tags": []
   },
   "outputs": [],
   "source": [
    "X = svd.transform(X_full)"
   ]
  },
  {
   "cell_type": "code",
   "execution_count": 16,
   "id": "c5dd56be-8e18-490c-945e-3a629e515c54",
   "metadata": {},
   "outputs": [
    {
     "data": {
      "text/plain": [
       "(126358, 4)"
      ]
     },
     "execution_count": 16,
     "metadata": {},
     "output_type": "execute_result"
    }
   ],
   "source": [
    "X.shape"
   ]
  },
  {
   "cell_type": "code",
   "execution_count": null,
   "id": "a044e312-be4d-4194-99b7-855956a575fc",
   "metadata": {},
   "outputs": [],
   "source": [
    "def get_recommendations(id, model, number, random = False):\n",
    "    \n",
    "    "
   ]
  },
  {
   "cell_type": "code",
   "execution_count": null,
   "id": "148b5139-b310-4195-81a3-7a58de8c1ba9",
   "metadata": {},
   "outputs": [],
   "source": []
  },
  {
   "cell_type": "markdown",
   "id": "ac2abcc1-608b-4994-b3e6-b872b83c125b",
   "metadata": {},
   "source": [
    "#### K-Means"
   ]
  },
  {
   "cell_type": "code",
   "execution_count": null,
   "id": "6f7feaa3-69dd-458d-8cc4-39a671e1d80c",
   "metadata": {},
   "outputs": [],
   "source": [
    "#Determine number of clusters"
   ]
  },
  {
   "cell_type": "code",
   "execution_count": 44,
   "id": "a79a2b92-61ab-44ae-a9e6-82d81a453516",
   "metadata": {},
   "outputs": [],
   "source": [
    "inertia_list = []\n",
    "K = range(1,50)\n",
    "for k in K:\n",
    "    km = KMeans(n_clusters = k, random_state = 33)\n",
    "    km.fit(X)\n",
    "    inertia_list.append(km.inertia_)"
   ]
  },
  {
   "cell_type": "code",
   "execution_count": 45,
   "id": "08a3e616-23e9-4727-abbf-7ff6e0d20c21",
   "metadata": {},
   "outputs": [
    {
     "data": {
      "text/plain": [
       "[<matplotlib.lines.Line2D at 0x218f6b37040>]"
      ]
     },
     "execution_count": 45,
     "metadata": {},
     "output_type": "execute_result"
    },
    {
     "data": {
      "image/png": "[encoded data removed]",
      "text/plain": [
       "<Figure size 432x288 with 1 Axes>"
      ]
     },
     "metadata": {
      "needs_background": "light"
     },
     "output_type": "display_data"
    }
   ],
   "source": [
    "plt.plot(K, inertia_list)"
   ]
  },
  {
   "cell_type": "code",
   "execution_count": 118,
   "id": "baf58ec4-b8c3-4458-8a71-f7f151b1a581",
   "metadata": {},
   "outputs": [],
   "source": []
  },
  {
   "cell_type": "code",
   "execution_count": 117,
   "id": "4b6afaee-2546-4fcf-a01c-af7dca9dee75",
   "metadata": {},
   "outputs": [],
   "source": [
    "#### Include Average Silhouette Method and Gap Statistic"
   ]
  },
  {
   "cell_type": "code",
   "execution_count": 41,
   "id": "694e6ea0-7e57-4cc4-8c86-05eea390d0b9",
   "metadata": {},
   "outputs": [
    {
     "data": {
      "text/html": [
       "<div>\n",
       "<style scoped>\n",
       "    .dataframe tbody tr th:only-of-type {\n",
       "        vertical-align: middle;\n",
       "    }\n",
       "\n",
       "    .dataframe tbody tr th {\n",
       "        vertical-align: top;\n",
       "    }\n",
       "\n",
       "    .dataframe thead th {\n",
       "        text-align: right;\n",
       "    }\n",
       "</style>\n",
       "<table border=\"1\" class=\"dataframe\">\n",
       "  <thead>\n",
       "    <tr style=\"text-align: right;\">\n",
       "      <th></th>\n",
       "      <th>0</th>\n",
       "      <th>1</th>\n",
       "      <th>2</th>\n",
       "      <th>3</th>\n",
       "      <th>4</th>\n",
       "      <th>5</th>\n",
       "      <th>6</th>\n",
       "      <th>7</th>\n",
       "      <th>8</th>\n",
       "      <th>9</th>\n",
       "    </tr>\n",
       "  </thead>\n",
       "  <tbody>\n",
       "    <tr>\n",
       "      <th>0</th>\n",
       "      <td>2.448714</td>\n",
       "      <td>2.117872</td>\n",
       "      <td>0.513867</td>\n",
       "      <td>4.100073</td>\n",
       "      <td>2.427687</td>\n",
       "      <td>2.403172</td>\n",
       "      <td>2.640018</td>\n",
       "      <td>2.058338</td>\n",
       "      <td>2.309617</td>\n",
       "      <td>2.862813</td>\n",
       "    </tr>\n",
       "    <tr>\n",
       "      <th>1</th>\n",
       "      <td>2.561005</td>\n",
       "      <td>2.173200</td>\n",
       "      <td>0.789541</td>\n",
       "      <td>4.480448</td>\n",
       "      <td>2.473455</td>\n",
       "      <td>2.175799</td>\n",
       "      <td>2.652662</td>\n",
       "      <td>2.147726</td>\n",
       "      <td>2.339516</td>\n",
       "      <td>3.175165</td>\n",
       "    </tr>\n",
       "    <tr>\n",
       "      <th>2</th>\n",
       "      <td>2.533206</td>\n",
       "      <td>2.115958</td>\n",
       "      <td>0.670137</td>\n",
       "      <td>4.185687</td>\n",
       "      <td>2.374812</td>\n",
       "      <td>2.384700</td>\n",
       "      <td>2.555280</td>\n",
       "      <td>2.088395</td>\n",
       "      <td>2.359840</td>\n",
       "      <td>2.945102</td>\n",
       "    </tr>\n",
       "    <tr>\n",
       "      <th>3</th>\n",
       "      <td>2.533206</td>\n",
       "      <td>2.115958</td>\n",
       "      <td>0.670137</td>\n",
       "      <td>4.185687</td>\n",
       "      <td>2.374812</td>\n",
       "      <td>2.384700</td>\n",
       "      <td>2.555280</td>\n",
       "      <td>2.088395</td>\n",
       "      <td>2.359840</td>\n",
       "      <td>2.945102</td>\n",
       "    </tr>\n",
       "    <tr>\n",
       "      <th>4</th>\n",
       "      <td>2.555843</td>\n",
       "      <td>2.106722</td>\n",
       "      <td>0.707708</td>\n",
       "      <td>3.897036</td>\n",
       "      <td>2.310134</td>\n",
       "      <td>2.621148</td>\n",
       "      <td>2.484905</td>\n",
       "      <td>2.081358</td>\n",
       "      <td>2.430263</td>\n",
       "      <td>2.737245</td>\n",
       "    </tr>\n",
       "  </tbody>\n",
       "</table>\n",
       "</div>"
      ],
      "text/plain": [
       "          0         1         2         3         4         5         6  \\\n",
       "0  2.448714  2.117872  0.513867  4.100073  2.427687  2.403172  2.640018   \n",
       "1  2.561005  2.173200  0.789541  4.480448  2.473455  2.175799  2.652662   \n",
       "2  2.533206  2.115958  0.670137  4.185687  2.374812  2.384700  2.555280   \n",
       "3  2.533206  2.115958  0.670137  4.185687  2.374812  2.384700  2.555280   \n",
       "4  2.555843  2.106722  0.707708  3.897036  2.310134  2.621148  2.484905   \n",
       "\n",
       "          7         8         9  \n",
       "0  2.058338  2.309617  2.862813  \n",
       "1  2.147726  2.339516  3.175165  \n",
       "2  2.088395  2.359840  2.945102  \n",
       "3  2.088395  2.359840  2.945102  \n",
       "4  2.081358  2.430263  2.737245  "
      ]
     },
     "execution_count": 41,
     "metadata": {},
     "output_type": "execute_result"
    }
   ],
   "source": [
    "km = KMeans(n_clusters = 25, random_state = 33)\n",
    "km_df = pd.DataFrame(km.fit_transform(X))\n",
    "km_df.head()"
   ]
  },
  {
   "cell_type": "code",
   "execution_count": 42,
   "id": "3845ba13-8b67-4a7e-972e-bb92c5a0ade2",
   "metadata": {},
   "outputs": [
    {
     "data": {
      "text/html": [
       "<div>\n",
       "<style scoped>\n",
       "    .dataframe tbody tr th:only-of-type {\n",
       "        vertical-align: middle;\n",
       "    }\n",
       "\n",
       "    .dataframe tbody tr th {\n",
       "        vertical-align: top;\n",
       "    }\n",
       "\n",
       "    .dataframe thead th {\n",
       "        text-align: right;\n",
       "    }\n",
       "</style>\n",
       "<table border=\"1\" class=\"dataframe\">\n",
       "  <thead>\n",
       "    <tr style=\"text-align: right;\">\n",
       "      <th></th>\n",
       "      <th>0</th>\n",
       "      <th>1</th>\n",
       "      <th>2</th>\n",
       "      <th>3</th>\n",
       "      <th>4</th>\n",
       "      <th>5</th>\n",
       "      <th>6</th>\n",
       "      <th>7</th>\n",
       "      <th>8</th>\n",
       "      <th>9</th>\n",
       "      <th>Cluster</th>\n",
       "    </tr>\n",
       "    <tr>\n",
       "      <th>LISTING_ID</th>\n",
       "      <th></th>\n",
       "      <th></th>\n",
       "      <th></th>\n",
       "      <th></th>\n",
       "      <th></th>\n",
       "      <th></th>\n",
       "      <th></th>\n",
       "      <th></th>\n",
       "      <th></th>\n",
       "      <th></th>\n",
       "      <th></th>\n",
       "    </tr>\n",
       "  </thead>\n",
       "  <tbody>\n",
       "    <tr>\n",
       "      <th>7075306172</th>\n",
       "      <td>2.448714</td>\n",
       "      <td>2.117872</td>\n",
       "      <td>0.513867</td>\n",
       "      <td>4.100073</td>\n",
       "      <td>2.427687</td>\n",
       "      <td>2.403172</td>\n",
       "      <td>2.640018</td>\n",
       "      <td>2.058338</td>\n",
       "      <td>2.309617</td>\n",
       "      <td>2.862813</td>\n",
       "      <td>2</td>\n",
       "    </tr>\n",
       "    <tr>\n",
       "      <th>7075321793</th>\n",
       "      <td>2.561005</td>\n",
       "      <td>2.173200</td>\n",
       "      <td>0.789541</td>\n",
       "      <td>4.480448</td>\n",
       "      <td>2.473455</td>\n",
       "      <td>2.175799</td>\n",
       "      <td>2.652662</td>\n",
       "      <td>2.147726</td>\n",
       "      <td>2.339516</td>\n",
       "      <td>3.175165</td>\n",
       "      <td>2</td>\n",
       "    </tr>\n",
       "    <tr>\n",
       "      <th>7075372720</th>\n",
       "      <td>2.533206</td>\n",
       "      <td>2.115958</td>\n",
       "      <td>0.670137</td>\n",
       "      <td>4.185687</td>\n",
       "      <td>2.374812</td>\n",
       "      <td>2.384700</td>\n",
       "      <td>2.555280</td>\n",
       "      <td>2.088395</td>\n",
       "      <td>2.359840</td>\n",
       "      <td>2.945102</td>\n",
       "      <td>2</td>\n",
       "    </tr>\n",
       "    <tr>\n",
       "      <th>7075376264</th>\n",
       "      <td>2.533206</td>\n",
       "      <td>2.115958</td>\n",
       "      <td>0.670137</td>\n",
       "      <td>4.185687</td>\n",
       "      <td>2.374812</td>\n",
       "      <td>2.384700</td>\n",
       "      <td>2.555280</td>\n",
       "      <td>2.088395</td>\n",
       "      <td>2.359840</td>\n",
       "      <td>2.945102</td>\n",
       "      <td>2</td>\n",
       "    </tr>\n",
       "    <tr>\n",
       "      <th>7075380613</th>\n",
       "      <td>2.555843</td>\n",
       "      <td>2.106722</td>\n",
       "      <td>0.707708</td>\n",
       "      <td>3.897036</td>\n",
       "      <td>2.310134</td>\n",
       "      <td>2.621148</td>\n",
       "      <td>2.484905</td>\n",
       "      <td>2.081358</td>\n",
       "      <td>2.430263</td>\n",
       "      <td>2.737245</td>\n",
       "      <td>2</td>\n",
       "    </tr>\n",
       "  </tbody>\n",
       "</table>\n",
       "</div>"
      ],
      "text/plain": [
       "                   0         1         2         3         4         5  \\\n",
       "LISTING_ID                                                               \n",
       "7075306172  2.448714  2.117872  0.513867  4.100073  2.427687  2.403172   \n",
       "7075321793  2.561005  2.173200  0.789541  4.480448  2.473455  2.175799   \n",
       "7075372720  2.533206  2.115958  0.670137  4.185687  2.374812  2.384700   \n",
       "7075376264  2.533206  2.115958  0.670137  4.185687  2.374812  2.384700   \n",
       "7075380613  2.555843  2.106722  0.707708  3.897036  2.310134  2.621148   \n",
       "\n",
       "                   6         7         8         9  Cluster  \n",
       "LISTING_ID                                                   \n",
       "7075306172  2.640018  2.058338  2.309617  2.862813        2  \n",
       "7075321793  2.652662  2.147726  2.339516  3.175165        2  \n",
       "7075372720  2.555280  2.088395  2.359840  2.945102        2  \n",
       "7075376264  2.555280  2.088395  2.359840  2.945102        2  \n",
       "7075380613  2.484905  2.081358  2.430263  2.737245        2  "
      ]
     },
     "execution_count": 42,
     "metadata": {},
     "output_type": "execute_result"
    }
   ],
   "source": [
    "km_df.set_index(features_unscaled.index, inplace = True)\n",
    "km_df['Cluster'] = km.labels_\n",
    "km_df.head()"
   ]
  },
  {
   "cell_type": "code",
   "execution_count": 43,
   "id": "a5afc215-11bf-4964-961a-5887123b8fb8",
   "metadata": {},
   "outputs": [
    {
     "data": {
      "text/plain": [
       "<BarContainer object of 10 artists>"
      ]
     },
     "execution_count": 43,
     "metadata": {},
     "output_type": "execute_result"
    },
    {
     "data": {
      "image/png": "[encoded data removed]",
      "text/plain": [
       "<Figure size 432x288 with 1 Axes>"
      ]
     },
     "metadata": {
      "needs_background": "light"
     },
     "output_type": "display_data"
    }
   ],
   "source": [
    "plt.bar(km_df.Cluster.value_counts().index, km_df.Cluster.value_counts())"
   ]
  },
  {
   "cell_type": "markdown",
   "id": "d97add76-f2db-427d-bd9c-7471364734b0",
   "metadata": {},
   "source": [
    "#### Hierarchical Clustering"
   ]
  },
  {
   "cell_type": "code",
   "execution_count": null,
   "id": "87e49595-0dd9-470f-8f99-4873e8671009",
   "metadata": {},
   "outputs": [],
   "source": [
    "# This almost crashed the pc\n",
    "\n",
    "#agg = AgglomerativeClustering()\n",
    "#agg.fit(X)\n",
    "#agg_df = pd.DataFrame(agg.fit(X))\n",
    "#agg_df.head()\n",
    "#agg.distances_"
   ]
  },
  {
   "cell_type": "code",
   "execution_count": null,
   "id": "c75ded0d-085d-4ac3-b7c8-41427396a8c4",
   "metadata": {},
   "outputs": [],
   "source": []
  },
  {
   "cell_type": "code",
   "execution_count": null,
   "id": "b4e8f79c-7329-43eb-84f5-78ddc72a52e3",
   "metadata": {},
   "outputs": [],
   "source": []
  },
  {
   "cell_type": "code",
   "execution_count": null,
   "id": "008c79a9-cde3-4921-b827-b43f943c290f",
   "metadata": {},
   "outputs": [],
   "source": []
  },
  {
   "cell_type": "code",
   "execution_count": null,
   "id": "9d373d04-eb8e-4856-9eb3-a6e9cba504dd",
   "metadata": {},
   "outputs": [],
   "source": []
  },
  {
   "cell_type": "code",
   "execution_count": null,
   "id": "1cdfaca5-3a64-456a-a46e-0c026af49e6a",
   "metadata": {},
   "outputs": [],
   "source": []
  },
  {
   "cell_type": "markdown",
   "id": "122a0fbd-da4e-4c71-8e7b-d0718a8ddee2",
   "metadata": {},
   "source": [
    "#### DBSCAN"
   ]
  },
  {
   "cell_type": "code",
   "execution_count": 33,
   "id": "b39c37c1-87b0-4435-a0c7-13a64870f094",
   "metadata": {},
   "outputs": [
    {
     "data": {
      "text/plain": [
       "DBSCAN(eps=0.7, min_samples=100)"
      ]
     },
     "execution_count": 33,
     "metadata": {},
     "output_type": "execute_result"
    }
   ],
   "source": [
    "db = DBSCAN(eps=0.7, min_samples=100)\n",
    "db.fit(X)"
   ]
  },
  {
   "cell_type": "code",
   "execution_count": 34,
   "id": "d8dcaeca-87a0-4a95-9e4d-72b8411e6be4",
   "metadata": {},
   "outputs": [
    {
     "data": {
      "text/plain": [
       "<BarContainer object of 5 artists>"
      ]
     },
     "execution_count": 34,
     "metadata": {},
     "output_type": "execute_result"
    },
    {
     "data": {
      "image/png": "[encoded data removed]",
      "text/plain": [
       "<Figure size 432x288 with 1 Axes>"
      ]
     },
     "metadata": {
      "needs_background": "light"
     },
     "output_type": "display_data"
    }
   ],
   "source": [
    "db_label_counts = pd.Series(db.labels_).value_counts().sort_index()\n",
    "plt.bar(db_label_counts.index, db_label_counts)"
   ]
  },
  {
   "cell_type": "code",
   "execution_count": 37,
   "id": "4eb62223-8f3b-4cef-bb60-6a5aedea5108",
   "metadata": {},
   "outputs": [
    {
     "data": {
      "text/plain": [
       "(124201,)"
      ]
     },
     "execution_count": 37,
     "metadata": {},
     "output_type": "execute_result"
    }
   ],
   "source": [
    "db.core_sample_indices_.shape"
   ]
  },
  {
   "cell_type": "code",
   "execution_count": 40,
   "id": "c17711d2-8a17-4d82-addc-c12b550d1b76",
   "metadata": {},
   "outputs": [
    {
     "data": {
      "text/html": [
       "<div>\n",
       "<style scoped>\n",
       "    .dataframe tbody tr th:only-of-type {\n",
       "        vertical-align: middle;\n",
       "    }\n",
       "\n",
       "    .dataframe tbody tr th {\n",
       "        vertical-align: top;\n",
       "    }\n",
       "\n",
       "    .dataframe thead th {\n",
       "        text-align: right;\n",
       "    }\n",
       "</style>\n",
       "<table border=\"1\" class=\"dataframe\">\n",
       "  <thead>\n",
       "    <tr style=\"text-align: right;\">\n",
       "      <th></th>\n",
       "      <th>0</th>\n",
       "      <th>1</th>\n",
       "      <th>2</th>\n",
       "      <th>3</th>\n",
       "    </tr>\n",
       "  </thead>\n",
       "  <tbody>\n",
       "    <tr>\n",
       "      <th>0</th>\n",
       "      <td>0.142528</td>\n",
       "      <td>-0.072642</td>\n",
       "      <td>-0.319279</td>\n",
       "      <td>-1.198035</td>\n",
       "    </tr>\n",
       "    <tr>\n",
       "      <th>1</th>\n",
       "      <td>0.140276</td>\n",
       "      <td>-0.333165</td>\n",
       "      <td>-0.659378</td>\n",
       "      <td>-1.179699</td>\n",
       "    </tr>\n",
       "    <tr>\n",
       "      <th>2</th>\n",
       "      <td>0.171974</td>\n",
       "      <td>-0.066872</td>\n",
       "      <td>-0.485850</td>\n",
       "      <td>-1.199732</td>\n",
       "    </tr>\n",
       "    <tr>\n",
       "      <th>3</th>\n",
       "      <td>0.171974</td>\n",
       "      <td>-0.066872</td>\n",
       "      <td>-0.485850</td>\n",
       "      <td>-1.199732</td>\n",
       "    </tr>\n",
       "    <tr>\n",
       "      <th>4</th>\n",
       "      <td>0.207948</td>\n",
       "      <td>0.207137</td>\n",
       "      <td>-0.325405</td>\n",
       "      <td>-1.221788</td>\n",
       "    </tr>\n",
       "  </tbody>\n",
       "</table>\n",
       "</div>"
      ],
      "text/plain": [
       "          0         1         2         3\n",
       "0  0.142528 -0.072642 -0.319279 -1.198035\n",
       "1  0.140276 -0.333165 -0.659378 -1.179699\n",
       "2  0.171974 -0.066872 -0.485850 -1.199732\n",
       "3  0.171974 -0.066872 -0.485850 -1.199732\n",
       "4  0.207948  0.207137 -0.325405 -1.221788"
      ]
     },
     "execution_count": 40,
     "metadata": {},
     "output_type": "execute_result"
    }
   ],
   "source": [
    "pd.DataFrame(db.components_).head()"
   ]
  },
  {
   "cell_type": "code",
   "execution_count": null,
   "id": "e7478be6-8f97-4e25-9351-3ff090df61f2",
   "metadata": {},
   "outputs": [],
   "source": []
  },
  {
   "cell_type": "code",
   "execution_count": null,
   "id": "7967680e-0170-4929-89c1-9ee925e0ecb0",
   "metadata": {},
   "outputs": [],
   "source": []
  },
  {
   "cell_type": "code",
   "execution_count": null,
   "id": "67353020-dcdf-4fb2-a72a-0ab3da12737a",
   "metadata": {},
   "outputs": [],
   "source": [
    "n_clusters = 10\n",
    "model = KMeans(n_clusters=n_clusters, init='k-means++', max_iter=500, n_init=15).fit(tfidf_data)"
   ]
  },
  {
   "cell_type": "code",
   "execution_count": 15,
   "id": "ed9832a3-4fdb-454b-838d-4c67ea88ae02",
   "metadata": {},
   "outputs": [
    {
     "name": "stdout",
     "output_type": "stream",
     "text": [
      "Top terms per cluster:\n",
      "Cluster 0:\n",
      " room\n",
      " floor\n",
      " bedroom\n",
      " larg\n",
      " kitchen\n",
      " live\n",
      " park\n",
      " unit\n",
      " close\n",
      " street\n",
      " hardwood\n",
      " walk\n",
      " new\n",
      " avail\n",
      " space\n",
      "Cluster 1:\n",
      " apart\n",
      " commun\n",
      " todai\n",
      " featur\n",
      " home\n",
      " offer\n",
      " manag\n",
      " closet\n",
      " tour\n",
      " center\n",
      " amen\n",
      " contact\n",
      " park\n",
      " pet\n",
      " free\n",
      "Cluster 2:\n",
      " loft\n",
      " maynard\n",
      " commun\n",
      " andov\n",
      " apart\n",
      " home\n",
      " worcest\n",
      " tour\n",
      " todai\n",
      " north\n",
      " contact\n",
      " vue\n",
      " lawrenc\n",
      " person\n",
      " indoor\n",
      "Cluster 3:\n",
      " repres\n",
      " build\n",
      " unit\n",
      " apart\n",
      " daili\n",
      " finish\n",
      " date\n",
      " model\n",
      " subject\n",
      " vari\n",
      " flexibl\n",
      " chang\n",
      " actual\n",
      " plan\n",
      " avail\n",
      "Cluster 4:\n",
      " discrimin\n",
      " statu\n",
      " advertis\n",
      " prestig\n",
      " person\n",
      " solut\n",
      " real\n",
      " estat\n",
      " genet\n",
      " martial\n",
      " arm\n",
      " prestigerentalsolut\n",
      " anti\n",
      " ancestri\n",
      " illeg\n",
      "Cluster 5:\n",
      " squar\n",
      " maven\n",
      " cambridg\n",
      " davi\n",
      " fee\n",
      " bath\n",
      " refer\n",
      " realti\n",
      " dishwash\n",
      " avon\n",
      " negoti\n",
      " laundri\n",
      " hardwood\n",
      " includ\n",
      " municip\n",
      "Cluster 6:\n",
      " avail\n",
      " rent\n",
      " includ\n",
      " hot\n",
      " properti\n",
      " monthb\n",
      " date\n",
      " info\n",
      " heat\n",
      " bath\n",
      " bu\n",
      " park\n",
      " water\n",
      " fee\n",
      " av\n",
      "Cluster 7:\n",
      " place\n",
      " placesforless\n",
      " broker\n",
      " reach\n",
      " craigslist\n",
      " fee\n",
      " apart\n",
      " virtual\n",
      " onlin\n",
      " unit\n",
      " need\n",
      " tour\n",
      " brokerag\n",
      " brows\n",
      " http\n",
      "Cluster 8:\n",
      " month\n",
      " select\n",
      " units\n",
      " hour\n",
      " available\n",
      " pet\n",
      " onlin\n",
      " resid\n",
      " center\n",
      " pool\n",
      " commun\n",
      " limit\n",
      " fit\n",
      " area\n",
      " restrict\n",
      "Cluster 9:\n",
      " month\n",
      " apart\n",
      " includ\n",
      " bedroom\n",
      " rent\n",
      " park\n",
      " floor\n",
      " street\n",
      " avail\n",
      " requir\n",
      " heat\n",
      " water\n",
      " unit\n",
      " secur\n",
      " locat\n"
     ]
    }
   ],
   "source": [
    "print(\"Top terms per cluster:\")\n",
    "order_centroids = model.cluster_centers_.argsort()[:, ::-1]\n",
    "terms = vectorizer.get_feature_names()\n",
    "for i in range(n_clusters):\n",
    "    print(\"Cluster %d:\" % i),\n",
    "    for ind in order_centroids[i, :15]:\n",
    "        print(' %s' % terms[ind]),\n",
    "    print"
   ]
  },
  {
   "cell_type": "code",
   "execution_count": null,
   "id": "303bb1c1-1b50-443b-a1aa-72f184b4a9f2",
   "metadata": {},
   "outputs": [],
   "source": []
  },
  {
   "cell_type": "code",
   "execution_count": null,
   "id": "0f6410e5-5132-42eb-b138-fe99a7880be3",
   "metadata": {},
   "outputs": [],
   "source": []
  }
 ],
 "metadata": {
  "kernelspec": {
   "display_name": "Python 3",
   "language": "python",
   "name": "python3"
  },
  "language_info": {
   "codemirror_mode": {
    "name": "ipython",
    "version": 3
   },
   "file_extension": ".py",
   "mimetype": "text/x-python",
   "name": "python",
   "nbconvert_exporter": "python",
   "pygments_lexer": "ipython3",
   "version": "3.8.10"
  }
 },
 "nbformat": 4,
 "nbformat_minor": 5
}
