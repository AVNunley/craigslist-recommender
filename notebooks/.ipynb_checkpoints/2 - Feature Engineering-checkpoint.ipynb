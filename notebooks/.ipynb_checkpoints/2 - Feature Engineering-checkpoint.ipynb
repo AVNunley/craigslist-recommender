{
 "cells": [
  {
   "cell_type": "code",
   "execution_count": 1,
   "id": "e635280e-735a-4723-bda9-179452e4967c",
   "metadata": {
    "tags": []
   },
   "outputs": [],
   "source": [
    "import nltk, gensim, re\n",
    "import pandas as pd\n",
    "import numpy as np\n",
    "import matplotlib.pyplot as plt\n",
    "import seaborn as sns\n",
    "from sklearn.feature_extraction.text import TfidfVectorizer, CountVectorizer\n",
    "from sklearn.cluster import KMeans\n",
    "from scipy import stats\n",
    "\n",
    "sns.set_context('talk')"
   ]
  },
  {
   "cell_type": "code",
   "execution_count": 18,
   "id": "b607bef6-697b-4e43-a8e8-aa5cd892c9f9",
   "metadata": {},
   "outputs": [
    {
     "data": {
      "text/plain": [
       "5    PROPERTY INFO ID: 9826244Rent: 2450 / MonthBed...\n",
       "6    Lovely, large one bedroom apartment in an attr...\n",
       "7    Privately situated, ocean view cottage steps a...\n",
       "8    PROPERTY INFO ID: 71165240Rent: 2723 / MonthBe...\n",
       "9    EDGARTOWN VILLAGE - Condominium living! A deli...\n",
       "Name: BODY, dtype: object"
      ]
     },
     "execution_count": 18,
     "metadata": {},
     "output_type": "execute_result"
    }
   ],
   "source": [
    "#Instantiate DataFrame of wrangled data\n",
    "df = pd.read_csv('..\\\\data\\\\wrangled_data.csv')\n",
    "df.BODY[5:10]"
   ]
  },
  {
   "cell_type": "markdown",
   "id": "88088f64-fc9e-4681-b14a-a172c6d161d1",
   "metadata": {},
   "source": [
    "#### Before being vectorized, the 'BODY' feature will be used to engineer some new features."
   ]
  },
  {
   "cell_type": "code",
   "execution_count": 19,
   "id": "b0d3b880-fec6-4ad3-ab11-45194e32c880",
   "metadata": {},
   "outputs": [],
   "source": [
    "def count_chars(text):\n",
    "    return len(text)\n",
    "def count_words(text):\n",
    "    return len(text.split())\n",
    "def count_sentences(text):\n",
    "    return len(nltk.sent_tokenize(text))\n",
    "def count_unique_words(text):\n",
    "    return len(set(text.split()))"
   ]
  },
  {
   "cell_type": "code",
   "execution_count": 20,
   "id": "2f2bc41d-97c4-4d69-bc92-74ca3247af40",
   "metadata": {},
   "outputs": [
    {
     "name": "stderr",
     "output_type": "stream",
     "text": [
      "[nltk_data] Downloading package punkt to\n",
      "[nltk_data]     C:\\Users\\Work_Remote\\AppData\\Roaming\\nltk_data...\n",
      "[nltk_data]   Unzipping tokenizers\\punkt.zip.\n"
     ]
    },
    {
     "data": {
      "text/plain": [
       "True"
      ]
     },
     "execution_count": 20,
     "metadata": {},
     "output_type": "execute_result"
    }
   ],
   "source": [
    "nltk.download('punkt')"
   ]
  },
  {
   "cell_type": "code",
   "execution_count": 22,
   "id": "d5ce2a34-a3c5-4ab2-a49f-03e231934e27",
   "metadata": {},
   "outputs": [],
   "source": [
    "df['CHAR_COUNT'] = df['BODY'].apply(lambda x:count_chars(x))\n",
    "df['WORD_COUNT'] = df['BODY'].apply(lambda x:count_words(x))\n",
    "df['SENTENCE_COUNT'] = df['BODY'].apply(lambda x:count_sentences(x))\n",
    "df['UNIQUE_COUNT'] = df['BODY'].apply(lambda x:count_unique_words(x))\n",
    "df['AVG_WORD_LENGTH'] = df['CHAR_COUNT']/df['WORD_COUNT']\n",
    "df['AVG_SENTENCE_LENGTH'] = df['WORD_COUNT']/df['SENTENCE_COUNT']\n",
    "df['UNIQUE_WORD_RATIO'] = df['UNIQUE_COUNT']/df['WORD_COUNT']"
   ]
  },
  {
   "cell_type": "code",
   "execution_count": 23,
   "id": "6593e906-8ed5-462a-93ea-a215ac5ef682",
   "metadata": {},
   "outputs": [
    {
     "data": {
      "text/html": [
       "<div>\n",
       "<style scoped>\n",
       "    .dataframe tbody tr th:only-of-type {\n",
       "        vertical-align: middle;\n",
       "    }\n",
       "\n",
       "    .dataframe tbody tr th {\n",
       "        vertical-align: top;\n",
       "    }\n",
       "\n",
       "    .dataframe thead th {\n",
       "        text-align: right;\n",
       "    }\n",
       "</style>\n",
       "<table border=\"1\" class=\"dataframe\">\n",
       "  <thead>\n",
       "    <tr style=\"text-align: right;\">\n",
       "      <th></th>\n",
       "      <th>LISTING_ID</th>\n",
       "      <th>BODY</th>\n",
       "      <th>PRICE</th>\n",
       "      <th>AREA_SQFT</th>\n",
       "      <th>ALLOWS_CATS</th>\n",
       "      <th>ALLOWS_DOGS</th>\n",
       "      <th>CHAR_COUNT</th>\n",
       "      <th>WORD_COUNT</th>\n",
       "      <th>SENTENCE_COUNT</th>\n",
       "      <th>UNIQUE_COUNT</th>\n",
       "      <th>AVG_WORD_LENGTH</th>\n",
       "      <th>AVG_SENTENCE_LENGTH</th>\n",
       "      <th>UNIQUE_WORD_RATIO</th>\n",
       "    </tr>\n",
       "  </thead>\n",
       "  <tbody>\n",
       "    <tr>\n",
       "      <th>0</th>\n",
       "      <td>7075306172</td>\n",
       "      <td>PROPERTY INFO ID: 32252124Rent: 2275 / MonthBe...</td>\n",
       "      <td>2275</td>\n",
       "      <td>900.0</td>\n",
       "      <td>1.0</td>\n",
       "      <td>0.0</td>\n",
       "      <td>1380</td>\n",
       "      <td>199</td>\n",
       "      <td>6</td>\n",
       "      <td>165</td>\n",
       "      <td>6.934673</td>\n",
       "      <td>33.166667</td>\n",
       "      <td>0.829146</td>\n",
       "    </tr>\n",
       "    <tr>\n",
       "      <th>1</th>\n",
       "      <td>7075321793</td>\n",
       "      <td>PROPERTY INFO ID: 1281339Rent: 2350 / MonthBed...</td>\n",
       "      <td>2350</td>\n",
       "      <td>800.0</td>\n",
       "      <td>1.0</td>\n",
       "      <td>0.0</td>\n",
       "      <td>2180</td>\n",
       "      <td>306</td>\n",
       "      <td>11</td>\n",
       "      <td>226</td>\n",
       "      <td>7.124183</td>\n",
       "      <td>27.818182</td>\n",
       "      <td>0.738562</td>\n",
       "    </tr>\n",
       "    <tr>\n",
       "      <th>2</th>\n",
       "      <td>7075372720</td>\n",
       "      <td>PROPERTY INFO ID: 2741631Rent: 2395 / MonthBed...</td>\n",
       "      <td>2395</td>\n",
       "      <td>875.0</td>\n",
       "      <td>1.0</td>\n",
       "      <td>0.0</td>\n",
       "      <td>1992</td>\n",
       "      <td>289</td>\n",
       "      <td>11</td>\n",
       "      <td>224</td>\n",
       "      <td>6.892734</td>\n",
       "      <td>26.272727</td>\n",
       "      <td>0.775087</td>\n",
       "    </tr>\n",
       "    <tr>\n",
       "      <th>3</th>\n",
       "      <td>7075376264</td>\n",
       "      <td>PROPERTY INFO ID: 2741631Rent: 2395 / MonthBed...</td>\n",
       "      <td>2395</td>\n",
       "      <td>875.0</td>\n",
       "      <td>1.0</td>\n",
       "      <td>0.0</td>\n",
       "      <td>1992</td>\n",
       "      <td>289</td>\n",
       "      <td>11</td>\n",
       "      <td>224</td>\n",
       "      <td>6.892734</td>\n",
       "      <td>26.272727</td>\n",
       "      <td>0.775087</td>\n",
       "    </tr>\n",
       "    <tr>\n",
       "      <th>4</th>\n",
       "      <td>7075380613</td>\n",
       "      <td>PROPERTY INFO ID: 9826244Rent: 2450 / MonthBed...</td>\n",
       "      <td>2450</td>\n",
       "      <td>950.0</td>\n",
       "      <td>1.0</td>\n",
       "      <td>0.0</td>\n",
       "      <td>1966</td>\n",
       "      <td>279</td>\n",
       "      <td>12</td>\n",
       "      <td>211</td>\n",
       "      <td>7.046595</td>\n",
       "      <td>23.250000</td>\n",
       "      <td>0.756272</td>\n",
       "    </tr>\n",
       "  </tbody>\n",
       "</table>\n",
       "</div>"
      ],
      "text/plain": [
       "   LISTING_ID                                               BODY  PRICE  \\\n",
       "0  7075306172  PROPERTY INFO ID: 32252124Rent: 2275 / MonthBe...   2275   \n",
       "1  7075321793  PROPERTY INFO ID: 1281339Rent: 2350 / MonthBed...   2350   \n",
       "2  7075372720  PROPERTY INFO ID: 2741631Rent: 2395 / MonthBed...   2395   \n",
       "3  7075376264  PROPERTY INFO ID: 2741631Rent: 2395 / MonthBed...   2395   \n",
       "4  7075380613  PROPERTY INFO ID: 9826244Rent: 2450 / MonthBed...   2450   \n",
       "\n",
       "   AREA_SQFT  ALLOWS_CATS  ALLOWS_DOGS  CHAR_COUNT  WORD_COUNT  \\\n",
       "0      900.0          1.0          0.0        1380         199   \n",
       "1      800.0          1.0          0.0        2180         306   \n",
       "2      875.0          1.0          0.0        1992         289   \n",
       "3      875.0          1.0          0.0        1992         289   \n",
       "4      950.0          1.0          0.0        1966         279   \n",
       "\n",
       "   SENTENCE_COUNT  UNIQUE_COUNT  AVG_WORD_LENGTH  AVG_SENTENCE_LENGTH  \\\n",
       "0               6           165         6.934673            33.166667   \n",
       "1              11           226         7.124183            27.818182   \n",
       "2              11           224         6.892734            26.272727   \n",
       "3              11           224         6.892734            26.272727   \n",
       "4              12           211         7.046595            23.250000   \n",
       "\n",
       "   UNIQUE_WORD_RATIO  \n",
       "0           0.829146  \n",
       "1           0.738562  \n",
       "2           0.775087  \n",
       "3           0.775087  \n",
       "4           0.756272  "
      ]
     },
     "execution_count": 23,
     "metadata": {},
     "output_type": "execute_result"
    }
   ],
   "source": [
    "df.head()"
   ]
  },
  {
   "cell_type": "code",
   "execution_count": 6,
   "id": "4dc4e549-b7cb-4f53-88b3-47ad607f7bd7",
   "metadata": {},
   "outputs": [],
   "source": [
    "df = pd.read_csv('wrangled_data.csv')\n",
    "df.set_index('LISTING_ID', inplace = True, drop = True)"
   ]
  },
  {
   "cell_type": "code",
   "execution_count": 7,
   "id": "26ce4227-823e-4d94-9376-698b033ab302",
   "metadata": {},
   "outputs": [
    {
     "data": {
      "text/html": [
       "<div>\n",
       "<style scoped>\n",
       "    .dataframe tbody tr th:only-of-type {\n",
       "        vertical-align: middle;\n",
       "    }\n",
       "\n",
       "    .dataframe tbody tr th {\n",
       "        vertical-align: top;\n",
       "    }\n",
       "\n",
       "    .dataframe thead th {\n",
       "        text-align: right;\n",
       "    }\n",
       "</style>\n",
       "<table border=\"1\" class=\"dataframe\">\n",
       "  <thead>\n",
       "    <tr style=\"text-align: right;\">\n",
       "      <th></th>\n",
       "      <th>BODY</th>\n",
       "      <th>PRICE</th>\n",
       "      <th>AREA_SQFT</th>\n",
       "      <th>ALLOWS_CATS</th>\n",
       "      <th>ALLOWS_DOGS</th>\n",
       "    </tr>\n",
       "    <tr>\n",
       "      <th>LISTING_ID</th>\n",
       "      <th></th>\n",
       "      <th></th>\n",
       "      <th></th>\n",
       "      <th></th>\n",
       "      <th></th>\n",
       "    </tr>\n",
       "  </thead>\n",
       "  <tbody>\n",
       "    <tr>\n",
       "      <th>7075306172</th>\n",
       "      <td>PROPERTY INFO ID: 32252124Rent: 2275 / MonthBe...</td>\n",
       "      <td>2275</td>\n",
       "      <td>900.0</td>\n",
       "      <td>1.0</td>\n",
       "      <td>0.0</td>\n",
       "    </tr>\n",
       "    <tr>\n",
       "      <th>7075321793</th>\n",
       "      <td>PROPERTY INFO ID: 1281339Rent: 2350 / MonthBed...</td>\n",
       "      <td>2350</td>\n",
       "      <td>800.0</td>\n",
       "      <td>1.0</td>\n",
       "      <td>0.0</td>\n",
       "    </tr>\n",
       "    <tr>\n",
       "      <th>7075372720</th>\n",
       "      <td>PROPERTY INFO ID: 2741631Rent: 2395 / MonthBed...</td>\n",
       "      <td>2395</td>\n",
       "      <td>875.0</td>\n",
       "      <td>1.0</td>\n",
       "      <td>0.0</td>\n",
       "    </tr>\n",
       "    <tr>\n",
       "      <th>7075376264</th>\n",
       "      <td>PROPERTY INFO ID: 2741631Rent: 2395 / MonthBed...</td>\n",
       "      <td>2395</td>\n",
       "      <td>875.0</td>\n",
       "      <td>1.0</td>\n",
       "      <td>0.0</td>\n",
       "    </tr>\n",
       "    <tr>\n",
       "      <th>7075380613</th>\n",
       "      <td>PROPERTY INFO ID: 9826244Rent: 2450 / MonthBed...</td>\n",
       "      <td>2450</td>\n",
       "      <td>950.0</td>\n",
       "      <td>1.0</td>\n",
       "      <td>0.0</td>\n",
       "    </tr>\n",
       "  </tbody>\n",
       "</table>\n",
       "</div>"
      ],
      "text/plain": [
       "                                                         BODY  PRICE  \\\n",
       "LISTING_ID                                                             \n",
       "7075306172  PROPERTY INFO ID: 32252124Rent: 2275 / MonthBe...   2275   \n",
       "7075321793  PROPERTY INFO ID: 1281339Rent: 2350 / MonthBed...   2350   \n",
       "7075372720  PROPERTY INFO ID: 2741631Rent: 2395 / MonthBed...   2395   \n",
       "7075376264  PROPERTY INFO ID: 2741631Rent: 2395 / MonthBed...   2395   \n",
       "7075380613  PROPERTY INFO ID: 9826244Rent: 2450 / MonthBed...   2450   \n",
       "\n",
       "            AREA_SQFT  ALLOWS_CATS  ALLOWS_DOGS  \n",
       "LISTING_ID                                       \n",
       "7075306172      900.0          1.0          0.0  \n",
       "7075321793      800.0          1.0          0.0  \n",
       "7075372720      875.0          1.0          0.0  \n",
       "7075376264      875.0          1.0          0.0  \n",
       "7075380613      950.0          1.0          0.0  "
      ]
     },
     "execution_count": 7,
     "metadata": {},
     "output_type": "execute_result"
    }
   ],
   "source": [
    "df.head()"
   ]
  },
  {
   "cell_type": "code",
   "execution_count": 8,
   "id": "638eb0a0-eb78-4118-924d-342e272371a9",
   "metadata": {},
   "outputs": [
    {
     "data": {
      "text/plain": [
       "(126358, 5)"
      ]
     },
     "execution_count": 8,
     "metadata": {},
     "output_type": "execute_result"
    }
   ],
   "source": [
    "df.shape"
   ]
  },
  {
   "cell_type": "markdown",
   "id": "85b4b797-8361-4e1e-9140-f66093931053",
   "metadata": {
    "tags": []
   },
   "source": [
    "### Engineering features from the 'BODY' column will be the focus of this notebook"
   ]
  },
  {
   "cell_type": "code",
   "execution_count": 97,
   "id": "df3785dc-d6e6-476d-8046-ecdeac13db46",
   "metadata": {
    "tags": []
   },
   "outputs": [
    {
     "name": "stdout",
     "output_type": "stream",
     "text": [
      "                                                BODY\n",
      "0  Big 4 Bedroom Fully Renovated off Shrewsbury S...\n",
      "1  PROPERTY INFO ID: 32252124Rent: 2275 / MonthBe...\n",
      "2  PROPERTY INFO ID: 1281339Rent: 2350 / MonthBed...\n",
      "3  PROPERTY INFO ID: 32252343Rent: 2350 / MonthBe...\n",
      "4  PROPERTY INFO ID: 32252343Rent: 2350 / MonthBe...\n",
      "5  PROPERTY INFO ID: 2741631Rent: 2395 / MonthBed...\n",
      "6  PROPERTY INFO ID: 2741631Rent: 2395 / MonthBed...\n",
      "7  PROPERTY INFO ID: 9826244Rent: 2450 / MonthBed...\n",
      "8  PROPERTY INFO ID: 9826244Rent: 2450 / MonthBed...\n",
      "9  MustSeeProperties.com provides the Complete Pa...\n"
     ]
    }
   ],
   "source": [
    " print(pd.DataFrame(raw_data.BODY[:10]))"
   ]
  },
  {
   "cell_type": "code",
   "execution_count": 98,
   "id": "7a82f9b3-3e59-4050-a0e2-414c11674c42",
   "metadata": {},
   "outputs": [
    {
     "data": {
      "text/plain": [
       "'Big 4 Bedroom Fully Renovated off Shrewsbury Street w/ 4 Large Bedrooms, Modern Eat-in kitchen, Luxury Tiled Bathrooms, Washer/dryer Hookups, Very Efficient Gas Heat, High Ceilings, Walk-in Closets & New Flooring!! PLEASE CONTACT PAUL LATINO OF RE/MAX ADVANTAGE show contact info !!'"
      ]
     },
     "execution_count": 98,
     "metadata": {},
     "output_type": "execute_result"
    }
   ],
   "source": [
    " raw_data.BODY[0]"
   ]
  },
  {
   "cell_type": "code",
   "execution_count": null,
   "id": "7ab6f894-1fae-4606-8b49-f2cbd24a5467",
   "metadata": {},
   "outputs": [],
   "source": []
  },
  {
   "cell_type": "code",
   "execution_count": null,
   "id": "bb8b01e8-7ed7-454b-b601-4c326a8e9259",
   "metadata": {},
   "outputs": [],
   "source": []
  },
  {
   "cell_type": "code",
   "execution_count": 104,
   "id": "47041133-3607-468d-ac58-2fe20b0cf134",
   "metadata": {},
   "outputs": [],
   "source": [
    "def word_count(listing):\n",
    "    words = listing.split()\n",
    "    return len(words)"
   ]
  },
  {
   "cell_type": "code",
   "execution_count": 109,
   "id": "9fd4b6d4-7258-4b5f-8893-863403f98607",
   "metadata": {},
   "outputs": [],
   "source": [
    "def avg_word_length(listing):\n",
    "    words = listing.split()\n",
    "    word_lengths = [len(word) for word in words]\n",
    "    return sum(word_lengths)/len(words)"
   ]
  },
  {
   "cell_type": "code",
   "execution_count": 110,
   "id": "9d31ba71-0d7f-460e-8c74-b23d901c7ca1",
   "metadata": {},
   "outputs": [],
   "source": [
    "raw_data['BODY_CHAR_COUNT'] = raw_data.BODY.apply(len)\n",
    "raw_data['BODY_WORD_COUNT'] = raw_data.BODY.apply(word_count)\n",
    "raw_data['BODY_AVG_WORD_LENGTH'] = raw_data.BODY.apply(avg_word_length)"
   ]
  },
  {
   "cell_type": "code",
   "execution_count": 114,
   "id": "48648536-6499-4365-9f32-a5a5fa2add05",
   "metadata": {},
   "outputs": [
    {
     "data": {
      "text/html": [
       "<div>\n",
       "<style scoped>\n",
       "    .dataframe tbody tr th:only-of-type {\n",
       "        vertical-align: middle;\n",
       "    }\n",
       "\n",
       "    .dataframe tbody tr th {\n",
       "        vertical-align: top;\n",
       "    }\n",
       "\n",
       "    .dataframe thead th {\n",
       "        text-align: right;\n",
       "    }\n",
       "</style>\n",
       "<table border=\"1\" class=\"dataframe\">\n",
       "  <thead>\n",
       "    <tr style=\"text-align: right;\">\n",
       "      <th></th>\n",
       "      <th>BODY_CHAR_COUNT</th>\n",
       "      <th>BODY_WORD_COUNT</th>\n",
       "      <th>BODY_AVG_WORD_LENGTH</th>\n",
       "    </tr>\n",
       "  </thead>\n",
       "  <tbody>\n",
       "    <tr>\n",
       "      <th>count</th>\n",
       "      <td>134854.000000</td>\n",
       "      <td>134854.000000</td>\n",
       "      <td>134854.000000</td>\n",
       "    </tr>\n",
       "    <tr>\n",
       "      <th>mean</th>\n",
       "      <td>977.573272</td>\n",
       "      <td>150.757456</td>\n",
       "      <td>5.489535</td>\n",
       "    </tr>\n",
       "    <tr>\n",
       "      <th>std</th>\n",
       "      <td>703.183128</td>\n",
       "      <td>109.218269</td>\n",
       "      <td>0.684112</td>\n",
       "    </tr>\n",
       "    <tr>\n",
       "      <th>min</th>\n",
       "      <td>1.000000</td>\n",
       "      <td>1.000000</td>\n",
       "      <td>1.000000</td>\n",
       "    </tr>\n",
       "    <tr>\n",
       "      <th>25%</th>\n",
       "      <td>469.000000</td>\n",
       "      <td>73.000000</td>\n",
       "      <td>5.086420</td>\n",
       "    </tr>\n",
       "    <tr>\n",
       "      <th>50%</th>\n",
       "      <td>784.000000</td>\n",
       "      <td>120.000000</td>\n",
       "      <td>5.453782</td>\n",
       "    </tr>\n",
       "    <tr>\n",
       "      <th>75%</th>\n",
       "      <td>1308.000000</td>\n",
       "      <td>202.000000</td>\n",
       "      <td>5.852174</td>\n",
       "    </tr>\n",
       "    <tr>\n",
       "      <th>max</th>\n",
       "      <td>15236.000000</td>\n",
       "      <td>2282.000000</td>\n",
       "      <td>78.000000</td>\n",
       "    </tr>\n",
       "  </tbody>\n",
       "</table>\n",
       "</div>"
      ],
      "text/plain": [
       "       BODY_CHAR_COUNT  BODY_WORD_COUNT  BODY_AVG_WORD_LENGTH\n",
       "count    134854.000000    134854.000000         134854.000000\n",
       "mean        977.573272       150.757456              5.489535\n",
       "std         703.183128       109.218269              0.684112\n",
       "min           1.000000         1.000000              1.000000\n",
       "25%         469.000000        73.000000              5.086420\n",
       "50%         784.000000       120.000000              5.453782\n",
       "75%        1308.000000       202.000000              5.852174\n",
       "max       15236.000000      2282.000000             78.000000"
      ]
     },
     "execution_count": 114,
     "metadata": {},
     "output_type": "execute_result"
    }
   ],
   "source": [
    "raw_data[['BODY_CHAR_COUNT', 'BODY_WORD_COUNT', 'BODY_AVG_WORD_LENGTH']].describe()"
   ]
  },
  {
   "cell_type": "code",
   "execution_count": 112,
   "id": "07922d8d-eab5-4a4c-9f82-298df74f7643",
   "metadata": {},
   "outputs": [
    {
     "name": "stdout",
     "output_type": "stream",
     "text": [
      "Average number of characters per listing: 977.573271834725\n",
      "Average number of words per listing: 150.75745621190325\n",
      "Average word length per listing: 5.48953486557127\n"
     ]
    }
   ],
   "source": [
    "print('Average number of characters per listing:', np.mean(raw_data['BODY_CHAR_COUNT']))\n",
    "print('Average number of words per listing:', np.mean(raw_data['BODY_WORD_COUNT']))\n",
    "print('Average word length per listing:', np.mean(raw_data['BODY_AVG_WORD_LENGTH']))\n"
   ]
  },
  {
   "cell_type": "code",
   "execution_count": null,
   "id": "9f883433-0cbb-4a35-a4fa-4b0ebb529239",
   "metadata": {},
   "outputs": [],
   "source": [
    "raw_data['BODY_CHAR_COUNT']"
   ]
  },
  {
   "cell_type": "code",
   "execution_count": 123,
   "id": "3eeb90cd-c5bb-4e83-954b-7e0fd6670316",
   "metadata": {},
   "outputs": [
    {
     "data": {
      "text/plain": [
       "{'whiskers': [<matplotlib.lines.Line2D at 0x2798d02eaf0>,\n",
       "  <matplotlib.lines.Line2D at 0x2798d097310>],\n",
       " 'caps': [<matplotlib.lines.Line2D at 0x2798d097fd0>,\n",
       "  <matplotlib.lines.Line2D at 0x2798d097e80>],\n",
       " 'boxes': [<matplotlib.lines.Line2D at 0x2798d02ef40>],\n",
       " 'medians': [<matplotlib.lines.Line2D at 0x2798d097490>],\n",
       " 'fliers': [<matplotlib.lines.Line2D at 0x2798d097370>],\n",
       " 'means': []}"
      ]
     },
     "execution_count": 123,
     "metadata": {},
     "output_type": "execute_result"
    },
    {
     "data": {
      "image/png": "[encoded data removed]",
      "text/plain": [
       "<Figure size 432x288 with 1 Axes>"
      ]
     },
     "metadata": {
      "needs_background": "light"
     },
     "output_type": "display_data"
    }
   ],
   "source": [
    "plt.boxplot(raw_data['BODY_CHAR_COUNT'])"
   ]
  },
  {
   "cell_type": "code",
   "execution_count": 122,
   "id": "f08f8829-896b-4297-9f33-c0cc189f013f",
   "metadata": {},
   "outputs": [
    {
     "data": {
      "text/plain": [
       "{'whiskers': [<matplotlib.lines.Line2D at 0x2798d5f9100>,\n",
       "  <matplotlib.lines.Line2D at 0x2798d5f99d0>],\n",
       " 'caps': [<matplotlib.lines.Line2D at 0x2798d5f9ee0>,\n",
       "  <matplotlib.lines.Line2D at 0x2798d0ea190>],\n",
       " 'boxes': [<matplotlib.lines.Line2D at 0x2798d5f9640>],\n",
       " 'medians': [<matplotlib.lines.Line2D at 0x2798d0eabb0>],\n",
       " 'fliers': [<matplotlib.lines.Line2D at 0x2798d0ea490>],\n",
       " 'means': []}"
      ]
     },
     "execution_count": 122,
     "metadata": {},
     "output_type": "execute_result"
    },
    {
     "data": {
      "image/png": "[encoded data removed]",
      "text/plain": [
       "<Figure size 432x288 with 1 Axes>"
      ]
     },
     "metadata": {
      "needs_background": "light"
     },
     "output_type": "display_data"
    }
   ],
   "source": [
    "plt.boxplot(raw_data['BODY_WORD_COUNT'])"
   ]
  },
  {
   "cell_type": "code",
   "execution_count": 121,
   "id": "bd21459b-3479-4f28-a0ef-6b33c6813b74",
   "metadata": {},
   "outputs": [
    {
     "data": {
      "text/plain": [
       "{'whiskers': [<matplotlib.lines.Line2D at 0x2798d624f40>,\n",
       "  <matplotlib.lines.Line2D at 0x2798d624e50>],\n",
       " 'caps': [<matplotlib.lines.Line2D at 0x2798d6191f0>,\n",
       "  <matplotlib.lines.Line2D at 0x2798d6197c0>],\n",
       " 'boxes': [<matplotlib.lines.Line2D at 0x2798d624910>],\n",
       " 'medians': [<matplotlib.lines.Line2D at 0x2798d619df0>],\n",
       " 'fliers': [<matplotlib.lines.Line2D at 0x2798d619d30>],\n",
       " 'means': []}"
      ]
     },
     "execution_count": 121,
     "metadata": {},
     "output_type": "execute_result"
    },
    {
     "data": {
      "image/png": "[encoded data removed]",
      "text/plain": [
       "<Figure size 432x288 with 1 Axes>"
      ]
     },
     "metadata": {
      "needs_background": "light"
     },
     "output_type": "display_data"
    }
   ],
   "source": [
    "plt.boxplot(raw_data['BODY_AVG_WORD_LENGTH'])"
   ]
  },
  {
   "cell_type": "code",
   "execution_count": null,
   "id": "f1facc78-1054-45ed-a30b-532c85353b10",
   "metadata": {},
   "outputs": [],
   "source": [
    "#Other possible features to generate: # of sentences, # of paragraphs, # capitalized words, # all-capital words, # numeric quantities"
   ]
  },
  {
   "cell_type": "code",
   "execution_count": 85,
   "id": "56994355-0857-4585-8a1f-28b49d7c8162",
   "metadata": {},
   "outputs": [
    {
     "data": {
      "text/html": [
       "<div>\n",
       "<style scoped>\n",
       "    .dataframe tbody tr th:only-of-type {\n",
       "        vertical-align: middle;\n",
       "    }\n",
       "\n",
       "    .dataframe tbody tr th {\n",
       "        vertical-align: top;\n",
       "    }\n",
       "\n",
       "    .dataframe thead th {\n",
       "        text-align: right;\n",
       "    }\n",
       "</style>\n",
       "<table border=\"1\" class=\"dataframe\">\n",
       "  <thead>\n",
       "    <tr style=\"text-align: right;\">\n",
       "      <th></th>\n",
       "      <th>0</th>\n",
       "    </tr>\n",
       "  </thead>\n",
       "  <tbody>\n",
       "    <tr>\n",
       "      <th>0</th>\n",
       "      <td>33</td>\n",
       "    </tr>\n",
       "    <tr>\n",
       "      <th>1</th>\n",
       "      <td>138</td>\n",
       "    </tr>\n",
       "    <tr>\n",
       "      <th>2</th>\n",
       "      <td>206</td>\n",
       "    </tr>\n",
       "    <tr>\n",
       "      <th>3</th>\n",
       "      <td>179</td>\n",
       "    </tr>\n",
       "    <tr>\n",
       "      <th>4</th>\n",
       "      <td>179</td>\n",
       "    </tr>\n",
       "  </tbody>\n",
       "</table>\n",
       "</div>"
      ],
      "text/plain": [
       "     0\n",
       "0   33\n",
       "1  138\n",
       "2  206\n",
       "3  179\n",
       "4  179"
      ]
     },
     "execution_count": 85,
     "metadata": {},
     "output_type": "execute_result"
    }
   ],
   "source": [
    "words_per_doc_df = pd.DataFrame(count_data.sum(axis = 1))\n",
    "words_per_doc_df.head()"
   ]
  },
  {
   "cell_type": "code",
   "execution_count": 89,
   "id": "07541c7d-4db6-4592-83be-ba5bb749d4cb",
   "metadata": {},
   "outputs": [
    {
     "data": {
      "image/png": "[encoded data removed]",
      "text/plain": [
       "<Figure size 432x288 with 1 Axes>"
      ]
     },
     "metadata": {
      "needs_background": "light"
     },
     "output_type": "display_data"
    }
   ],
   "source": [
    "plt.hist(words_per_doc_df.values)\n",
    "plt.title('Histogram of words per listing')\n",
    "plt.show()"
   ]
  },
  {
   "cell_type": "code",
   "execution_count": null,
   "id": "b37f5511-e69d-4e1c-9acc-8b9acdfb927f",
   "metadata": {},
   "outputs": [],
   "source": []
  },
  {
   "cell_type": "code",
   "execution_count": null,
   "id": "656cc1c5-5662-4d52-a28d-a2160096bcf8",
   "metadata": {},
   "outputs": [],
   "source": []
  },
  {
   "cell_type": "code",
   "execution_count": null,
   "id": "701add47-2a1a-4012-9258-162c6ce454d4",
   "metadata": {},
   "outputs": [],
   "source": []
  }
 ],
 "metadata": {
  "kernelspec": {
   "display_name": "Python 3",
   "language": "python",
   "name": "python3"
  },
  "language_info": {
   "codemirror_mode": {
    "name": "ipython",
    "version": 3
   },
   "file_extension": ".py",
   "mimetype": "text/x-python",
   "name": "python",
   "nbconvert_exporter": "python",
   "pygments_lexer": "ipython3",
   "version": "3.8.10"
  }
 },
 "nbformat": 4,
 "nbformat_minor": 5
}
