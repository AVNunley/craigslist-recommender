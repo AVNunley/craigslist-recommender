{
 "cells": [
  {
   "cell_type": "code",
   "execution_count": 1,
   "id": "e635280e-735a-4723-bda9-179452e4967c",
   "metadata": {},
   "outputs": [],
   "source": [
    "import nltk, re\n",
    "import pandas as pd\n",
    "import numpy as np\n",
    "import matplotlib.pyplot as plt\n",
    "import seaborn as sns\n",
    "from sklearn.feature_extraction.text import TfidfVectorizer, CountVectorizer\n",
    "from sklearn.cluster import KMeans\n",
    "from scipy import stats\n",
    "from gensim import parsing\n",
    "\n",
    "sns.set_context('talk')"
   ]
  },
  {
   "cell_type": "code",
   "execution_count": 18,
   "id": "3139f643-b8c0-4a86-9b3c-a83bd839ef0b",
   "metadata": {},
   "outputs": [
    {
     "data": {
      "text/plain": [
       "5    PROPERTY INFO ID: 9826244Rent: 2450 / MonthBed...\n",
       "6    Lovely, large one bedroom apartment in an attr...\n",
       "7    Privately situated, ocean view cottage steps a...\n",
       "8    PROPERTY INFO ID: 71165240Rent: 2723 / MonthBe...\n",
       "9    EDGARTOWN VILLAGE - Condominium living! A deli...\n",
       "Name: BODY, dtype: object"
      ]
     },
     "execution_count": 18,
     "metadata": {},
     "output_type": "execute_result"
    }
   ],
   "source": [
    "#Instantiate DataFrame of wrangled data\n",
    "df = pd.read_csv('..\\\\data\\\\wrangled_data.csv')\n",
    "df.BODY[5:10]"
   ]
  },
  {
   "cell_type": "markdown",
   "id": "a6eef813-dd6d-4082-8c61-88c772007fc5",
   "metadata": {},
   "source": [
    "#### Before being vectorized, the 'BODY' feature will be used to engineer some new features."
   ]
  },
  {
   "cell_type": "code",
   "execution_count": 19,
   "id": "471c7e5f-707b-4e52-afd3-c56f12fdca13",
   "metadata": {},
   "outputs": [],
   "source": [
    "def count_chars(text):\n",
    "    return len(text)\n",
    "def count_words(text):\n",
    "    return len(text.split())\n",
    "def count_sentences(text):\n",
    "    return len(nltk.sent_tokenize(text))\n",
    "def count_unique_words(text):\n",
    "    return len(set(text.split()))"
   ]
  },
  {
   "cell_type": "code",
   "execution_count": 20,
   "id": "0f069764-458b-44f6-bbb6-2873e5978172",
   "metadata": {},
   "outputs": [
    {
     "name": "stderr",
     "output_type": "stream",
     "text": [
      "[nltk_data] Downloading package punkt to\n",
      "[nltk_data]     C:\\Users\\Work_Remote\\AppData\\Roaming\\nltk_data...\n",
      "[nltk_data]   Unzipping tokenizers\\punkt.zip.\n"
     ]
    },
    {
     "data": {
      "text/plain": [
       "True"
      ]
     },
     "execution_count": 20,
     "metadata": {},
     "output_type": "execute_result"
    }
   ],
   "source": [
    "nltk.download('punkt')"
   ]
  },
  {
   "cell_type": "code",
   "execution_count": 22,
   "id": "6128d4d8-af71-475d-b86d-2b4351708435",
   "metadata": {},
   "outputs": [],
   "source": [
    "df['CHAR_COUNT'] = df['BODY'].apply(lambda x:count_chars(x))\n",
    "df['WORD_COUNT'] = df['BODY'].apply(lambda x:count_words(x))\n",
    "df['SENTENCE_COUNT'] = df['BODY'].apply(lambda x:count_sentences(x))\n",
    "df['UNIQUE_COUNT'] = df['BODY'].apply(lambda x:count_unique_words(x))\n",
    "df['AVG_WORD_LENGTH'] = df['CHAR_COUNT']/df['WORD_COUNT']\n",
    "df['AVG_SENTENCE_LENGTH'] = df['WORD_COUNT']/df['SENTENCE_COUNT']\n",
    "df['UNIQUE_WORD_RATIO'] = df['UNIQUE_COUNT']/df['WORD_COUNT']"
   ]
  },
  {
   "cell_type": "code",
   "execution_count": 23,
   "id": "a82fb99d-77cf-4d1d-b252-6a2a6e87f0fe",
   "metadata": {},
   "outputs": [
    {
     "data": {
      "text/html": [
       "<div>\n",
       "<style scoped>\n",
       "    .dataframe tbody tr th:only-of-type {\n",
       "        vertical-align: middle;\n",
       "    }\n",
       "\n",
       "    .dataframe tbody tr th {\n",
       "        vertical-align: top;\n",
       "    }\n",
       "\n",
       "    .dataframe thead th {\n",
       "        text-align: right;\n",
       "    }\n",
       "</style>\n",
       "<table border=\"1\" class=\"dataframe\">\n",
       "  <thead>\n",
       "    <tr style=\"text-align: right;\">\n",
       "      <th></th>\n",
       "      <th>LISTING_ID</th>\n",
       "      <th>BODY</th>\n",
       "      <th>PRICE</th>\n",
       "      <th>AREA_SQFT</th>\n",
       "      <th>ALLOWS_CATS</th>\n",
       "      <th>ALLOWS_DOGS</th>\n",
       "      <th>CHAR_COUNT</th>\n",
       "      <th>WORD_COUNT</th>\n",
       "      <th>SENTENCE_COUNT</th>\n",
       "      <th>UNIQUE_COUNT</th>\n",
       "      <th>AVG_WORD_LENGTH</th>\n",
       "      <th>AVG_SENTENCE_LENGTH</th>\n",
       "      <th>UNIQUE_WORD_RATIO</th>\n",
       "    </tr>\n",
       "  </thead>\n",
       "  <tbody>\n",
       "    <tr>\n",
       "      <th>0</th>\n",
       "      <td>7075306172</td>\n",
       "      <td>PROPERTY INFO ID: 32252124Rent: 2275 / MonthBe...</td>\n",
       "      <td>2275</td>\n",
       "      <td>900.0</td>\n",
       "      <td>1.0</td>\n",
       "      <td>0.0</td>\n",
       "      <td>1380</td>\n",
       "      <td>199</td>\n",
       "      <td>6</td>\n",
       "      <td>165</td>\n",
       "      <td>6.934673</td>\n",
       "      <td>33.166667</td>\n",
       "      <td>0.829146</td>\n",
       "    </tr>\n",
       "    <tr>\n",
       "      <th>1</th>\n",
       "      <td>7075321793</td>\n",
       "      <td>PROPERTY INFO ID: 1281339Rent: 2350 / MonthBed...</td>\n",
       "      <td>2350</td>\n",
       "      <td>800.0</td>\n",
       "      <td>1.0</td>\n",
       "      <td>0.0</td>\n",
       "      <td>2180</td>\n",
       "      <td>306</td>\n",
       "      <td>11</td>\n",
       "      <td>226</td>\n",
       "      <td>7.124183</td>\n",
       "      <td>27.818182</td>\n",
       "      <td>0.738562</td>\n",
       "    </tr>\n",
       "    <tr>\n",
       "      <th>2</th>\n",
       "      <td>7075372720</td>\n",
       "      <td>PROPERTY INFO ID: 2741631Rent: 2395 / MonthBed...</td>\n",
       "      <td>2395</td>\n",
       "      <td>875.0</td>\n",
       "      <td>1.0</td>\n",
       "      <td>0.0</td>\n",
       "      <td>1992</td>\n",
       "      <td>289</td>\n",
       "      <td>11</td>\n",
       "      <td>224</td>\n",
       "      <td>6.892734</td>\n",
       "      <td>26.272727</td>\n",
       "      <td>0.775087</td>\n",
       "    </tr>\n",
       "    <tr>\n",
       "      <th>3</th>\n",
       "      <td>7075376264</td>\n",
       "      <td>PROPERTY INFO ID: 2741631Rent: 2395 / MonthBed...</td>\n",
       "      <td>2395</td>\n",
       "      <td>875.0</td>\n",
       "      <td>1.0</td>\n",
       "      <td>0.0</td>\n",
       "      <td>1992</td>\n",
       "      <td>289</td>\n",
       "      <td>11</td>\n",
       "      <td>224</td>\n",
       "      <td>6.892734</td>\n",
       "      <td>26.272727</td>\n",
       "      <td>0.775087</td>\n",
       "    </tr>\n",
       "    <tr>\n",
       "      <th>4</th>\n",
       "      <td>7075380613</td>\n",
       "      <td>PROPERTY INFO ID: 9826244Rent: 2450 / MonthBed...</td>\n",
       "      <td>2450</td>\n",
       "      <td>950.0</td>\n",
       "      <td>1.0</td>\n",
       "      <td>0.0</td>\n",
       "      <td>1966</td>\n",
       "      <td>279</td>\n",
       "      <td>12</td>\n",
       "      <td>211</td>\n",
       "      <td>7.046595</td>\n",
       "      <td>23.250000</td>\n",
       "      <td>0.756272</td>\n",
       "    </tr>\n",
       "  </tbody>\n",
       "</table>\n",
       "</div>"
      ],
      "text/plain": [
       "   LISTING_ID                                               BODY  PRICE  \\\n",
       "0  7075306172  PROPERTY INFO ID: 32252124Rent: 2275 / MonthBe...   2275   \n",
       "1  7075321793  PROPERTY INFO ID: 1281339Rent: 2350 / MonthBed...   2350   \n",
       "2  7075372720  PROPERTY INFO ID: 2741631Rent: 2395 / MonthBed...   2395   \n",
       "3  7075376264  PROPERTY INFO ID: 2741631Rent: 2395 / MonthBed...   2395   \n",
       "4  7075380613  PROPERTY INFO ID: 9826244Rent: 2450 / MonthBed...   2450   \n",
       "\n",
       "   AREA_SQFT  ALLOWS_CATS  ALLOWS_DOGS  CHAR_COUNT  WORD_COUNT  \\\n",
       "0      900.0          1.0          0.0        1380         199   \n",
       "1      800.0          1.0          0.0        2180         306   \n",
       "2      875.0          1.0          0.0        1992         289   \n",
       "3      875.0          1.0          0.0        1992         289   \n",
       "4      950.0          1.0          0.0        1966         279   \n",
       "\n",
       "   SENTENCE_COUNT  UNIQUE_COUNT  AVG_WORD_LENGTH  AVG_SENTENCE_LENGTH  \\\n",
       "0               6           165         6.934673            33.166667   \n",
       "1              11           226         7.124183            27.818182   \n",
       "2              11           224         6.892734            26.272727   \n",
       "3              11           224         6.892734            26.272727   \n",
       "4              12           211         7.046595            23.250000   \n",
       "\n",
       "   UNIQUE_WORD_RATIO  \n",
       "0           0.829146  \n",
       "1           0.738562  \n",
       "2           0.775087  \n",
       "3           0.775087  \n",
       "4           0.756272  "
      ]
     },
     "execution_count": 23,
     "metadata": {},
     "output_type": "execute_result"
    }
   ],
   "source": [
    "df.head()"
   ]
  },
  {
   "cell_type": "markdown",
   "id": "ddb7a506-87e1-438d-833b-7e2d8ab7edef",
   "metadata": {},
   "source": [
    "#### Now, the 'BODY' feature will be vectorized."
   ]
  },
  {
   "cell_type": "code",
   "execution_count": 3,
   "id": "c3acb1df-cdb7-4e9b-90b0-1f238e01aef7",
   "metadata": {},
   "outputs": [],
   "source": [
    "preprocessed_text = parsing.preprocess_documents(df.BODY)"
   ]
  },
  {
   "cell_type": "code",
   "execution_count": 4,
   "id": "a92ae1f6-f970-4441-9e27-59eb294ec157",
   "metadata": {},
   "outputs": [
    {
     "data": {
      "text/plain": [
       "0    properti info rent monthb bath avail date pet ...\n",
       "1    properti info rent monthb bath avail date nowp...\n",
       "2    properti info rent monthb bath avail date pet ...\n",
       "3    properti info rent monthb bath avail date pet ...\n",
       "4    properti info rent monthb bath avail date nowp...\n",
       "Name: BODY, dtype: object"
      ]
     },
     "execution_count": 4,
     "metadata": {},
     "output_type": "execute_result"
    }
   ],
   "source": [
    "df['BODY'] = [' '.join(word) for word in preprocessed_text]\n",
    "df.BODY.head()"
   ]
  },
  {
   "cell_type": "markdown",
   "id": "cedfa294-6234-4d75-8d02-a5f04770844c",
   "metadata": {},
   "source": [
    "#### Future PreProcessing: Remove HTML/XML tags, Replace accented characters, Correct Spelling Errors"
   ]
  },
  {
   "cell_type": "code",
   "execution_count": 5,
   "id": "dbef14cf-42d0-4577-8eff-248bf9a2a5a8",
   "metadata": {
    "tags": []
   },
   "outputs": [
    {
     "data": {
      "text/plain": [
       "(126358, 36020)"
      ]
     },
     "execution_count": 5,
     "metadata": {},
     "output_type": "execute_result"
    }
   ],
   "source": [
    "bow_vectorizer = CountVectorizer(stop_words = 'english')\n",
    "bow_matrix = bow_vectorizer.fit_transform(df.BODY)\n",
    "bow_matrix.shape"
   ]
  },
  {
   "cell_type": "code",
   "execution_count": 6,
   "id": "ad464df3-39a5-4e8b-9569-537e426cbd91",
   "metadata": {},
   "outputs": [
    {
     "data": {
      "text/html": [
       "<div>\n",
       "<style scoped>\n",
       "    .dataframe tbody tr th:only-of-type {\n",
       "        vertical-align: middle;\n",
       "    }\n",
       "\n",
       "    .dataframe tbody tr th {\n",
       "        vertical-align: top;\n",
       "    }\n",
       "\n",
       "    .dataframe thead th {\n",
       "        text-align: right;\n",
       "    }\n",
       "</style>\n",
       "<table border=\"1\" class=\"dataframe\">\n",
       "  <thead>\n",
       "    <tr style=\"text-align: right;\">\n",
       "      <th></th>\n",
       "      <th>Count</th>\n",
       "    </tr>\n",
       "  </thead>\n",
       "  <tbody>\n",
       "    <tr>\n",
       "      <th>apart</th>\n",
       "      <td>188249</td>\n",
       "    </tr>\n",
       "    <tr>\n",
       "      <th>avail</th>\n",
       "      <td>158401</td>\n",
       "    </tr>\n",
       "    <tr>\n",
       "      <th>floor</th>\n",
       "      <td>143785</td>\n",
       "    </tr>\n",
       "    <tr>\n",
       "      <th>bedroom</th>\n",
       "      <td>143747</td>\n",
       "    </tr>\n",
       "    <tr>\n",
       "      <th>unit</th>\n",
       "      <td>136538</td>\n",
       "    </tr>\n",
       "    <tr>\n",
       "      <th>...</th>\n",
       "      <td>...</td>\n",
       "    </tr>\n",
       "    <tr>\n",
       "      <th>neighboor</th>\n",
       "      <td>1</td>\n",
       "    </tr>\n",
       "    <tr>\n",
       "      <th>neighboihood</th>\n",
       "      <td>1</td>\n",
       "    </tr>\n",
       "    <tr>\n",
       "      <th>neighbhorhoodinternetlaundri</th>\n",
       "      <td>1</td>\n",
       "    </tr>\n",
       "    <tr>\n",
       "      <th>neigh</th>\n",
       "      <td>1</td>\n",
       "    </tr>\n",
       "    <tr>\n",
       "      <th>ledgecrest</th>\n",
       "      <td>1</td>\n",
       "    </tr>\n",
       "  </tbody>\n",
       "</table>\n",
       "<p>36020 rows × 1 columns</p>\n",
       "</div>"
      ],
      "text/plain": [
       "                               Count\n",
       "apart                         188249\n",
       "avail                         158401\n",
       "floor                         143785\n",
       "bedroom                       143747\n",
       "unit                          136538\n",
       "...                              ...\n",
       "neighboor                          1\n",
       "neighboihood                       1\n",
       "neighbhorhoodinternetlaundri       1\n",
       "neigh                              1\n",
       "ledgecrest                         1\n",
       "\n",
       "[36020 rows x 1 columns]"
      ]
     },
     "execution_count": 6,
     "metadata": {},
     "output_type": "execute_result"
    }
   ],
   "source": [
    "word_count = pd.DataFrame(bow_matrix.sum(axis = 0).T)\n",
    "word_count.index = bow_vectorizer.get_feature_names()\n",
    "word_count.columns = ['Count']\n",
    "word_count.sort_values(by = 'Count', inplace = True, ascending = False)"
   ]
  },
  {
   "cell_type": "code",
   "execution_count": 7,
   "id": "6682ba93-5524-4dfa-a78b-84bb93d444c8",
   "metadata": {},
   "outputs": [
    {
     "data": {
      "text/plain": [
       "<function matplotlib.pyplot.show(close=None, block=None)>"
      ]
     },
     "execution_count": 7,
     "metadata": {},
     "output_type": "execute_result"
    },
    {
     "data": {
      "image/png": "[encoded data removed]",
      "text/plain": [
       "<Figure size 432x288 with 1 Axes>"
      ]
     },
     "metadata": {
      "needs_background": "light"
     },
     "output_type": "display_data"
    }
   ],
   "source": [
    "plt.bar(word_count[:25].index, word_count[:25].Count)\n",
    "plt.xticks(rotation = 90)\n",
    "plt.title('Most common words in dataset')\n",
    "plt.show"
   ]
  },
  {
   "cell_type": "markdown",
   "id": "e362c492-6bfd-441f-bf7a-16781fc802fd",
   "metadata": {},
   "source": [
    "#### The most common words are as expected for a set of real estate listings in Massachusetts.\n",
    "\n",
    "#### A more complex vectorization such as tf-idf can prevent these words from dominating models and similarity measures."
   ]
  },
  {
   "cell_type": "code",
   "execution_count": 8,
   "id": "4f267cf6-9ca0-4a5b-a4c7-e45059297ab8",
   "metadata": {},
   "outputs": [
    {
     "data": {
      "text/plain": [
       "(126358, 20738)"
      ]
     },
     "execution_count": 8,
     "metadata": {},
     "output_type": "execute_result"
    }
   ],
   "source": [
    "tfidf_vectorizer = TfidfVectorizer(stop_words = 'english', min_df = 2, max_df = 0.7)\n",
    "tfidf_matrix = tfidf_vectorizer.fit_transform(df.BODY)\n",
    "tfidf_matrix.shape"
   ]
  },
  {
   "cell_type": "markdown",
   "id": "1d492d98-4b7d-45e7-a02c-9934b0da25c4",
   "metadata": {},
   "source": [
    "#### The 'BODY' column is now vectorized and ready to be processed by statistical models"
   ]
  },
  {
   "cell_type": "code",
   "execution_count": null,
   "id": "036485a5-3a40-4216-a09e-2e5baf52396e",
   "metadata": {},
   "outputs": [],
   "source": []
  },
  {
   "cell_type": "code",
   "execution_count": null,
   "id": "b08cb130-8b1b-4184-ac95-f83b68c9f5fb",
   "metadata": {},
   "outputs": [],
   "source": []
  },
  {
   "cell_type": "code",
   "execution_count": null,
   "id": "6acd1248-5b9d-415d-a06a-2acce815768d",
   "metadata": {},
   "outputs": [],
   "source": []
  },
  {
   "cell_type": "code",
   "execution_count": null,
   "id": "f156e8fb-0dfb-4545-9722-2aafd1d0e0d7",
   "metadata": {},
   "outputs": [],
   "source": []
  },
  {
   "cell_type": "code",
   "execution_count": null,
   "id": "29ae7c2c-f1e1-4930-b2f2-99e07a1cccae",
   "metadata": {},
   "outputs": [],
   "source": []
  },
  {
   "cell_type": "code",
   "execution_count": null,
   "id": "44f0a589-9ff9-4aa6-b1dc-e975a9a70ac7",
   "metadata": {},
   "outputs": [],
   "source": []
  },
  {
   "cell_type": "code",
   "execution_count": null,
   "id": "e0a00b93-69fd-4fd0-bcd1-e35748da355e",
   "metadata": {},
   "outputs": [],
   "source": []
  },
  {
   "cell_type": "code",
   "execution_count": null,
   "id": "067c21ff-cdf3-4b40-b75c-ddd68659ca5b",
   "metadata": {},
   "outputs": [],
   "source": []
  },
  {
   "cell_type": "code",
   "execution_count": null,
   "id": "c9fd3866-e664-4ce4-90f4-c9118b602ac1",
   "metadata": {},
   "outputs": [],
   "source": []
  },
  {
   "cell_type": "code",
   "execution_count": null,
   "id": "7784c19b-0c04-4f52-aebb-68c162222c67",
   "metadata": {},
   "outputs": [],
   "source": []
  }
 ],
 "metadata": {
  "kernelspec": {
   "display_name": "Python 3",
   "language": "python",
   "name": "python3"
  },
  "language_info": {
   "codemirror_mode": {
    "name": "ipython",
    "version": 3
   },
   "file_extension": ".py",
   "mimetype": "text/x-python",
   "name": "python",
   "nbconvert_exporter": "python",
   "pygments_lexer": "ipython3",
   "version": "3.8.10"
  }
 },
 "nbformat": 4,
 "nbformat_minor": 5
}
